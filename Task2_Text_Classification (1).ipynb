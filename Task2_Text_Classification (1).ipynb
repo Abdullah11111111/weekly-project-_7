{
  "cells": [
    {
      "cell_type": "markdown",
      "metadata": {
        "id": "oIDHTRHu04ir"
      },
      "source": [
        "# Text Classification Exam\n",
        "\n",
        "Welcome to the Text Classification Practical Exam. In this exam, you will be tasked with building, training, and evaluating an NLP model to classify text data. You are provided with a labeled dataset containing both the text and its corresponding class labels.\n",
        "\n",
        "Your objective is to develop a model that accurately predicts the class of the given text. Make sure to follow best practices in data preprocessing, model selection, and evaluation to achieve optimal results.\n",
        "\n",
        "Good luck!\n",
        "___"
      ]
    },
    {
      "cell_type": "markdown",
      "metadata": {
        "id": "oqw2El5mMxsz"
      },
      "source": [
        "# Install and Import Needed Libraries"
      ]
    },
    {
      "cell_type": "code",
      "execution_count": 1,
      "metadata": {
        "id": "z6mRe6i5Wqqc"
      },
      "outputs": [],
      "source": [
        "import nltk\n",
        "import spacy\n",
        "from sklearn.feature_extraction.text import CountVectorizer, TfidfVectorizer\n",
        "from sklearn.preprocessing import StandardScaler\n",
        "from sklearn.pipeline import FeatureUnion\n",
        "from sklearn.linear_model import LogisticRegression\n",
        "from sklearn.model_selection import train_test_split\n",
        "from sklearn.metrics import classification_report\n",
        "import gensim.downloader as api\n",
        "import numpy as np\n",
        "import pandas as pd\n",
        "import matplotlib.pyplot as plt\n",
        "import seaborn as sns\n",
        "from spacy.lang.en.stop_words import STOP_WORDS as stopwords\n",
        "import re\n",
        "from tensorflow.keras.preprocessing.text import Tokenizer\n",
        "from tensorflow.keras.preprocessing.sequence import pad_sequences"
      ]
    },
    {
      "cell_type": "markdown",
      "metadata": {
        "id": "Hq5KJRZ5Ph0Z"
      },
      "source": [
        "# Download the Dataset"
      ]
    },
    {
      "cell_type": "code",
      "execution_count": 2,
      "metadata": {
        "id": "wmUcgV_x04it",
        "colab": {
          "base_uri": "https://localhost:8080/"
        },
        "outputId": "d0845772-893e-49d6-e9a5-e3f470426f8d"
      },
      "outputs": [
        {
          "output_type": "stream",
          "name": "stdout",
          "text": [
            "Dataset URL: https://www.kaggle.com/datasets/khaledzsa/spam-messages\n",
            "License(s): unknown\n",
            "Downloading spam-messages.zip to /content\n",
            "  0% 0.00/213k [00:00<?, ?B/s]\n",
            "100% 213k/213k [00:00<00:00, 35.3MB/s]\n",
            "Archive:  spam-messages.zip\n",
            "  inflating: spam.csv                \n"
          ]
        }
      ],
      "source": [
        "!kaggle datasets download -d khaledzsa/spam-messages\n",
        "!unzip spam-messages.zip"
      ]
    },
    {
      "cell_type": "code",
      "source": [
        "df=pd.read_csv('spam.csv',encoding='latin-1')\n"
      ],
      "metadata": {
        "id": "gh4WKDR-4_3N"
      },
      "execution_count": 3,
      "outputs": []
    },
    {
      "cell_type": "markdown",
      "metadata": {
        "id": "kVc0b_9fQGeH"
      },
      "source": [
        "# Data Exploration"
      ]
    },
    {
      "cell_type": "markdown",
      "metadata": {
        "id": "a98DaVUvQsi8"
      },
      "source": [
        "Before diving into preprocessing and model building, it’s important to first explore the dataset to understand its structure, distribution, and key characteristics. This step will help you gain insights into the data and guide your decisions in subsequent steps. Here’s what to consider:\n",
        "\n",
        "1. **Inspect the Data**:\n",
        "   Start by looking at the first few rows of the dataset to get a sense of its structure. Check the columns, data types, and a few sample entries. This helps to ensure that the data is loaded correctly and gives you an initial overview of the content.\n",
        "\n",
        "2. **Check for Missing Values**:\n",
        "   Identify if there are any missing values in the dataset.\n",
        "\n",
        "3. **Distribution of Labels**:\n",
        "   Examine the distribution of the target labels (classes).\n",
        "\n",
        "4. **Text Data Characteristics (Bonus)**:\n",
        "   Analyze the length of the text data. It is useful to calculate the number of words or characters in each text sample to understand how long the texts are. This will help you set a suitable `max_length` for tokenization and padding later. You can plot a histogram of text lengths to visualize the distribution.\n",
        "\n",
        "5. **Common Words and Vocabulary (Bonus)**:\n",
        "   Explore the most frequent words in the text data."
      ]
    },
    {
      "cell_type": "code",
      "execution_count": 4,
      "metadata": {
        "id": "aZgYQbZxWtAt",
        "colab": {
          "base_uri": "https://localhost:8080/",
          "height": 206
        },
        "outputId": "cab0c67c-0790-445d-a25a-7b3df352319a"
      },
      "outputs": [
        {
          "output_type": "execute_result",
          "data": {
            "text/plain": [
              "                                                text label\n",
              "0  Go until jurong point, crazy.. Available only ...   ham\n",
              "1                      Ok lar... Joking wif u oni...   ham\n",
              "2  Free entry in 2 a wkly comp to win FA Cup fina...  spam\n",
              "3  U dun say so early hor... U c already then say...   ham\n",
              "4  Nah I don't think he goes to usf, he lives aro...   ham"
            ],
            "text/html": [
              "\n",
              "  <div id=\"df-d07b9981-f728-4fd0-b1eb-0ee054fe9f27\" class=\"colab-df-container\">\n",
              "    <div>\n",
              "<style scoped>\n",
              "    .dataframe tbody tr th:only-of-type {\n",
              "        vertical-align: middle;\n",
              "    }\n",
              "\n",
              "    .dataframe tbody tr th {\n",
              "        vertical-align: top;\n",
              "    }\n",
              "\n",
              "    .dataframe thead th {\n",
              "        text-align: right;\n",
              "    }\n",
              "</style>\n",
              "<table border=\"1\" class=\"dataframe\">\n",
              "  <thead>\n",
              "    <tr style=\"text-align: right;\">\n",
              "      <th></th>\n",
              "      <th>text</th>\n",
              "      <th>label</th>\n",
              "    </tr>\n",
              "  </thead>\n",
              "  <tbody>\n",
              "    <tr>\n",
              "      <th>0</th>\n",
              "      <td>Go until jurong point, crazy.. Available only ...</td>\n",
              "      <td>ham</td>\n",
              "    </tr>\n",
              "    <tr>\n",
              "      <th>1</th>\n",
              "      <td>Ok lar... Joking wif u oni...</td>\n",
              "      <td>ham</td>\n",
              "    </tr>\n",
              "    <tr>\n",
              "      <th>2</th>\n",
              "      <td>Free entry in 2 a wkly comp to win FA Cup fina...</td>\n",
              "      <td>spam</td>\n",
              "    </tr>\n",
              "    <tr>\n",
              "      <th>3</th>\n",
              "      <td>U dun say so early hor... U c already then say...</td>\n",
              "      <td>ham</td>\n",
              "    </tr>\n",
              "    <tr>\n",
              "      <th>4</th>\n",
              "      <td>Nah I don't think he goes to usf, he lives aro...</td>\n",
              "      <td>ham</td>\n",
              "    </tr>\n",
              "  </tbody>\n",
              "</table>\n",
              "</div>\n",
              "    <div class=\"colab-df-buttons\">\n",
              "\n",
              "  <div class=\"colab-df-container\">\n",
              "    <button class=\"colab-df-convert\" onclick=\"convertToInteractive('df-d07b9981-f728-4fd0-b1eb-0ee054fe9f27')\"\n",
              "            title=\"Convert this dataframe to an interactive table.\"\n",
              "            style=\"display:none;\">\n",
              "\n",
              "  <svg xmlns=\"http://www.w3.org/2000/svg\" height=\"24px\" viewBox=\"0 -960 960 960\">\n",
              "    <path d=\"M120-120v-720h720v720H120Zm60-500h600v-160H180v160Zm220 220h160v-160H400v160Zm0 220h160v-160H400v160ZM180-400h160v-160H180v160Zm440 0h160v-160H620v160ZM180-180h160v-160H180v160Zm440 0h160v-160H620v160Z\"/>\n",
              "  </svg>\n",
              "    </button>\n",
              "\n",
              "  <style>\n",
              "    .colab-df-container {\n",
              "      display:flex;\n",
              "      gap: 12px;\n",
              "    }\n",
              "\n",
              "    .colab-df-convert {\n",
              "      background-color: #E8F0FE;\n",
              "      border: none;\n",
              "      border-radius: 50%;\n",
              "      cursor: pointer;\n",
              "      display: none;\n",
              "      fill: #1967D2;\n",
              "      height: 32px;\n",
              "      padding: 0 0 0 0;\n",
              "      width: 32px;\n",
              "    }\n",
              "\n",
              "    .colab-df-convert:hover {\n",
              "      background-color: #E2EBFA;\n",
              "      box-shadow: 0px 1px 2px rgba(60, 64, 67, 0.3), 0px 1px 3px 1px rgba(60, 64, 67, 0.15);\n",
              "      fill: #174EA6;\n",
              "    }\n",
              "\n",
              "    .colab-df-buttons div {\n",
              "      margin-bottom: 4px;\n",
              "    }\n",
              "\n",
              "    [theme=dark] .colab-df-convert {\n",
              "      background-color: #3B4455;\n",
              "      fill: #D2E3FC;\n",
              "    }\n",
              "\n",
              "    [theme=dark] .colab-df-convert:hover {\n",
              "      background-color: #434B5C;\n",
              "      box-shadow: 0px 1px 3px 1px rgba(0, 0, 0, 0.15);\n",
              "      filter: drop-shadow(0px 1px 2px rgba(0, 0, 0, 0.3));\n",
              "      fill: #FFFFFF;\n",
              "    }\n",
              "  </style>\n",
              "\n",
              "    <script>\n",
              "      const buttonEl =\n",
              "        document.querySelector('#df-d07b9981-f728-4fd0-b1eb-0ee054fe9f27 button.colab-df-convert');\n",
              "      buttonEl.style.display =\n",
              "        google.colab.kernel.accessAllowed ? 'block' : 'none';\n",
              "\n",
              "      async function convertToInteractive(key) {\n",
              "        const element = document.querySelector('#df-d07b9981-f728-4fd0-b1eb-0ee054fe9f27');\n",
              "        const dataTable =\n",
              "          await google.colab.kernel.invokeFunction('convertToInteractive',\n",
              "                                                    [key], {});\n",
              "        if (!dataTable) return;\n",
              "\n",
              "        const docLinkHtml = 'Like what you see? Visit the ' +\n",
              "          '<a target=\"_blank\" href=https://colab.research.google.com/notebooks/data_table.ipynb>data table notebook</a>'\n",
              "          + ' to learn more about interactive tables.';\n",
              "        element.innerHTML = '';\n",
              "        dataTable['output_type'] = 'display_data';\n",
              "        await google.colab.output.renderOutput(dataTable, element);\n",
              "        const docLink = document.createElement('div');\n",
              "        docLink.innerHTML = docLinkHtml;\n",
              "        element.appendChild(docLink);\n",
              "      }\n",
              "    </script>\n",
              "  </div>\n",
              "\n",
              "\n",
              "<div id=\"df-50f9c869-c302-46c8-9be8-dd5347116cf7\">\n",
              "  <button class=\"colab-df-quickchart\" onclick=\"quickchart('df-50f9c869-c302-46c8-9be8-dd5347116cf7')\"\n",
              "            title=\"Suggest charts\"\n",
              "            style=\"display:none;\">\n",
              "\n",
              "<svg xmlns=\"http://www.w3.org/2000/svg\" height=\"24px\"viewBox=\"0 0 24 24\"\n",
              "     width=\"24px\">\n",
              "    <g>\n",
              "        <path d=\"M19 3H5c-1.1 0-2 .9-2 2v14c0 1.1.9 2 2 2h14c1.1 0 2-.9 2-2V5c0-1.1-.9-2-2-2zM9 17H7v-7h2v7zm4 0h-2V7h2v10zm4 0h-2v-4h2v4z\"/>\n",
              "    </g>\n",
              "</svg>\n",
              "  </button>\n",
              "\n",
              "<style>\n",
              "  .colab-df-quickchart {\n",
              "      --bg-color: #E8F0FE;\n",
              "      --fill-color: #1967D2;\n",
              "      --hover-bg-color: #E2EBFA;\n",
              "      --hover-fill-color: #174EA6;\n",
              "      --disabled-fill-color: #AAA;\n",
              "      --disabled-bg-color: #DDD;\n",
              "  }\n",
              "\n",
              "  [theme=dark] .colab-df-quickchart {\n",
              "      --bg-color: #3B4455;\n",
              "      --fill-color: #D2E3FC;\n",
              "      --hover-bg-color: #434B5C;\n",
              "      --hover-fill-color: #FFFFFF;\n",
              "      --disabled-bg-color: #3B4455;\n",
              "      --disabled-fill-color: #666;\n",
              "  }\n",
              "\n",
              "  .colab-df-quickchart {\n",
              "    background-color: var(--bg-color);\n",
              "    border: none;\n",
              "    border-radius: 50%;\n",
              "    cursor: pointer;\n",
              "    display: none;\n",
              "    fill: var(--fill-color);\n",
              "    height: 32px;\n",
              "    padding: 0;\n",
              "    width: 32px;\n",
              "  }\n",
              "\n",
              "  .colab-df-quickchart:hover {\n",
              "    background-color: var(--hover-bg-color);\n",
              "    box-shadow: 0 1px 2px rgba(60, 64, 67, 0.3), 0 1px 3px 1px rgba(60, 64, 67, 0.15);\n",
              "    fill: var(--button-hover-fill-color);\n",
              "  }\n",
              "\n",
              "  .colab-df-quickchart-complete:disabled,\n",
              "  .colab-df-quickchart-complete:disabled:hover {\n",
              "    background-color: var(--disabled-bg-color);\n",
              "    fill: var(--disabled-fill-color);\n",
              "    box-shadow: none;\n",
              "  }\n",
              "\n",
              "  .colab-df-spinner {\n",
              "    border: 2px solid var(--fill-color);\n",
              "    border-color: transparent;\n",
              "    border-bottom-color: var(--fill-color);\n",
              "    animation:\n",
              "      spin 1s steps(1) infinite;\n",
              "  }\n",
              "\n",
              "  @keyframes spin {\n",
              "    0% {\n",
              "      border-color: transparent;\n",
              "      border-bottom-color: var(--fill-color);\n",
              "      border-left-color: var(--fill-color);\n",
              "    }\n",
              "    20% {\n",
              "      border-color: transparent;\n",
              "      border-left-color: var(--fill-color);\n",
              "      border-top-color: var(--fill-color);\n",
              "    }\n",
              "    30% {\n",
              "      border-color: transparent;\n",
              "      border-left-color: var(--fill-color);\n",
              "      border-top-color: var(--fill-color);\n",
              "      border-right-color: var(--fill-color);\n",
              "    }\n",
              "    40% {\n",
              "      border-color: transparent;\n",
              "      border-right-color: var(--fill-color);\n",
              "      border-top-color: var(--fill-color);\n",
              "    }\n",
              "    60% {\n",
              "      border-color: transparent;\n",
              "      border-right-color: var(--fill-color);\n",
              "    }\n",
              "    80% {\n",
              "      border-color: transparent;\n",
              "      border-right-color: var(--fill-color);\n",
              "      border-bottom-color: var(--fill-color);\n",
              "    }\n",
              "    90% {\n",
              "      border-color: transparent;\n",
              "      border-bottom-color: var(--fill-color);\n",
              "    }\n",
              "  }\n",
              "</style>\n",
              "\n",
              "  <script>\n",
              "    async function quickchart(key) {\n",
              "      const quickchartButtonEl =\n",
              "        document.querySelector('#' + key + ' button');\n",
              "      quickchartButtonEl.disabled = true;  // To prevent multiple clicks.\n",
              "      quickchartButtonEl.classList.add('colab-df-spinner');\n",
              "      try {\n",
              "        const charts = await google.colab.kernel.invokeFunction(\n",
              "            'suggestCharts', [key], {});\n",
              "      } catch (error) {\n",
              "        console.error('Error during call to suggestCharts:', error);\n",
              "      }\n",
              "      quickchartButtonEl.classList.remove('colab-df-spinner');\n",
              "      quickchartButtonEl.classList.add('colab-df-quickchart-complete');\n",
              "    }\n",
              "    (() => {\n",
              "      let quickchartButtonEl =\n",
              "        document.querySelector('#df-50f9c869-c302-46c8-9be8-dd5347116cf7 button');\n",
              "      quickchartButtonEl.style.display =\n",
              "        google.colab.kernel.accessAllowed ? 'block' : 'none';\n",
              "    })();\n",
              "  </script>\n",
              "</div>\n",
              "\n",
              "    </div>\n",
              "  </div>\n"
            ],
            "application/vnd.google.colaboratory.intrinsic+json": {
              "type": "dataframe",
              "variable_name": "df",
              "summary": "{\n  \"name\": \"df\",\n  \"rows\": 5572,\n  \"fields\": [\n    {\n      \"column\": \"text\",\n      \"properties\": {\n        \"dtype\": \"string\",\n        \"num_unique_values\": 5389,\n        \"samples\": [\n          \"Last Chance! Claim ur \\u00c3\\u00a5\\u00c2\\u00a3150 worth of discount vouchers today! Text SHOP to 85023 now! SavaMob, offers mobile! T Cs SavaMob POBOX84, M263UZ. \\u00c3\\u00a5\\u00c2\\u00a33.00 Sub. 16 https://link2.com\",\n          \"Ok try to do week end course in coimbatore.\",\n          \"Haven't eaten all day. I'm sitting here staring at this juicy pizza and I can't eat it. These meds are ruining my life. https://link3.com\"\n        ],\n        \"semantic_type\": \"\",\n        \"description\": \"\"\n      }\n    },\n    {\n      \"column\": \"label\",\n      \"properties\": {\n        \"dtype\": \"category\",\n        \"num_unique_values\": 2,\n        \"samples\": [\n          \"spam\",\n          \"ham\"\n        ],\n        \"semantic_type\": \"\",\n        \"description\": \"\"\n      }\n    }\n  ]\n}"
            }
          },
          "metadata": {},
          "execution_count": 4
        }
      ],
      "source": [
        "df.head()"
      ]
    },
    {
      "cell_type": "code",
      "source": [
        "df.sample(10)"
      ],
      "metadata": {
        "colab": {
          "base_uri": "https://localhost:8080/",
          "height": 363
        },
        "id": "fYdwbKbKQWry",
        "outputId": "bc9a53cc-0682-4cd5-ff0e-1c37c1c999d0"
      },
      "execution_count": 5,
      "outputs": [
        {
          "output_type": "execute_result",
          "data": {
            "text/plain": [
              "                                                   text label\n",
              "5535  I know you are thinkin malaria. But relax, chi...   ham\n",
              "4074  God picked up a flower and dippeditinaDEW, lov...   ham\n",
              "5167                           Oh did you charge camera   ham\n",
              "1249  I call you later, don't have network. If urgnt...   ham\n",
              "1030  Can not use foreign stamps in this country. Go...   ham\n",
              "4985  That's y u haf 2 keep me busy... https://link1...   ham\n",
              "384   Double mins and txts 4 6months FREE Bluetooth ...  spam\n",
              "1501  HOT LIVE FANTASIES call now 08707509020 Just 2...  spam\n",
              "1547  Bishan lar nearer... No need buy so early cos ...   ham\n",
              "2053  Oh... I was thkin of goin yogasana at 10 den n...   ham"
            ],
            "text/html": [
              "\n",
              "  <div id=\"df-89cb69aa-07bf-44a7-b12e-3d114364be88\" class=\"colab-df-container\">\n",
              "    <div>\n",
              "<style scoped>\n",
              "    .dataframe tbody tr th:only-of-type {\n",
              "        vertical-align: middle;\n",
              "    }\n",
              "\n",
              "    .dataframe tbody tr th {\n",
              "        vertical-align: top;\n",
              "    }\n",
              "\n",
              "    .dataframe thead th {\n",
              "        text-align: right;\n",
              "    }\n",
              "</style>\n",
              "<table border=\"1\" class=\"dataframe\">\n",
              "  <thead>\n",
              "    <tr style=\"text-align: right;\">\n",
              "      <th></th>\n",
              "      <th>text</th>\n",
              "      <th>label</th>\n",
              "    </tr>\n",
              "  </thead>\n",
              "  <tbody>\n",
              "    <tr>\n",
              "      <th>5535</th>\n",
              "      <td>I know you are thinkin malaria. But relax, chi...</td>\n",
              "      <td>ham</td>\n",
              "    </tr>\n",
              "    <tr>\n",
              "      <th>4074</th>\n",
              "      <td>God picked up a flower and dippeditinaDEW, lov...</td>\n",
              "      <td>ham</td>\n",
              "    </tr>\n",
              "    <tr>\n",
              "      <th>5167</th>\n",
              "      <td>Oh did you charge camera</td>\n",
              "      <td>ham</td>\n",
              "    </tr>\n",
              "    <tr>\n",
              "      <th>1249</th>\n",
              "      <td>I call you later, don't have network. If urgnt...</td>\n",
              "      <td>ham</td>\n",
              "    </tr>\n",
              "    <tr>\n",
              "      <th>1030</th>\n",
              "      <td>Can not use foreign stamps in this country. Go...</td>\n",
              "      <td>ham</td>\n",
              "    </tr>\n",
              "    <tr>\n",
              "      <th>4985</th>\n",
              "      <td>That's y u haf 2 keep me busy... https://link1...</td>\n",
              "      <td>ham</td>\n",
              "    </tr>\n",
              "    <tr>\n",
              "      <th>384</th>\n",
              "      <td>Double mins and txts 4 6months FREE Bluetooth ...</td>\n",
              "      <td>spam</td>\n",
              "    </tr>\n",
              "    <tr>\n",
              "      <th>1501</th>\n",
              "      <td>HOT LIVE FANTASIES call now 08707509020 Just 2...</td>\n",
              "      <td>spam</td>\n",
              "    </tr>\n",
              "    <tr>\n",
              "      <th>1547</th>\n",
              "      <td>Bishan lar nearer... No need buy so early cos ...</td>\n",
              "      <td>ham</td>\n",
              "    </tr>\n",
              "    <tr>\n",
              "      <th>2053</th>\n",
              "      <td>Oh... I was thkin of goin yogasana at 10 den n...</td>\n",
              "      <td>ham</td>\n",
              "    </tr>\n",
              "  </tbody>\n",
              "</table>\n",
              "</div>\n",
              "    <div class=\"colab-df-buttons\">\n",
              "\n",
              "  <div class=\"colab-df-container\">\n",
              "    <button class=\"colab-df-convert\" onclick=\"convertToInteractive('df-89cb69aa-07bf-44a7-b12e-3d114364be88')\"\n",
              "            title=\"Convert this dataframe to an interactive table.\"\n",
              "            style=\"display:none;\">\n",
              "\n",
              "  <svg xmlns=\"http://www.w3.org/2000/svg\" height=\"24px\" viewBox=\"0 -960 960 960\">\n",
              "    <path d=\"M120-120v-720h720v720H120Zm60-500h600v-160H180v160Zm220 220h160v-160H400v160Zm0 220h160v-160H400v160ZM180-400h160v-160H180v160Zm440 0h160v-160H620v160ZM180-180h160v-160H180v160Zm440 0h160v-160H620v160Z\"/>\n",
              "  </svg>\n",
              "    </button>\n",
              "\n",
              "  <style>\n",
              "    .colab-df-container {\n",
              "      display:flex;\n",
              "      gap: 12px;\n",
              "    }\n",
              "\n",
              "    .colab-df-convert {\n",
              "      background-color: #E8F0FE;\n",
              "      border: none;\n",
              "      border-radius: 50%;\n",
              "      cursor: pointer;\n",
              "      display: none;\n",
              "      fill: #1967D2;\n",
              "      height: 32px;\n",
              "      padding: 0 0 0 0;\n",
              "      width: 32px;\n",
              "    }\n",
              "\n",
              "    .colab-df-convert:hover {\n",
              "      background-color: #E2EBFA;\n",
              "      box-shadow: 0px 1px 2px rgba(60, 64, 67, 0.3), 0px 1px 3px 1px rgba(60, 64, 67, 0.15);\n",
              "      fill: #174EA6;\n",
              "    }\n",
              "\n",
              "    .colab-df-buttons div {\n",
              "      margin-bottom: 4px;\n",
              "    }\n",
              "\n",
              "    [theme=dark] .colab-df-convert {\n",
              "      background-color: #3B4455;\n",
              "      fill: #D2E3FC;\n",
              "    }\n",
              "\n",
              "    [theme=dark] .colab-df-convert:hover {\n",
              "      background-color: #434B5C;\n",
              "      box-shadow: 0px 1px 3px 1px rgba(0, 0, 0, 0.15);\n",
              "      filter: drop-shadow(0px 1px 2px rgba(0, 0, 0, 0.3));\n",
              "      fill: #FFFFFF;\n",
              "    }\n",
              "  </style>\n",
              "\n",
              "    <script>\n",
              "      const buttonEl =\n",
              "        document.querySelector('#df-89cb69aa-07bf-44a7-b12e-3d114364be88 button.colab-df-convert');\n",
              "      buttonEl.style.display =\n",
              "        google.colab.kernel.accessAllowed ? 'block' : 'none';\n",
              "\n",
              "      async function convertToInteractive(key) {\n",
              "        const element = document.querySelector('#df-89cb69aa-07bf-44a7-b12e-3d114364be88');\n",
              "        const dataTable =\n",
              "          await google.colab.kernel.invokeFunction('convertToInteractive',\n",
              "                                                    [key], {});\n",
              "        if (!dataTable) return;\n",
              "\n",
              "        const docLinkHtml = 'Like what you see? Visit the ' +\n",
              "          '<a target=\"_blank\" href=https://colab.research.google.com/notebooks/data_table.ipynb>data table notebook</a>'\n",
              "          + ' to learn more about interactive tables.';\n",
              "        element.innerHTML = '';\n",
              "        dataTable['output_type'] = 'display_data';\n",
              "        await google.colab.output.renderOutput(dataTable, element);\n",
              "        const docLink = document.createElement('div');\n",
              "        docLink.innerHTML = docLinkHtml;\n",
              "        element.appendChild(docLink);\n",
              "      }\n",
              "    </script>\n",
              "  </div>\n",
              "\n",
              "\n",
              "<div id=\"df-b899c0a9-dc0a-4c1a-9bd0-affb991939f8\">\n",
              "  <button class=\"colab-df-quickchart\" onclick=\"quickchart('df-b899c0a9-dc0a-4c1a-9bd0-affb991939f8')\"\n",
              "            title=\"Suggest charts\"\n",
              "            style=\"display:none;\">\n",
              "\n",
              "<svg xmlns=\"http://www.w3.org/2000/svg\" height=\"24px\"viewBox=\"0 0 24 24\"\n",
              "     width=\"24px\">\n",
              "    <g>\n",
              "        <path d=\"M19 3H5c-1.1 0-2 .9-2 2v14c0 1.1.9 2 2 2h14c1.1 0 2-.9 2-2V5c0-1.1-.9-2-2-2zM9 17H7v-7h2v7zm4 0h-2V7h2v10zm4 0h-2v-4h2v4z\"/>\n",
              "    </g>\n",
              "</svg>\n",
              "  </button>\n",
              "\n",
              "<style>\n",
              "  .colab-df-quickchart {\n",
              "      --bg-color: #E8F0FE;\n",
              "      --fill-color: #1967D2;\n",
              "      --hover-bg-color: #E2EBFA;\n",
              "      --hover-fill-color: #174EA6;\n",
              "      --disabled-fill-color: #AAA;\n",
              "      --disabled-bg-color: #DDD;\n",
              "  }\n",
              "\n",
              "  [theme=dark] .colab-df-quickchart {\n",
              "      --bg-color: #3B4455;\n",
              "      --fill-color: #D2E3FC;\n",
              "      --hover-bg-color: #434B5C;\n",
              "      --hover-fill-color: #FFFFFF;\n",
              "      --disabled-bg-color: #3B4455;\n",
              "      --disabled-fill-color: #666;\n",
              "  }\n",
              "\n",
              "  .colab-df-quickchart {\n",
              "    background-color: var(--bg-color);\n",
              "    border: none;\n",
              "    border-radius: 50%;\n",
              "    cursor: pointer;\n",
              "    display: none;\n",
              "    fill: var(--fill-color);\n",
              "    height: 32px;\n",
              "    padding: 0;\n",
              "    width: 32px;\n",
              "  }\n",
              "\n",
              "  .colab-df-quickchart:hover {\n",
              "    background-color: var(--hover-bg-color);\n",
              "    box-shadow: 0 1px 2px rgba(60, 64, 67, 0.3), 0 1px 3px 1px rgba(60, 64, 67, 0.15);\n",
              "    fill: var(--button-hover-fill-color);\n",
              "  }\n",
              "\n",
              "  .colab-df-quickchart-complete:disabled,\n",
              "  .colab-df-quickchart-complete:disabled:hover {\n",
              "    background-color: var(--disabled-bg-color);\n",
              "    fill: var(--disabled-fill-color);\n",
              "    box-shadow: none;\n",
              "  }\n",
              "\n",
              "  .colab-df-spinner {\n",
              "    border: 2px solid var(--fill-color);\n",
              "    border-color: transparent;\n",
              "    border-bottom-color: var(--fill-color);\n",
              "    animation:\n",
              "      spin 1s steps(1) infinite;\n",
              "  }\n",
              "\n",
              "  @keyframes spin {\n",
              "    0% {\n",
              "      border-color: transparent;\n",
              "      border-bottom-color: var(--fill-color);\n",
              "      border-left-color: var(--fill-color);\n",
              "    }\n",
              "    20% {\n",
              "      border-color: transparent;\n",
              "      border-left-color: var(--fill-color);\n",
              "      border-top-color: var(--fill-color);\n",
              "    }\n",
              "    30% {\n",
              "      border-color: transparent;\n",
              "      border-left-color: var(--fill-color);\n",
              "      border-top-color: var(--fill-color);\n",
              "      border-right-color: var(--fill-color);\n",
              "    }\n",
              "    40% {\n",
              "      border-color: transparent;\n",
              "      border-right-color: var(--fill-color);\n",
              "      border-top-color: var(--fill-color);\n",
              "    }\n",
              "    60% {\n",
              "      border-color: transparent;\n",
              "      border-right-color: var(--fill-color);\n",
              "    }\n",
              "    80% {\n",
              "      border-color: transparent;\n",
              "      border-right-color: var(--fill-color);\n",
              "      border-bottom-color: var(--fill-color);\n",
              "    }\n",
              "    90% {\n",
              "      border-color: transparent;\n",
              "      border-bottom-color: var(--fill-color);\n",
              "    }\n",
              "  }\n",
              "</style>\n",
              "\n",
              "  <script>\n",
              "    async function quickchart(key) {\n",
              "      const quickchartButtonEl =\n",
              "        document.querySelector('#' + key + ' button');\n",
              "      quickchartButtonEl.disabled = true;  // To prevent multiple clicks.\n",
              "      quickchartButtonEl.classList.add('colab-df-spinner');\n",
              "      try {\n",
              "        const charts = await google.colab.kernel.invokeFunction(\n",
              "            'suggestCharts', [key], {});\n",
              "      } catch (error) {\n",
              "        console.error('Error during call to suggestCharts:', error);\n",
              "      }\n",
              "      quickchartButtonEl.classList.remove('colab-df-spinner');\n",
              "      quickchartButtonEl.classList.add('colab-df-quickchart-complete');\n",
              "    }\n",
              "    (() => {\n",
              "      let quickchartButtonEl =\n",
              "        document.querySelector('#df-b899c0a9-dc0a-4c1a-9bd0-affb991939f8 button');\n",
              "      quickchartButtonEl.style.display =\n",
              "        google.colab.kernel.accessAllowed ? 'block' : 'none';\n",
              "    })();\n",
              "  </script>\n",
              "</div>\n",
              "\n",
              "    </div>\n",
              "  </div>\n"
            ],
            "application/vnd.google.colaboratory.intrinsic+json": {
              "type": "dataframe",
              "summary": "{\n  \"name\": \"df\",\n  \"rows\": 10,\n  \"fields\": [\n    {\n      \"column\": \"text\",\n      \"properties\": {\n        \"dtype\": \"string\",\n        \"num_unique_values\": 10,\n        \"samples\": [\n          \"Bishan lar nearer... No need buy so early cos if buy now i gotta park my car...\",\n          \"God picked up a flower and dippeditinaDEW, lovingly touched itwhichturnedinto u, and the he gifted tomeandsaid,THIS FRIEND IS 4U https://link3.com\",\n          \"That's y u haf 2 keep me busy... https://link1.com\"\n        ],\n        \"semantic_type\": \"\",\n        \"description\": \"\"\n      }\n    },\n    {\n      \"column\": \"label\",\n      \"properties\": {\n        \"dtype\": \"category\",\n        \"num_unique_values\": 2,\n        \"samples\": [\n          \"spam\",\n          \"ham\"\n        ],\n        \"semantic_type\": \"\",\n        \"description\": \"\"\n      }\n    }\n  ]\n}"
            }
          },
          "metadata": {},
          "execution_count": 5
        }
      ]
    },
    {
      "cell_type": "code",
      "source": [
        "df.shape"
      ],
      "metadata": {
        "colab": {
          "base_uri": "https://localhost:8080/"
        },
        "id": "g4ySgn1bQWoc",
        "outputId": "e976006c-e302-4640-97f5-0be032f4913c"
      },
      "execution_count": 6,
      "outputs": [
        {
          "output_type": "execute_result",
          "data": {
            "text/plain": [
              "(5572, 2)"
            ]
          },
          "metadata": {},
          "execution_count": 6
        }
      ]
    },
    {
      "cell_type": "code",
      "source": [
        "df.duplicated().sum()"
      ],
      "metadata": {
        "colab": {
          "base_uri": "https://localhost:8080/"
        },
        "id": "Ybv0GeoWQWlF",
        "outputId": "5beba183-7fe2-4f4b-c886-89e8eec9fe0c"
      },
      "execution_count": 7,
      "outputs": [
        {
          "output_type": "execute_result",
          "data": {
            "text/plain": [
              "183"
            ]
          },
          "metadata": {},
          "execution_count": 7
        }
      ]
    },
    {
      "cell_type": "code",
      "source": [
        "df.drop_duplicates(inplace=True)"
      ],
      "metadata": {
        "id": "3MEuenZaQWhJ"
      },
      "execution_count": 8,
      "outputs": []
    },
    {
      "cell_type": "code",
      "source": [
        "label_distribution = df['label'].value_counts()\n",
        "print(label_distribution)"
      ],
      "metadata": {
        "colab": {
          "base_uri": "https://localhost:8080/"
        },
        "id": "XfJCER-nQWfA",
        "outputId": "089beea5-1096-4fb7-8a9f-81fd483e4a5c"
      },
      "execution_count": 9,
      "outputs": [
        {
          "output_type": "stream",
          "name": "stdout",
          "text": [
            "label\n",
            "ham     4673\n",
            "spam     716\n",
            "Name: count, dtype: int64\n"
          ]
        }
      ]
    },
    {
      "cell_type": "code",
      "source": [
        "df.info()"
      ],
      "metadata": {
        "colab": {
          "base_uri": "https://localhost:8080/"
        },
        "id": "HP1Cz57OQWc_",
        "outputId": "37371126-c799-4549-f82f-72623d9df162"
      },
      "execution_count": 10,
      "outputs": [
        {
          "output_type": "stream",
          "name": "stdout",
          "text": [
            "<class 'pandas.core.frame.DataFrame'>\n",
            "Index: 5389 entries, 0 to 5571\n",
            "Data columns (total 2 columns):\n",
            " #   Column  Non-Null Count  Dtype \n",
            "---  ------  --------------  ----- \n",
            " 0   text    5389 non-null   object\n",
            " 1   label   5389 non-null   object\n",
            "dtypes: object(2)\n",
            "memory usage: 126.3+ KB\n"
          ]
        }
      ]
    },
    {
      "cell_type": "code",
      "source": [
        "df.describe()"
      ],
      "metadata": {
        "colab": {
          "base_uri": "https://localhost:8080/",
          "height": 175
        },
        "id": "CQy_XSd1QWaq",
        "outputId": "9ae0df97-2086-45af-d10f-ab3715f231e3"
      },
      "execution_count": 11,
      "outputs": [
        {
          "output_type": "execute_result",
          "data": {
            "text/plain": [
              "                                                     text label\n",
              "count                                                5389  5389\n",
              "unique                                               5389     2\n",
              "top     Go until jurong point, crazy.. Available only ...   ham\n",
              "freq                                                    1  4673"
            ],
            "text/html": [
              "\n",
              "  <div id=\"df-2f8749ec-3f43-4e45-a8b6-6f0f6a073365\" class=\"colab-df-container\">\n",
              "    <div>\n",
              "<style scoped>\n",
              "    .dataframe tbody tr th:only-of-type {\n",
              "        vertical-align: middle;\n",
              "    }\n",
              "\n",
              "    .dataframe tbody tr th {\n",
              "        vertical-align: top;\n",
              "    }\n",
              "\n",
              "    .dataframe thead th {\n",
              "        text-align: right;\n",
              "    }\n",
              "</style>\n",
              "<table border=\"1\" class=\"dataframe\">\n",
              "  <thead>\n",
              "    <tr style=\"text-align: right;\">\n",
              "      <th></th>\n",
              "      <th>text</th>\n",
              "      <th>label</th>\n",
              "    </tr>\n",
              "  </thead>\n",
              "  <tbody>\n",
              "    <tr>\n",
              "      <th>count</th>\n",
              "      <td>5389</td>\n",
              "      <td>5389</td>\n",
              "    </tr>\n",
              "    <tr>\n",
              "      <th>unique</th>\n",
              "      <td>5389</td>\n",
              "      <td>2</td>\n",
              "    </tr>\n",
              "    <tr>\n",
              "      <th>top</th>\n",
              "      <td>Go until jurong point, crazy.. Available only ...</td>\n",
              "      <td>ham</td>\n",
              "    </tr>\n",
              "    <tr>\n",
              "      <th>freq</th>\n",
              "      <td>1</td>\n",
              "      <td>4673</td>\n",
              "    </tr>\n",
              "  </tbody>\n",
              "</table>\n",
              "</div>\n",
              "    <div class=\"colab-df-buttons\">\n",
              "\n",
              "  <div class=\"colab-df-container\">\n",
              "    <button class=\"colab-df-convert\" onclick=\"convertToInteractive('df-2f8749ec-3f43-4e45-a8b6-6f0f6a073365')\"\n",
              "            title=\"Convert this dataframe to an interactive table.\"\n",
              "            style=\"display:none;\">\n",
              "\n",
              "  <svg xmlns=\"http://www.w3.org/2000/svg\" height=\"24px\" viewBox=\"0 -960 960 960\">\n",
              "    <path d=\"M120-120v-720h720v720H120Zm60-500h600v-160H180v160Zm220 220h160v-160H400v160Zm0 220h160v-160H400v160ZM180-400h160v-160H180v160Zm440 0h160v-160H620v160ZM180-180h160v-160H180v160Zm440 0h160v-160H620v160Z\"/>\n",
              "  </svg>\n",
              "    </button>\n",
              "\n",
              "  <style>\n",
              "    .colab-df-container {\n",
              "      display:flex;\n",
              "      gap: 12px;\n",
              "    }\n",
              "\n",
              "    .colab-df-convert {\n",
              "      background-color: #E8F0FE;\n",
              "      border: none;\n",
              "      border-radius: 50%;\n",
              "      cursor: pointer;\n",
              "      display: none;\n",
              "      fill: #1967D2;\n",
              "      height: 32px;\n",
              "      padding: 0 0 0 0;\n",
              "      width: 32px;\n",
              "    }\n",
              "\n",
              "    .colab-df-convert:hover {\n",
              "      background-color: #E2EBFA;\n",
              "      box-shadow: 0px 1px 2px rgba(60, 64, 67, 0.3), 0px 1px 3px 1px rgba(60, 64, 67, 0.15);\n",
              "      fill: #174EA6;\n",
              "    }\n",
              "\n",
              "    .colab-df-buttons div {\n",
              "      margin-bottom: 4px;\n",
              "    }\n",
              "\n",
              "    [theme=dark] .colab-df-convert {\n",
              "      background-color: #3B4455;\n",
              "      fill: #D2E3FC;\n",
              "    }\n",
              "\n",
              "    [theme=dark] .colab-df-convert:hover {\n",
              "      background-color: #434B5C;\n",
              "      box-shadow: 0px 1px 3px 1px rgba(0, 0, 0, 0.15);\n",
              "      filter: drop-shadow(0px 1px 2px rgba(0, 0, 0, 0.3));\n",
              "      fill: #FFFFFF;\n",
              "    }\n",
              "  </style>\n",
              "\n",
              "    <script>\n",
              "      const buttonEl =\n",
              "        document.querySelector('#df-2f8749ec-3f43-4e45-a8b6-6f0f6a073365 button.colab-df-convert');\n",
              "      buttonEl.style.display =\n",
              "        google.colab.kernel.accessAllowed ? 'block' : 'none';\n",
              "\n",
              "      async function convertToInteractive(key) {\n",
              "        const element = document.querySelector('#df-2f8749ec-3f43-4e45-a8b6-6f0f6a073365');\n",
              "        const dataTable =\n",
              "          await google.colab.kernel.invokeFunction('convertToInteractive',\n",
              "                                                    [key], {});\n",
              "        if (!dataTable) return;\n",
              "\n",
              "        const docLinkHtml = 'Like what you see? Visit the ' +\n",
              "          '<a target=\"_blank\" href=https://colab.research.google.com/notebooks/data_table.ipynb>data table notebook</a>'\n",
              "          + ' to learn more about interactive tables.';\n",
              "        element.innerHTML = '';\n",
              "        dataTable['output_type'] = 'display_data';\n",
              "        await google.colab.output.renderOutput(dataTable, element);\n",
              "        const docLink = document.createElement('div');\n",
              "        docLink.innerHTML = docLinkHtml;\n",
              "        element.appendChild(docLink);\n",
              "      }\n",
              "    </script>\n",
              "  </div>\n",
              "\n",
              "\n",
              "<div id=\"df-98326c8d-1c13-45a7-a3b8-56d160f1dd97\">\n",
              "  <button class=\"colab-df-quickchart\" onclick=\"quickchart('df-98326c8d-1c13-45a7-a3b8-56d160f1dd97')\"\n",
              "            title=\"Suggest charts\"\n",
              "            style=\"display:none;\">\n",
              "\n",
              "<svg xmlns=\"http://www.w3.org/2000/svg\" height=\"24px\"viewBox=\"0 0 24 24\"\n",
              "     width=\"24px\">\n",
              "    <g>\n",
              "        <path d=\"M19 3H5c-1.1 0-2 .9-2 2v14c0 1.1.9 2 2 2h14c1.1 0 2-.9 2-2V5c0-1.1-.9-2-2-2zM9 17H7v-7h2v7zm4 0h-2V7h2v10zm4 0h-2v-4h2v4z\"/>\n",
              "    </g>\n",
              "</svg>\n",
              "  </button>\n",
              "\n",
              "<style>\n",
              "  .colab-df-quickchart {\n",
              "      --bg-color: #E8F0FE;\n",
              "      --fill-color: #1967D2;\n",
              "      --hover-bg-color: #E2EBFA;\n",
              "      --hover-fill-color: #174EA6;\n",
              "      --disabled-fill-color: #AAA;\n",
              "      --disabled-bg-color: #DDD;\n",
              "  }\n",
              "\n",
              "  [theme=dark] .colab-df-quickchart {\n",
              "      --bg-color: #3B4455;\n",
              "      --fill-color: #D2E3FC;\n",
              "      --hover-bg-color: #434B5C;\n",
              "      --hover-fill-color: #FFFFFF;\n",
              "      --disabled-bg-color: #3B4455;\n",
              "      --disabled-fill-color: #666;\n",
              "  }\n",
              "\n",
              "  .colab-df-quickchart {\n",
              "    background-color: var(--bg-color);\n",
              "    border: none;\n",
              "    border-radius: 50%;\n",
              "    cursor: pointer;\n",
              "    display: none;\n",
              "    fill: var(--fill-color);\n",
              "    height: 32px;\n",
              "    padding: 0;\n",
              "    width: 32px;\n",
              "  }\n",
              "\n",
              "  .colab-df-quickchart:hover {\n",
              "    background-color: var(--hover-bg-color);\n",
              "    box-shadow: 0 1px 2px rgba(60, 64, 67, 0.3), 0 1px 3px 1px rgba(60, 64, 67, 0.15);\n",
              "    fill: var(--button-hover-fill-color);\n",
              "  }\n",
              "\n",
              "  .colab-df-quickchart-complete:disabled,\n",
              "  .colab-df-quickchart-complete:disabled:hover {\n",
              "    background-color: var(--disabled-bg-color);\n",
              "    fill: var(--disabled-fill-color);\n",
              "    box-shadow: none;\n",
              "  }\n",
              "\n",
              "  .colab-df-spinner {\n",
              "    border: 2px solid var(--fill-color);\n",
              "    border-color: transparent;\n",
              "    border-bottom-color: var(--fill-color);\n",
              "    animation:\n",
              "      spin 1s steps(1) infinite;\n",
              "  }\n",
              "\n",
              "  @keyframes spin {\n",
              "    0% {\n",
              "      border-color: transparent;\n",
              "      border-bottom-color: var(--fill-color);\n",
              "      border-left-color: var(--fill-color);\n",
              "    }\n",
              "    20% {\n",
              "      border-color: transparent;\n",
              "      border-left-color: var(--fill-color);\n",
              "      border-top-color: var(--fill-color);\n",
              "    }\n",
              "    30% {\n",
              "      border-color: transparent;\n",
              "      border-left-color: var(--fill-color);\n",
              "      border-top-color: var(--fill-color);\n",
              "      border-right-color: var(--fill-color);\n",
              "    }\n",
              "    40% {\n",
              "      border-color: transparent;\n",
              "      border-right-color: var(--fill-color);\n",
              "      border-top-color: var(--fill-color);\n",
              "    }\n",
              "    60% {\n",
              "      border-color: transparent;\n",
              "      border-right-color: var(--fill-color);\n",
              "    }\n",
              "    80% {\n",
              "      border-color: transparent;\n",
              "      border-right-color: var(--fill-color);\n",
              "      border-bottom-color: var(--fill-color);\n",
              "    }\n",
              "    90% {\n",
              "      border-color: transparent;\n",
              "      border-bottom-color: var(--fill-color);\n",
              "    }\n",
              "  }\n",
              "</style>\n",
              "\n",
              "  <script>\n",
              "    async function quickchart(key) {\n",
              "      const quickchartButtonEl =\n",
              "        document.querySelector('#' + key + ' button');\n",
              "      quickchartButtonEl.disabled = true;  // To prevent multiple clicks.\n",
              "      quickchartButtonEl.classList.add('colab-df-spinner');\n",
              "      try {\n",
              "        const charts = await google.colab.kernel.invokeFunction(\n",
              "            'suggestCharts', [key], {});\n",
              "      } catch (error) {\n",
              "        console.error('Error during call to suggestCharts:', error);\n",
              "      }\n",
              "      quickchartButtonEl.classList.remove('colab-df-spinner');\n",
              "      quickchartButtonEl.classList.add('colab-df-quickchart-complete');\n",
              "    }\n",
              "    (() => {\n",
              "      let quickchartButtonEl =\n",
              "        document.querySelector('#df-98326c8d-1c13-45a7-a3b8-56d160f1dd97 button');\n",
              "      quickchartButtonEl.style.display =\n",
              "        google.colab.kernel.accessAllowed ? 'block' : 'none';\n",
              "    })();\n",
              "  </script>\n",
              "</div>\n",
              "\n",
              "    </div>\n",
              "  </div>\n"
            ],
            "application/vnd.google.colaboratory.intrinsic+json": {
              "type": "dataframe",
              "summary": "{\n  \"name\": \"df\",\n  \"rows\": 4,\n  \"fields\": [\n    {\n      \"column\": \"text\",\n      \"properties\": {\n        \"dtype\": \"string\",\n        \"num_unique_values\": 3,\n        \"samples\": [\n          \"5389\",\n          \"Go until jurong point, crazy.. Available only in bugis n great world la e buffet... Cine there got amore wat...\",\n          \"1\"\n        ],\n        \"semantic_type\": \"\",\n        \"description\": \"\"\n      }\n    },\n    {\n      \"column\": \"label\",\n      \"properties\": {\n        \"dtype\": \"string\",\n        \"num_unique_values\": 4,\n        \"samples\": [\n          2,\n          \"4673\",\n          \"5389\"\n        ],\n        \"semantic_type\": \"\",\n        \"description\": \"\"\n      }\n    }\n  ]\n}"
            }
          },
          "metadata": {},
          "execution_count": 11
        }
      ]
    },
    {
      "cell_type": "code",
      "source": [
        "import seaborn as sns\n",
        "import matplotlib.pyplot as plt\n",
        "\n",
        "sns.countplot(x='label', data=df)\n",
        "plt.title('Distribution of Target Labels')\n",
        "plt.show()"
      ],
      "metadata": {
        "colab": {
          "base_uri": "https://localhost:8080/",
          "height": 472
        },
        "id": "dEL9orBVQWYx",
        "outputId": "038d1fa4-b37c-426a-933f-1a31b749a6a8"
      },
      "execution_count": 12,
      "outputs": [
        {
          "output_type": "display_data",
          "data": {
            "text/plain": [
              "<Figure size 640x480 with 1 Axes>"
            ],
            "image/png": "[encoded data removed]"
          },
          "metadata": {}
        }
      ]
    },
    {
      "cell_type": "code",
      "source": [
        "df[\"text\"].max()"
      ],
      "metadata": {
        "colab": {
          "base_uri": "https://localhost:8080/",
          "height": 36
        },
        "id": "liK3B_RtQuqx",
        "outputId": "21aa435c-1327-4e03-d9c3-f382931c9b55"
      },
      "execution_count": 13,
      "outputs": [
        {
          "output_type": "execute_result",
          "data": {
            "text/plain": [
              "'Ã\\x8cÃ\\x8f wait 4 me in sch i finish ard 5.. https://link3.com'"
            ],
            "application/vnd.google.colaboratory.intrinsic+json": {
              "type": "string"
            }
          },
          "metadata": {},
          "execution_count": 13
        }
      ]
    },
    {
      "cell_type": "code",
      "source": [
        "df[\"text\"].min()"
      ],
      "metadata": {
        "colab": {
          "base_uri": "https://localhost:8080/",
          "height": 36
        },
        "id": "cCS4J0D4QunX",
        "outputId": "af3c92b1-05a1-4279-aa15-5d47ceae7e03"
      },
      "execution_count": 14,
      "outputs": [
        {
          "output_type": "execute_result",
          "data": {
            "text/plain": [
              "' &lt;#&gt;  in mca. But not conform.'"
            ],
            "application/vnd.google.colaboratory.intrinsic+json": {
              "type": "string"
            }
          },
          "metadata": {},
          "execution_count": 14
        }
      ]
    },
    {
      "cell_type": "code",
      "source": [
        "df[\"text\"].max()"
      ],
      "metadata": {
        "colab": {
          "base_uri": "https://localhost:8080/",
          "height": 36
        },
        "id": "f9sGkoLbQuke",
        "outputId": "6db9977f-4783-4af5-b6fd-a5da35d0ca51"
      },
      "execution_count": 37,
      "outputs": [
        {
          "output_type": "execute_result",
          "data": {
            "text/plain": [
              "'ãã wait 4 me in sch i finish ard 5'"
            ],
            "application/vnd.google.colaboratory.intrinsic+json": {
              "type": "string"
            }
          },
          "metadata": {},
          "execution_count": 37
        }
      ]
    },
    {
      "cell_type": "code",
      "source": [
        "df[\"text\"].min()"
      ],
      "metadata": {
        "colab": {
          "base_uri": "https://localhost:8080/",
          "height": 36
        },
        "id": "D1wMCL35Quhv",
        "outputId": "24248942-20be-41af-8d0f-5da13927bf96"
      },
      "execution_count": 36,
      "outputs": [
        {
          "output_type": "execute_result",
          "data": {
            "text/plain": [
              "''"
            ],
            "application/vnd.google.colaboratory.intrinsic+json": {
              "type": "string"
            }
          },
          "metadata": {},
          "execution_count": 36
        }
      ]
    },
    {
      "cell_type": "code",
      "source": [
        "df.duplicated().sum()"
      ],
      "metadata": {
        "colab": {
          "base_uri": "https://localhost:8080/"
        },
        "id": "FZbgvcxWRkU6",
        "outputId": "aa76f6b7-cb65-4b28-e9ae-c33d862f55cc"
      },
      "execution_count": 32,
      "outputs": [
        {
          "output_type": "execute_result",
          "data": {
            "text/plain": [
              "0"
            ]
          },
          "metadata": {},
          "execution_count": 32
        }
      ]
    },
    {
      "cell_type": "code",
      "source": [
        "df.drop_duplicates(inplace=True)"
      ],
      "metadata": {
        "id": "d_7CdCnsSUt7"
      },
      "execution_count": 30,
      "outputs": []
    },
    {
      "cell_type": "markdown",
      "metadata": {
        "id": "X_oEu0TkSMEB"
      },
      "source": [
        "# Data Cleaning and Preprocessing"
      ]
    },
    {
      "cell_type": "markdown",
      "metadata": {
        "id": "wSAFiozlRQHt"
      },
      "source": [
        "In this section, we will focus on cleaning and filtering the dataset, preparing it for the text classification task. We will implement the following steps:\n",
        "\n",
        "1. **Remove missing values**:  \n",
        "   First, we eliminate any rows with missing values to ensure the dataset is complete and consistent.\n",
        "\n",
        "2. **Filter by text length (Bonus)**:  \n",
        "   To maintain a uniform dataset, we will filter the text samples by a specified word count range. This ensures that the texts are neither too short to lack context nor too long to introduce unnecessary complexity.\n",
        "\n",
        "3. **English stopwords loading**:  \n",
        "   We load a list of English stopwords to filter out commonly used but contextually insignificant words. This is an important step for improving the performance of the model, as stopwords do not contribute valuable information.\n",
        "\n",
        "4. **Text cleaning**:  \n",
        "   We apply a series of text cleaning steps to standardize and simplify the text data. This involves:\n",
        "   \n",
        "   - **Removing links (URLs)**:  \n",
        "     Any URLs present in the text are removed as they are not meaningful for classification purposes.\n",
        "   \n",
        "   - **Removing special characters and punctuation**:  \n",
        "     This step removes any non-alphabetical characters, ensuring the text only contains meaningful words.\n",
        "   \n",
        "   - **Lowercasing**:  \n",
        "     All text is converted to lowercase for uniformity and to avoid case sensitivity issues.\n",
        "   \n",
        "   - **Removing English stopwords**:  \n",
        "     Words that are part of the stopwords list are removed, as they do not add value to the classification task.\n",
        "   \n",
        "   - **Stemming or Lemmatization**:  \n",
        "     Either stemming or lemmatization is applied to reduce words to their root or base form, ensuring consistency in word forms.\n",
        "\n",
        "5. **Final cleanup**:\n",
        "   Apply the cleanup function to the feature column.\n",
        "\n",
        "By following these steps, the text will be cleaned, filtered, and ready for tokenization!"
      ]
    },
    {
      "cell_type": "code",
      "execution_count": 15,
      "metadata": {
        "id": "mHEObOY_fHhq",
        "colab": {
          "base_uri": "https://localhost:8080/",
          "height": 147
        },
        "outputId": "ca924029-5aff-48f4-8660-199c927e0c82"
      },
      "outputs": [
        {
          "output_type": "execute_result",
          "data": {
            "text/plain": [
              "text     0\n",
              "label    0\n",
              "dtype: int64"
            ],
            "text/html": [
              "<div>\n",
              "<style scoped>\n",
              "    .dataframe tbody tr th:only-of-type {\n",
              "        vertical-align: middle;\n",
              "    }\n",
              "\n",
              "    .dataframe tbody tr th {\n",
              "        vertical-align: top;\n",
              "    }\n",
              "\n",
              "    .dataframe thead th {\n",
              "        text-align: right;\n",
              "    }\n",
              "</style>\n",
              "<table border=\"1\" class=\"dataframe\">\n",
              "  <thead>\n",
              "    <tr style=\"text-align: right;\">\n",
              "      <th></th>\n",
              "      <th>0</th>\n",
              "    </tr>\n",
              "  </thead>\n",
              "  <tbody>\n",
              "    <tr>\n",
              "      <th>text</th>\n",
              "      <td>0</td>\n",
              "    </tr>\n",
              "    <tr>\n",
              "      <th>label</th>\n",
              "      <td>0</td>\n",
              "    </tr>\n",
              "  </tbody>\n",
              "</table>\n",
              "</div><br><label><b>dtype:</b> int64</label>"
            ]
          },
          "metadata": {},
          "execution_count": 15
        }
      ],
      "source": [
        "df.isna().sum()"
      ]
    },
    {
      "cell_type": "code",
      "source": [
        "print(stopwords)"
      ],
      "metadata": {
        "colab": {
          "base_uri": "https://localhost:8080/"
        },
        "id": "WOqedtcXQ4yM",
        "outputId": "bebb55fb-05f4-42e9-d296-4d1c0bad3d40"
      },
      "execution_count": 16,
      "outputs": [
        {
          "output_type": "stream",
          "name": "stdout",
          "text": [
            "{'thru', 'get', 'before', 're', 'everyone', 'without', 'please', 'already', 'anything', 'around', 'toward', 'under', 'on', 'our', 'unless', 'yet', 'always', 'anyhow', 'alone', 'some', 'beyond', 'while', 'noone', 'nor', 'did', 'meanwhile', 'amongst', 'someone', 'hereafter', 'least', 'a', 'whether', 'own', 'how', 'may', 'say', 'they', 'nothing', 'nobody', 'after', '‘re', 'who', 'except', \"'s\", 'anyone', 'if', 'must', 'for', 'often', 'been', \"'ve\", 'ever', 'whereupon', 'thereafter', 'be', 'several', 'do', 'somewhere', 'myself', 'per', 'or', 'has', 'onto', 'ourselves', 'whoever', 'many', 'throughout', 'too', 'thence', 'because', 'were', 'herein', 'five', 'us', '‘m', 'so', 'even', 'show', 'former', 'is', \"'ll\", 'of', '’ll', 'same', 'still', 'beforehand', \"n't\", 'regarding', 'sixty', 'put', 'behind', 'indeed', 'against', 'seeming', 'beside', 'just', 'the', 'these', 'being', 'serious', 'which', 'hereby', 'his', 'him', 'whereas', 'side', 'everywhere', 'rather', 'why', 'are', 'becoming', 'hundred', 'among', 'we', 'others', 'here', 'everything', 'somehow', 'seemed', 'once', 'see', 'am', 'enough', 'any', 'whom', 'twelve', 'from', 'other', 'first', 'i', 'bottom', '‘d', 'nevertheless', 'few', 'again', 'latter', 'over', 'ca', '‘ll', 'me', 'sometime', 'whence', 'two', 'whereafter', 'along', \"'re\", 'something', 'above', 'all', 'made', 'towards', 'used', 'could', 'otherwise', 'does', 'fifty', 'else', 'six', 'would', 'twenty', 'herself', 'he', 'below', 'their', 'an', 'but', 'third', 'themselves', 'her', 'most', 'back', 'well', 'n‘t', 'upon', 'however', 'n’t', 'never', '’m', 'front', 'as', 'itself', 'off', 'and', 'this', 'various', 'my', 'whatever', 'no', 'perhaps', 'only', 'can', 'neither', 'call', 'whole', 'each', 'since', \"'m\", 'part', 'ten', '’s', 'another', 'where', 'elsewhere', 'whereby', 'eleven', 'one', 'using', 'doing', 'down', 'wherein', 'further', 'whenever', 'empty', 'namely', 'eight', 'becomes', 'thereby', 'besides', 'four', 'became', 'there', 'about', 'very', 'more', 'although', 'via', 'up', 'might', 'anyway', 'both', 'next', 'whose', 'those', 'out', 'you', 'she', 'to', 'than', 'yourself', 'none', 'therefore', 'them', 'across', 'keep', 'in', 'sometimes', 'amount', '’ve', 'forty', 'such', 'fifteen', 'go', 'yours', 'together', 'move', 'your', 'what', 'himself', 'though', 'was', 'mostly', 'make', 'its', 'seem', 'top', 'had', 'three', 'will', 'therein', 'ours', 'anywhere', 'at', 'cannot', 'during', 'hence', 'between', 'hereupon', 'by', 'until', '’re', 'it', 'formerly', 'much', 'whither', 'should', 'become', 'every', 'within', 'take', 'almost', 'when', 'have', 'latterly', 'then', 'with', '’d', 'either', 'afterwards', 'less', 'nowhere', \"'d\", 'quite', 'moreover', 'that', 'last', 'thereupon', 'mine', 'hers', '‘s', 'into', 'give', 'nine', 'now', 'not', 'due', 'yourselves', 'wherever', 'also', 'done', 'seems', 'thus', 'really', '‘ve', 'through', 'full', 'name'}\n"
          ]
        }
      ]
    },
    {
      "cell_type": "code",
      "source": [
        "df['stop_words'] = df['text'].apply(lambda x: len([t for t in x.split() if t in stopwords]))"
      ],
      "metadata": {
        "id": "Kl8E08WjQ4u0"
      },
      "execution_count": 17,
      "outputs": []
    },
    {
      "cell_type": "code",
      "source": [
        "df['text'] = df['text'].apply(lambda x: re.sub(r'http\\S+', '', x))\n"
      ],
      "metadata": {
        "id": "yHM6ZbSUQ4se"
      },
      "execution_count": 18,
      "outputs": []
    },
    {
      "cell_type": "code",
      "source": [
        "df.head(5)"
      ],
      "metadata": {
        "colab": {
          "base_uri": "https://localhost:8080/",
          "height": 206
        },
        "id": "mP8zVrCnQ4o_",
        "outputId": "5aa97c03-62f5-4a90-8cd5-0e42c82f430f"
      },
      "execution_count": 19,
      "outputs": [
        {
          "output_type": "execute_result",
          "data": {
            "text/plain": [
              "                                                text label  stop_words\n",
              "0  Go until jurong point, crazy.. Available only ...   ham           4\n",
              "1                      Ok lar... Joking wif u oni...   ham           0\n",
              "2  Free entry in 2 a wkly comp to win FA Cup fina...  spam           5\n",
              "3  U dun say so early hor... U c already then say...   ham           4\n",
              "4  Nah I don't think he goes to usf, he lives aro...   ham           6"
            ],
            "text/html": [
              "\n",
              "  <div id=\"df-3ccbebdd-2222-4eb1-847d-499dcdd641d2\" class=\"colab-df-container\">\n",
              "    <div>\n",
              "<style scoped>\n",
              "    .dataframe tbody tr th:only-of-type {\n",
              "        vertical-align: middle;\n",
              "    }\n",
              "\n",
              "    .dataframe tbody tr th {\n",
              "        vertical-align: top;\n",
              "    }\n",
              "\n",
              "    .dataframe thead th {\n",
              "        text-align: right;\n",
              "    }\n",
              "</style>\n",
              "<table border=\"1\" class=\"dataframe\">\n",
              "  <thead>\n",
              "    <tr style=\"text-align: right;\">\n",
              "      <th></th>\n",
              "      <th>text</th>\n",
              "      <th>label</th>\n",
              "      <th>stop_words</th>\n",
              "    </tr>\n",
              "  </thead>\n",
              "  <tbody>\n",
              "    <tr>\n",
              "      <th>0</th>\n",
              "      <td>Go until jurong point, crazy.. Available only ...</td>\n",
              "      <td>ham</td>\n",
              "      <td>4</td>\n",
              "    </tr>\n",
              "    <tr>\n",
              "      <th>1</th>\n",
              "      <td>Ok lar... Joking wif u oni...</td>\n",
              "      <td>ham</td>\n",
              "      <td>0</td>\n",
              "    </tr>\n",
              "    <tr>\n",
              "      <th>2</th>\n",
              "      <td>Free entry in 2 a wkly comp to win FA Cup fina...</td>\n",
              "      <td>spam</td>\n",
              "      <td>5</td>\n",
              "    </tr>\n",
              "    <tr>\n",
              "      <th>3</th>\n",
              "      <td>U dun say so early hor... U c already then say...</td>\n",
              "      <td>ham</td>\n",
              "      <td>4</td>\n",
              "    </tr>\n",
              "    <tr>\n",
              "      <th>4</th>\n",
              "      <td>Nah I don't think he goes to usf, he lives aro...</td>\n",
              "      <td>ham</td>\n",
              "      <td>6</td>\n",
              "    </tr>\n",
              "  </tbody>\n",
              "</table>\n",
              "</div>\n",
              "    <div class=\"colab-df-buttons\">\n",
              "\n",
              "  <div class=\"colab-df-container\">\n",
              "    <button class=\"colab-df-convert\" onclick=\"convertToInteractive('df-3ccbebdd-2222-4eb1-847d-499dcdd641d2')\"\n",
              "            title=\"Convert this dataframe to an interactive table.\"\n",
              "            style=\"display:none;\">\n",
              "\n",
              "  <svg xmlns=\"http://www.w3.org/2000/svg\" height=\"24px\" viewBox=\"0 -960 960 960\">\n",
              "    <path d=\"M120-120v-720h720v720H120Zm60-500h600v-160H180v160Zm220 220h160v-160H400v160Zm0 220h160v-160H400v160ZM180-400h160v-160H180v160Zm440 0h160v-160H620v160ZM180-180h160v-160H180v160Zm440 0h160v-160H620v160Z\"/>\n",
              "  </svg>\n",
              "    </button>\n",
              "\n",
              "  <style>\n",
              "    .colab-df-container {\n",
              "      display:flex;\n",
              "      gap: 12px;\n",
              "    }\n",
              "\n",
              "    .colab-df-convert {\n",
              "      background-color: #E8F0FE;\n",
              "      border: none;\n",
              "      border-radius: 50%;\n",
              "      cursor: pointer;\n",
              "      display: none;\n",
              "      fill: #1967D2;\n",
              "      height: 32px;\n",
              "      padding: 0 0 0 0;\n",
              "      width: 32px;\n",
              "    }\n",
              "\n",
              "    .colab-df-convert:hover {\n",
              "      background-color: #E2EBFA;\n",
              "      box-shadow: 0px 1px 2px rgba(60, 64, 67, 0.3), 0px 1px 3px 1px rgba(60, 64, 67, 0.15);\n",
              "      fill: #174EA6;\n",
              "    }\n",
              "\n",
              "    .colab-df-buttons div {\n",
              "      margin-bottom: 4px;\n",
              "    }\n",
              "\n",
              "    [theme=dark] .colab-df-convert {\n",
              "      background-color: #3B4455;\n",
              "      fill: #D2E3FC;\n",
              "    }\n",
              "\n",
              "    [theme=dark] .colab-df-convert:hover {\n",
              "      background-color: #434B5C;\n",
              "      box-shadow: 0px 1px 3px 1px rgba(0, 0, 0, 0.15);\n",
              "      filter: drop-shadow(0px 1px 2px rgba(0, 0, 0, 0.3));\n",
              "      fill: #FFFFFF;\n",
              "    }\n",
              "  </style>\n",
              "\n",
              "    <script>\n",
              "      const buttonEl =\n",
              "        document.querySelector('#df-3ccbebdd-2222-4eb1-847d-499dcdd641d2 button.colab-df-convert');\n",
              "      buttonEl.style.display =\n",
              "        google.colab.kernel.accessAllowed ? 'block' : 'none';\n",
              "\n",
              "      async function convertToInteractive(key) {\n",
              "        const element = document.querySelector('#df-3ccbebdd-2222-4eb1-847d-499dcdd641d2');\n",
              "        const dataTable =\n",
              "          await google.colab.kernel.invokeFunction('convertToInteractive',\n",
              "                                                    [key], {});\n",
              "        if (!dataTable) return;\n",
              "\n",
              "        const docLinkHtml = 'Like what you see? Visit the ' +\n",
              "          '<a target=\"_blank\" href=https://colab.research.google.com/notebooks/data_table.ipynb>data table notebook</a>'\n",
              "          + ' to learn more about interactive tables.';\n",
              "        element.innerHTML = '';\n",
              "        dataTable['output_type'] = 'display_data';\n",
              "        await google.colab.output.renderOutput(dataTable, element);\n",
              "        const docLink = document.createElement('div');\n",
              "        docLink.innerHTML = docLinkHtml;\n",
              "        element.appendChild(docLink);\n",
              "      }\n",
              "    </script>\n",
              "  </div>\n",
              "\n",
              "\n",
              "<div id=\"df-d2e5250e-3039-4e4a-8b85-c1f5d8f7ca82\">\n",
              "  <button class=\"colab-df-quickchart\" onclick=\"quickchart('df-d2e5250e-3039-4e4a-8b85-c1f5d8f7ca82')\"\n",
              "            title=\"Suggest charts\"\n",
              "            style=\"display:none;\">\n",
              "\n",
              "<svg xmlns=\"http://www.w3.org/2000/svg\" height=\"24px\"viewBox=\"0 0 24 24\"\n",
              "     width=\"24px\">\n",
              "    <g>\n",
              "        <path d=\"M19 3H5c-1.1 0-2 .9-2 2v14c0 1.1.9 2 2 2h14c1.1 0 2-.9 2-2V5c0-1.1-.9-2-2-2zM9 17H7v-7h2v7zm4 0h-2V7h2v10zm4 0h-2v-4h2v4z\"/>\n",
              "    </g>\n",
              "</svg>\n",
              "  </button>\n",
              "\n",
              "<style>\n",
              "  .colab-df-quickchart {\n",
              "      --bg-color: #E8F0FE;\n",
              "      --fill-color: #1967D2;\n",
              "      --hover-bg-color: #E2EBFA;\n",
              "      --hover-fill-color: #174EA6;\n",
              "      --disabled-fill-color: #AAA;\n",
              "      --disabled-bg-color: #DDD;\n",
              "  }\n",
              "\n",
              "  [theme=dark] .colab-df-quickchart {\n",
              "      --bg-color: #3B4455;\n",
              "      --fill-color: #D2E3FC;\n",
              "      --hover-bg-color: #434B5C;\n",
              "      --hover-fill-color: #FFFFFF;\n",
              "      --disabled-bg-color: #3B4455;\n",
              "      --disabled-fill-color: #666;\n",
              "  }\n",
              "\n",
              "  .colab-df-quickchart {\n",
              "    background-color: var(--bg-color);\n",
              "    border: none;\n",
              "    border-radius: 50%;\n",
              "    cursor: pointer;\n",
              "    display: none;\n",
              "    fill: var(--fill-color);\n",
              "    height: 32px;\n",
              "    padding: 0;\n",
              "    width: 32px;\n",
              "  }\n",
              "\n",
              "  .colab-df-quickchart:hover {\n",
              "    background-color: var(--hover-bg-color);\n",
              "    box-shadow: 0 1px 2px rgba(60, 64, 67, 0.3), 0 1px 3px 1px rgba(60, 64, 67, 0.15);\n",
              "    fill: var(--button-hover-fill-color);\n",
              "  }\n",
              "\n",
              "  .colab-df-quickchart-complete:disabled,\n",
              "  .colab-df-quickchart-complete:disabled:hover {\n",
              "    background-color: var(--disabled-bg-color);\n",
              "    fill: var(--disabled-fill-color);\n",
              "    box-shadow: none;\n",
              "  }\n",
              "\n",
              "  .colab-df-spinner {\n",
              "    border: 2px solid var(--fill-color);\n",
              "    border-color: transparent;\n",
              "    border-bottom-color: var(--fill-color);\n",
              "    animation:\n",
              "      spin 1s steps(1) infinite;\n",
              "  }\n",
              "\n",
              "  @keyframes spin {\n",
              "    0% {\n",
              "      border-color: transparent;\n",
              "      border-bottom-color: var(--fill-color);\n",
              "      border-left-color: var(--fill-color);\n",
              "    }\n",
              "    20% {\n",
              "      border-color: transparent;\n",
              "      border-left-color: var(--fill-color);\n",
              "      border-top-color: var(--fill-color);\n",
              "    }\n",
              "    30% {\n",
              "      border-color: transparent;\n",
              "      border-left-color: var(--fill-color);\n",
              "      border-top-color: var(--fill-color);\n",
              "      border-right-color: var(--fill-color);\n",
              "    }\n",
              "    40% {\n",
              "      border-color: transparent;\n",
              "      border-right-color: var(--fill-color);\n",
              "      border-top-color: var(--fill-color);\n",
              "    }\n",
              "    60% {\n",
              "      border-color: transparent;\n",
              "      border-right-color: var(--fill-color);\n",
              "    }\n",
              "    80% {\n",
              "      border-color: transparent;\n",
              "      border-right-color: var(--fill-color);\n",
              "      border-bottom-color: var(--fill-color);\n",
              "    }\n",
              "    90% {\n",
              "      border-color: transparent;\n",
              "      border-bottom-color: var(--fill-color);\n",
              "    }\n",
              "  }\n",
              "</style>\n",
              "\n",
              "  <script>\n",
              "    async function quickchart(key) {\n",
              "      const quickchartButtonEl =\n",
              "        document.querySelector('#' + key + ' button');\n",
              "      quickchartButtonEl.disabled = true;  // To prevent multiple clicks.\n",
              "      quickchartButtonEl.classList.add('colab-df-spinner');\n",
              "      try {\n",
              "        const charts = await google.colab.kernel.invokeFunction(\n",
              "            'suggestCharts', [key], {});\n",
              "      } catch (error) {\n",
              "        console.error('Error during call to suggestCharts:', error);\n",
              "      }\n",
              "      quickchartButtonEl.classList.remove('colab-df-spinner');\n",
              "      quickchartButtonEl.classList.add('colab-df-quickchart-complete');\n",
              "    }\n",
              "    (() => {\n",
              "      let quickchartButtonEl =\n",
              "        document.querySelector('#df-d2e5250e-3039-4e4a-8b85-c1f5d8f7ca82 button');\n",
              "      quickchartButtonEl.style.display =\n",
              "        google.colab.kernel.accessAllowed ? 'block' : 'none';\n",
              "    })();\n",
              "  </script>\n",
              "</div>\n",
              "\n",
              "    </div>\n",
              "  </div>\n"
            ],
            "application/vnd.google.colaboratory.intrinsic+json": {
              "type": "dataframe",
              "variable_name": "df",
              "summary": "{\n  \"name\": \"df\",\n  \"rows\": 5389,\n  \"fields\": [\n    {\n      \"column\": \"text\",\n      \"properties\": {\n        \"dtype\": \"string\",\n        \"num_unique_values\": 5333,\n        \"samples\": [\n          \"You flippin your shit yet? \",\n          \"I want some cock! My hubby's away, I need a real man 2 satisfy me. Txt WIFE to 89938 for no strings action. (Txt STOP 2 end, txt rec \\u00c3\\u00a5\\u00c2\\u00a31.50ea. OTBox 731 LA1 7WS. )\",\n          \"UR awarded a City Break and could WIN a \\u00c3\\u00a5\\u00c2\\u00a3200 Summer Shopping spree every WK. Txt STORE to 88039.SkilGme.TsCs087147403231Winawk!Age16+\\u00c3\\u00a5\\u00c2\\u00a31.50perWKsub \"\n        ],\n        \"semantic_type\": \"\",\n        \"description\": \"\"\n      }\n    },\n    {\n      \"column\": \"label\",\n      \"properties\": {\n        \"dtype\": \"category\",\n        \"num_unique_values\": 2,\n        \"samples\": [\n          \"spam\",\n          \"ham\"\n        ],\n        \"semantic_type\": \"\",\n        \"description\": \"\"\n      }\n    },\n    {\n      \"column\": \"stop_words\",\n      \"properties\": {\n        \"dtype\": \"number\",\n        \"std\": 5,\n        \"min\": 0,\n        \"max\": 103,\n        \"num_unique_values\": 45,\n        \"samples\": [\n          36,\n          26\n        ],\n        \"semantic_type\": \"\",\n        \"description\": \"\"\n      }\n    }\n  ]\n}"
            }
          },
          "metadata": {},
          "execution_count": 19
        }
      ]
    },
    {
      "cell_type": "code",
      "source": [
        "df['text'] = df['text'].apply(lambda x: str(x).lower())"
      ],
      "metadata": {
        "id": "skwEvi7QQ4m2"
      },
      "execution_count": 20,
      "outputs": []
    },
    {
      "cell_type": "code",
      "source": [
        "df.head(5)"
      ],
      "metadata": {
        "colab": {
          "base_uri": "https://localhost:8080/",
          "height": 206
        },
        "id": "KDuAIWpnQ4lF",
        "outputId": "148964c2-4721-4252-f906-f5db3d6f532c"
      },
      "execution_count": 21,
      "outputs": [
        {
          "output_type": "execute_result",
          "data": {
            "text/plain": [
              "                                                text label  stop_words\n",
              "0  go until jurong point, crazy.. available only ...   ham           4\n",
              "1                      ok lar... joking wif u oni...   ham           0\n",
              "2  free entry in 2 a wkly comp to win fa cup fina...  spam           5\n",
              "3  u dun say so early hor... u c already then say...   ham           4\n",
              "4  nah i don't think he goes to usf, he lives aro...   ham           6"
            ],
            "text/html": [
              "\n",
              "  <div id=\"df-687b5413-4bb0-40a6-a66e-a2c16bf4b7b7\" class=\"colab-df-container\">\n",
              "    <div>\n",
              "<style scoped>\n",
              "    .dataframe tbody tr th:only-of-type {\n",
              "        vertical-align: middle;\n",
              "    }\n",
              "\n",
              "    .dataframe tbody tr th {\n",
              "        vertical-align: top;\n",
              "    }\n",
              "\n",
              "    .dataframe thead th {\n",
              "        text-align: right;\n",
              "    }\n",
              "</style>\n",
              "<table border=\"1\" class=\"dataframe\">\n",
              "  <thead>\n",
              "    <tr style=\"text-align: right;\">\n",
              "      <th></th>\n",
              "      <th>text</th>\n",
              "      <th>label</th>\n",
              "      <th>stop_words</th>\n",
              "    </tr>\n",
              "  </thead>\n",
              "  <tbody>\n",
              "    <tr>\n",
              "      <th>0</th>\n",
              "      <td>go until jurong point, crazy.. available only ...</td>\n",
              "      <td>ham</td>\n",
              "      <td>4</td>\n",
              "    </tr>\n",
              "    <tr>\n",
              "      <th>1</th>\n",
              "      <td>ok lar... joking wif u oni...</td>\n",
              "      <td>ham</td>\n",
              "      <td>0</td>\n",
              "    </tr>\n",
              "    <tr>\n",
              "      <th>2</th>\n",
              "      <td>free entry in 2 a wkly comp to win fa cup fina...</td>\n",
              "      <td>spam</td>\n",
              "      <td>5</td>\n",
              "    </tr>\n",
              "    <tr>\n",
              "      <th>3</th>\n",
              "      <td>u dun say so early hor... u c already then say...</td>\n",
              "      <td>ham</td>\n",
              "      <td>4</td>\n",
              "    </tr>\n",
              "    <tr>\n",
              "      <th>4</th>\n",
              "      <td>nah i don't think he goes to usf, he lives aro...</td>\n",
              "      <td>ham</td>\n",
              "      <td>6</td>\n",
              "    </tr>\n",
              "  </tbody>\n",
              "</table>\n",
              "</div>\n",
              "    <div class=\"colab-df-buttons\">\n",
              "\n",
              "  <div class=\"colab-df-container\">\n",
              "    <button class=\"colab-df-convert\" onclick=\"convertToInteractive('df-687b5413-4bb0-40a6-a66e-a2c16bf4b7b7')\"\n",
              "            title=\"Convert this dataframe to an interactive table.\"\n",
              "            style=\"display:none;\">\n",
              "\n",
              "  <svg xmlns=\"http://www.w3.org/2000/svg\" height=\"24px\" viewBox=\"0 -960 960 960\">\n",
              "    <path d=\"M120-120v-720h720v720H120Zm60-500h600v-160H180v160Zm220 220h160v-160H400v160Zm0 220h160v-160H400v160ZM180-400h160v-160H180v160Zm440 0h160v-160H620v160ZM180-180h160v-160H180v160Zm440 0h160v-160H620v160Z\"/>\n",
              "  </svg>\n",
              "    </button>\n",
              "\n",
              "  <style>\n",
              "    .colab-df-container {\n",
              "      display:flex;\n",
              "      gap: 12px;\n",
              "    }\n",
              "\n",
              "    .colab-df-convert {\n",
              "      background-color: #E8F0FE;\n",
              "      border: none;\n",
              "      border-radius: 50%;\n",
              "      cursor: pointer;\n",
              "      display: none;\n",
              "      fill: #1967D2;\n",
              "      height: 32px;\n",
              "      padding: 0 0 0 0;\n",
              "      width: 32px;\n",
              "    }\n",
              "\n",
              "    .colab-df-convert:hover {\n",
              "      background-color: #E2EBFA;\n",
              "      box-shadow: 0px 1px 2px rgba(60, 64, 67, 0.3), 0px 1px 3px 1px rgba(60, 64, 67, 0.15);\n",
              "      fill: #174EA6;\n",
              "    }\n",
              "\n",
              "    .colab-df-buttons div {\n",
              "      margin-bottom: 4px;\n",
              "    }\n",
              "\n",
              "    [theme=dark] .colab-df-convert {\n",
              "      background-color: #3B4455;\n",
              "      fill: #D2E3FC;\n",
              "    }\n",
              "\n",
              "    [theme=dark] .colab-df-convert:hover {\n",
              "      background-color: #434B5C;\n",
              "      box-shadow: 0px 1px 3px 1px rgba(0, 0, 0, 0.15);\n",
              "      filter: drop-shadow(0px 1px 2px rgba(0, 0, 0, 0.3));\n",
              "      fill: #FFFFFF;\n",
              "    }\n",
              "  </style>\n",
              "\n",
              "    <script>\n",
              "      const buttonEl =\n",
              "        document.querySelector('#df-687b5413-4bb0-40a6-a66e-a2c16bf4b7b7 button.colab-df-convert');\n",
              "      buttonEl.style.display =\n",
              "        google.colab.kernel.accessAllowed ? 'block' : 'none';\n",
              "\n",
              "      async function convertToInteractive(key) {\n",
              "        const element = document.querySelector('#df-687b5413-4bb0-40a6-a66e-a2c16bf4b7b7');\n",
              "        const dataTable =\n",
              "          await google.colab.kernel.invokeFunction('convertToInteractive',\n",
              "                                                    [key], {});\n",
              "        if (!dataTable) return;\n",
              "\n",
              "        const docLinkHtml = 'Like what you see? Visit the ' +\n",
              "          '<a target=\"_blank\" href=https://colab.research.google.com/notebooks/data_table.ipynb>data table notebook</a>'\n",
              "          + ' to learn more about interactive tables.';\n",
              "        element.innerHTML = '';\n",
              "        dataTable['output_type'] = 'display_data';\n",
              "        await google.colab.output.renderOutput(dataTable, element);\n",
              "        const docLink = document.createElement('div');\n",
              "        docLink.innerHTML = docLinkHtml;\n",
              "        element.appendChild(docLink);\n",
              "      }\n",
              "    </script>\n",
              "  </div>\n",
              "\n",
              "\n",
              "<div id=\"df-f90eceba-691c-423e-8707-c3faf18250ff\">\n",
              "  <button class=\"colab-df-quickchart\" onclick=\"quickchart('df-f90eceba-691c-423e-8707-c3faf18250ff')\"\n",
              "            title=\"Suggest charts\"\n",
              "            style=\"display:none;\">\n",
              "\n",
              "<svg xmlns=\"http://www.w3.org/2000/svg\" height=\"24px\"viewBox=\"0 0 24 24\"\n",
              "     width=\"24px\">\n",
              "    <g>\n",
              "        <path d=\"M19 3H5c-1.1 0-2 .9-2 2v14c0 1.1.9 2 2 2h14c1.1 0 2-.9 2-2V5c0-1.1-.9-2-2-2zM9 17H7v-7h2v7zm4 0h-2V7h2v10zm4 0h-2v-4h2v4z\"/>\n",
              "    </g>\n",
              "</svg>\n",
              "  </button>\n",
              "\n",
              "<style>\n",
              "  .colab-df-quickchart {\n",
              "      --bg-color: #E8F0FE;\n",
              "      --fill-color: #1967D2;\n",
              "      --hover-bg-color: #E2EBFA;\n",
              "      --hover-fill-color: #174EA6;\n",
              "      --disabled-fill-color: #AAA;\n",
              "      --disabled-bg-color: #DDD;\n",
              "  }\n",
              "\n",
              "  [theme=dark] .colab-df-quickchart {\n",
              "      --bg-color: #3B4455;\n",
              "      --fill-color: #D2E3FC;\n",
              "      --hover-bg-color: #434B5C;\n",
              "      --hover-fill-color: #FFFFFF;\n",
              "      --disabled-bg-color: #3B4455;\n",
              "      --disabled-fill-color: #666;\n",
              "  }\n",
              "\n",
              "  .colab-df-quickchart {\n",
              "    background-color: var(--bg-color);\n",
              "    border: none;\n",
              "    border-radius: 50%;\n",
              "    cursor: pointer;\n",
              "    display: none;\n",
              "    fill: var(--fill-color);\n",
              "    height: 32px;\n",
              "    padding: 0;\n",
              "    width: 32px;\n",
              "  }\n",
              "\n",
              "  .colab-df-quickchart:hover {\n",
              "    background-color: var(--hover-bg-color);\n",
              "    box-shadow: 0 1px 2px rgba(60, 64, 67, 0.3), 0 1px 3px 1px rgba(60, 64, 67, 0.15);\n",
              "    fill: var(--button-hover-fill-color);\n",
              "  }\n",
              "\n",
              "  .colab-df-quickchart-complete:disabled,\n",
              "  .colab-df-quickchart-complete:disabled:hover {\n",
              "    background-color: var(--disabled-bg-color);\n",
              "    fill: var(--disabled-fill-color);\n",
              "    box-shadow: none;\n",
              "  }\n",
              "\n",
              "  .colab-df-spinner {\n",
              "    border: 2px solid var(--fill-color);\n",
              "    border-color: transparent;\n",
              "    border-bottom-color: var(--fill-color);\n",
              "    animation:\n",
              "      spin 1s steps(1) infinite;\n",
              "  }\n",
              "\n",
              "  @keyframes spin {\n",
              "    0% {\n",
              "      border-color: transparent;\n",
              "      border-bottom-color: var(--fill-color);\n",
              "      border-left-color: var(--fill-color);\n",
              "    }\n",
              "    20% {\n",
              "      border-color: transparent;\n",
              "      border-left-color: var(--fill-color);\n",
              "      border-top-color: var(--fill-color);\n",
              "    }\n",
              "    30% {\n",
              "      border-color: transparent;\n",
              "      border-left-color: var(--fill-color);\n",
              "      border-top-color: var(--fill-color);\n",
              "      border-right-color: var(--fill-color);\n",
              "    }\n",
              "    40% {\n",
              "      border-color: transparent;\n",
              "      border-right-color: var(--fill-color);\n",
              "      border-top-color: var(--fill-color);\n",
              "    }\n",
              "    60% {\n",
              "      border-color: transparent;\n",
              "      border-right-color: var(--fill-color);\n",
              "    }\n",
              "    80% {\n",
              "      border-color: transparent;\n",
              "      border-right-color: var(--fill-color);\n",
              "      border-bottom-color: var(--fill-color);\n",
              "    }\n",
              "    90% {\n",
              "      border-color: transparent;\n",
              "      border-bottom-color: var(--fill-color);\n",
              "    }\n",
              "  }\n",
              "</style>\n",
              "\n",
              "  <script>\n",
              "    async function quickchart(key) {\n",
              "      const quickchartButtonEl =\n",
              "        document.querySelector('#' + key + ' button');\n",
              "      quickchartButtonEl.disabled = true;  // To prevent multiple clicks.\n",
              "      quickchartButtonEl.classList.add('colab-df-spinner');\n",
              "      try {\n",
              "        const charts = await google.colab.kernel.invokeFunction(\n",
              "            'suggestCharts', [key], {});\n",
              "      } catch (error) {\n",
              "        console.error('Error during call to suggestCharts:', error);\n",
              "      }\n",
              "      quickchartButtonEl.classList.remove('colab-df-spinner');\n",
              "      quickchartButtonEl.classList.add('colab-df-quickchart-complete');\n",
              "    }\n",
              "    (() => {\n",
              "      let quickchartButtonEl =\n",
              "        document.querySelector('#df-f90eceba-691c-423e-8707-c3faf18250ff button');\n",
              "      quickchartButtonEl.style.display =\n",
              "        google.colab.kernel.accessAllowed ? 'block' : 'none';\n",
              "    })();\n",
              "  </script>\n",
              "</div>\n",
              "\n",
              "    </div>\n",
              "  </div>\n"
            ],
            "application/vnd.google.colaboratory.intrinsic+json": {
              "type": "dataframe",
              "variable_name": "df",
              "summary": "{\n  \"name\": \"df\",\n  \"rows\": 5389,\n  \"fields\": [\n    {\n      \"column\": \"text\",\n      \"properties\": {\n        \"dtype\": \"string\",\n        \"num_unique_values\": 5332,\n        \"samples\": [\n          \"win a year supply of cds 4 a store of ur choice worth \\u00e3\\u00a5\\u00e2\\u00a3500 & enter our \\u00e3\\u00a5\\u00e2\\u00a3100 weekly draw txt music to 87066 ts&cs www.ldew.com.subs16+1win150ppmx3\",\n          \"it is only yesterday true true. \",\n          \"hi..i got the money da:)\"\n        ],\n        \"semantic_type\": \"\",\n        \"description\": \"\"\n      }\n    },\n    {\n      \"column\": \"label\",\n      \"properties\": {\n        \"dtype\": \"category\",\n        \"num_unique_values\": 2,\n        \"samples\": [\n          \"spam\",\n          \"ham\"\n        ],\n        \"semantic_type\": \"\",\n        \"description\": \"\"\n      }\n    },\n    {\n      \"column\": \"stop_words\",\n      \"properties\": {\n        \"dtype\": \"number\",\n        \"std\": 5,\n        \"min\": 0,\n        \"max\": 103,\n        \"num_unique_values\": 45,\n        \"samples\": [\n          36,\n          26\n        ],\n        \"semantic_type\": \"\",\n        \"description\": \"\"\n      }\n    }\n  ]\n}"
            }
          },
          "metadata": {},
          "execution_count": 21
        }
      ]
    },
    {
      "cell_type": "code",
      "source": [
        "df['text'] = df['text'].apply(lambda x: re.sub(r'[^\\w ]+', \"\", x))"
      ],
      "metadata": {
        "id": "_yZ3k53BQ4i1"
      },
      "execution_count": 26,
      "outputs": []
    },
    {
      "cell_type": "code",
      "source": [
        "df['text'] = df['text'].apply(lambda x: ' '.join(x.split()))"
      ],
      "metadata": {
        "id": "eoDHN3JLSePV"
      },
      "execution_count": 35,
      "outputs": []
    },
    {
      "cell_type": "markdown",
      "metadata": {
        "id": "VF45GS_ZSEix"
      },
      "source": [
        "# Tokenization, Padding, and Data Splitting"
      ]
    },
    {
      "cell_type": "markdown",
      "metadata": {
        "id": "YmsL3S-5SIbl"
      },
      "source": [
        "In this step, we will prepare the text data for input into a model by converting the text into numerical sequences, padding them to a uniform length, and splitting the dataset into training and testing sets. Here's an overview of the steps involved:\n",
        "\n",
        "1. **Tokenization**:\n",
        "   We use a tokenizer to convert the cleaned text into numerical sequences. You can use `Tokenizer` tokenizer from `tensorflow.keras.preprocessing.text` package or any other tokenizer you like.\n",
        "\n",
        "2. **Text to sequences**:\n",
        "   After fitting the tokenizer on the cleaned text, we transform each text into a sequence of numbers, where each number corresponds to a token (word) in the text.\n",
        "\n",
        "3. **Padding the sequences**:\n",
        "   Since different texts may vary in length, we pad the sequences to ensure they all have the same length.\n",
        "\n",
        "4. **Label encoding**:\n",
        "   The labels (target values) also need to be converted into numerical form if they are not encoded.\n",
        "\n",
        "5. **Train-test split**:\n",
        "   The dataset is divided into training and testing sets. We allocate 80% of the data for training the model and reserve 20% for testing its performance.\n",
        "   \n",
        "   - The **training data** consists of the padded sequences used to train the model.\n",
        "   - The **training labels** are the encoded labels corresponding to the training data.\n",
        "   - The **testing data** is used to assess the model’s performance after training.\n",
        "   - The **testing labels** are the encoded labels corresponding to the testing data.\n",
        "\n",
        "6. **Data shape confirmation**:\n",
        "   After splitting the data, we print the shape (dimensions) of both the training and testing sets to confirm that the data is properly divided and formatted.\n",
        "\n",
        "By the end of this step, the text data will be transformed into padded numerical sequences, the labels will be encoded, and the data will be split into training and testing sets for model development and evaluation."
      ]
    },
    {
      "cell_type": "code",
      "execution_count": 22,
      "metadata": {
        "id": "z401Re0VfI1f"
      },
      "outputs": [],
      "source": [
        "tokenizer = Tokenizer()\n",
        "tokenizer.fit_on_texts(df['text'])\n",
        "sequences = tokenizer.texts_to_sequences(df['text'])"
      ]
    },
    {
      "cell_type": "code",
      "source": [
        "print(sequences)"
      ],
      "metadata": {
        "colab": {
          "base_uri": "https://localhost:8080/"
        },
        "id": "D0krk52ORL1X",
        "outputId": "73891508-20d2-41ac-ded9-c38fa186c9c2"
      },
      "execution_count": 23,
      "outputs": [
        {
          "output_type": "stream",
          "name": "stdout",
          "text": [
            "[[48, 459, 4275, 817, 733, 632, 64, 8, 1273, 89, 124, 375, 1274, 146, 2869, 1275, 67, 58, 4276, 140], [50, 323, 1445, 460, 6, 1867], [49, 476, 8, 20, 4, 818, 867, 2, 185, 1868, 1158, 633, 1869, 2225, 265, 2226, 70, 1868, 2, 1870, 2, 342, 476, 561, 925, 73, 376, 179, 634, 414, 2870], [6, 236, 152, 23, 364, 2871, 6, 136, 148, 56, 152], [983, 1, 95, 100, 69, 477, 2, 926, 69, 1871, 208, 108, 461], [771, 120, 67, 1634, 144, 106, 162, 1872, 22, 7, 37, 331, 85, 868, 55, 110, 415, 3, 43, 12, 14, 83, 1873, 50, 377, 925, 4277, 2, 71, 343, 237, 2, 2872], [218, 11, 665, 9, 25, 55, 2, 378, 34, 10, 107, 702, 10, 55, 4278, 4279], [74, 238, 13, 1446, 4280, 4281, 2873, 4282, 4283, 4284, 984, 121, 106, 635, 74, 13, 1447, 12, 53, 2227, 985, 426, 2, 1276, 13, 266, 1447], [734, 74, 4, 927, 427, 239, 3, 16, 106, 444, 2, 2874, 1277, 149, 986, 2, 126, 17, 2875, 126, 400, 2876, 506, 928, 587, 64], [137, 13, 99, 703, 1063, 26, 133, 6, 81, 1278, 2, 523, 2, 5, 352, 562, 987, 34, 365, 12, 49, 17, 5, 99, 523, 281, 49, 18, 4285], [30, 223, 32, 78, 219, 7, 1, 95, 68, 2, 282, 79, 40, 283, 1159, 220, 90, 198, 4286, 428, 87], [2228, 4287, 2, 185, 155, 46, 735, 2, 929, 462, 666, 73, 4288, 7, 71, 2, 2229, 366, 191, 65, 4289, 272, 4290, 414, 91, 1874, 44, 772], [186, 3, 16, 187, 4, 122, 114, 49, 1875, 8, 88, 507, 462, 149, 2877, 73, 5, 331, 126, 2, 37, 2878, 179, 136, 154, 2879, 524, 2880, 736, 2881], [198, 106, 1876, 12, 5, 156, 563, 2, 429, 3, 12, 40, 4291, 1, 1064, 1, 379, 94, 13, 250, 12, 4292, 7, 33, 4293, 11, 1064, 3, 16, 106, 737, 7, 4, 2882, 28, 53, 494], [1, 16, 4, 564, 18, 773, 34, 33], [2883, 2, 279, 13, 774, 1279, 5, 988, 989, 8, 5, 206, 73, 157, 26, 1279, 108, 2883, 209, 89, 4294], [119, 90, 30, 380, 108], [869, 6, 381, 47, 20, 2230, 210, 284, 141, 1, 112, 69, 243, 1280, 134, 459, 1, 243, 1635], [267, 35, 1636, 5, 138, 6, 213, 1636, 5, 138, 62, 4295, 180], [1065, 243, 4296, 92, 175, 5, 2884, 1281, 636, 73, 38, 544, 1281, 2, 1160, 930, 1065, 2, 1160, 271, 2231, 2232, 2885, 4297, 929, 4298, 272], [9, 19, 1282, 47, 3, 2230, 210, 284], [1637, 72, 2, 271, 12, 20, 1063, 704, 704, 64, 1445], [23, 109, 401, 207, 323, 56, 45, 9, 86, 1638, 931], [612, 1, 298, 11, 314, 56, 1, 48, 1877, 231, 80, 545, 162, 705, 80, 6, 298, 38, 314, 148], [4299, 508, 37, 138, 1, 27, 163, 43, 34, 3, 1878], [36, 4300, 990, 2, 324, 4, 2886, 30, 158, 25, 775, 637, 40, 1283, 1161, 9, 259, 991, 69, 992, 30, 1066, 45, 1, 1879, 231, 1162, 176], [176, 13, 232, 23, 2887], [112, 3, 1067, 5, 430, 21, 3, 2233, 127, 1880, 112, 3, 134, 4, 1284, 21, 3, 1285, 13, 1881, 402, 192, 344, 29, 3, 213, 11, 66], [30, 85, 170, 546, 4301, 5, 315, 22, 93, 181, 3, 54, 35, 463, 367], [4302, 147, 1, 4303, 381, 19, 52, 382, 14, 213, 55, 176], [203, 240, 83, 25, 53, 19, 2234, 211, 3, 25, 183, 79, 10, 309, 2888, 26, 19, 240, 164, 254, 738, 68, 2, 299, 34, 199], [153, 69, 58, 8, 28, 20, 7, 60, 243, 4304, 89, 137, 4305, 51, 7, 96, 60, 4306, 55, 4307, 2235, 7, 69, 58, 2236, 43, 8, 19, 547, 20, 24, 39, 565, 48, 67, 25, 159, 128, 4308, 1163, 3], [90, 97, 10, 184, 79, 3], [12, 2237, 15, 4309, 34, 5, 15, 53, 19, 4310, 3, 36, 112, 1164, 16, 4, 4311], [171, 12, 13, 1639, 2, 445, 241, 13, 99, 33, 32, 870, 2889, 345, 105, 871, 76, 1165, 141, 26, 37, 35, 3, 91, 37, 3, 33, 25, 32, 870], [291, 50, 1, 48, 78, 416, 28, 5, 4312, 56, 1, 130, 109, 200, 2238, 72, 2, 1448, 18, 446, 265, 128, 24, 104, 667, 9, 28, 2890], [993, 93, 181, 3, 54, 45, 11, 2891, 260], [1, 82, 5, 1882, 180, 18, 11, 315], [184, 80, 6, 1068], [261, 431, 3, 7, 47, 112, 776, 48, 1, 60, 36, 1449, 2, 82, 35, 1166, 706, 2, 29, 184, 613, 25, 19, 30, 292, 2, 2239, 990, 26, 184], [115, 48, 1286, 34, 4313, 1, 36, 478, 2, 32, 183, 29, 16, 4, 124, 403, 932], [112, 1, 668, 2, 97, 3, 1, 68, 3, 1, 77, 3, 1, 933, 3, 24, 479, 15, 53, 1, 66, 3, 11, 368, 4314, 4315, 2892, 2240], [4316, 4317, 2893, 130, 39, 548, 2, 17, 3, 509, 13, 91, 2, 88, 247, 12, 4, 49, 193, 99, 49, 739, 105, 17, 22, 707, 12, 588, 150], [132, 21, 3, 872], [124, 1, 123, 3, 55, 13, 300, 111, 4318, 1, 61, 42, 41, 1883], [37, 464, 495, 496, 464], [287, 3, 31, 4319, 180, 4320, 8, 1167], [2241, 428, 184, 72, 18], [153, 1640, 35, 1641, 221, 29, 14, 1, 214, 383, 151, 208, 4, 293], [6, 95, 54, 47, 4321, 1, 61, 1, 287, 218, 68, 2, 48, 2, 5, 994, 1, 1287, 777, 1161, 30, 25, 4, 1642, 4322, 2894, 21, 12, 1642, 4323], [52, 3, 4324, 79, 10, 207, 63, 3, 510, 10, 8, 285], [4, 2242, 1450, 2243, 55, 42, 41, 4, 332, 2895, 9, 4325, 461, 7, 934, 3, 819, 4, 778, 638, 2242, 12, 42, 41], [90, 1451, 254, 121, 4, 1643, 364, 150, 177, 24, 417, 4326, 28, 88, 222, 220], [873, 1, 294, 2244, 19, 3, 211, 23, 1884, 76, 13, 4327, 1, 273, 3, 1288, 14, 465, 1, 60, 159, 5, 286, 1, 214, 7, 3, 232, 1885, 23, 139, 79, 5, 4328, 30, 101, 1, 287, 7, 95, 16, 133, 2, 135, 30, 101, 1, 4329, 30, 101, 13, 367, 60, 23, 4330], [247, 874, 2896, 5, 103, 4331, 4332, 7, 5, 2897, 995, 4333, 353, 1069, 2898, 935, 26, 4334, 318, 91, 318, 2896], [29, 3, 54, 52, 4335, 4336, 112, 525, 167, 51, 22, 42, 1886, 41], [669, 122, 274, 288, 1168, 875, 12, 20, 9, 566, 17, 2245, 22, 136, 2246, 243, 2247, 2248, 820, 53, 44, 49, 1644, 1452, 1453, 1645, 92, 175, 51], [101, 93, 17, 131, 8, 316], [97, 125, 3, 1070], [141, 4337, 7, 4338, 51, 15, 2899, 1887], [13, 223, 16, 2, 205, 43, 4, 122, 2249, 12, 549, 18, 13, 138, 78, 1, 221, 218, 996, 497, 9, 2900, 10], [704, 704, 704, 57, 1454, 708, 21, 1169, 4339], [62, 4, 418, 15, 936, 1888], [101, 11, 2250, 614, 1071, 14, 50, 35, 1, 59, 76, 22], [50, 323, 1, 567, 325, 460, 86, 511, 2251, 148, 69, 165, 1289, 821, 243, 1072, 69, 165, 33, 821, 459, 1, 416, 228], [74, 4, 927, 239, 1, 61, 1455, 2, 2252, 3, 19, 1290, 2253, 1456, 15, 13, 512, 37, 3, 21, 346, 34, 4, 2254, 589, 149, 17, 2901], [87, 9, 997, 4340, 65, 224, 997, 33, 6, 4341, 12, 10, 71, 40, 2, 53, 38, 2902, 876, 24, 207, 1170, 10], [186, 38, 346, 4, 877, 568, 2, 2903, 2904, 2905, 2906, 26, 384, 2, 126, 73, 466, 2, 1870, 268, 275, 343, 237, 2907, 2908, 419, 2909, 2910], [112, 3, 385, 79, 5, 103, 2911, 4342, 14, 615, 34, 53, 15, 4343, 283], [1, 2255, 2, 135, 18, 40, 345, 318], [1889, 670, 300, 56, 27, 998, 215, 822], [616, 285, 125, 21, 3], [98, 168, 161, 28, 78, 22, 326, 29, 190, 671], [90, 90, 125, 21, 3, 47, 112, 3, 4344], [6, 27, 17, 10, 22], [1, 61, 251, 1890, 17, 10, 369, 3, 49], [310, 301, 1, 61, 4, 2256, 7, 33, 702, 3, 34, 2257, 7, 1646], [1, 55, 3, 4345, 178, 116, 24, 61, 178, 2258, 432], [382, 25, 4346, 160, 42, 41, 26, 52], [62, 25, 5, 262, 108, 83, 433, 12, 4, 317, 47, 116, 29, 4347, 2912, 67], [101, 93, 17, 131], [90, 112, 3, 17, 10, 36, 22, 347], [50, 1, 61, 18, 5, 138, 2, 78, 98, 98], [3, 33, 32, 8, 5, 222, 15, 19, 300], [291, 206, 84], [1, 17, 3, 131, 95, 16, 427, 35, 1891, 247, 10], [12, 333, 45, 6, 259, 18, 319, 1, 64, 77, 20, 133, 999, 7, 75, 133, 2913, 7, 30, 260, 1, 148, 740, 53, 11, 4348], [141, 1, 639, 2, 71, 2259, 2, 134, 14, 24, 497, 480, 85, 23, 30, 85, 8, 386, 567, 1892, 28, 5, 4349, 128, 1, 878, 155, 8, 53, 11, 2914], [30, 158, 25, 43, 2, 14, 83, 220, 168], [2915, 1457, 1000, 823, 59, 569, 38, 49], [153, 29, 1458, 1171, 2, 672, 637, 4350, 1067, 190], [101, 2, 32, 4, 497, 9, 14, 50, 35, 39, 163, 334, 117, 1, 1172, 229, 447, 8, 4351, 7, 19, 513, 1, 550, 260, 102, 15, 289, 4352, 7, 19, 4353, 53, 11, 63, 2260, 7, 19, 101], [295, 8, 1291, 295, 8, 497, 295, 45, 1173, 2916, 55, 1073, 295, 45, 2261, 1292, 6, 295, 1893, 225, 83, 1174, 2, 82, 6, 709], [105, 17, 88, 239, 233, 1175, 18, 879, 2917, 2918, 481, 1293, 1894, 74, 3, 16, 187, 4, 276, 384, 155, 26, 617, 149], [514, 1176, 2, 201, 131, 1, 325, 148, 2262, 64, 58, 1647, 498, 8, 146, 447, 6, 298, 147, 148], [13, 49, 445, 9, 251, 2, 32, 2263, 1459, 70, 5, 1294, 2264, 2, 2919, 2, 2265, 31, 2920, 7, 2921, 1895], [380, 2922, 570, 140, 482, 6], [1, 82, 45, 39, 298, 39, 16, 937, 15, 2923, 2, 401], [98, 335, 106, 50, 18, 2266, 22, 141, 18, 12, 4, 293, 15, 4, 526, 420, 19, 1, 16, 4354, 1896, 28, 2267, 23, 77, 2, 31, 78, 89, 938, 4355, 382, 19, 640, 741, 12, 6, 2924], [105, 95, 70, 10, 1159, 1, 16, 327, 515, 2, 152], [467, 284, 38, 527, 74, 302, 74, 62, 1897, 569, 27, 1, 205, 169, 43, 289, 6, 1177, 254, 4356, 671], [30, 83, 433, 12, 4, 315, 2, 201, 7, 16, 25, 710, 4357, 551, 552, 263], [873, 255, 156, 1, 287, 590, 2, 29, 19, 1, 336, 369, 1, 1001, 43, 18, 1648, 1074, 7, 1295, 11, 673, 2925, 2, 1898, 190, 1295, 1296, 18, 11, 4358, 1297, 14, 83, 483, 1648], [1178, 11, 166, 7, 2268, 1178, 66, 3, 337, 118], [171, 4, 337, 12, 13, 1649, 18, 11, 434, 171, 3, 12, 528, 11, 434, 1899, 4359], [370, 93, 742, 3, 43, 45, 1, 31, 110, 155], [47, 172, 11, 4360, 571, 552, 19, 1900, 11, 880, 939, 4, 4361, 4362], [1, 54, 4363, 591, 277, 11, 881, 60, 55, 3, 296, 25, 32, 4364, 56, 200, 1, 61, 232, 5, 75, 2, 353, 2269], [92, 516, 1, 336, 417, 572], [52, 9, 5, 4365, 15, 5, 2926, 1901], [72, 12, 344, 130, 3, 160], [30, 50, 460, 14, 173, 1, 55, 20, 271, 103, 248, 24, 1, 1650, 6, 236, 55, 824, 173, 6, 165, 25, 128, 2270], [2927, 39, 21, 292, 2, 194, 3, 174, 1179, 290, 348, 19, 3, 187, 4, 384, 149, 276, 17, 2928, 126, 400, 2271, 506, 674, 64, 371], [2272, 38, 4366, 2929, 178, 4367, 435, 30, 267, 128, 499, 1902, 30, 1298, 128, 116, 89, 2930, 18, 1180, 256, 23, 2273, 288, 711], [74, 1, 1181, 11, 2931, 11, 432, 165, 825, 139, 1651, 1460, 825, 1, 1002, 288, 96, 1299, 10, 44, 314, 160, 314, 96, 1075, 10, 2, 104, 1652, 39, 234, 67], [3, 21, 4, 734, 6, 16, 106, 1076, 444, 20, 342, 384, 26, 4, 44, 280, 1461, 1182, 378, 2, 4, 299, 779, 20, 126, 4368, 195, 268], [2932, 141, 39, 484, 378, 743, 1880, 2933, 4369, 12, 2934, 1903], [780, 11, 882, 36, 1462, 10, 19, 417, 1183, 5, 485, 1463, 23, 115, 201, 553], [641, 13, 1184, 338, 675, 12, 2935, 348, 1904, 1905, 589, 592, 2, 126, 17, 2936, 712, 400, 2274, 676], [186, 13, 99, 37, 60, 346, 618, 589, 826, 149, 18, 216, 426, 827, 40, 9, 88, 633, 271, 2, 194, 6, 17, 46, 387, 4370, 4371, 371], [108, 9, 11, 103, 571, 4372, 4373, 53, 19, 4374], [593, 1653, 828, 1077, 4375, 21, 444, 2, 342, 4, 2937, 468, 35, 3, 16, 4, 940, 105, 17, 1464, 1654, 126, 400, 4376, 1465, 1003, 1466], [1, 61, 72, 2, 4377, 781, 87, 33, 32, 260, 64, 28, 928], [252, 4378, 140, 63, 109, 2275, 298, 1078], [57, 283, 33, 29], [36, 23, 19, 3, 54, 1906, 1907, 196, 215, 263, 1, 36, 196, 104, 4, 70, 25, 2, 1300, 883, 23, 62, 192, 3, 92, 16, 2, 4379, 549, 8, 184, 1, 1655, 16, 4380, 184, 18, 3, 8, 5, 207, 222, 23, 12, 19, 1, 2276], [21, 3, 67, 8, 367], [120, 388, 47, 81, 6, 123, 6, 81, 111, 10, 127, 1004, 81, 1185, 200, 302, 63, 37, 136, 135, 10, 4, 17, 2938, 63, 46, 4381], [90, 90, 47, 116, 382, 14, 366], [30, 78], [118, 33, 17, 4382, 115, 4383], [207, 619, 11, 561], [1301, 829, 818, 1656, 185, 4, 594, 1079, 1302, 782, 35, 6, 54, 224, 1467, 5, 4384, 9, 8, 73, 2277, 2, 1468, 343, 237, 1303, 2278], [68, 20, 31, 1657, 220, 68, 333, 941, 1658, 196, 884, 20, 38, 512, 469, 5, 1469, 1908, 941, 427, 389, 1005, 4385, 2, 2939, 713, 1659, 2940, 130, 191], [1, 64, 529, 2941, 144, 1304, 4386, 209], [69, 9, 67, 3, 17, 7, 163, 129], [37, 37, 1, 33, 325, 53, 1909, 2279, 2280], [783, 25, 2872, 102, 133, 677, 46, 5, 244, 4387, 12, 49, 2281, 642, 70, 48, 2, 4388, 35, 6, 31, 327, 6, 484, 830, 2265, 34, 784, 427, 271, 200], [58, 136, 1, 1080, 2, 744, 1, 420, 109, 8, 1081, 1, 510, 4, 2942, 24, 55, 25, 243, 228], [90, 70, 10, 45, 255, 18, 5, 138], [339, 251, 12, 13, 470], [4, 1305, 273, 4389, 31, 885, 15, 159, 421, 248, 44, 1082, 1470, 595, 2943, 448, 421, 248, 2944, 145, 2282, 418, 8, 831, 2945, 257, 785], [1, 54, 3, 21, 27, 3, 115, 678, 5, 85], [141, 82, 226, 25, 18, 5, 2283], [786, 5, 2284, 284, 132, 9, 643, 285, 12, 199], [771, 164, 550, 3, 1471, 2, 11, 70, 30, 2946, 500, 2285, 7, 299, 1472, 404, 2, 385, 46, 6, 1910, 714, 2947, 238, 130, 91, 84, 2, 318], [4390, 33, 17, 160, 325, 8, 88, 166, 33, 1660, 46, 1473, 23, 115, 1006, 178, 745], [90, 1, 1911, 11, 194, 19, 164], [4391, 58, 317, 8, 2286, 2287], [5, 942, 9, 2948, 7, 30, 1, 16, 4392], [291, 1, 264, 1275, 9, 296, 173, 37, 77, 20, 48, 231, 20, 2949, 824], [50, 38, 4393, 91], [3, 21, 2950, 4394, 18, 5, 2288, 5, 2951, 218, 18, 11, 1661, 7, 1186, 45, 1, 678, 11, 2952, 3, 21, 53, 19, 615, 2948, 51, 1, 943, 15, 11, 375, 449, 3, 56, 332, 11, 4395, 21, 51, 128, 4, 63, 15, 2289, 12, 10, 679, 15, 390, 348, 1, 391, 82, 24, 1, 336, 55, 53, 248, 3, 36, 484, 4396, 55, 1073, 4397, 7, 4398, 7, 45, 11, 63, 108, 9, 260, 3, 7, 1, 1474, 75], [4399, 21, 3, 28, 147], [30, 620, 11, 297, 22], [261, 11, 66, 52, 21, 3, 159, 112, 3, 31, 2, 19, 1912, 87, 21, 3, 3, 139, 21, 3, 309, 4, 57, 392, 29, 3, 100, 15, 10, 21, 3, 450, 10], [239, 233, 4400, 3, 16, 4, 103, 517, 588, 251, 12, 3, 105, 17, 4401, 22, 2, 1475, 588], [3, 21, 4, 734, 6, 16, 106, 1076, 444, 20, 342, 384, 155, 26, 4, 44, 280, 1461, 1182, 378, 2, 4, 299, 779, 20, 126, 2953], [197, 549, 944, 12, 10, 328, 1, 77, 3, 7, 1, 175, 3, 148, 7, 1, 4402, 644, 19, 4403, 3, 8, 333, 166], [103, 315, 7, 297, 12, 11, 886, 1, 16, 64, 103, 317, 8, 887], [30, 23, 8, 66, 34, 3, 30, 4404, 715, 65, 1, 1007, 34, 3, 3, 134, 10, 23, 139], [115, 84, 2954, 4405, 832, 9, 1476, 3, 2, 32, 104, 269, 91, 141, 1662, 26, 37, 1662, 82, 104, 154, 247, 874, 6, 2954, 84, 71, 84, 746, 2, 1477], [4406, 38, 573, 9, 18, 5, 138, 6, 142, 342, 4, 233, 130, 20, 823, 38, 747, 35, 6, 29, 25, 1187, 988, 4407, 390, 18, 38, 99, 1306, 233, 1307], [1, 222, 53, 38, 592, 18, 146, 4408, 2955, 148], [186, 39, 21, 292, 2, 194, 3, 174, 1179, 290, 348, 19, 3, 16, 187, 4, 1277, 149, 276, 17, 4409, 126, 400, 4410, 506, 674, 64], [98, 746, 224, 9, 286, 138, 2, 2956, 4411, 748, 88, 2957, 4412], [124, 1913, 1, 787, 5, 4413, 24, 716, 104, 4414, 82, 3, 613], [141, 14, 1188, 8, 51, 15, 4415, 4416, 182, 4417, 1478], [339, 1, 77, 4418, 788, 338, 37, 7, 788, 571], [833, 264, 183, 58, 63, 2, 1308, 545, 226, 27, 48, 44, 49, 482, 945, 17, 6, 2, 1663, 340], [52, 63, 3, 258, 231, 131], [1914, 1309, 230, 596, 3, 420, 11, 4419, 888, 303, 135, 6, 4, 4420, 62, 2290, 7, 4421, 34, 436], [111, 30, 223, 298, 11, 946, 22, 16, 4, 57, 267, 117], [181, 10, 54, 45, 789, 58, 5, 215, 23, 717, 27, 134, 5, 17], [6, 83, 72, 2, 5, 2291], [1479, 51, 11, 266, 21, 1083, 12, 5, 778, 498, 7, 565, 32, 85, 530, 42, 41, 23, 213, 49, 2, 48, 1286, 7, 680, 19, 42, 41, 749], [70, 104, 35, 96, 1084, 91, 181, 10, 54, 23, 1, 27, 16, 104, 790, 8], [98, 3, 36, 1664, 2, 2958, 243, 2292, 55, 2, 54, 35, 3, 211, 2959, 34, 5, 1310, 91, 2960, 49, 34, 141, 26, 37], [3, 4422, 11, 4423, 34, 5, 372, 15, 215, 1, 61, 8, 77, 1085, 45, 5, 318, 15, 5, 345, 4424, 7, 14, 1292, 11, 1086, 1915, 16, 4, 645, 403], [176, 37, 6, 27, 1087, 10], [50, 1, 61, 4, 2256, 7, 33, 702, 3, 34, 2257, 7, 1646], [69, 33, 3, 359, 672], [72, 18, 327, 124, 1480], [261, 4425, 21, 3, 4426, 19, 317, 25, 309, 1080, 437, 1311, 259, 85, 19, 524, 12, 2293, 1189, 11, 718, 22, 382, 69, 175, 10], [256, 621, 32, 67, 8, 4, 646], [105, 17, 88, 239, 233, 1175, 18, 1481, 2961, 2962, 2963, 481, 2294, 2964, 74, 3, 16, 187, 4, 276, 384, 155, 26, 617, 149], [16, 3, 58, 471, 1916, 494, 35, 25, 1, 33, 31, 14, 22], [1, 354, 1070, 78, 1, 48, 1008, 207, 24, 11, 681, 1088, 524, 97, 6, 45, 96, 2295, 90], [21, 3, 1917, 428, 167, 51, 46, 4427, 2296, 154, 4428, 281, 241], [30, 101, 198, 1190, 5, 4429, 15, 277, 19, 92, 197, 8, 682, 3, 590, 4, 124, 1089, 2, 10, 3, 16, 106, 4, 269, 28, 53, 494, 218, 28, 124, 1482, 366, 29, 16, 4, 124, 114], [98, 791, 1, 2965, 5, 834], [14, 33, 84, 18, 1090, 1, 1191, 2297, 96, 2966, 34, 225, 19, 33, 32, 486, 2, 135, 4430, 12, 188, 4431], [47, 21, 3, 159, 123, 789, 2298, 8, 12, 5, 103, 485, 274, 36, 4432, 3, 4, 645, 65], [257, 947, 118, 501, 4, 228, 65], [112, 6, 58, 19, 1470, 683], [9, 13, 2967, 1091, 120, 23, 451, 1, 163, 3, 28, 4433, 948, 1092], [98, 62, 949, 47, 9, 13, 452, 1, 123, 1, 27, 82, 3, 150, 12, 4, 293, 24, 1, 16, 2, 1914, 4434, 73, 85, 35, 6, 27, 377], [684, 14, 4435, 42, 41, 125, 3, 28], [1, 196, 3, 42, 41, 1312], [261, 750, 1093, 616, 719, 22, 23, 73, 10, 45, 6, 298, 35, 6, 27, 66, 949, 377], [13, 338, 121, 106, 4436, 2968, 76, 4437, 42, 531, 41, 13, 4438, 4439, 338, 889, 9, 835, 42, 531, 41, 13, 1918, 574, 9, 4440, 42, 41], [751, 647, 4441], [6, 17, 10, 4442, 28, 703, 50], [252, 152, 459, 55, 349, 1, 236, 201, 2969, 532, 1665, 752, 323], [370, 319, 4443, 1483, 4444], [3, 105, 135, 199, 1666, 87, 1090, 202, 42, 531, 41, 26, 4445, 5, 1009], [575, 1, 1919, 341, 937, 23, 31, 311], [554, 43, 2970, 123, 3, 137, 4, 124, 685, 29, 16, 4, 2971, 950], [78, 23, 39, 27, 232, 244], [90, 90, 57, 1010, 111], [291, 47, 109, 597, 422], [686, 124, 21, 3, 78, 22], [791, 5, 940, 2972, 1311, 290, 74, 13, 4446], [885, 1, 550, 1192, 111, 5, 1313, 304, 1484], [438, 347, 1667, 58, 444, 513, 62, 57], [1, 16, 2, 94, 951, 34, 890, 162], [153, 3, 142, 1, 100, 3, 27, 279, 13, 41, 1668, 22, 2, 2299, 25, 183, 24, 35, 463, 435, 1, 27, 250, 181, 10, 54, 24, 45, 3, 29, 32, 183, 3, 21, 311], [50, 37, 741, 94, 38, 63], [67, 9, 2973, 393, 4447, 224, 33, 526, 449, 2974, 8, 745, 4448, 3, 27, 279, 19, 2973, 2, 1276, 5, 487, 1920, 8, 1485, 7, 135, 14, 2, 2975, 533], [101, 93, 17, 131], [6, 152, 422, 15, 834, 327, 598, 323, 25, 152, 243, 1669, 354, 4, 293, 64, 80, 1, 264, 146, 555, 4449, 25, 23, 228, 422], [534, 103, 987, 46, 1184, 484, 48, 73, 193, 2, 37, 2300, 472, 566, 87, 46, 64, 343, 154, 44, 792, 1314, 1670, 2301, 2302, 2303], [172, 158, 1315, 35, 3, 17, 10, 36, 77, 225, 2, 282, 2], [33, 6, 163, 38, 943, 1671, 219, 9, 38, 2304, 217, 20, 4, 4450, 355, 20, 167, 51, 49, 73, 2976, 1921, 76, 38, 2977, 1193, 146, 502, 2976, 4451], [120, 720, 4452, 423, 4453], [166, 9, 133, 4454, 329, 2305, 952, 2305, 1922, 667, 170, 56, 2978, 951, 24, 166, 207, 2978, 951, 170, 56, 1922, 1094, 139, 177], [118, 57, 177, 22, 64, 1, 61, 43], [31, 231, 8, 4455, 7, 622, 2, 1923, 821, 1194, 156, 836, 42, 41, 1095, 1194, 7, 1879, 28, 207, 156], [118, 39, 21, 72, 2, 88, 4456, 222], [101, 1316, 1486, 153, 30, 108], [141, 108, 390, 9, 232, 632, 8, 147, 222], [70, 163, 225, 500, 87, 6, 27, 167, 4, 564, 26, 218, 1317, 62, 43, 2, 6, 469, 44, 36, 518, 91, 34, 284, 830, 930, 1924, 1318, 268, 130, 1925, 4457, 2306], [1, 16, 2979, 14, 119, 23, 42, 41, 59, 2980], [26, 303, 32, 4, 421, 1926, 55, 28, 5, 430, 84, 18, 5, 262, 1095], [125, 21, 3, 45, 648, 3, 405, 108], [103, 2307, 1927, 1928, 145, 1169, 24, 2981, 5, 330, 23, 92, 2308, 34, 38, 266, 36, 1319, 169, 170, 152, 30, 232, 935], [6, 2982, 16, 4, 753, 1011, 132, 9, 433, 20, 134, 194, 34, 6, 167, 51, 132, 107, 81, 891, 132, 793, 38, 23, 288, 17, 18, 2983], [2309, 633, 4458, 18, 11, 892, 794, 23, 1, 230], [4459, 795, 10, 243, 2310, 260, 4460], [467, 37, 37, 36, 2984, 18, 19, 60, 796, 2, 32, 2985, 24, 19, 686, 296], [2986, 1, 253, 6, 349, 30, 360, 4461, 424, 4462, 22, 24, 1, 158, 55, 146, 373, 6, 1001, 173, 144, 837, 6, 394, 44, 439, 349, 1487, 260, 87, 30, 2311], [6, 95, 381, 19, 591, 2987], [128, 229, 1, 165, 1, 16, 5, 1488, 1, 287, 1, 16, 26, 92, 16, 5, 2312], [1, 473, 3, 2, 17, 129, 22, 50], [1489, 379, 2313, 8, 446, 2314], [14, 440, 147, 200, 119, 50, 1096, 56, 1, 391, 1672, 7, 16, 14, 311, 76, 5, 63, 3, 503, 43, 3, 21, 178, 2315, 496, 16, 4, 57, 117, 227], [754, 38, 346, 534, 15, 1097, 623, 26, 2316, 276, 49, 476, 20, 735, 818, 290, 73, 576, 2, 838, 1490, 154, 1098, 1929], [2317, 1320, 2988, 2989, 7, 2990, 2318, 797], [569, 38, 1082, 2991, 798, 721, 6, 1012, 94, 14, 1282, 595, 309, 798, 9, 145, 479, 1930, 89, 519, 138, 15, 1673, 1195, 2992, 189, 89, 404, 2993, 2994, 16, 228, 65, 86], [52, 3, 159, 47, 21, 3], [4463, 224, 9, 4464, 182, 7, 5, 2319, 720, 19, 722, 2995, 5, 249, 138, 9, 4465, 224, 722, 4, 114, 24, 45, 14, 934, 2, 2996, 3, 265, 16, 2, 4466, 4467, 2, 31, 13, 283], [30, 85, 1196, 54, 45, 255, 311], [95, 2997, 1931, 14, 2, 32, 260, 202, 3, 31, 85, 461, 328, 30, 36, 22, 2998, 51], [1932, 23, 2240, 168, 228, 2999, 2, 5, 3000], [125, 21, 3, 1321, 1, 77, 3], [39, 548, 2, 194, 3, 509, 13, 91, 2, 88, 372, 15, 4, 361, 1491, 649, 723, 2320, 278, 799, 70, 739, 91, 26, 17, 707, 22], [1637, 2321, 206, 2, 4, 2322, 45, 21, 3, 258, 8, 87, 29, 3, 100], [291], [435, 30, 72, 406, 18, 11, 953, 22, 173, 11, 681, 25, 260, 263, 236, 1099, 6, 340], [11, 37, 8, 4468, 4469, 599, 10, 35, 38, 208, 3001], [120, 1, 61, 158, 1322, 68, 2, 244, 26, 82, 10, 1492, 70, 556, 2, 3002, 70, 870, 28, 1645, 2, 650, 70, 84, 3002], [164, 3, 1493, 59, 34, 199], [262, 954, 425, 4, 568, 4470, 56], [25, 183, 263, 83, 292, 2, 31, 4, 797, 15, 129], [38, 445, 233, 121, 1295, 1318, 49, 1100, 48, 2, 4471, 209, 2, 724, 747, 22, 84, 73, 600, 84, 2, 4472, 191, 335, 4473, 423, 4474, 4475, 4476], [5, 4477, 1, 36, 137, 2, 823, 2323, 2324], [445, 600, 31, 5, 241, 1674, 3003, 18, 13, 99, 715, 114, 7, 724, 102, 594, 1323, 445, 40, 157, 9, 49, 15, 601], [59, 2, 781, 546, 2325, 51, 88, 4478, 1169], [117, 121, 1494, 12, 334, 65, 177, 121, 59, 8, 4, 288, 138, 265, 3, 295, 55, 5, 1495, 1675, 7, 1101, 13, 1102, 28, 5, 800, 800, 1933], [1324, 589, 288, 534, 666, 15, 3004, 1324, 623, 2, 32, 187, 36, 619, 44, 438, 1013, 353, 22, 71, 1324, 2, 687, 133, 772, 154, 3005, 333, 209], [926, 1, 336, 356, 74, 111, 94, 122, 315], [37, 4479, 11, 1676, 25, 258], [394], [97, 4480, 2, 4481, 210, 3006, 8, 5, 4482], [621, 93, 82, 3, 8, 4, 293], [36, 196, 14, 23, 52, 744, 15, 553, 29, 3, 55], [53, 260, 53, 2326, 8, 4483, 8, 602, 893, 263], [3, 58, 393, 4, 3007], [569, 6, 175, 225], [50, 1, 473, 12, 215, 47, 725], [688], [153, 1, 100, 11, 1103, 3008, 83, 1934, 51, 46, 174, 117, 35, 3, 31, 4484, 15, 1677, 181, 10, 54, 7, 93, 1935, 231], [90, 1, 356, 59, 76, 220, 56, 35, 11, 285, 651, 51, 364], [50], [98, 407, 161, 4485, 34, 11, 388, 269, 52, 81, 6, 43, 20, 135, 10, 4, 17, 8, 7, 441, 28, 78, 35, 310, 508, 26, 801, 10, 18, 40, 801, 22, 66, 3009, 377], [11, 166, 513, 4, 337, 2, 10, 25, 328, 1, 66, 11, 166, 24, 328, 1, 66, 5, 277, 8, 11, 166, 5, 375, 464, 169, 266, 1, 17, 169, 11, 375, 1104], [118, 408, 470, 1014, 572, 8, 5, 1095, 408, 523, 3, 1014, 248, 21, 433, 50, 4486, 4487, 4488, 4489, 24, 4, 57, 75, 8, 333, 1325], [120, 3, 253, 13, 284, 2, 2327, 347], [529, 6, 684, 129, 1, 213, 23, 1015, 86, 243, 1936, 60, 437], [993, 44, 58, 19, 293], [21, 3, 40, 116, 4490], [1, 1937, 1911, 5, 157, 4491, 105], [179, 99, 239, 3, 265, 22, 126, 13, 49, 365, 113, 2328, 4, 401, 48, 1326, 689, 12, 13, 1327, 17, 18, 2329, 3010, 3011, 372, 1016, 4492, 179, 634, 414], [1105, 144, 4, 1169, 125, 3, 48, 4493, 172, 32, 133, 4494], [577, 10, 3012, 10, 134, 10, 1938, 24, 8, 5, 318, 15, 11, 166, 45, 1, 955, 535, 197, 75, 1496, 18, 11, 4495, 7, 152, 1015, 1, 175, 6, 16, 4, 228, 65, 894], [1, 230, 205, 5, 113, 156, 22, 115, 71, 4, 157], [77, 4, 1197, 526, 613, 221, 596, 144, 19, 63, 15, 114, 148], [621, 1, 381, 5, 174, 63, 39, 58, 956, 1328, 12, 5, 207, 63, 34, 4496, 243], [350, 19, 9, 158, 3013, 7, 2330, 230, 1329, 12, 4, 638, 1939, 43, 12, 117, 51, 29, 6, 100, 67, 9, 1017, 1, 214, 3014, 12, 117, 998, 18, 3015], [119, 7, 76, 5, 138, 3, 29, 16, 133, 553, 8, 13, 4497, 68, 2, 48, 51, 12, 4, 1940, 220], [69, 9, 4, 4498, 3016], [247, 874, 3017, 564, 1106, 4499, 9, 1678, 436, 46, 4500, 4501, 4502, 325, 129, 51, 247, 874, 690, 4503, 44, 37, 3017, 1941, 71, 3018], [291, 46, 52, 1, 4504, 1, 100, 142, 32, 27, 536], [4505, 151, 35, 6, 954, 163, 43], [176, 141, 88, 691, 9, 1942, 18, 4, 3019, 640, 6, 565, 201, 283], [1679, 325, 51, 88, 2331, 1943, 15, 747, 652, 488, 2332, 1497, 7, 1498, 197, 13, 99, 2333, 7, 3020, 70, 988, 2, 3021], [125, 21, 5, 2334, 2335, 107, 1680, 18, 5, 4506], [87, 9, 1681, 65, 6, 1681, 10, 74, 665, 755, 1321, 4507, 4508, 4509, 4510, 4511, 4512, 4513, 3022, 4514, 4515, 37, 1170, 513, 3023], [100, 38, 1944, 185, 1107, 40, 114, 8, 88, 537, 829, 70, 353, 2, 4516, 22, 179, 305, 4517, 423, 362, 4518, 2336, 2337, 272, 4519, 237, 114], [69, 483, 1682, 135, 10, 4, 17, 45, 210, 2338, 58, 5, 215, 24, 19, 417, 1499, 1078, 202, 5, 318, 15, 5, 114], [98, 5, 138, 1, 60, 34, 6, 1108, 9, 5, 1018, 138, 40, 9, 5, 333, 10, 38, 1917, 1, 123, 1, 54, 6, 44, 5, 957, 15, 4520, 123, 6, 167, 489, 60, 839], [3, 490, 11, 65, 29, 16, 4, 124, 65, 128], [90, 90, 1683, 139, 1684], [833, 336, 39, 27, 48, 44, 1330, 89, 1198, 1331, 256, 409, 39, 27, 3024, 1198, 1331, 3025, 264, 58, 3026, 532, 420, 340], [25, 158, 538, 16, 37, 266, 30, 1945], [1685, 64, 137, 13, 99, 1199, 3, 21, 1278, 2, 523, 2, 5, 352, 562, 365, 99, 12, 49, 17, 5, 99, 523, 281, 49, 18, 1946], [1197, 1332, 1, 336], [1200, 840, 2, 3, 128, 168, 1, 66, 226, 1947], [120, 164, 92, 39, 36, 48, 373, 254, 1074, 7, 16, 314, 256], [1948, 6, 97, 1949, 161, 2339, 180, 4, 293, 4521, 173, 20, 3027, 501, 4522, 1313, 173, 107, 211, 602, 161, 83, 1950, 44, 122, 1019, 254], [19, 172, 32, 124, 603, 32, 28, 5, 4523, 214, 163, 18, 3028, 1194, 26, 1017, 33, 31, 8, 682, 192, 403, 88, 958, 94, 2340, 16, 4, 57, 114], [37, 351, 47, 21, 3, 159], [37, 464, 495, 496, 464], [98, 86, 47, 9, 5, 593, 285], [868, 152, 240, 4, 57, 1193, 24, 111, 3, 54, 11, 1500, 2341, 28, 1020, 2342], [301, 70, 10, 45, 255, 2321], [30, 1020, 5, 70, 1, 36, 196, 3, 62, 796, 2, 32, 4, 1454, 23, 802, 14, 8, 19, 803], [90, 90, 3029, 90, 57, 570], [383, 1, 214, 31, 536, 51, 613, 56, 1333, 14, 1021, 26, 190], [17, 2343, 12, 64, 122, 2306, 238, 646, 17, 46, 4, 1201, 312, 895, 1109, 143, 3030, 3031, 1951, 1951, 37, 3032, 884, 1109], [102, 320, 3, 356, 16, 137, 34, 10, 4524, 74, 219, 74, 3, 3033, 11, 3034, 76, 4525, 11, 113, 143, 46, 13, 4526, 3035, 25, 301, 28, 53, 105, 29, 25, 194, 10, 200, 26, 1, 33, 1501, 3, 2, 13, 2344], [1110, 65, 288, 185, 192, 384, 8, 88, 829, 7, 94, 13, 1671, 18, 5, 568, 15, 4, 2345, 71, 48, 2, 1952, 22, 191, 130, 1334, 1022, 1335], [1502, 4527, 1, 61, 78, 168, 21, 3, 83, 43], [301, 23, 47, 59, 3, 514, 106, 4528, 7, 4529, 202], [36, 647, 7, 2346], [101, 93, 17, 131], [6, 578, 10, 156, 17, 11, 887, 113], [50, 240, 124, 394, 4, 337], [1, 94, 14, 5, 624, 121, 59, 56, 3, 484, 16, 1953, 15, 453, 22, 139, 1020, 11, 75, 46, 1202, 261, 3036, 28, 5, 318, 9, 11, 2347, 2348, 129], [125, 6, 106, 4530, 2349], [61, 25, 1203, 2, 29, 55, 19], [11, 755, 2350, 442, 1204, 8, 2286, 2287, 525], [2351, 792, 1954, 72, 18], [466, 9, 1304, 1, 354, 510, 38, 470, 8, 794, 4531, 514, 196, 6, 11, 1503, 466, 9, 11, 1503], [75, 959, 4532, 351, 22], [787, 4, 4533, 1, 29, 1203, 4534, 209, 73, 4535, 3000, 2, 4536, 896, 366, 122, 237, 238, 130, 1490, 18, 1488, 254], [36, 936, 8, 18, 3, 158, 29, 175, 872, 4537, 29, 16, 4, 124, 345], [983, 221, 250, 3, 67, 198, 294, 137, 127, 4538], [35, 255, 25, 8, 11, 315, 8, 127, 441, 7, 4, 332, 30, 72, 4539], [87, 9, 101, 65, 35, 357, 1, 60, 798, 34, 3, 35, 357, 1, 3037, 26, 577, 3, 535, 535, 36, 2352, 1111, 952, 62, 38, 1205, 30, 1686, 57], [319, 3, 359, 357, 1023, 51, 47, 116, 39, 77, 12, 2353, 960, 7, 1, 21, 292, 2, 1023, 51, 47, 116, 39, 27, 4540, 1007, 18, 1112], [42, 41, 1504, 395, 60, 216, 395, 841, 1955], [429, 3, 12, 578, 420, 2, 152, 139, 4541, 2, 3, 4542, 1, 61, 267, 108, 7, 2354, 3, 45, 1, 961, 127, 1336, 330, 163, 3, 8, 1473, 2355, 1687, 1024, 962, 4543, 4544, 132, 1190, 3038, 3039], [754, 38, 346, 534, 15, 1097, 623, 26, 2316, 276, 49, 476, 20, 735, 818, 290, 73, 576, 2, 838, 1490, 154, 1098, 1929], [38, 155, 889, 9, 842, 534, 666, 2, 1337, 38, 155, 8, 22, 71, 155, 2, 687, 64, 191, 130, 1505, 4545, 1025, 804, 805, 653, 1026], [30, 127, 3016, 45, 1, 147, 1, 147, 8, 5, 452, 7, 227, 229, 465, 30, 3040, 28, 5, 1027, 1, 232, 227, 229, 45, 255, 3040, 188, 65, 9, 776], [261, 36, 58, 108, 963, 4546, 392, 62, 4, 302, 138, 62, 1338, 1, 33, 197, 3, 1506], [704, 704, 301, 301, 604, 604, 4547], [119, 50, 37, 741], [325, 4548, 3041, 156, 22], [572, 108, 292, 2, 298, 12, 103, 274, 1, 61, 433, 1339, 2, 791, 316, 3], [57, 447, 1301, 47, 4549, 19, 65, 21, 39, 4550, 7, 139, 2, 32, 2356, 29, 39, 3042, 8, 5, 1507, 7, 295, 1, 100, 15, 3, 11, 66, 74, 232], [111, 1, 54, 4551, 33, 94, 189, 15, 10, 23, 37, 1102], [523, 22, 471, 372, 352, 843, 1688, 193, 49, 1206, 567, 278, 1956, 73, 18, 443, 17, 756, 18, 806, 26, 964, 4552], [108, 9, 13, 1028, 400, 4553, 2, 84, 1957, 495, 91, 84, 154, 4554, 281, 241, 239, 642, 4555], [140, 4556, 8, 125, 31], [301, 70, 10, 45, 255, 311], [261, 11, 718, 1689, 1, 175, 3, 148, 7, 1, 36, 1029, 43, 1, 270, 3, 211, 108, 8, 386, 34, 10, 3043, 10, 1, 66, 3], [1, 33, 4557, 3, 8, 386, 74, 111], [30, 72, 12, 946, 33, 130, 3, 206, 42, 41, 195], [1, 230, 197, 844, 2, 277, 35, 61, 25, 183, 1, 27, 401, 169, 35, 107, 3044, 2, 527, 23, 115, 97, 10, 52, 3, 68, 2, 158, 201, 7, 47, 116, 3, 21, 1508, 2, 401], [171, 12, 13, 445, 573, 1207, 4558, 3, 33, 32, 870, 2357, 44, 238, 114, 3, 27, 650, 28, 723, 76, 578, 239, 642, 18, 4559], [27, 3, 152, 52, 598], [3, 214, 16, 897, 10, 1, 1690, 3045, 3, 424], [111, 463, 25, 4, 337, 15, 248, 1340, 8, 4560, 18, 103, 517, 1691, 110, 4561, 8, 2358, 7, 5, 800, 4562, 121, 190, 72], [197, 11, 4563, 67, 35, 4564, 1113], [1, 4565, 19, 2317, 339, 393, 10, 23, 64, 1, 247, 55, 19, 4566, 3046, 4567, 79, 845, 4568, 253, 87, 23, 64, 432, 92, 1208, 10], [1, 336, 240, 164, 3, 509, 991, 3, 484, 54, 19, 463, 4, 138, 5, 1692, 4569, 1090, 7, 30, 358, 183, 3, 1655, 516, 603, 94, 14, 965, 207, 5, 2359, 107, 33, 1693, 45, 13, 3047, 9, 56, 36, 1509, 327, 789, 165, 9, 4, 807, 2, 516, 24, 1, 391, 197, 18, 4570, 3, 43], [153, 183, 135, 10, 4, 846, 395, 2, 1500, 231, 11, 4571], [120, 235, 14, 25, 4, 341, 1089, 94, 189], [120, 1, 33, 32, 229, 347, 163, 3, 28, 4572], [567, 278, 7, 896, 44, 2360, 49, 1206, 18, 443, 632, 18, 1079, 193, 843, 898, 17, 756, 18, 806, 26, 964, 3048], [14, 614, 888, 4573, 162, 3049], [239, 222, 1, 33, 17, 3], [1030, 19, 63, 3, 92, 55, 415], [3050, 332, 527, 443, 312, 966, 352, 365, 898, 44, 49, 137, 13, 113, 1199, 17, 3051, 49, 18, 3052, 2, 523, 22, 3053], [291, 313, 11, 314, 2869, 22, 6, 324, 148], [605, 23, 229, 837, 344], [120, 23, 40, 410, 21, 39, 72, 12, 5, 1694, 1510, 64, 26, 5, 4574, 128], [177, 64, 1, 27, 50], [141, 1, 100, 23, 1, 61, 8, 411, 24, 11, 4575, 9, 8, 367, 1, 100, 310, 18, 12, 5, 174, 304, 306, 1, 440, 2361, 19, 231], [205, 3, 43, 757, 307, 3054, 52, 63, 21, 7, 19, 72], [46, 108, 160, 5, 4576, 468, 9, 4577, 188, 442, 345, 25, 12, 1695, 75, 345, 2362], [60, 396, 647, 7, 83, 356, 45, 6, 17, 85, 23, 4, 70, 9, 645, 3, 1114, 681, 33, 71, 6, 4, 70, 569, 1, 503], [3, 21, 232, 1511, 13, 2363, 51, 67, 3, 454, 1696, 15, 13, 899, 18, 1209, 3, 21, 75, 15, 5, 479, 678, 277, 198, 357, 961, 164, 172, 1, 100, 4, 2364, 15, 13, 367, 172, 577, 3, 134, 3, 213, 3033], [57, 452, 339, 1115, 3055, 4578, 3056, 4, 139, 636, 76, 5, 3057, 15, 363, 1, 58, 127, 372, 46, 3039, 3038, 7, 1, 1190, 123, 3, 21, 267, 3058, 1687, 163, 3, 1958, 1024, 4579, 46, 847], [833, 90, 24, 1, 68, 2, 579, 5, 3059, 2365, 86, 1, 326, 31, 1485, 3060, 26, 427, 3060], [49, 445, 70, 207, 2, 1959, 12, 4, 654, 26, 70, 31, 2, 1959, 12, 4, 519, 245, 250, 2329, 4580, 272, 160, 397, 49, 488, 21, 4581, 2, 4582, 73, 84], [118, 47, 9, 2366, 112, 3, 282, 2, 104], [5, 511, 1960, 121, 25, 106, 3061], [1512, 15, 240, 1340, 530, 3, 31, 108, 461], [1031, 5, 124, 3062, 471, 2367, 3063, 15, 42, 41, 1210, 8, 127, 441], [256, 31, 740, 2, 551, 2, 926, 300, 1, 54, 4, 337, 15, 4583], [53, 60, 111, 459, 3064, 4584, 285, 40, 625, 34, 11, 3065, 3066, 123, 65, 217, 50, 1197, 3067, 32, 57, 74, 221, 539, 229, 150, 262, 63, 222, 74, 232], [261, 57, 114, 787, 4, 655, 26, 190, 131], [2998, 1311, 4585], [157, 110, 70, 450, 2368, 284, 450, 143, 450, 196, 564, 450, 450, 6, 4, 337, 310, 289, 439, 9, 450, 196, 895, 1211, 209], [59, 76, 88, 367, 28, 110, 817, 23, 39, 27, 4586, 51, 5, 425, 12, 40, 403], [173, 1, 68, 14, 2, 32, 13, 212], [4587, 93, 48, 1697, 1698, 128, 39, 27, 2369, 545, 532, 48, 1275, 398, 48, 1092, 75, 2370, 2370, 2370], [491, 78, 110, 4588, 145], [735, 726, 233, 1320, 2371, 4589, 3068], [3069, 67, 92, 6, 68, 2, 227], [508, 1, 16, 4, 103, 2372, 22], [49, 476, 360, 88, 808, 537, 1699, 36, 70, 5, 331, 185, 2, 3070, 22, 268, 179, 136, 154, 3071, 281, 241], [508, 93, 656, 51, 8, 4, 304, 395, 70, 10, 125, 2, 163, 3], [71, 4, 1341, 20, 38, 1321, 20, 2373, 1190, 76, 4, 308, 73, 66, 3072, 3073, 3074, 930, 66, 3075, 626, 3076, 2, 1160, 1212, 1700, 3077, 44, 37, 3078, 191], [141, 46, 174, 114, 1090, 30, 643, 299, 17], [225, 121, 1701, 88, 726, 233, 7, 1181, 13, 113, 328, 107, 787, 3, 2, 167, 51, 132, 14, 9, 17, 46, 4, 387, 4590, 4591], [3079, 9, 8, 1702, 1213], [186, 13, 99, 143, 121, 106, 346, 34, 4, 618, 149, 276, 17, 4592, 46, 657, 312, 126, 1214, 506, 674, 64], [71, 40, 2, 38, 266, 7, 342, 190, 79, 38, 1032, 47, 9, 11, 3080, 3081, 122, 1930, 20, 1280, 162, 4593, 44, 4594, 216, 2374, 15, 4595, 275, 1669, 307, 2258, 455, 4596, 426, 1215, 42, 41, 2375, 42, 41, 1082, 91, 10], [50, 1703, 32, 50, 1, 336], [1704, 125, 21, 3, 118], [102, 497, 18, 4597, 102, 212, 515], [307, 28, 1961, 29, 109, 321, 1216, 10, 4, 1513, 173, 1, 58, 37, 315, 87], [1, 1705, 2, 201, 4, 3082, 315, 3083, 62, 1706, 186, 24, 1962, 4, 3084, 15, 42, 41, 1963, 67, 9, 37, 3085, 2, 3086, 466, 2376, 42, 41, 1963, 310, 11, 741], [28, 78, 380, 390, 80], [382, 96, 1450, 94, 1964, 758, 395, 2, 1707, 2, 4, 141, 26, 37, 561], [669, 193, 3087, 361, 365, 113, 9, 13, 17, 3088, 464, 366, 371, 1177, 17, 1965, 1514, 46, 987, 272, 672, 3089, 624, 3090, 1116, 1966], [1033, 1342, 12, 1684], [3, 632, 22, 30, 55, 156, 208, 4598, 170, 42, 41, 900], [5, 157, 196, 9, 1515, 12, 42, 41, 1708, 4599, 1, 401, 42, 41, 26, 42, 41], [151, 502, 26, 2377, 198, 253, 5, 683, 55, 901, 494, 148], [47, 302, 382, 3091, 758, 94], [98, 123, 6, 31, 40, 73, 1967, 4600, 106, 658, 22, 79, 237, 278, 229, 1, 100], [24, 1, 16, 2, 1, 55, 2, 16, 66, 7, 1475], [141, 69, 9, 158, 124, 4601, 253, 1489, 286, 4602, 160, 3092, 8, 375, 178, 1516, 2, 31, 51], [3, 211, 902, 2, 503, 10, 43, 41], [2378, 1, 510, 129, 128, 24, 1, 580, 69, 1217, 136, 10, 1, 684, 4, 1517, 340], [120, 120, 4603, 4604, 152, 39, 4605, 4606, 1968], [101, 11, 1316, 1486, 1, 27, 59, 76, 24, 30, 64, 259, 4, 2242, 12, 22, 1189, 13, 222], [111, 260, 4607, 4608, 153, 1, 1117, 381, 489, 19, 9, 780], [1, 379, 31, 4609, 118, 3, 54, 3, 21, 11, 321, 7, 439], [176, 16, 3, 490, 958, 12, 103, 517], [419, 195, 131, 90], [4610, 4611], [171, 12, 40, 123, 3, 137, 4, 57, 65, 87], [90, 90, 52, 21, 4612, 3, 68, 2, 2379, 1709, 37, 428], [50, 1, 33, 97, 104, 2, 539, 51, 153, 62, 106, 1516, 24, 39, 21, 4613, 248, 33, 3093, 40, 345], [1218, 12, 102, 2380, 627, 3094, 462, 3095, 2381, 848, 16, 3, 106, 3096, 2382, 39, 27, 83, 250, 17, 49, 879, 3097, 26, 70, 85, 2383], [1969, 1969, 1, 100, 303, 48, 134, 448, 3098, 3099], [416, 28, 3100, 1970, 4, 606, 1971, 1710, 7, 1, 55, 6, 4, 337, 1, 54, 6, 1711, 55, 10, 55, 19, 23, 1711, 516], [1, 123, 3, 240, 5, 1972, 15, 309, 4614, 1971, 7, 727, 355, 967, 129, 79, 4615, 4616, 7, 197, 13, 4617, 678, 7, 53, 5, 286, 1518], [122, 929, 19, 17, 366, 224, 1, 336, 1519, 399, 175, 226, 77, 226, 68, 226, 66, 226], [72, 1219, 4, 178, 1034, 557, 4618, 3101, 7, 3102, 43, 34, 5, 262, 9, 5, 262, 3103, 63, 33, 4619, 439, 1, 596], [125, 112, 6, 48, 11, 113, 9, 223, 955, 3, 16, 2, 539, 8, 108], [124, 294, 106, 296, 715, 65, 1712, 218, 133, 1973, 2, 429, 363], [4620, 443, 239, 3, 265, 22, 126, 13, 49, 365, 113, 2328, 12, 13, 1327, 17, 22, 18, 2384, 3104, 4621, 372, 1016, 3105, 2385, 179, 634, 414, 692, 51, 632], [101, 93, 17, 131, 50, 1480], [50, 1, 61, 18, 5, 138, 2, 2386], [124, 412, 1, 66, 1216, 7, 1974, 4622, 2387, 1520, 9, 11, 2388, 3106, 47, 79, 3, 1, 322, 528, 66, 42, 41, 494, 238, 117], [107, 95, 454, 19, 283, 18, 5, 2389, 2, 197, 14, 46, 259, 4623, 192, 67], [45, 21, 3, 72, 2, 1643, 13, 4624], [291, 37, 77, 93, 354, 203, 44, 146, 1073, 20, 84], [67, 21, 242, 720, 97, 10, 5, 3107], [4625, 118, 2390, 40, 9, 13, 633, 1343, 2, 472, 13, 44, 1344, 280, 26, 1975, 155, 468, 17, 3108, 46, 387, 1976, 581, 3109, 1977, 371], [47, 302, 121, 14, 106, 465, 3, 3110, 412], [327, 1, 796, 19, 369, 5, 215, 4626, 13, 338, 108, 5, 788, 33, 1035, 62, 1713, 376, 225, 2391, 42, 41, 2, 11, 338, 7, 42, 41, 1708, 58, 3111, 23, 5, 2392, 3112, 7, 1714, 182, 3112, 32, 183, 3, 1087, 5, 2393, 330, 3, 21, 883, 338, 474, 2, 173], [68, 20, 31, 1657, 220, 68, 333, 941, 1658, 196, 884, 20, 38, 512, 469, 5, 1469, 1908, 941, 427, 76, 1005, 1521, 2, 4627, 1659, 2940, 130, 191], [228, 312, 165, 76, 4, 3113, 308, 535, 95, 849, 122, 133, 494, 3114, 15, 10, 249, 3115, 369, 200, 1, 391, 1087, 6, 57, 3116], [50, 30, 223, 656, 43, 2, 926, 8, 55, 1964, 395], [66, 3, 1704, 66, 6, 337], [3117, 347, 52, 4628, 102, 351], [90, 27, 1, 205, 43, 334, 1345, 45, 255, 260], [4629, 3, 359, 259, 85, 502, 165, 3, 211, 628, 79, 25, 1083, 12, 4630], [819, 67, 82, 6, 8, 4, 1715], [319, 717, 4, 304, 266, 21, 148, 967, 10, 79, 3, 3, 437, 28, 53, 40, 403], [380, 390, 80], [429, 3, 407, 1, 230, 203, 2, 3118, 5, 333, 212], [3, 142, 579, 13, 1522, 2, 4631, 4632, 4633], [35, 39, 185, 62, 158, 37, 122, 836, 12, 302, 63], [49, 157, 1523, 13, 534, 49, 70, 495, 76, 1165, 2, 40, 157, 34, 5, 331, 49, 12, 1036, 1716, 759, 154, 3119, 209], [118, 1070, 2386, 52, 598, 2, 3], [1346, 18, 1323, 35, 3, 68, 5, 744, 1, 196, 2394, 4634, 4635, 56, 79, 275, 35, 3, 68, 4636, 383, 20], [1, 100, 198, 1201, 14, 27, 3, 71, 4, 552, 157], [101, 300, 11, 4637, 1978, 26, 1, 172, 35, 3, 68, 39, 214, 3120, 85, 332, 26, 1, 214, 201, 110, 350, 34, 11, 774, 689], [669, 122, 274, 288, 1168, 875, 12, 20, 9, 566, 17, 2245, 22, 136, 2246, 243, 2247, 2248, 820, 53, 44, 49, 1644, 1452, 1453, 1645, 92, 175, 51], [101, 8, 316, 93, 17, 131], [52, 285, 15, 42, 41, 4638], [21, 3, 49, 22, 27, 1, 17, 22], [58, 1118, 45], [760, 100, 1, 33, 48, 12, 14, 18, 968, 101, 1, 1471, 23, 229], [110, 15, 169, 253, 4639, 9, 25, 871, 9, 14, 519], [949, 4640, 3121, 2395, 202, 3122, 156], [118, 1, 16, 4641, 367], [1979, 34, 5, 375, 9, 438, 6, 582, 185, 26, 728, 389, 3123, 34, 1980, 132, 9, 672, 2, 6, 9, 3124, 35, 6, 728, 6, 728, 35, 6, 185, 6, 83, 728], [45, 27, 109, 59, 51], [325, 34, 4642], [4643, 1, 234, 46, 4, 2396, 2, 1037], [2397, 754, 8, 40, 1872, 1699, 290, 6, 16, 187, 5, 2398, 149, 2, 126, 36, 17, 3125, 3126, 179, 305, 84, 247, 3127, 192, 268, 64, 371], [37, 144, 251, 8, 146, 315, 3128, 540, 140, 173, 203, 761, 58, 327, 20, 29, 28, 78, 27, 29, 11, 283, 26, 373, 390, 140], [383, 4644, 26, 3129, 850, 1717, 5, 222, 1119, 11, 297], [3, 142, 54, 22, 23, 431, 3130, 21, 3, 1981, 215, 198, 485, 2399, 2, 401, 7, 1120, 7, 283, 55, 19, 310, 164, 1, 77, 13, 250, 4, 269, 8, 77], [554, 5, 4645], [13, 1220, 79, 10, 122, 192, 20, 1982, 162, 1983, 44, 1082, 216, 1121, 275, 1718, 1524, 307, 25, 1984, 455, 1719, 426, 693, 115, 91], [455, 28, 5, 352, 4646, 83, 67, 35, 3, 27, 3131, 43, 110, 4647, 7, 68, 2, 135, 5, 103, 4648, 4, 271], [1985, 30, 3132, 1347, 851, 308, 30, 3133], [176, 50, 13, 3134], [37, 1525, 579, 1526, 64], [3, 21, 276, 5, 352, 193, 113, 4, 1527, 969, 1348, 782, 26, 4, 627, 149, 73, 331, 472, 2, 37, 1720, 2400, 2401, 191, 1986], [204, 37, 1699, 12, 129], [4649, 488, 12, 191, 91, 654, 26, 2402, 930, 4650, 122, 1987, 1987, 3135, 20, 153, 162, 965, 4651, 275, 4652, 455, 59, 34, 10, 26, 84, 44, 133, 488, 73, 133], [13, 1100, 16, 106, 4653, 43, 12, 13, 3136, 1528, 9, 4654], [19, 138, 3137, 9, 1038, 4655, 329, 18, 410, 117, 76, 5, 138, 35, 6, 68, 2, 151, 89, 2, 469, 11, 1988, 213, 49, 24, 77, 2, 54, 3138, 3139, 74, 2403, 18, 762], [1450, 5, 330, 9, 4656, 240, 8, 1122, 24, 8, 4657, 107, 265, 36, 2404, 4658, 1, 391, 17, 3, 22], [24, 240, 18, 3140, 14, 356, 32, 1038, 2405], [408, 1, 59, 2, 31, 3141], [211, 223, 48, 31, 110, 3142], [240, 178, 2406, 3, 18, 1529], [186, 13, 99, 37, 60, 346, 4, 852, 462, 589, 826, 149, 18, 1221, 2407, 827, 40, 9, 88, 446, 520, 2, 194, 3, 17, 2408, 3143, 4659, 2409], [98, 1, 565, 180, 545, 44, 840, 24, 29, 322, 89, 1200, 4660], [1530, 372, 126, 38, 1222, 749, 15, 1028, 623, 70, 141, 2, 1531, 22, 853, 1349, 903, 99, 179, 305, 3144, 854, 1123, 1223, 272, 1721, 91, 254], [141, 47, 9, 4, 763, 1532, 55, 3, 1224], [3, 33, 4661, 13, 245, 970, 5, 206, 3145, 12, 1036, 7, 1716, 105, 82, 3146, 6, 4662, 1989, 649], [960, 483, 19, 255, 4, 567, 4663], [641, 13, 855, 338, 675, 12, 4664, 348, 856, 857, 904, 204, 1, 436, 592, 17, 3147, 712, 400, 4665, 676, 268, 703, 905], [52, 87, 773, 773, 9, 280, 23, 37, 147], [2351, 792, 1954, 72, 18], [93, 32, 229], [198, 25, 393, 3, 8, 4, 475, 40, 9, 1039, 14, 60, 1533, 1350, 7, 19, 3, 54, 19, 39, 175, 3, 359, 1, 175, 4666, 341, 23, 115, 135, 104, 11, 66, 1085, 16, 4, 124, 65], [57, 447, 11, 66, 47, 477, 19, 65, 1, 123, 383, 3, 58, 110, 4667, 18, 4, 317, 1, 100, 15, 3, 718, 7, 71, 3, 4, 1990, 413, 46, 1040, 5, 809], [374, 223, 32, 108, 12, 4, 475, 82, 3, 131, 220, 42], [26, 383, 11, 1351, 1352, 36, 985, 53, 583, 4668, 7, 14, 738, 54, 52, 2, 29], [3148, 242, 242, 139, 1991, 15, 145, 65, 11, 118, 368, 308, 139, 434, 118], [1, 61, 8, 2410, 86, 369, 3, 639, 46, 411, 17, 10], [46, 154, 4669, 209, 4670, 1225, 130, 4671, 345, 179, 4672, 3149, 1124, 3150, 73, 84], [4, 4673, 1992, 45, 3, 3151, 5, 3152, 2, 810, 2, 4674, 4675, 449, 1993, 13, 4676, 26, 1353, 2411, 14, 513, 3, 21, 4677], [24, 61, 72, 2, 719, 432, 52, 2, 29, 21, 515, 303, 59, 67, 14, 1353, 432], [44, 4678, 28, 694, 36, 2, 4679, 51, 4, 1713, 425], [40, 388, 382, 25, 539, 8, 386, 40, 388, 738, 77, 3153, 63, 574, 1354, 875, 51, 475, 313, 415, 56, 32, 4680, 43, 8, 386], [56, 102, 288, 67], [1, 54, 24, 3, 77, 2, 31, 1355, 22, 1, 36, 58, 11, 4681, 24, 1, 137, 2, 2276, 4682, 9, 2, 368, 12, 10, 2, 59, 2, 110, 1722, 4683, 4684], [101, 19, 614, 23, 302, 1356, 22], [203, 42, 41, 195], [50, 135, 10, 216, 395, 1, 100, 1, 82, 104, 1723, 255, 11, 4685, 3, 211, 3154, 11, 511, 5, 778, 63], [1329, 3, 791, 31, 2, 4686, 360, 19, 946, 160, 1, 16, 454, 3, 906, 13, 4687, 383, 218, 313, 3, 324, 10, 12, 4, 475, 202, 1, 402, 24, 182, 1329, 5, 213, 15, 19, 4688, 18, 13, 2412, 4689, 76, 5, 946, 1037, 3155, 3, 232, 132, 3156, 3, 322, 11, 4690], [1357, 43, 198, 106, 1112, 4691, 12, 55, 1994, 306], [183, 35, 1, 31, 127, 4692, 46, 3, 19, 144, 4693, 4694, 7, 2413, 3157, 2, 3158, 4, 1226, 4695, 3159], [50, 188, 117, 94, 4, 1041, 946, 655, 4, 1158, 15, 1995, 7, 783, 82, 4, 147, 15, 4696, 3, 83, 77, 2, 3160, 1180, 36, 23, 19, 3, 54], [1996, 16, 4, 416, 28, 5, 2233, 3161, 8, 794, 2414, 1125, 26, 4, 536, 3162, 37, 2415, 4697, 4, 2233, 3161, 4698, 2416, 2, 32, 4, 536], [811, 111, 4699, 4700, 4701, 4702, 9, 55, 1997, 4703], [313, 314, 3, 21, 25, 8, 541, 164], [1, 54, 19, 11, 269, 148, 253, 19], [98, 412, 429, 3, 12, 5, 695, 3, 21, 178, 763, 47, 21, 3], [1534, 6, 232, 136, 88, 962, 75, 1, 409, 482, 4704, 96, 4705, 91, 207, 63, 6, 91, 23, 729, 289, 23, 670, 25, 1227, 605, 58, 4706, 76, 38, 4707, 347, 1358], [98, 130, 10, 30, 8, 411], [394, 44, 146, 4708, 144, 243, 228], [3163, 1, 66, 3, 23, 116, 1, 27, 1535, 1171, 14], [2927, 39, 21, 292, 2, 194, 3, 174, 1179, 290, 348, 19, 3, 187, 4, 384, 149, 276, 17, 2928, 126, 400, 2271, 506, 674, 64, 371], [456, 168, 1, 175, 3, 148, 3, 54, 221, 3, 181, 10, 71, 3, 110, 215, 1311, 13, 524, 1, 77, 3, 1, 68, 3, 1, 933, 3], [303, 17, 6, 1724, 28, 4709, 34, 11, 571, 19, 4710, 2417, 4711, 379, 84, 2418, 10, 20, 399, 3164, 90, 869], [3165, 386, 4712, 3166, 52, 21, 3, 628, 15], [23, 1915, 3, 27, 36, 48, 2, 13, 907, 26, 696, 11, 66, 1725, 1, 123, 13, 50, 7, 313, 4, 57, 65, 168, 1, 175, 3, 23, 116, 148], [66, 14, 1228, 33, 134, 3, 1536, 34, 1291, 1, 61, 72, 2, 2352, 13, 899, 34, 11, 2419], [489, 6, 326, 29, 56, 4713], [858, 80, 203, 44, 11, 730, 20, 298, 558, 56, 16, 314, 80, 1, 778, 177, 539, 28, 78, 1042, 11, 367, 22, 11, 367, 358, 1042, 822], [29, 3, 54, 125, 11, 1998, 4714, 234], [27, 3, 678, 5, 1229], [251, 12, 13, 17], [760, 1, 251, 8, 558, 44, 1228], [3, 16, 187, 122, 462, 155, 26, 4, 20, 462, 149, 2, 126, 3167], [30, 885, 15, 4715, 34, 3, 79, 40, 114, 160, 114, 29, 52, 3, 68, 7, 46, 22, 18, 93, 29, 5, 262], [252, 203, 44, 10, 8, 558, 1, 298, 545, 216], [88, 99, 143, 121, 187, 617, 2, 126, 464, 199, 85, 26, 599, 5, 3168, 556, 312, 18, 4716], [4717, 1359, 9, 475, 6, 81, 4718, 4719, 4, 2420, 4720, 6, 389, 66, 1359, 9, 3169, 8, 4721, 15, 145, 2420, 170, 4722, 2421, 10, 2421, 10], [605, 23, 364, 56, 109, 313, 344, 761, 1360], [50, 435, 37, 77, 2, 579, 34, 52, 3, 165], [39, 548, 2, 194, 3, 509, 13, 91, 2, 88, 372, 15, 649, 278, 1126, 4723, 4, 103, 361, 113, 17, 4724, 22, 26, 91, 12, 49, 588, 150], [11, 962, 492, 60, 25, 486, 2, 16, 1230, 29, 3, 68, 1230, 75, 65], [23, 431, 2232, 123, 3, 21, 25, 192, 1673, 13, 4725, 4726, 94, 189, 299, 5, 943], [97, 169, 6, 16, 4, 2422, 7, 36, 68, 2, 279, 122, 441, 15, 1066, 63], [1, 236, 264, 93, 1999, 263, 833, 27, 48, 1726, 1727, 532, 27, 39, 27, 48, 163, 1043, 160, 88, 1094, 398], [1019, 27, 3, 105, 599, 4727, 3170, 4728, 774], [226, 4729, 296, 329, 4730, 637], [30, 8, 4, 316, 17, 10, 131, 28], [12, 38, 320, 2, 185, 4, 808, 818, 406, 1361, 73, 533, 2, 2423, 1231, 634, 154, 73, 20, 533, 209, 1022, 2000, 1728, 335], [3, 16, 106, 1076, 444, 2, 342, 4, 2424, 1232, 468, 17, 3171, 202, 5, 2425, 672, 366, 3172, 272, 179, 305, 414, 3173, 3174], [641, 13, 855, 338, 675, 12, 4731, 348, 856, 857, 904, 204, 1, 436, 592, 17, 4732, 712, 400, 4733, 676, 2001, 419, 905], [3, 83, 28, 2002, 4734], [1, 961, 3, 74, 4, 2349, 7, 724, 3, 74, 11, 269, 74, 302, 74, 5, 375, 4735, 88, 691, 294, 1016, 651, 32, 266, 1071, 257, 4736], [1, 61, 124, 47, 21, 3], [257, 947, 118, 16, 4, 228, 65], [3, 16, 127, 487, 239, 233, 1537, 17, 1481, 879, 2003, 3175, 22], [33, 29, 60, 2426, 18, 1127, 40, 177, 128, 116, 942, 7, 2004, 3, 227, 111, 128], [30, 72, 51, 2, 201, 2427, 1362, 1233], [321, 4737, 37, 133, 3176, 33, 4738, 46, 22, 18, 4739, 1729, 2428, 8, 1730, 4740, 145], [35, 6, 883, 104, 78, 207, 144, 50, 80, 30, 25, 311, 263], [3080, 15, 382, 69, 16, 102, 155, 263], [32, 139, 67, 1, 33, 59, 160, 1128], [163, 160, 314, 1274], [94, 189, 89, 31, 111, 219], [4741, 4742, 2429, 1731, 216, 3177, 4743, 4744, 34, 2430, 46, 2005, 49, 4745, 20, 53, 1538, 772, 4746, 4747], [52, 1, 796, 2, 152, 9, 230, 203, 2, 82, 6, 200, 259, 540, 15, 40, 4748, 4749], [659, 321, 144, 50], [144, 267, 1363, 31, 4, 655, 26, 1732, 68, 10, 2, 59, 167, 3], [3178, 306, 2, 1319, 217, 12, 1733, 6, 33, 32, 1287, 43, 2, 564, 34, 5, 352, 636, 7, 1734, 1539, 2, 32, 3111, 71, 31, 73, 84, 2, 2431], [62, 4, 1234, 629, 71, 466, 130, 2, 53, 38, 266, 35, 216, 2006, 81, 145, 262, 56, 225, 158, 1174, 6, 3179, 224, 562, 3180, 10, 5, 286, 1170, 10], [1, 16, 242, 4750], [4751, 87, 4752, 14, 60, 228, 20, 1067, 43, 24, 39, 1177, 20, 167, 133, 63, 133, 2007, 119, 111, 94, 189, 136, 6, 219, 136], [1, 393, 7, 165, 53, 2, 129, 56, 69, 16, 2, 724, 40, 1364], [139, 1110, 65, 1, 54, 62, 364, 24, 1, 16, 4753, 15, 4754, 7, 4755, 2, 270, 23, 1, 273, 2, 298, 217, 4756, 7, 2432, 397], [69, 55, 25, 243, 3181, 422, 173, 777, 1365, 9, 55, 777, 2433, 182, 55, 349, 819, 53, 54, 340, 69, 58, 151, 10, 482, 38, 3182, 80], [12, 11, 607, 908], [1, 59, 89, 205, 109, 43, 59, 51, 1021, 612, 38, 667], [181, 67, 32, 812, 181, 67, 32, 812, 40, 727, 15, 1540, 1113, 1949, 584, 23, 4757, 27, 3183], [118, 39, 58, 42, 41, 1708, 98, 98], [57, 563, 24, 563, 265, 235, 6, 8, 4758, 242, 494], [134, 183, 1366, 992, 210, 434, 9, 192, 8, 1964, 395, 74, 725, 74, 255, 4759], [101, 37, 16, 58, 304, 248, 2, 29, 265, 32, 8, 660, 131], [983, 144, 1483, 35, 3, 27, 36, 491, 2008, 26, 2009, 26, 190, 240, 396, 4, 421, 133, 3184, 329, 1483, 155], [256, 57, 2, 385, 30, 3185, 1367, 7, 18, 5, 2434, 12, 127, 1345], [47, 242, 3049, 382, 14, 94, 2, 31, 2, 5, 2395, 15, 4, 4760, 2435], [291, 1, 264, 107, 81, 146, 2305, 165, 19, 33, 134, 11, 424, 416, 1235, 909, 151, 10, 25, 20, 821, 128, 1072], [103, 3186, 244, 20, 1322, 359, 8, 38, 859, 44, 36, 1236, 49, 20, 342, 673, 2436, 26, 28, 3187, 209, 73, 75, 284, 2, 3188], [593, 1541, 828, 1077, 34, 3189, 21, 444, 2, 4, 342, 4, 910, 468, 35, 13, 143, 1237, 17, 3190, 2, 342, 13, 910, 468], [105, 92, 152, 55, 19, 98, 98, 98], [429, 6], [119, 19, 60, 4, 1368, 157, 1, 273, 3, 71, 19, 2, 10], [58, 14, 4761, 666, 12, 2437, 3191, 4762, 1129, 123, 50], [118, 697, 1542, 20, 126, 40, 764, 372, 28, 13, 1238, 48, 2, 1044, 305, 414, 20, 84, 453, 73, 84, 2, 1735], [10, 89, 129, 23, 1215], [3192, 123, 3, 21, 25, 313, 19, 727, 15, 65, 16, 75, 34, 937, 15, 1973, 2, 295, 4763], [45, 109, 1369, 349, 63, 457, 4764, 109, 78, 22], [52, 33, 39, 29, 8, 5, 938, 407], [1, 137, 1299, 6, 4, 561, 110, 587, 202, 62, 619], [111, 1363, 1499, 77, 2, 4765, 202, 2438, 93, 181, 3, 54, 45, 30, 51], [165, 413, 413, 1, 221, 29, 5, 971, 3193, 69, 9, 4, 1968, 300, 939, 69, 727, 15, 330, 132, 716, 4, 295, 2, 4766, 210, 65], [374, 223, 893, 76, 8, 4, 3194, 293], [226, 178, 228, 32, 311, 18, 1736], [4767, 39, 16, 4768, 5, 3027, 7, 2010, 18, 5, 3195, 7, 4769, 1, 590, 2439, 8, 4770, 16, 4, 3196, 57, 957, 15, 114], [380, 2011, 2012, 576, 170, 28, 626, 137, 2, 48, 2440, 170, 2441, 52, 79, 6], [29, 3, 321, 35, 1, 151, 52, 711, 3, 92, 16, 2, 152, 35, 14, 9, 4771], [641, 13, 855, 338, 675, 12, 348, 856, 857, 904, 204, 1, 436, 592, 17, 4772, 712, 400, 3197, 676, 2442, 419, 905], [37, 741, 1, 33, 71, 2, 13, 661], [3, 16, 187, 122, 462, 155, 26, 4, 20, 462, 149, 2, 126, 3167, 179, 136, 3198, 3199, 3200, 371], [310, 301, 1186, 965, 7, 1737, 4773, 4774, 7, 745], [30, 223, 152, 37, 101, 1, 172, 24, 74, 1018, 61, 1130, 2, 3201, 79, 63, 101, 200, 21, 3, 872, 18, 1239], [203, 29, 3, 54, 35, 4775, 8, 458, 1, 2013, 96, 382, 2014, 1045], [267, 1, 175, 3, 178, 116], [97, 169, 5, 1738, 4776, 259, 3202], [731, 230, 59, 2, 1543, 24, 71, 404, 74, 1675, 4777, 230, 59, 2, 3203, 24, 71, 404, 74, 1073, 1, 230, 59, 2, 163, 6, 24, 27, 71, 11, 189, 74, 130, 2, 6, 257, 2015], [14, 1084, 134, 1325, 2, 94, 14, 67, 1105, 62, 49, 35, 3, 77, 2, 54, 133, 4778, 209], [4779, 7, 4780, 21, 3204, 113, 642, 17, 4781], [1544, 5, 809, 67, 4782, 4, 1114, 8, 5, 1114, 67, 9, 127, 2443, 8, 5, 2443, 67, 9, 4, 1131, 18, 5, 1131, 67, 21, 162, 563, 984], [56, 2427, 4783, 47], [101, 10, 72, 78, 207, 1228, 59, 1545, 109, 131], [235, 14, 542, 355, 2016, 12, 206], [141, 407, 39, 27, 1010, 53, 5, 4784, 15, 5, 4785, 4786], [3205, 604, 4787, 4788, 130, 4789, 56, 137, 1284, 1197], [4790, 32, 108, 8, 4, 646, 35, 3, 83, 77, 2, 201], [40, 401, 9, 42, 531, 41, 4791], [16, 4, 57, 452, 1518], [112, 6, 342, 11, 130], [1240, 1240, 341, 1739, 1046, 82, 226, 613], [247, 874, 4792, 3206, 261, 3, 2017, 301], [31, 38, 397, 445, 49, 22, 91, 2, 40, 130, 34, 245, 645, 594, 929, 488, 2, 13, 113, 188, 114, 36, 343, 237, 238, 335, 20, 692, 51, 71, 84, 4793, 272], [4794, 7, 3, 565, 16, 2, 516, 79, 10, 608, 184, 2, 3, 1159, 55, 1, 165, 174, 117, 3, 29, 696, 3, 68, 7, 93, 29, 5, 262, 2444], [198, 58, 42, 41, 102, 138, 1, 214, 205, 43], [1, 92, 765, 432, 1, 36, 655, 1995], [383, 152, 98, 2, 7, 167, 51, 35, 58, 210, 689, 124, 1913, 26, 4795], [4796, 81, 6, 1370, 1, 2013, 1546, 83, 647, 30, 72, 44, 314, 22], [640, 30, 25, 4797, 176], [496, 13, 17, 640, 1, 60, 3207, 28, 4798, 175, 6, 221, 203, 12, 6, 2, 59, 78, 30, 23, 1740, 87], [52, 9, 40, 4799, 222, 3, 282, 15, 2018], [252, 790, 217, 44, 140, 144, 4800], [9, 1132, 72, 44, 146, 314], [98, 30, 3208, 1, 61, 929, 517, 591, 7, 147, 74, 4, 4801, 1, 66, 911, 70, 10, 299, 30, 1, 11, 1371, 22, 70, 3208, 2, 2445, 76, 2446, 4802, 4803, 4804, 268], [1, 478, 2, 151, 109, 2, 203, 44, 10, 2, 298, 1081, 173, 11, 1081, 2295, 8, 127, 441, 435], [16, 3, 616, 147, 263], [188, 1241, 60, 369, 4, 4805, 407, 7, 188, 124, 2447, 60, 369, 4, 2448, 25, 4806, 125, 6, 81, 87, 24, 125, 6, 648, 405, 4807, 257, 785], [118, 10, 28, 4808, 8, 794, 6, 81, 258, 3209, 115, 17, 4809, 6, 355, 1, 408, 182, 405, 2449, 26, 97, 10, 224, 65, 6, 81, 258, 4810, 1, 61, 4811, 912, 62, 280], [171, 66, 24, 61, 1, 159, 1372, 26, 1373], [1368, 46, 4812, 105, 17, 4813, 1021, 74, 67, 9, 127, 186, 157, 251, 12, 3], [60, 5, 2450, 678], [101, 2, 1173, 6, 200, 27, 201, 3210, 12, 11, 457, 200, 4814, 4815, 4816, 53, 20, 341, 122, 959, 410, 89, 731, 394], [11, 755, 8, 1547, 123, 3, 21, 313, 4, 124, 345, 36, 608, 120, 932], [33, 2019, 145, 283, 87, 7, 470, 2, 3, 29, 3, 16, 4, 423, 362, 143], [347, 3211, 1374, 55, 303, 741, 16, 2, 71, 8, 11, 892, 2, 31, 1201, 1296, 14, 121, 4, 3212, 351], [57, 57, 317, 1, 55, 4817], [370, 3, 672, 76, 26, 83, 231, 208, 4818, 222], [163, 3, 8, 4819, 963, 761, 1741, 766, 3, 27, 82, 47, 11, 321, 9, 437], [730, 151, 109, 2, 201, 553, 78], [90, 6, 182, 92, 130, 26, 91, 2, 210, 130], [47, 116, 81, 109, 1508, 2, 401], [52, 9, 487, 9, 19, 3, 4820, 4821, 76, 1216, 104, 428, 4822], [310, 4, 293, 2020, 218, 125, 9, 5, 29, 902, 2, 32, 1340, 24, 57, 1375, 183, 107, 33, 32, 8, 660], [519, 118, 1, 410, 2, 1006, 452, 7, 1002, 23, 23, 1, 4823, 3, 8, 110, 63], [1, 95, 100, 1, 27, 31, 504, 12, 4, 4824, 19, 302, 34, 607, 8, 458, 101], [23, 45, 29, 3, 326, 907, 4825], [358, 229, 323, 545, 928, 435, 1, 1289, 180, 2021], [2, 1456, 7, 197, 5, 1047, 193, 89, 4826, 629, 4827, 34, 600, 193, 48, 20, 154, 4828, 209, 4829, 650, 46, 4830, 91, 34, 5, 331, 51], [3050, 332, 527, 443, 312, 966, 352, 365, 898, 44, 49, 137, 13, 113, 1199, 17, 3051, 49, 18, 3052, 2, 523, 22, 3053, 179, 305], [2451, 15, 2411, 53, 5, 4831, 4832, 2452, 4833, 170, 107, 2452, 1299, 20, 1548, 8, 127, 4834, 1742, 107, 410, 107, 2452, 253, 349, 5, 2255, 3213, 490, 76, 831, 2022, 1549, 53, 4835, 51, 15, 145, 2255, 389, 64, 122, 440, 996, 69, 165, 35, 14, 9, 490, 76, 11, 2022], [14, 36, 1242, 55, 2020, 1743, 19, 5, 117, 19, 53, 3, 7, 502, 68, 9, 12, 10, 2, 59, 680, 9, 5, 262, 65, 74, 45, 4, 4836, 9, 4837, 2, 10, 232, 258, 192, 7, 528, 644, 680], [4838, 481, 1293, 1376, 366, 518], [998, 549, 5, 2453, 35, 5, 330, 121, 4, 3214, 338, 36, 71, 13, 338, 474, 7, 5, 215, 33, 32, 196, 2, 3], [69, 182, 992, 79, 314, 1307, 64, 86, 1, 54], [45, 1, 16, 283, 2, 1048, 1, 391, 97, 3], [4839, 186, 40, 9, 5, 446, 520, 2, 194, 6, 6, 16, 187, 3215, 17, 3216, 813, 3217, 179, 2454, 3218, 371, 3219, 2455, 237], [536, 224, 667, 56, 3, 130, 10, 1, 33, 17, 43, 160, 147, 26, 4840, 30, 72, 2, 31, 4841, 11, 1875, 9, 4842], [3, 16, 187, 4, 276, 384, 155, 26, 4, 618, 149, 2, 126, 784, 149, 17, 88, 239, 233, 1175, 18, 4843, 481, 1293, 1376], [4844, 92, 213, 2023, 1, 27, 2024, 13, 4845, 596, 10, 75, 452, 34, 10, 7, 1, 16, 110, 737, 958, 12, 575, 15, 199, 181, 166, 1660, 200, 17, 10, 723], [119, 9, 14, 71, 10, 5, 571], [4846, 723, 53, 5, 286, 34, 14], [19, 9, 4847, 602, 4848], [226, 218, 448, 3220, 16, 4849, 18, 169], [5, 375, 9, 1377, 7, 1, 61, 83, 383, 53, 21, 557, 5, 262, 23, 32, 14, 26, 1, 16, 2, 3221, 1, 61, 1744, 56, 125, 9, 5, 3222, 26, 181, 10, 17, 40, 9, 166, 7, 197, 1377, 34, 5, 375, 265, 32, 6, 81, 182, 1377, 651, 526], [58, 14, 14, 1374, 4850, 1228, 585, 2, 324, 3, 53, 117, 302], [15, 173, 27, 323, 30, 25, 23, 3223, 4851, 50, 122, 625, 80, 289, 6, 294, 151, 125, 39, 48, 347, 1, 165, 6, 172, 151, 18, 762, 24, 69, 165, 6, 33, 151, 87], [508, 1356, 878, 579, 11, 573, 2, 4, 4852], [1550, 1915, 47, 725, 9, 4853, 104, 2, 1010, 26, 36, 4854], [409, 289, 6, 151, 10], [661, 4855, 4856, 4857, 4858, 2456, 366, 4859, 4860, 810, 2, 661, 17, 2397], [37, 69, 287, 3224, 9, 258, 364, 1551], [176, 3, 565, 213, 399, 45, 1, 279, 104, 215, 2, 94, 3, 51, 2, 4, 4861, 344, 145], [218, 6, 92, 31, 8, 1173, 475, 2887, 36, 795, 129, 369, 26, 1745, 7, 36, 795, 4862, 210, 677, 92, 136, 7, 802, 14, 36, 92, 91], [620, 2, 1473, 1014, 8, 673, 15, 127, 1746, 53, 234, 729, 115, 1243, 10, 8, 38, 4863, 118, 1024], [56, 164, 37, 75, 844, 2, 10], [171, 12, 433, 51, 12, 10, 1, 158, 1315], [98, 239, 1327, 372, 5, 103, 3225, 99, 46, 64, 1049, 28, 1552, 73, 331, 355, 2, 37, 2025, 31, 566, 22, 2026, 3226, 792, 191, 3227], [270, 1, 211, 34, 3, 22], [256, 860, 1546, 630, 6, 54, 10, 111, 86, 557, 15, 309, 1288, 76, 225, 9, 658, 80, 6, 2027, 48, 167, 75, 56, 53, 1747, 8, 88, 1517, 3228, 340], [141, 1, 33, 32, 67, 1050, 3, 490, 14], [29, 111, 53, 33, 12, 421, 63, 212, 15, 57, 494, 1286], [36, 58, 43, 16, 2, 32, 51, 15, 5, 367, 178, 219, 766, 1, 4864, 454, 5, 4865, 85, 530, 28, 455, 1, 2457, 28, 644, 2, 31, 43, 7, 56, 4866, 14, 60, 307, 4867, 334, 441, 8, 386], [50, 67, 265, 32, 4, 49, 907, 79], [1074, 55, 2458, 1538, 4868, 43, 360, 210, 1133], [409, 69, 354, 152, 48, 2262, 262, 63, 3229], [1, 1064, 2, 94, 57, 189, 15, 3, 412, 1, 16, 2, 526, 22, 105, 71, 695, 45, 3, 31, 4, 320, 1518], [6, 21, 2459, 2, 5, 286, 99, 747, 233, 8, 5, 241, 12, 854, 238, 419, 306, 459, 3, 71, 84, 2, 4869, 3230, 3231], [9, 67, 4, 807, 2028, 25, 2029, 40, 274, 1915, 16, 4, 124, 114, 7, 53, 5, 286, 8, 13, 951], [76, 968, 206, 114, 135, 10, 5, 602, 3232], [29, 3, 2460, 19, 8, 79, 3233, 517, 603, 16, 3234, 15, 591, 1538, 1377, 208, 34, 4870], [3, 16, 127, 487, 239, 233, 1537, 46, 3235], [92, 2461, 19, 3236, 4871], [45, 112, 3, 31, 2, 5, 1244], [1347, 101, 1, 95, 3045, 40, 143, 7, 61, 22, 3237, 132, 81, 6, 105], [23, 164, 440, 3, 1378], [230, 100, 15, 698, 34, 3238, 367, 217, 594, 15, 11, 656], [3239, 559, 248, 1379, 123, 559, 248, 147, 66, 559, 248, 606, 265, 3, 16, 53, 1994, 40, 840, 1200, 840], [6, 142, 16, 490, 127, 1896], [17, 10, 45, 3, 717, 9, 21, 108, 11, 4872, 4873, 9, 4874, 43, 7, 1, 356, 25, 385, 453], [1669, 2005, 20, 1484, 20, 1461, 46, 4875, 536, 22, 44, 206, 274, 17, 4876, 305, 414], [39, 21, 28, 4877, 119, 118, 6, 83, 303, 1, 1002, 350, 40, 177, 24, 1, 100, 1, 61, 36, 4878, 334, 117, 56, 39, 235, 18, 410], [186, 38, 627, 276, 468, 9, 83, 4879, 17, 4880, 22, 4881, 2407, 1221, 4882, 4883, 343, 4884, 4885], [327, 24, 39, 354, 580, 6, 172, 151, 173, 6, 3223, 4886, 24, 39, 234, 2462, 4887, 1380, 1380, 354, 234, 51, 148, 824, 23, 87, 25, 72, 51, 354, 17, 80], [1245, 3, 7, 13, 607, 1200, 254, 4888, 7, 139, 103, 274, 8, 1683], [38, 346, 4, 1748, 685, 7, 214, 185, 4, 1107, 1381, 406, 1361, 188, 335, 73, 972, 2, 2030, 2031, 2463, 1124, 343, 2464], [30, 713, 560, 58, 1732, 18, 1105, 107, 2032, 44, 344, 80, 256, 1, 973, 132, 33, 48, 2033, 63], [1, 230, 205, 5, 113, 156, 22, 115, 71, 4, 157], [176, 1, 54, 1382, 23, 4889, 3240, 148, 1553, 12, 150, 2034, 39, 221, 609, 8, 5, 3241, 15, 812, 211, 902, 2, 31], [25, 259, 2465, 34, 40, 1554, 317, 4890, 192, 108], [176, 6, 4891, 36, 159, 11, 511, 28, 145, 1027, 153, 83, 43, 44, 220, 1555, 5, 425], [4892, 31, 192, 108, 3, 21, 25, 4893, 13, 138, 51, 15, 40, 350, 1745, 8, 4, 653], [1, 648, 32, 67, 34, 8, 42, 41, 395, 58, 102, 1383], [171, 12, 913, 43, 5, 4894], [164, 95, 3, 48, 97, 13, 269, 255, 25, 183, 3, 68, 2, 299, 34, 129, 328, 69, 2035, 128, 116, 56, 1007, 587, 3242, 129, 2, 59, 680], [98, 62, 949, 14, 60, 861, 2, 82, 3, 220, 7, 303, 113, 3, 150, 1, 58, 2, 1749, 7, 4, 521, 1001, 10, 210, 689, 377], [139, 103, 274, 11, 118, 665, 1, 158, 29, 175, 3, 36, 58, 13, 143, 7, 706, 2, 71, 3, 40, 70, 1245, 3, 64, 908, 932], [19, 513, 31, 5, 1229], [13, 1220, 79, 10, 122, 192, 20, 1982, 162, 1983, 44, 1082, 216, 1121, 275, 1718, 1524, 307, 25, 1984, 455, 1719, 426, 693, 115, 91], [833, 1, 273, 39, 165, 20, 587, 1246, 25, 162, 3, 21, 229, 47, 142, 1, 4895, 3], [4896], [3, 16, 127, 487, 239, 233, 1537, 46, 3235, 17, 1481, 879, 2003, 3243, 22], [92, 100, 23, 14, 1479, 217, 55, 4897, 970, 2318, 15, 3244], [96, 60, 902, 2, 32, 24, 1750, 134, 14, 662, 83, 8, 458, 461], [14, 382, 14, 18, 62, 953, 479, 15, 5, 63, 14, 4898, 11, 4899, 24, 1186, 14, 934, 4, 1188, 2466, 331, 48, 1023], [357, 273, 79, 1751, 4, 57, 166, 34, 4, 2036, 1671, 36, 73, 85, 284, 7, 830, 2, 469, 5, 99, 2467, 4900, 247], [216, 49, 594, 1752, 488, 17, 4901, 544, 376, 31, 4, 4902, 4903, 196, 188, 114, 36, 70, 3245, 2, 3246, 854, 238, 3247, 1721, 2468], [40, 9, 1039, 3, 2037, 13, 629, 525, 101, 198, 25, 106, 8, 682, 24, 115, 54, 19, 3, 21, 4904, 2469, 3248, 217, 16, 4, 124, 114, 932], [53, 146, 286, 44, 38, 551, 451], [289, 125, 6, 28, 4905, 62, 36, 4906, 55, 2470, 136, 1636, 1115], [1247, 1, 68, 2, 1536, 1, 4907, 990, 7, 1, 839, 133, 1180, 4908], [67, 2413, 939, 75, 144, 127, 4909, 2926, 6, 8, 5, 2471, 2472, 15, 1901], [144, 158, 259, 10, 231, 36, 1942, 208], [443, 239, 3, 265, 22, 126, 13, 49, 365, 113, 2328, 12, 13, 1327, 17, 22, 18, 2384, 3104, 4910, 372, 1016, 4911, 179, 634, 414, 692, 51, 4912], [3249, 392, 4913, 3, 10, 7, 53, 13, 4914, 8, 4915, 59, 231, 35, 3, 4916, 3250], [50, 1, 130, 6, 813, 1, 235, 11, 297], [2461, 4, 304, 60, 42, 41, 395, 841], [174, 320, 126, 38, 1222, 749, 15, 1028, 623, 87, 70, 533, 2, 1531, 22, 853, 903, 99, 179, 305, 853, 1556, 2038, 854, 1123, 1223, 272], [2039, 9, 28, 42, 63, 41, 61, 25, 11, 1205, 6, 95, 810, 1, 253, 6, 1745], [49, 12, 397, 114, 1384, 193, 245, 44, 38, 99, 188, 114, 36, 73, 193, 2, 4917, 31, 1005, 7, 97, 38, 914, 154, 1134, 281, 241, 736, 1557, 1753, 272, 1754, 245], [3, 16, 187, 4, 276, 1107, 468, 26, 218, 384, 3251, 126, 38, 468, 17, 49, 18, 3252, 268, 20, 84, 3253, 18, 3254, 3255, 4918, 4919], [90, 93, 32, 67, 202, 44], [1, 4920, 2040, 62, 178, 3256], [183, 24, 134, 183, 69, 992, 39, 2041, 4921, 263], [4922, 3, 232, 147, 36, 1999], [1, 61, 643, 332, 65, 235, 3257, 1, 61, 25, 111], [915, 1, 95, 326, 31, 51, 15, 386, 144, 23, 1041], [204, 204, 3258, 42, 41], [23, 463, 4, 599, 19, 615, 34, 5, 359, 4923, 144, 67, 23, 107, 27, 522, 831, 1364, 4924, 2473, 2473], [754, 38, 346, 582, 627, 15, 1097, 522, 623, 49, 476, 20, 88, 507, 537, 290, 73, 576, 2, 838, 1490, 154, 1098, 1929], [1, 3259, 38, 1558, 50], [6, 211, 4925, 76, 4926, 18, 5, 4927, 1302, 4928, 20, 1385, 200, 759, 247, 874, 4929, 20, 318, 1385, 4930, 91, 318, 51], [1189, 11, 718, 1, 175, 3, 52, 711], [69, 121, 679, 15, 740, 1135, 168, 24, 5, 1386, 738, 250, 4931, 16, 2, 491, 14, 192, 7, 1682, 940, 14, 43], [182, 21, 3, 1981, 3260, 26, 4932], [56, 164, 3, 25, 2474], [1559, 168, 6, 4933, 4934, 6, 1885, 20, 180, 1136, 18, 111, 2042, 123, 1970, 50, 94, 189, 4935, 2475, 4936, 15, 3261, 2476], [57, 447, 4937, 431, 11, 718, 382, 69, 933, 10, 263, 2043, 2, 456, 10, 4938, 3262, 1, 175, 3, 168, 1560, 413], [18, 5, 1194, 23, 230, 73], [4939, 12, 4940, 70, 1100, 115, 1187, 154, 1137, 524, 1369, 2044, 650, 34, 84, 37, 916, 601, 250, 2045, 1137, 2477, 2478, 2046], [1236, 44, 2479, 2480, 1122, 8, 77, 997, 18, 38, 512, 97, 38, 2481, 73, 245, 1138, 2, 586, 12, 2482, 26, 654, 1138, 12, 1248, 1561, 2483, 2047, 20, 1138], [16, 4, 57, 452, 1518], [780, 4941, 7, 2472, 176, 1691], [4942, 279, 13, 4943, 118], [120, 3, 58, 102, 470], [101, 803, 4944, 1562, 1, 796, 334, 269, 478, 42, 41, 749, 24, 69, 265, 25, 32, 208], [171, 12, 525, 339, 3, 16, 106, 737, 123, 3, 2037, 5, 4945, 3263], [6, 16, 4, 753, 1011, 891, 132, 793, 6, 81, 23, 288, 17, 3264, 2, 692, 51, 91, 891, 84, 122, 237, 238, 130, 1925, 2048, 189, 3265], [98, 814, 62, 4946, 112, 6, 501, 4, 228, 3266, 36, 4, 157, 162, 152, 261, 595, 3267, 196, 6, 122, 8, 1755, 639, 551, 23, 539, 217, 2389, 4947], [118, 697, 1542, 2, 126, 40, 764, 372, 28, 3, 1238, 105, 48, 2, 1044, 305, 414, 2, 84, 453, 73, 84, 2, 1735], [429, 3, 23, 116, 45, 39, 3268, 748, 3269, 7, 1756, 39, 440, 31, 5, 1291, 15, 13, 720, 123, 3, 21, 57, 2028, 3270, 3, 3271, 119, 39, 21, 3272, 231, 2, 3273, 322, 40, 9, 5, 157, 1, 196, 306, 841], [1563, 1972, 33, 372], [57, 177, 11, 118, 16, 4, 124, 170, 2484, 65], [29, 3, 68, 649, 723, 102, 427, 278, 1126, 70, 7, 4, 103, 361, 113, 12, 64, 1564, 666, 238, 114, 17, 3274, 26, 91, 12, 588, 150], [339, 1, 16, 106, 229, 8, 1183, 1120, 12, 5, 1313, 304, 1063, 7, 137, 2, 401, 4, 42, 41, 601, 1, 1002, 14, 172, 32, 3275, 15, 10, 2, 3276, 79, 190, 3, 135, 28, 124, 366, 2, 549, 7, 240, 164, 1, 440, 378, 43, 1, 1191, 61, 8, 4, 3277, 7, 379, 32, 486, 2, 401, 5, 601, 40, 345, 3278, 11, 1515, 111, 1286, 15, 2485, 318, 27, 3, 105, 250, 171], [39, 548, 2, 194, 3, 509, 88, 372, 15, 103, 361, 113, 649, 723, 102, 427, 278, 332, 527, 966, 739, 17, 707, 26, 91, 12, 588, 1565], [174, 320, 20, 126, 38, 1222, 749, 15, 1028, 623, 70, 141, 2, 1531, 22, 853, 1349, 903, 99, 179, 305, 3144, 854, 1123, 1223, 272, 1035, 73, 254, 26, 84], [1, 404, 6, 3279, 116, 6, 1711, 862, 47, 288, 6, 81, 20, 10, 599, 6, 2486, 404, 6, 377], [115, 71, 10, 4, 4948, 470, 79, 132, 30, 1183, 45, 7, 47, 116], [88, 4949, 1387, 1934, 504, 174, 117, 1006, 12, 104, 7, 607], [186, 17, 3280, 46, 13, 387, 13, 877, 44, 2049, 280, 26, 419, 462, 155, 610, 493, 581, 179, 305, 423, 362, 1662, 2487, 2488, 1126, 2050, 268], [90, 90, 45, 21, 3, 72], [2051, 8, 5, 350, 2052, 2489, 706, 2, 135, 199, 42, 41, 2490, 15, 3281, 19, 4950, 60, 258, 192, 7, 9, 1757, 2491, 4951, 2, 4952, 104, 26, 110, 350, 182, 1, 95, 100, 4953, 4954, 1, 95, 299, 108, 1159], [11, 2492, 121, 106, 1219, 23, 116, 4955, 1, 4956, 1, 36, 221, 324, 1, 296, 728, 1180], [1, 61, 8, 411, 786, 5, 1566, 130, 10, 22, 1, 33, 17, 3, 28, 685], [153, 463, 1535, 428, 367, 12, 5, 442, 15, 199, 254, 121, 128, 242, 758, 3282, 101, 300, 82, 3, 131], [6, 405, 948, 148, 6, 246, 20, 48, 201, 999, 207], [1, 61, 333, 407, 1, 68, 2, 491, 51, 13, 4957, 4958], [37, 86, 35, 3, 526, 19, 14, 1523, 5, 602, 2053, 86], [347, 1139, 407, 123, 4959, 4960, 404, 4961, 4962, 15, 147, 120, 48, 2054, 2055, 20, 6, 2493, 679, 15, 4963, 377], [84, 5, 683, 198, 253, 129, 198, 2494, 14, 7, 417, 608, 1, 142, 25, 509, 573, 14], [282, 500, 134, 103, 266, 26, 1567, 8, 66, 8, 5, 3283, 479, 3284, 70, 726, 233, 36, 70, 2056, 2, 4964, 7, 82, 132, 3, 214, 163], [72, 2, 94, 13, 168, 51], [1388, 4965, 2309, 61, 258, 18, 177, 42, 531, 41, 303, 32, 67, 8, 4966, 56, 39, 391, 48, 2, 4967, 411, 91, 10, 160, 480, 2, 78], [4968, 14, 9, 56, 467], [112, 69, 36, 152, 956, 9, 3285, 1249], [8, 147, 22, 72, 16, 8, 304, 195], [13, 665, 9, 4, 3286], [101, 1, 336, 974, 1, 27, 31, 4, 797, 15, 11, 3287, 383, 127, 441, 26, 442, 93, 70, 3], [112, 6, 167, 51, 52, 63, 5, 430, 9, 28, 595, 1, 77, 2, 975, 110, 283, 51], [538, 1093, 106, 872, 4, 3288, 4969, 3289], [754, 38, 346, 582, 4, 1250, 2495, 15, 1758, 46, 3290, 1759, 26, 4, 3291, 522, 276, 17, 4970, 1044, 305, 154, 3292, 524, 343, 4971, 3293, 1965], [262, 108, 24, 1, 3294, 2496, 7, 4972, 7, 350, 487, 36, 328, 1, 294, 353, 18, 3295, 24, 1, 336, 13, 222, 9, 1328, 428, 19, 14, 95, 1566], [641, 13, 855, 338, 675, 12, 4973, 4974, 348, 856, 857, 904, 204, 1, 436, 592, 17, 4975, 712, 400, 3296, 676, 3297, 703, 905], [261, 39, 77, 110, 4976, 1760, 7, 4977, 2, 1140, 4978, 4979, 12, 4980, 27, 1, 454, 3, 231, 1, 77, 13, 571, 7, 4981, 976, 1502, 81], [52, 29, 6, 68, 12, 471, 47, 79, 735, 49, 70, 495, 4, 103, 361, 113, 34, 332, 527, 312, 966, 17, 49, 22, 18, 879, 4982, 2, 167, 51, 133], [111, 61, 3185, 8, 4, 4983, 4984, 23, 35, 6, 326, 17, 61, 28, 78, 311, 2, 32, 2057], [62, 72, 57, 37, 351, 24, 83, 77, 421, 1310, 2, 862, 2417, 239, 1032], [93, 70, 3, 45, 1, 663, 254, 217], [915, 62, 106, 4, 302, 65, 30, 2426, 36, 68, 2, 2497, 43, 7, 94, 4, 2498], [282, 34, 549, 4985, 369, 8, 4, 65, 1141, 3, 33, 175, 13, 286, 269, 8, 40, 375, 4986, 2499, 42, 41], [533, 547, 6, 663, 9, 14, 3, 582, 2500, 3298, 627, 155, 26, 507, 1761, 697, 17, 22, 3299, 1051, 423, 362, 3300, 3301, 366, 371, 99, 1514], [21, 3, 8, 3302, 3, 77, 2, 82, 190], [1301, 829, 818, 1656, 185, 4, 594, 1079, 1302, 782, 35, 6, 54, 224, 1467, 2501, 2058, 8, 1389, 114, 73, 2277, 2, 1468, 343, 237, 1303, 2278], [6, 16, 4, 753, 1011, 132, 9, 433, 20, 134, 194, 34, 6, 167, 51, 132, 107, 81, 891, 132, 793, 38, 23, 288, 17, 18, 3303], [6, 16, 4, 753, 1011, 132, 9, 433, 20, 134, 194, 34, 6, 167, 51, 132, 107, 81, 891, 132, 793, 38, 23, 288, 17, 18, 3304, 3305, 3306], [2502, 3, 16, 25, 3307, 5, 747, 3, 16, 148, 1367, 12, 1187, 4987, 390, 2, 472, 13, 747], [82, 1, 917, 1216, 3, 4, 685, 4, 304, 494, 4988, 1762, 2, 3, 232, 2059, 2, 175, 4989, 1, 60, 223, 4990, 3, 2503, 75, 24, 4, 1390, 570, 9, 25, 223, 31, 51, 530, 160, 20, 3, 77, 2, 59, 78, 3, 77, 2, 4991, 7, 35, 184, 3, 77, 2, 180, 4992, 3308, 1251], [1, 66, 2, 135, 4993, 1, 279, 679, 15, 407, 3309, 52, 9, 13, 2388, 3106], [538, 39, 142, 48, 1568, 200], [4994, 6, 54, 47, 2, 579, 4995, 12, 4, 609, 8, 3310, 11, 3311, 2323, 609], [3312, 1763, 4996, 4997], [1, 55, 2, 282, 432, 24, 61, 25, 486, 2, 1, 92, 54, 289], [289, 236, 821, 128, 1072, 422, 6, 236, 55, 347, 96, 2504, 662, 358, 631], [3, 3313, 4998], [492, 47, 96, 917, 5, 63, 15, 1569, 1550], [164, 29, 3, 151, 412], [1, 61, 124, 412, 52, 21, 3, 628, 79, 10], [4999, 5000, 5001, 5002, 5003, 5004, 5005, 5006, 3], [144, 50, 1, 597, 1546, 572, 24, 30, 158, 128, 540, 23, 1, 130, 6, 1, 532, 409, 140, 562, 96, 724, 44, 10, 75], [738, 502, 16, 285, 364, 150, 7, 5007, 1655, 32, 292, 2, 680, 28, 42, 41], [3314, 273, 32, 5008, 19, 6, 92, 16, 439, 6, 68, 19, 513, 6, 83, 16, 127, 1746, 2, 32, 5009, 150, 329, 6, 21, 87], [123, 3, 21, 313, 4, 57, 114, 36, 936, 8], [30, 740, 2, 14, 1, 36, 123, 11, 5010, 95, 663, 10, 465, 198, 64, 1033, 4, 304, 248, 40, 274, 40, 778, 10, 8, 1648, 169, 8, 1898, 60, 127, 5011], [1736, 117, 153, 183, 212, 603, 147, 14, 51, 56], [13, 49, 445, 9, 251, 2, 32, 2263, 1459, 70, 5, 1294, 2264, 2, 2919, 2, 2265, 31, 2920, 7, 2921, 1895], [374, 215, 1102, 248, 21, 258, 1570, 7, 1, 16, 3315, 2505, 5012, 12, 147, 1, 112, 442, 7, 1994, 1063, 841], [47, 9, 14, 1379, 2, 1571, 3, 7, 125], [1, 973, 35, 13, 113, 1316, 234, 1091, 1, 137, 2, 97, 3, 1, 66, 3, 168], [861, 5013, 18, 40, 430, 7, 14, 2041, 5014], [546, 53, 259, 991, 192, 108, 2060, 7, 3316, 16, 148, 5015, 5, 3317], [120, 554, 43, 3318, 101, 79, 5, 229, 91], [53, 5, 5016, 46, 5017, 5018, 5019, 5020, 5021, 7, 5, 5022, 185, 5023, 652, 34, 1317, 1279, 1679, 988, 5024, 26, 70, 988, 2, 3021], [1, 391, 135, 104, 369, 1, 16, 14, 505, 96, 165, 5025, 1764, 3, 974, 39, 378], [1765, 5026, 5027, 21, 8, 3319], [1391, 2506, 1252, 556, 1253, 244, 22, 1766, 17, 3320, 544, 376, 46, 122, 2507, 195, 1125, 2, 307, 3321, 195, 3322, 2, 84, 453, 17, 1254, 518, 195], [11, 66, 47, 59, 14, 614, 3, 23, 302, 2, 235, 12, 5028, 1, 58, 13, 563, 18, 1767, 7, 60, 139, 2, 82, 169, 24, 60, 631, 3, 137, 402, 1, 175, 3], [1, 61, 101, 14, 577, 3], [221, 1, 213, 5029, 30, 23, 1768, 1, 287, 324, 102, 3323, 53, 114, 640, 87, 1, 60, 1176, 2, 2061, 51, 1, 60, 5030, 53, 114, 7, 22, 30, 25, 775], [50, 80, 24, 25, 128, 364, 10, 83, 313, 845, 316, 22], [17, 10, 86, 1, 61, 251, 12, 13, 17], [1, 214, 151, 717, 35, 39, 214, 31, 133, 35, 1677, 515, 27, 3324, 8], [60, 396, 79, 2, 71, 3, 4, 2502, 87, 16, 4, 737, 403], [45, 277, 82, 11, 677, 107, 100, 1392, 2062, 2, 2508, 107, 21, 767, 952, 107, 732, 2509, 54, 19, 1392, 2062, 2, 11, 368, 266, 894], [120, 3, 1001, 169, 13, 1393, 45, 3, 1255, 12, 551, 347, 451, 326, 163, 28, 3325], [92, 282, 2, 129, 357, 50, 62, 11, 331], [45, 6, 954, 82, 14, 56], [18, 2063, 138, 2, 485, 27, 3, 115, 71, 10, 5031, 143], [14, 408, 32, 267, 1, 16, 5032, 22, 33, 5033], [96, 234, 2, 2064, 334, 442, 5034, 87, 24, 83, 1690, 405, 78], [396, 1, 1911, 11, 591, 1488, 22, 1, 436, 5035, 28, 5036, 5037, 209], [90, 203, 604, 1000, 71, 1742, 42, 41, 278], [24, 30, 18, 4, 2065, 7, 1, 1572, 122, 128, 242, 5038, 15, 1162, 525, 915, 30, 232, 18, 4, 2065], [90, 1, 33, 135, 11, 5039, 1709, 474], [119, 53, 16, 2, 59, 347], [215, 3, 81, 4, 670, 734, 20, 126, 13, 149, 70, 215, 20, 2510, 192, 5040, 2, 135, 504, 5041, 1018, 70, 376, 5042, 5043], [30, 158, 101, 1, 565, 180, 486, 20, 29, 40, 743, 123, 6, 27, 167, 127, 5044, 123, 784, 5045, 72, 50], [754, 5046, 1256, 5047, 509, 2272, 322, 14, 7, 1, 270, 3, 242, 139, 2511, 2, 7, 5048, 1573, 3, 48], [23, 29, 3, 16, 5049, 5050, 263], [52, 63, 3, 100, 783, 16, 14, 77, 2, 54, 45, 1, 142, 32, 1119, 1529], [118, 5051, 105, 17, 5052, 46, 4, 387, 13, 877, 44, 3326, 1344, 280, 26, 384, 155, 610, 493, 5053, 581, 179, 305, 5054, 1394], [56, 236, 1769, 3327, 80], [465, 45, 224, 836, 102, 2066, 102, 5055], [90, 90, 21, 3, 8, 719], [186, 17, 5056, 46, 387, 13, 877, 44, 1344, 280, 26, 1049, 462, 155, 610, 493, 581, 179, 305, 362, 5057, 5058, 5059, 371, 268], [296, 490, 43, 12, 743, 7, 5060, 990, 55, 4, 2061, 525, 22, 1, 213, 3328, 24, 28, 863, 62, 25, 5061, 497, 727, 15, 3328], [37, 39, 1048, 14, 53, 23, 603, 16, 3329, 35, 1892, 56, 1048, 88, 1892, 2, 225, 1219, 5062, 5063, 215, 85, 8, 166, 5064], [5065, 159, 14, 2, 679, 15, 1770, 64, 2894, 7, 1257, 1770, 21, 944], [47, 79, 259, 8, 682, 34, 5066, 251, 12, 720, 36, 73, 85, 13, 284, 7, 830, 2, 692, 8, 322, 5, 2467, 191, 247], [7, 182, 198, 5067, 5068, 129, 217, 4, 846, 494, 1395, 23, 574, 1354, 25, 70, 129, 51, 15, 5, 800, 433, 12, 1112], [1, 196, 11, 3330, 2, 5069, 7, 1, 137, 2, 29, 5070, 3331, 12, 4, 304, 3240, 1, 100, 35, 3, 21, 628, 15, 5071, 29, 4, 1901, 18, 366, 182, 194, 1454, 5072, 104, 485, 9, 75, 10, 5, 1038, 1574, 1135], [1, 230, 203, 2, 82, 3, 47, 211, 5, 1771, 211, 3184], [38, 155, 889, 9, 842, 534, 666, 2, 1337, 38, 155, 8, 22, 71, 48, 2, 687, 64, 191, 130, 1505, 1335, 423, 362, 2512, 2513, 2514, 2067], [120, 1, 1033, 5, 1330, 18, 410, 148, 52, 249, 1094, 21, 39, 72, 12, 347, 197, 13, 410, 117, 49, 39, 77, 2, 163, 7, 871, 88, 5073], [5074, 8, 38, 3022, 3332, 5075], [9, 19, 52, 63, 3, 68, 10, 2, 59], [621, 1196, 54, 974, 255, 208], [5076, 180, 50, 80, 394], [606, 1052, 1396, 2515, 802, 2516, 88, 308, 1142, 803, 45, 225, 9, 8, 14, 24, 14, 1142, 178, 1575, 45, 225, 1101, 14, 57, 117], [182, 381, 2, 31, 5077, 2068, 46, 13, 315], [3333, 5078, 7, 708, 251, 12, 13], [101, 1, 22, 56, 136, 38, 130, 858, 80, 23, 1139, 212, 24, 64, 44, 75, 117, 451, 1576, 16, 4, 1577, 103, 367, 20, 227, 8], [66, 939, 4, 2069, 144, 4, 557, 35, 39, 214, 1068, 132, 2, 66, 56, 166, 172, 32, 116, 3334, 24, 56, 1038, 2517], [2518, 2034, 69, 5079], [11, 975, 400, 9, 7, 1709, 37, 9, 5, 788, 9, 5080, 27, 3, 91, 2, 871, 198, 196, 40, 2, 5, 156, 330], [125], [6, 183, 6, 221, 94, 102, 1066, 63], [186, 39, 21, 292, 2, 194, 6, 593, 290, 348, 19, 3, 16, 187, 4, 1143, 149, 276, 17, 3335, 46, 657, 312, 126, 3336, 2519, 64], [380, 2011, 2012, 576, 170, 28, 626, 137, 2, 48, 2440, 170, 2441, 52, 79, 6], [319, 5081, 224, 5082, 285, 29, 3, 326, 94, 5, 1772, 483, 5083, 285, 9, 602], [26, 296, 83, 27, 3, 1067, 104, 7, 181, 151, 104, 35, 96, 27, 1048, 42, 41, 12, 10], [1, 61, 25, 183, 79, 117, 1307, 1, 54, 64, 79, 1128, 1307], [52, 29, 6, 68, 45, 1, 59, 85, 4, 606, 3337, 74, 4, 5084, 15, 11, 308, 12, 3, 310, 52, 1, 33, 135, 24, 64, 2, 11, 492, 15, 11, 5085, 32, 19, 7, 82, 37, 75, 27, 135, 3, 19, 92, 17, 10, 1, 33, 203, 547, 1, 59], [21, 3, 1508, 2, 48, 12, 5086, 285], [14, 379, 180, 459, 20, 2520, 74, 292, 20, 975, 297, 51, 9, 19, 50], [858, 80, 69, 246, 20, 48, 136, 5087, 3338, 87, 824, 23, 324, 815, 80, 1, 1572, 2521, 3339, 6], [256, 621, 1356, 85, 22, 56], [291, 1, 264, 23, 459, 146, 533, 3340, 80], [52, 9, 13, 338, 143], [869, 6, 71, 5088, 323], [120, 37, 1, 1773, 4, 3341, 555, 60, 3342, 449, 226, 20, 5089, 34, 10, 6, 1774, 5090, 394, 24, 6, 203, 530, 1397, 63, 1000, 1177, 226], [50, 1, 408, 282, 2, 129], [92, 5091, 3, 54, 40, 9, 5, 638, 63, 96, 121, 137, 5092, 55, 19, 23, 197, 1, 5093, 15, 52, 96, 324, 7, 112, 5, 65, 202, 26, 35, 184, 1295, 5, 65, 202, 23, 19, 39, 27, 32, 183, 62, 327], [120, 3, 27, 401, 34, 1775, 542, 64, 42, 41], [334, 345, 1, 77, 3343, 1112, 7, 2353], [35, 69, 639, 1876, 69, 33, 31, 317, 8, 304, 306, 69, 16, 124, 3344, 7, 3345], [3346, 77, 2, 32, 8, 458, 76, 5094, 2, 622, 46, 5095], [669, 20, 99, 1776, 2522, 81, 566, 17, 3347, 22, 2523, 721, 13, 914, 353, 2524, 652, 2525, 3348, 576, 2526, 2527], [416, 28, 5, 2528, 63, 52, 5, 456, 3, 100, 9, 43], [319, 336, 52, 1, 36, 1777], [717, 483, 1682, 32, 28, 781, 8, 42, 41, 395], [30, 8, 411, 22, 1, 33, 17, 3, 42, 41, 195], [1689, 1, 175, 3, 148, 3, 54, 13, 53, 1, 27, 100, 79, 456, 1, 221, 203, 547, 206, 274, 45, 39, 33, 32, 584, 699, 413], [1778, 347, 5, 2529, 75, 152, 35, 109, 246, 17, 76, 150, 17, 5096, 416, 12, 5097, 5098, 64, 58, 5099, 3178, 3349, 5100, 5101, 5102, 2529, 5103, 2529, 3350, 850, 5104, 12, 397, 5105, 306, 5106], [915, 878, 609, 85, 2, 5107, 46, 1274, 11, 2530, 9, 2070], [3105, 15, 2385], [98, 161, 313, 5, 479, 5108, 63, 357, 39, 16, 2, 31, 43, 28, 5109, 188, 65, 60, 5, 816, 57, 5, 249, 117, 1, 31, 78, 150, 28, 5110], [43, 2, 109, 252, 246, 59, 56, 59, 80, 24, 1, 1217, 136, 102, 5111, 5112], [5, 471, 683, 9, 2444, 5, 471, 130, 9, 66, 5, 471, 1578, 9, 1779, 501, 4, 3351, 345, 1286, 170, 270, 6, 1200, 471], [1, 221, 1, 95, 16, 104, 143], [579, 200, 144, 146, 75, 206, 2, 5113], [1906, 30, 8, 285, 27, 3, 25, 526, 1037, 18, 14, 2, 134, 14, 50, 115, 22], [25, 4, 337, 121, 711, 108, 1142, 178, 3352, 5114, 9, 28, 104, 3353, 7, 5115, 9, 437, 679, 36, 10, 7, 3354, 8, 28, 5, 1256, 47, 16, 3, 106], [56, 109, 203, 44, 10, 28, 430, 84, 612, 38, 1081, 323, 35, 1, 236, 136, 109, 56, 1, 48, 31, 11, 315, 56, 59, 85, 89, 205, 109], [370, 33, 29, 171, 200, 12, 931, 51], [37, 24, 977, 482, 1526], [105, 17, 88, 239, 233, 1175, 18, 1481, 2961, 2962, 2963, 481, 2294, 2964, 74, 3, 16, 187, 4, 276, 384, 155, 26, 617, 149], [42, 41, 61, 1, 100, 142, 152, 18, 5116], [1178, 112, 96, 152, 184], [135, 10, 4, 1715, 2, 100, 100, 79, 14], [5117, 5118, 49, 193, 49, 843, 49, 5119, 5120, 18, 443, 1579, 17, 756, 18, 806, 26, 17, 1670], [1, 95, 358, 54, 52, 2, 29, 1, 83, 221, 31, 797, 15, 698, 1, 1948, 205, 3, 43, 757, 307, 5121, 7, 39, 27, 82, 35, 1382, 8, 5, 660], [5122, 5123, 5124, 624, 5125, 466, 42, 41], [118, 5126, 1, 61, 620, 2, 1473, 1014, 12, 127, 5127, 1746, 115, 29, 197, 8, 682, 28, 42, 661, 41, 1780], [176, 1, 172, 24, 11, 881, 172, 16, 4, 2333, 7, 97, 5, 778, 607, 47, 733, 7, 2531, 1, 61], [1, 36, 58, 78, 168, 21, 3, 83, 1370], [1, 409, 107, 672, 752, 25, 252, 243, 2063, 3355], [36, 201, 4, 1162, 5128, 3356, 26, 5129, 6, 31, 2, 205], [226, 253, 96, 60, 967, 1555, 1566], [118, 2071, 1, 5130, 205, 17, 3357, 231, 851, 5131, 22, 28, 3209, 78, 402, 99, 8, 315, 5132, 1520, 5133, 139, 5134], [49, 12, 397, 114, 1384, 193, 245, 44, 38, 512, 188, 114, 36, 73, 193, 2, 586, 31, 1005, 7, 97, 38, 914, 154, 1134, 281, 241, 736, 1557, 1753, 1754, 245, 272], [408, 1, 71, 19, 2532, 2, 13, 470, 574], [760, 380, 390, 28, 78, 25, 72, 51, 243, 540], [732, 54, 203, 1, 33, 325, 14], [57, 447, 18, 40, 5135, 3358, 65, 11, 368, 1398, 1, 123, 40, 5136, 3, 139, 7, 747, 11, 2533, 1, 100, 15, 3, 7, 71, 4, 1560, 413, 46, 1040, 5, 809, 5137, 5138, 15, 5139, 5140, 3, 5141, 3359], [336, 52, 956, 3, 54, 3360, 2534, 3, 326, 167, 51, 132, 14, 9, 135, 199, 4, 17, 18, 5142, 46, 387, 3361, 191, 195, 268], [39, 83, 18, 12, 220], [265, 1, 17, 3, 131, 115], [1907, 19, 106, 5, 3362, 1395, 3341, 1179], [1, 16, 4, 2070, 2072, 144, 5143, 45, 1, 282], [141, 86, 102, 3363, 28, 38, 411], [21, 3, 25, 208, 26, 36, 83, 1781, 243], [176, 3, 420, 14, 869, 141, 93, 491, 14, 8, 168], [62, 57, 603, 167, 4, 138], [27, 25, 279, 2535, 2536, 8, 40, 1467, 57, 2073], [291, 1008, 340], [139, 103, 274, 11, 37, 122, 300], [119, 888, 3364, 3, 326, 353, 19, 629, 467, 255, 5, 1460, 7, 30, 5, 5144, 3, 135, 10, 4, 2074, 7, 93, 135, 3, 75], [3365, 14, 36, 742, 10, 20, 161, 758, 5145, 990, 1000, 5146, 271, 11, 5147, 20, 849, 2429, 404, 6, 5148, 5149], [261, 407, 112, 3, 31, 85, 2, 13, 1881, 21, 3, 3366, 43, 5, 880, 22, 3367, 13, 1739, 47, 477, 14, 1580, 1, 175, 3, 148, 1691], [37, 11, 5150, 21, 3368, 3369], [1280, 421, 273, 5151, 296, 2, 1317, 1317, 89, 1317, 1354, 329, 699, 225, 89, 1136, 577, 577, 89, 577, 257, 978], [5152, 121, 5153, 165, 4, 2537, 27, 151, 133, 1013, 329, 4, 3115, 300, 27, 619, 22, 3, 54, 164, 53, 15, 199, 21, 3370, 1399, 5154, 2538], [107, 36, 844, 310, 14, 542, 107, 379, 102, 249], [87, 61, 72, 2, 719, 23, 61, 25, 486, 2, 5155, 5, 285], [30, 8, 285, 33, 1378, 131], [438, 347, 1667, 58, 444, 513, 62, 57], [1932, 310, 296, 22, 1, 58, 4, 2539, 231, 10, 5156, 180, 296, 35, 1, 137, 4, 304, 2009, 231, 10, 20, 57, 1730], [39, 54, 225, 132, 3, 54, 19, 2534, 3, 17, 5157, 2, 167, 51, 132, 736, 275, 3371, 191], [59, 1204, 144], [29, 122, 212, 579, 19, 2929, 360, 328, 1, 68, 20, 3372, 8, 11, 5158, 2304, 161, 620, 108], [3373, 3374, 22, 73, 388, 26, 3375, 38, 284, 830, 930, 388, 3365, 268, 2, 586, 2, 469, 7, 31, 2540], [1, 2541, 127, 441, 20, 136, 6, 5159, 19, 498, 1, 189, 289, 379, 6, 596, 161, 1581], [268, 306, 2, 1733, 3376, 6, 33, 32, 1287, 1462, 15, 53, 5, 352, 636, 7, 1734, 1539, 650, 71, 31, 2542, 84, 2, 2431], [21, 3, 632, 12, 3177, 18, 2075, 2543], [29, 6, 597, 140, 63, 146, 222, 349, 3377, 3210, 3340], [1, 58, 334, 317, 5, 75, 28, 5, 994, 159, 5160, 5161, 26, 190, 1210, 18, 968, 25, 183, 45, 11, 3378, 33, 58, 616], [2491, 259, 158, 3202, 7, 5162], [1144, 931, 20, 3028, 122, 963, 114, 8, 1582, 5163, 58, 217, 5164, 18, 103, 1250, 626, 24, 1, 60, 5165, 107, 211, 2544, 6, 1185, 28, 719, 263, 11, 147, 3379, 5166, 20, 946], [30, 28, 147, 105, 17], [56, 6, 609, 80], [545, 5167, 55, 349, 289], [97, 10, 1382, 2285, 243, 5168, 3, 5169, 8, 546, 3380, 52, 53, 2, 31, 22], [3381, 390, 829, 52, 1583, 382, 2283, 3382, 3383, 2, 145, 3384, 146, 3385, 832, 3386, 73, 145, 146, 26, 832, 2, 2545, 22, 44, 320, 20, 185, 507, 155, 3387, 3388], [30, 437, 2076, 918, 1032, 1584, 2546, 3059], [1, 356, 59, 2, 1780, 12, 20, 306, 23, 3, 27, 32, 3389, 2, 94, 4, 235, 369, 1, 5170, 92, 425, 102, 1761, 1399, 11, 759, 77, 2, 298, 186, 1585], [50, 25, 183, 52, 63, 637, 74, 25, 183, 35, 27, 31, 2, 1244, 202, 285, 33, 271, 82, 3, 28, 110, 817, 16, 57, 626], [39, 16, 103, 1472, 1941, 8, 13, 859, 679, 15, 103, 277, 1255, 8, 13, 859, 91, 564, 2, 355, 22, 268, 64, 154, 5171, 199, 5172], [240, 267, 93, 1782, 28, 3, 79, 14, 131, 56], [37, 11, 730, 234, 20, 5173], [369, 49, 17, 10, 339, 1, 61, 251, 12, 3], [316, 6, 9, 11, 147, 795, 10, 45, 408, 1, 29, 11, 147, 150], [225, 6, 54, 121, 473, 88, 726, 233, 20, 194, 3, 230, 336, 132, 17, 5174, 22, 53, 33, 32, 2077, 423, 5175, 5176, 5177], [354, 298, 2078], [508, 93, 134, 183, 5, 315, 9, 85, 220], [186, 39, 21, 292, 2, 194, 6, 593, 290, 348, 19, 3, 16, 187, 4, 1143, 149, 276, 17, 3390, 46, 657, 312, 126, 3391, 2519, 64], [118, 1487, 106, 1075, 2, 1783, 40, 9, 88, 633, 520, 2, 194, 6, 73, 244, 2, 687], [5178, 161, 1136, 110, 2547, 2332, 28, 5, 994, 442, 5179, 21, 844, 79, 47, 1351, 107, 21, 1136, 7, 75, 793, 5180, 5181, 5182], [370, 303, 31, 18, 1522, 8, 4, 846, 395], [3392, 5183, 5184, 919, 509, 5185, 5186, 5187, 5188, 5189, 919, 113, 1502, 5190, 919, 535, 535], [125, 27, 823, 2234, 1258, 1302, 5191], [1031, 76, 5, 763, 5192], [1586, 11, 1784, 2, 129], [10, 128, 380, 5193, 570, 64, 160, 275, 625, 2079, 570, 5194], [3, 97, 52, 598, 92, 2404, 55, 40, 2, 10, 50, 37, 77, 2, 152], [27, 6, 31, 700, 677, 2, 13, 113], [71, 2, 225, 515], [140, 559, 110, 277, 3393, 9, 25, 36, 542, 908, 349, 6, 213, 45, 6, 163, 169, 24, 542, 497, 6, 213, 45, 6, 175, 2548], [12, 10, 5, 66, 142, 355, 34, 5195, 1, 142, 213, 19, 1, 77, 104, 188, 63, 208, 10, 96, 142, 32, 5, 207, 212, 224, 615, 8, 11, 3394, 1, 172, 355, 5, 65, 7, 318, 14, 34, 104, 96, 142, 32, 67, 188, 63, 1, 943, 66, 33, 32, 56, 45, 11, 188, 3395, 121, 104, 284, 11, 166, 142, 598, 208, 104, 11, 166, 33, 32, 3285, 2, 104, 1, 172, 1938, 12, 104, 33, 135, 53, 11, 908, 7, 94, 53, 104, 5196, 1, 33, 32, 311, 2, 2080, 34, 698, 12, 104, 1, 33, 32, 8, 66, 45, 1, 33, 32, 159, 5, 3396, 248, 12, 104, 66, 33, 32, 45, 1, 95, 16, 2, 5197, 698, 19, 11, 388, 9, 5, 479, 606, 1532, 18, 5, 778, 3397, 1, 33, 232, 32, 3398, 5198, 12, 104, 66, 33, 32, 45, 1, 355, 43, 528, 2521, 3399, 7, 318, 43, 5199, 5200, 166, 33, 32, 5, 479, 606, 56, 33, 31, 188, 177, 7, 429, 363, 12, 5, 65, 328, 96, 9, 34, 10, 1, 172, 55, 2, 152, 4, 337, 33, 97, 131], [5201, 9, 55, 4, 5202, 15, 4, 2081, 461, 243, 81, 8, 145, 262, 2081, 243, 81, 713, 486, 20, 961, 3400, 35, 243, 163, 2549, 64, 5203, 2490, 389, 243, 2550, 539, 5204, 257, 3116], [1, 95, 100, 69, 121, 5205, 2082], [3, 27, 294, 29, 327], [3, 21, 346, 4, 2083, 1587, 365, 17, 5206, 46, 387, 588, 970, 5207, 179, 305, 5208, 5209, 5210, 5211, 371, 272, 1053, 5212, 5213], [751, 87, 1, 61, 229, 12, 42, 531, 41, 195], [185, 186, 13, 99, 143, 121, 106, 346, 34, 4, 618, 149, 276, 17, 2551, 46, 657, 312, 126, 1214, 506, 674, 64, 371], [105, 86, 17, 10, 102, 1208, 46, 11, 836, 101, 86, 115, 86, 1187, 1145], [125, 81, 39, 316], [111, 5, 1540, 8, 5214, 124, 24, 62, 5215, 21, 124, 3, 77, 4, 315, 2, 996, 5216, 62, 5217, 21, 5218, 24, 53, 8, 53, 62, 4, 124, 222, 5, 631, 418, 9, 1, 450, 78], [22, 64, 1, 1070, 78, 1, 61, 178, 885, 22, 1, 33, 59, 5219], [5220, 1763, 22, 3312], [118, 2084, 38, 290, 44, 507, 522, 697, 33, 180, 1181, 18, 1785, 15, 4, 935, 912, 45, 60, 5221, 5222, 434, 73, 619, 2, 1735], [95, 3401, 93, 201, 5, 3047, 552, 5223, 7, 71, 169, 2, 3, 3, 379, 31, 169, 530, 55, 890, 27, 3, 71, 10, 13, 5224, 571, 1576, 32, 508, 467], [37, 5225, 3, 292, 2, 31, 10, 2, 1935, 990, 217, 4, 5226, 26, 190], [106, 43, 2, 2552, 212, 2085, 112, 3, 16, 4, 57, 434, 45, 21, 6, 5227, 1397, 1, 639, 1786, 87], [3, 572, 26, 27, 1, 59, 76, 28, 110, 817, 7, 1023, 51, 52, 546, 159, 150], [153, 48, 18, 56, 540, 7, 3402, 5228, 1950, 12, 113, 2, 599, 123, 5, 3403, 5229, 461, 2330], [1259, 1661, 89, 800, 3327, 1, 264, 1, 136, 109], [1588, 101, 80, 1, 373, 390, 373, 459, 1, 420, 20, 325, 11, 113], [157, 487, 920, 12, 1400, 1140, 87, 9, 13, 670, 65, 20, 167, 51, 164, 790, 1401, 67, 9, 4, 1047, 979, 1260, 3], [18, 5230, 117, 72, 34, 4, 893], [57, 447, 11, 66, 47, 477, 13, 65, 52, 21, 3, 43, 2, 1, 1029, 364, 7, 61, 541, 251, 12, 3, 833, 1787, 392, 9, 541, 1, 82, 921], [46, 225, 25, 2, 680, 45, 188, 63, 198, 5231, 8, 5, 174, 442, 764, 9, 328, 15, 3, 578, 26, 1449, 10, 19, 3, 478, 2, 680], [37, 783, 36, 31, 4, 2422, 292, 2, 1023, 14, 51, 6, 27, 1087, 10, 2, 29, 5, 3404, 1, 1064, 811], [204, 204, 207, 63, 3405, 3406], [50, 303, 97, 5, 720], [621, 100, 39, 27, 31, 127, 1345, 28, 926, 110, 63, 220], [23, 19, 513, 3, 83, 100, 15, 5232], [37, 30, 57, 12, 5, 570, 9, 14, 50, 35, 1, 235, 8, 127, 5233], [37, 37, 40, 9, 1489, 78, 2553, 5234, 78, 458, 9, 3407], [23, 651, 134, 14, 776, 26, 968, 74, 238, 5235], [120, 52, 63, 9, 13, 551, 18, 762, 39, 48, 12, 5236, 18, 762], [5237, 3, 16, 187, 4, 852, 462, 527, 2, 126, 17, 5238], [30, 72, 44, 314, 22, 460, 11, 607, 56, 612, 349, 1, 48, 1877, 20, 948, 80], [540, 15, 2554, 726, 271, 3408, 73, 3408, 2, 5239, 35, 3, 95, 55, 1043, 73, 5240, 7, 31, 4, 103, 5241, 5242, 1700, 191, 130, 5243, 272], [1261, 5244, 7, 31, 110, 215, 85], [29, 3, 68, 649, 723, 102, 427, 278, 1126, 70, 7, 4, 103, 361, 113, 12, 64, 1564, 666, 238, 114, 17, 3409, 22, 26, 91, 12, 588, 150], [50, 50, 50, 56, 786, 38, 593, 425], [57, 177, 412, 47, 21, 3], [2086, 101, 80, 420, 20, 97, 6], [12, 643, 418, 8, 88, 99, 3410, 525, 3, 27, 22, 16, 534, 453, 20, 279, 1191, 3, 270, 20, 31, 896, 36, 71, 73, 2, 5245, 179, 136, 154, 5246, 209, 122, 1225], [25, 220, 814, 2555, 43, 18, 110, 227, 40, 9, 11, 103, 143, 76, 5, 138], [2451, 15, 119, 350, 1169, 4, 521, 5247, 4, 404, 1882, 18, 4, 922, 24, 2556, 18, 104, 5248, 656, 2557, 4, 1253], [38, 1324, 829, 155, 889, 9, 842, 627, 2, 1337, 38, 155, 8, 22, 71, 5249, 2, 687, 64, 191, 130], [23, 325, 13, 5250, 7, 35, 3, 137, 3411, 29, 3222], [1589, 497, 123, 6, 81, 267], [6, 503, 43, 148, 394, 44, 146, 5251, 3412, 5252, 144, 358, 228], [90, 29, 1, 77, 4, 1369, 26, 184], [92, 668, 3, 27, 222, 74, 242, 49, 2259, 34, 5253, 281, 241, 74, 3, 270, 12, 133, 920, 17, 5254], [176, 37, 36, 60, 572], [52, 6, 2087], [157, 110, 70, 450, 2368, 284, 450, 143, 450, 196, 564, 450, 450, 6, 4, 337, 310, 289, 439, 9, 450, 196, 895, 1211, 209], [119, 74, 1103, 2079, 1054, 26, 62, 1034], [1, 95, 54, 6, 7, 6, 95, 54, 10, 71, 244, 2, 687, 22, 7, 1788, 167, 715, 249, 64, 191, 130, 1334, 1025, 804, 805, 653, 1026, 1116, 268, 517, 26, 192], [16, 3, 137, 4, 57, 65, 694, 60, 158, 572, 21, 3, 43, 2, 116, 150, 117], [7, 9, 67, 4, 138, 3, 27, 71, 5255, 283, 2, 104, 7, 96, 121, 106, 737, 128], [158, 1, 580, 38, 1131, 1494, 302, 841, 24, 140, 6, 5256, 354, 22, 58, 279, 6, 139, 323, 1, 83, 529, 20, 1010], [429, 3, 734, 5257, 76, 247, 57, 864, 37, 1364, 5258, 91, 84, 2, 5259, 239, 642, 5260], [168, 1, 839, 3], [50, 250, 10, 151, 35, 662, 437, 451, 4, 25], [30, 25, 551, 1590, 56, 93, 31, 2236, 28, 146, 1092, 1591, 80], [25, 4, 663, 8, 5, 3413], [19, 165, 27, 3, 70, 129, 75, 133, 63], [50, 1, 48, 579, 182], [3373, 15, 708, 242, 1472, 20, 6, 132, 81, 5261, 20, 40, 81, 311, 20, 3414, 38, 188, 5262, 77, 27, 6, 3414, 5263, 70, 1262, 2, 5264, 343, 1225, 436], [112, 6, 167, 4, 5265, 12, 5266, 1, 60, 1066, 7, 1192, 53, 65, 525], [101, 300, 1937, 402, 11, 113, 18, 1121, 174, 117, 7, 287, 325, 14, 530, 1, 58, 43], [120, 190, 480, 43, 174, 195, 100, 1, 1289, 32, 2985, 43, 451, 822], [417, 127, 1789, 7, 172, 1448, 46, 5, 1310, 463, 37, 333, 5267, 1, 36, 92, 55, 5268, 1088, 1045, 107, 92, 77, 24, 37, 5269], [120, 463, 5270, 1162], [1778, 1078, 24, 485, 58, 372, 2424, 505, 64], [3, 183, 13, 5271, 440, 205, 14, 43], [90, 1, 33, 196, 14, 200], [49, 476, 8, 20, 4, 818, 867, 2, 185, 1868, 1158, 633, 1869, 2225, 265, 2226, 70, 1868, 2, 1870, 2, 342, 476, 561, 925, 73, 376, 179, 634, 414, 2870], [111, 161, 5272, 63, 2, 134, 110, 3098, 3099], [256, 153, 1, 82, 19, 22, 32, 67, 8, 4, 1715], [1, 61, 25, 313, 104, 143, 339], [176, 22, 30, 160, 19, 556, 1507, 5273], [50, 22, 1, 61, 8, 430, 35, 1, 59, 219, 1, 33, 59, 1141, 150], [677, 81, 25, 63, 875, 107, 3415, 152, 19, 1, 61, 628, 15, 6, 156, 22, 7, 182, 528, 6, 100, 15, 10, 28, 863, 44, 4, 1027, 658, 713, 1305, 3416, 2499], [153, 39, 27, 374, 893, 76, 369, 11, 2558, 2295, 43, 34, 210, 388], [58, 52, 14, 722, 20, 94, 418, 8, 5, 2088, 2089, 8, 1790, 6, 27, 34, 2090, 1055, 70, 2089, 2559, 2, 3417, 1236, 82, 3418, 26, 2090, 281, 241, 2088, 3419, 32, 6], [139, 103, 517, 5274], [252, 236, 77, 2, 205, 38, 3006], [1551, 3, 296, 25, 16, 253, 19, 2, 216, 249, 708, 582], [1791, 6, 324, 5275, 324, 459, 6, 420, 482, 10, 148, 630, 6, 94, 23, 302, 20, 91, 1, 264, 144, 133, 3420, 329, 813, 23, 180, 3389, 22, 140, 408, 1, 324], [112, 69, 152, 47, 1047, 1, 61, 76, 102, 320, 26, 184, 77, 4, 2560, 166, 1513, 74, 1993, 5, 33, 20, 299, 29, 3, 100, 1, 172, 32, 5, 207, 330, 20, 955, 46, 89, 243, 1656], [36, 1792, 1, 480, 2, 5276, 86], [30, 761, 2561, 656, 1311, 745, 1114, 7, 783, 526, 360, 10], [2, 65, 285, 9, 67, 21, 37, 285], [30, 8, 768, 5277], [3, 5278, 13, 350, 263], [90, 135, 10, 4, 1715, 5279, 4, 42, 41, 28, 5280], [61, 1, 19, 116, 399, 2, 2956, 55, 40], [319, 3, 208, 36, 58, 11, 315, 85], [3421, 939, 14], [751, 87, 1, 61, 229, 12, 42, 41, 195], [463, 37, 817, 5281, 18, 2, 888, 25, 156, 35, 417, 25, 3422, 6, 139], [53, 33, 59, 2356, 296, 935, 102, 57, 433, 1023, 67, 1090], [8, 19, 794, 1, 336, 93, 82, 3, 28, 1529, 5282], [546, 260], [59, 2, 11, 78, 12, 75, 174, 63, 1, 379, 29, 184, 1087, 10], [1, 60, 43, 53, 117, 128, 5283, 79, 40, 2039, 144, 4, 2091, 39, 496, 4, 708, 117, 51, 34, 5284, 3423, 7, 3, 159, 11, 511], [911, 43, 38, 99, 34, 4, 49, 500, 700, 15, 2092, 36, 70, 168, 2, 2510, 56, 188, 335, 31, 4, 500, 3424, 3425, 281, 241, 44, 133, 695, 272, 854, 335, 5285], [50, 136, 226], [3, 16, 122, 103, 2562, 105, 17, 5286], [52, 69, 165, 9, 25, 5, 1566, 11, 321, 608, 110, 249, 1566, 9, 67], [69, 182, 992, 79, 314, 1307, 64, 86, 1, 54], [1115, 69, 382, 9, 1521, 28, 10, 35, 89, 146, 5287, 477, 767, 62, 11, 1205, 1115, 542, 5288, 81, 11, 1205, 5289, 43, 15, 129, 15, 5290, 289, 1300, 501, 2563, 394, 671], [3426, 1918, 34, 1207, 143, 42, 41, 12, 835, 42, 531, 41, 121, 106, 2093, 2, 5, 3427, 338, 18, 42, 41, 28, 42, 63, 41, 42, 41], [1141, 137, 418, 63, 317, 919, 1592], [1, 54, 96, 393, 10], [10, 182, 86, 1, 213, 525, 117, 203, 530, 1108, 117, 118], [171, 12, 2094, 198, 106, 292, 2, 97, 1756, 19], [185, 4, 274, 2495, 15, 1758, 44, 4, 972, 15, 38, 1793, 749, 627, 865, 88, 507, 537, 290, 73, 576, 2, 838, 1044, 305, 154, 1098, 209, 3428, 3429], [5, 778, 315, 3430, 5, 174, 442, 457, 7, 21, 313, 4, 2448, 1020, 5291, 1927, 24, 3431, 46, 19, 248, 21, 72, 50, 1053], [74, 4, 1326, 2084, 3, 21, 444, 2, 342, 4, 589, 31, 14, 2095, 2, 13, 1229, 73, 5, 331, 50, 2, 37, 2510, 2, 126, 191, 130, 5292, 5293], [1, 77, 3, 2, 32, 8, 11, 1402, 2096], [182, 5294, 21, 3, 450, 51], [210, 1988, 333, 9, 8, 1582], [5295, 3, 2041, 223, 32, 108, 202, 426], [50, 56, 1, 33, 59, 2, 38, 78, 160, 332, 127, 441], [319, 5, 629, 819, 192, 68, 2, 48, 2, 2564, 219], [153, 374, 24, 25, 183, 5296, 181, 6, 54, 24, 5297, 1, 5298, 1300, 56, 200, 35, 38, 560, 2, 56, 1, 2097, 74, 111], [93, 70, 22, 53, 3432, 55, 23, 69, 565, 100, 19, 39, 420], [19, 172, 32, 57, 766, 93, 113, 3, 613, 5299, 408, 1, 2, 5300, 190], [3, 16, 122, 103, 2562, 105, 17, 3433], [1554, 27, 3, 134, 14, 220, 26, 29, 3, 68, 2, 36, 203, 530, 150], [90, 90, 30, 182, 267, 45, 33, 3, 1403, 5, 834], [519, 14, 9, 5301, 7, 35, 3, 31, 4, 1328, 2565, 7, 414, 12, 5302, 3, 31, 5303, 15, 1775, 23, 14, 559, 166, 2098], [37, 122, 193, 245, 44, 38, 512, 188, 114, 36, 73, 5304, 2, 3434, 397, 245, 49, 23, 31, 2566, 22, 7, 97, 38, 266, 191, 245, 272, 91, 1874, 2567], [5305, 9, 67, 54], [1571, 10, 2568, 86, 45, 3, 59, 2, 719], [2569, 5306, 3435, 8, 110, 2570, 5307, 5308], [3, 21, 4, 734, 6, 16, 106, 1076, 444, 20, 342, 384, 155, 26, 4, 44, 280, 1461, 1182, 378, 2, 4, 299, 779, 20, 126, 2953], [339, 3, 33, 342, 5, 338, 37, 334, 3436, 63, 101, 12, 5, 3437], [91, 34, 13, 284, 7, 571, 7, 3, 33, 342, 76, 624, 4, 764, 1188, 49, 5309, 28, 2571, 5310, 1658, 154, 5311, 209, 2572, 5312], [23, 109, 2275, 32, 5313, 86, 845, 451, 630], [49, 476, 360, 88, 808, 537, 867, 36, 71, 5, 331, 865, 2, 2573, 22, 268, 179, 136, 154, 2574, 209, 2048, 189, 2099], [354, 912, 10, 323, 1576, 597, 131], [1, 68, 2, 71, 190, 19, 27, 1048, 729, 42, 41, 90, 9, 25, 438, 215], [16, 58, 304, 248, 2, 29, 265, 32, 8, 660, 131], [3438, 298, 316, 17, 10], [176, 50, 93, 5314, 104, 3439, 128], [261, 5315, 5316, 5317, 101, 5318, 5319, 559, 37, 5320, 5321, 37, 47, 5322, 20, 5323, 89, 5324, 5325, 415, 5326, 254, 5327, 5328], [13, 1220, 79, 10, 122, 192, 20, 1982, 162, 1983, 44, 1082, 216, 1121, 275, 1718, 1524, 307, 25, 1984, 455, 1719, 426, 693, 115, 91], [47, 116, 21, 39, 259], [9, 38, 1131, 8, 146, 2575, 26, 612, 451], [118, 5329, 15, 5330, 53, 72, 2, 425, 40, 318, 128], [123, 3, 21, 313, 4, 124, 103, 950, 29, 270, 3, 5, 178, 286, 3, 21, 490, 12, 5331], [119, 141, 1, 27, 378, 73, 20, 6, 37, 780, 112, 6, 31, 661], [1, 68, 2, 498, 3, 5, 375, 412, 47, 79, 3440], [1146, 27, 1068, 125, 2, 324, 7, 457, 585, 1794], [37, 1919, 10, 30, 8, 5, 2576, 251, 367], [22, 30, 72, 51, 44, 344, 219], [261, 224, 5, 1772, 2, 823, 2100, 62, 186, 115], [1, 29, 54, 52, 6, 590, 9, 5, 1241, 15, 25, 2577, 774, 30, 5332, 22, 117, 117, 368, 5333, 227], [1791, 922, 10, 8, 558, 159, 110, 283, 47, 59, 6, 58, 5334], [98, 1795, 161, 25, 931, 1056, 97, 5335, 161, 101, 44, 10, 123, 6, 5336, 5337, 5338, 2578, 5339, 5340, 14, 2097, 180, 2579, 24, 1000, 2018, 5341, 18, 1147, 5342, 254], [1, 17, 3, 131, 95, 16, 427, 35, 1891, 247, 10], [3148, 242, 242, 139, 1991, 15, 145, 65, 11, 118, 368, 308, 139, 434, 118], [105, 17, 5343, 1021, 74, 67, 9, 127, 186, 157, 251, 12, 3], [153, 55, 35, 14, 477, 55, 14, 112, 34, 11, 266, 1363, 3441, 11, 350, 8, 55, 332, 127, 441], [730, 152, 39, 246, 2, 48, 56, 48, 56, 96, 27, 5344, 5345, 373, 86, 5346, 5347], [52, 13, 425, 12, 1684], [36, 203, 547, 318, 15, 890, 45, 5348, 5349, 934, 5350, 119], [25, 263, 604, 72, 2, 367, 1792, 30, 8, 430], [61, 182, 159, 8, 1796, 64, 24, 16, 2, 401], [1263, 1559, 30, 450, 6], [39, 16, 196, 3442, 12, 239, 233, 849, 3443, 2580, 2, 38, 470, 574, 12, 474, 194, 199], [319, 30, 28, 11, 3444, 1136, 155, 57, 636, 39, 1264, 43, 4, 5351], [429, 3, 23, 116, 45, 39, 3268, 748, 3269, 7, 1756, 39, 440, 31, 5, 1291, 15, 13, 720, 123, 3, 21, 57, 2028, 3270, 3, 3271, 119, 39, 21, 3272, 231, 2, 3273, 322], [775, 1253, 359, 557, 775, 7, 43, 44, 14, 22, 17, 5352, 36, 518, 195, 2, 84, 453, 17, 1254, 518, 195], [50, 37, 5353, 36, 381, 19, 4, 269, 8, 77], [1, 33, 82, 8, 332, 127, 441], [161, 8, 5354, 5355, 3445, 1500, 357, 5356, 5357, 686, 55, 5358, 309, 5359, 225, 5360, 5361, 76, 5362, 1074, 18, 5363], [120, 101, 1, 5364, 226, 4, 4, 5365, 2042], [1282, 97, 104, 448, 2101, 563, 156, 22], [27, 6, 31, 20, 113, 22, 1, 326, 244, 20, 635, 43, 163, 17, 10, 22, 18, 5366, 6, 27, 849, 108, 2581, 404, 2582, 671, 1797, 3446], [3447, 822, 217, 2, 2073, 5367, 1480, 1480], [101, 604, 11, 1404, 58, 110, 351, 1593, 289, 1, 60, 713, 486, 2, 91, 6, 26, 130, 6], [35, 3, 83, 514, 2263, 5, 3448, 115, 181, 10, 54, 23, 1, 27, 48, 2, 5, 222, 1, 196, 14, 2, 31, 5, 3449, 143], [50], [427, 779, 5, 233, 9, 49, 12, 179, 634, 759, 1798, 1314], [181, 10, 54, 47, 2, 194, 3, 198, 3, 2298, 8, 4, 367, 651, 54, 3, 21, 50], [489, 6, 43, 20, 6, 5368], [27, 29, 80], [92, 454, 13, 113, 18, 1121, 1265, 50], [27, 1, 163, 109, 28, 216, 74, 44, 125, 1346, 18, 125, 109, 246, 20, 8, 80], [251, 44, 11, 390, 498, 20, 355, 80, 6, 422, 83, 572, 159, 38, 1501], [119, 1240, 9, 40, 5, 207, 63, 6, 279, 583, 744, 15, 563], [61, 1, 5, 64, 75, 132, 738, 5369, 5370], [357, 1562, 1992, 357, 253, 76, 3450, 8, 2011, 4, 330, 132, 3451, 6, 232, 9, 5, 75, 132, 1174, 6, 1706, 116, 24, 3452, 2, 2583, 14, 257, 978], [141, 1, 273, 23, 171], [24, 35, 96, 204, 3453, 30, 50], [36, 1148, 5, 1149, 36, 614, 217], [117, 121, 1494, 12, 334, 65, 177, 121, 59, 8, 4, 288, 138, 265, 3, 295, 55, 5, 1495, 1675, 7, 1101, 13, 1102, 28, 5, 800, 800, 1933, 257, 947], [52, 29, 3, 29, 11, 1405, 484, 1, 232, 203, 547, 5, 318, 15, 13, 65, 2, 16, 331, 46, 3, 112, 3, 526, 51, 15, 63, 18, 13, 1404, 148], [139, 103, 274, 2, 6, 128], [120, 124, 1089, 2450, 1594, 2294, 2, 3454, 5371, 5372, 237, 5373, 76, 272, 265], [324, 5374, 260, 532, 612, 38, 1081, 140, 252, 58, 1081, 28, 928, 630], [120, 168, 1, 510, 3, 480, 541, 12, 4, 638, 7, 56, 3, 5375, 52, 711], [86, 11, 3455, 8, 5376, 9, 8, 1582, 24, 333, 564, 9, 87, 24, 92, 5377, 14, 1, 408, 135, 3, 4, 288, 702, 35, 3, 197, 5, 753, 102, 138, 171, 12, 5, 1649], [139, 434, 265, 53, 38, 611, 59, 519], [1588, 6, 112, 50, 148, 323, 146, 3456, 28, 5378], [97, 104, 1, 165, 324, 350], [183, 1, 61, 551, 24, 33, 405, 11, 5379, 219], [90, 23, 61, 1, 47, 116, 12, 127, 1345, 5380], [13, 1539, 70, 46, 10, 1129, 4, 3457, 40, 63], [124, 2, 385, 3, 21, 5381, 111, 23, 554, 5382, 748, 3458], [448, 5383, 35, 14, 559, 3, 213, 296, 5384, 21, 5385, 3459, 5386, 3460, 7, 3, 142, 213, 399, 12, 218, 2059, 75], [1, 580, 6, 405, 340, 69, 165, 179, 1661], [2584, 1, 706, 20, 48, 89, 146, 138, 161, 1188, 1799, 127, 2585, 1, 58, 43, 757, 162, 136, 6, 1724, 66, 5387, 1053, 204, 40, 9, 11, 5388, 801, 37, 774], [13, 156, 93, 134, 5, 1896, 156, 22], [5389, 9, 2586, 5390, 7, 265, 32, 96, 31, 768], [322, 5, 2102, 5391, 3461, 600, 34, 13, 1100, 12, 20, 103, 5392, 20, 3462, 5393, 31, 133, 415, 46, 2102, 281, 241, 272, 64, 250, 17, 5394], [31, 162, 3463, 1065, 245, 91, 3464, 44, 2402, 26, 3465, 44, 654, 44, 133, 48, 20, 154, 1057, 281, 241, 5, 1800, 89, 286, 488, 2103, 427, 779, 1003, 414], [1, 3466, 1867, 323, 252, 572, 56, 1, 1289, 1099, 109], [50, 32, 2054, 95, 70, 7, 609], [1, 391, 232, 32, 67, 218, 35, 62, 36, 8, 5395, 1, 391, 31, 4, 1266, 219, 36, 292, 2, 32, 183, 1, 77, 14], [6, 81, 128, 116, 672, 2, 11, 308, 35, 6, 48, 504, 1, 33, 32, 5396, 535, 539, 34, 10], [1, 66, 6, 20, 168, 81, 6, 183, 439, 9, 1406, 9, 69, 309, 127, 2104, 73, 1185, 5397], [47, 482, 528, 110, 15, 5, 695, 2560], [58, 24, 58, 20, 3467, 80, 75, 562, 9, 358, 803, 89, 146, 249, 9, 5398, 80, 396, 30, 260, 662, 5399, 11, 511, 22], [2587, 38, 631, 2587, 38, 5400, 3468, 161, 108, 20, 5401, 20, 5402, 6, 326, 152, 354, 622, 721, 10, 4, 421, 475, 170, 1, 1064, 93, 491, 85, 38, 295], [164, 327, 50, 435, 135, 10, 702], [185, 5, 2331, 5403, 3469, 7, 5, 573, 15, 5, 3470, 536, 216, 91, 3471, 619, 216, 1013, 320, 2, 32, 5, 207, 2588, 3472], [935, 23, 47, 60, 147, 87], [36, 196, 200, 29, 3, 1536, 7, 1521, 8, 386, 412], [1, 503, 43, 302, 841, 148, 409, 52, 249, 212], [119, 36, 259, 218, 34, 6, 6], [1, 264, 237, 1407, 32, 50, 69, 165, 505, 5404, 419, 112, 109, 235, 4, 312, 8, 481, 5405], [27, 3, 17, 10, 535, 13, 143, 348, 51, 15, 5406, 859, 1, 16, 1891, 17, 8, 5407, 170, 16, 2, 405, 202, 5408, 2081, 23, 17, 10, 535], [153, 2491, 975, 15, 4, 758, 5409], [101, 60, 8, 5, 5410, 1568], [38, 889, 9, 22, 627, 38, 206, 561, 9, 132, 5411, 5412, 5413, 8, 5, 5414, 20, 619, 73, 38, 619, 2, 1952, 57, 864], [11, 951, 9, 12, 2105, 44, 270, 3, 4, 124, 65], [1, 92, 54, 52, 2, 29, 2, 59, 51, 15, 40, 23, 64, 61, 151, 1013, 55, 40, 92, 1208, 10], [370, 37, 2106, 93, 151, 960], [57, 177, 535, 17, 10, 339], [144, 50, 323, 6, 227, 364, 128, 555], [119, 5415, 90, 80, 398, 163, 249, 65], [119, 4, 332, 441, 9, 116, 1235, 8, 5416, 329, 3473, 869, 873, 3, 484, 31, 23, 116, 133, 147, 260, 8, 4, 65, 329, 199, 34, 53, 19, 916, 63, 921], [1186, 39, 454, 2496, 208, 88, 2945, 25, 36, 2, 32, 944, 46, 259, 577, 24, 2, 167, 51, 132, 3474, 428, 2, 685, 5, 2496, 170, 31, 1926, 3475], [368, 39, 265, 26, 265, 25, 48, 2, 1106, 2, 163, 717, 23, 5417, 5418, 3476, 8, 19], [56, 96, 1078, 87, 252, 37, 77, 2, 136, 1118], [370, 101, 1, 94, 901, 517, 2, 938, 554, 5, 425], [188, 968, 1397, 114, 1267, 32, 5419], [356, 5420, 111, 161, 67], [36, 2589, 12, 334, 2107, 35, 3, 214, 227, 5, 497, 9, 25, 4, 5421, 5422, 23, 82, 47, 14, 5423, 467], [153, 93, 271, 2, 3131, 190, 43], [733, 1233, 417, 1801, 252, 55, 658, 433, 359, 25, 10, 11, 1268, 55, 152, 417, 5424, 5425, 2388, 24, 1, 236, 264, 69, 9, 612, 110, 628, 860, 479, 741, 93, 48], [211, 1017, 18, 5426], [5427, 5428, 857, 5429, 5430, 26, 190, 55, 19], [9, 14, 50, 35, 1, 539, 5, 117, 108, 2489, 121, 4, 647, 1558, 7, 30, 259, 885], [96, 1084, 77, 102, 552], [327, 116, 2590, 28, 78, 102, 1595, 2068, 425], [5431, 500, 963, 5432, 65, 700, 15, 2092, 73, 700, 2, 5433, 92, 175, 51, 56, 188, 335, 4, 3477, 3424, 44, 133, 695, 136, 3425, 281, 241, 5434, 854, 335], [1273, 532, 1119, 140], [319, 3478, 37, 285, 3479, 156], [181, 38, 308, 32, 38, 5435, 38, 321, 38, 2448, 38, 3480, 38, 1693, 7, 6, 33, 294, 3160, 8, 375, 5436, 196, 895, 5437, 209], [1096, 227, 111, 86, 105, 94, 189, 432, 105], [5438, 1, 5439, 5440, 125, 21, 3, 1, 16, 2, 48, 7, 1571, 11, 285, 28, 216], [1586, 11, 1784, 2, 129], [6, 3481, 2, 5441, 129, 1150, 62, 25, 1379, 5442, 3482, 210, 557, 62, 5, 3483], [57, 447, 1580, 47, 477, 3, 65, 102, 864, 59, 13, 138, 1, 100, 15, 3, 3484, 7, 71, 11, 66, 1040, 5, 809, 2, 134, 3, 295, 7, 139], [35, 1, 355, 883, 2108, 1372, 2, 1167, 33, 3, 167, 5443, 12, 10, 55, 3485, 345, 7, 97, 457, 25, 2, 201, 1266, 46, 698, 119], [42, 41, 15, 1802, 1803, 34, 831, 3356, 5444, 107, 501, 257, 5445, 349, 5446, 1596, 1, 196, 466, 20, 6, 6, 648, 31, 257, 636, 18, 743, 76, 145, 330, 3, 55, 7, 150, 33, 32, 5, 286, 65, 15, 13, 166, 92, 685, 40, 2591, 35, 3, 685, 3, 33, 5447, 71, 40, 2, 42, 41, 876, 8, 42, 41, 278, 3486, 6, 802], [319, 538, 336, 132, 36, 58, 1804, 5, 249, 65], [1365, 152, 579, 20, 2592, 5448, 6, 597, 125, 125, 81, 6, 22], [52, 382, 5, 3487, 3203, 29], [1906, 30, 101, 24, 2109, 7, 1, 2017, 128, 572, 2, 32, 486, 2, 48, 406, 27, 3, 36, 105, 167, 110, 249, 138, 2, 31, 52, 3, 478, 199, 2, 31, 105, 5449, 10, 3, 27, 91, 49, 895, 1212, 2593], [120, 1, 33, 32, 158, 763, 229, 3, 68, 2, 48, 12, 5, 667, 207, 1, 33, 469, 3, 30, 64, 1151, 5450, 1092], [556, 299, 1597, 17, 22, 1598, 36, 1152, 238, 195, 1051, 714, 423, 362, 1408, 1409, 1410, 1411, 1269, 90], [5451, 40, 410, 28, 694, 46, 5452, 38, 848, 20, 59], [1, 95, 54, 262, 212, 240, 767, 5453, 2007, 69, 5454, 1210, 560, 18, 757, 25, 2469, 57, 428, 766], [508, 30, 51, 16, 4, 57, 117], [112, 3, 271, 528, 334, 2530], [123, 3, 21, 557, 124, 115, 2110, 10, 8, 932], [1, 461, 39, 1407, 48, 51, 89, 16, 110, 415, 23, 3488, 8, 458, 26, 190, 1129, 971, 50], [122, 48, 2, 1153, 130, 20, 454, 18, 2471, 1265, 162, 1412, 5, 3489, 34, 887, 44, 985, 42, 41, 216, 2594, 1035, 38, 887, 62, 2085], [3490, 700, 5455, 7, 2595, 1019, 7, 2419, 8, 1058, 53, 5456, 271, 1253, 244, 34, 1393, 2596, 17, 3491, 518, 195, 20, 84, 453, 17, 1254], [534, 103, 987, 46, 1184, 484, 48, 73, 193, 2, 37, 2300, 472, 566, 87, 46, 64, 343, 154, 44, 792, 1314, 1670, 2301, 2302, 2303, 1552], [546, 791, 311, 1451], [5457, 5458, 3492, 294, 205, 43, 104, 113], [567, 278, 567, 73, 122, 20, 527, 2111, 18, 352, 443, 1206, 987, 17, 756, 12, 5, 178, 352, 903, 806, 26, 964, 5459], [226, 795, 1555, 38, 351], [1, 1012, 1705, 2, 3493, 721, 6], [39, 1007, 88, 306, 251, 12, 5, 3494, 5460, 2, 5461, 8, 3495, 15, 199, 24, 52, 39, 668, 9, 5462, 21, 490, 76, 1413, 25, 76, 251, 1096], [62, 50, 11, 3496, 9, 557, 1642, 1296, 1, 58, 4, 2597, 23, 39, 27, 48, 334, 63], [105, 5463, 1342, 18, 776, 626, 46, 768, 2, 5464, 7, 200, 46, 3497, 2, 768, 18, 773, 626, 1, 148, 82, 8, 524, 37, 1342, 632, 1, 68, 2, 536, 1342, 906, 5465], [3498, 130, 569, 6, 1513, 145, 3499, 6, 152, 261, 29, 6, 765, 3500, 9, 145, 333, 1599, 15, 261, 144, 145, 284, 15, 4, 388, 141, 7, 6, 765, 132, 9, 349, 388, 3501, 261, 96, 9, 145, 3502, 832, 3503, 132, 3504, 3505, 1414, 75, 27, 2598, 145, 284, 15, 4, 330], [240, 50, 1, 2599, 8, 2, 151, 757, 190, 7, 96, 165, 1166, 106, 8, 21, 3, 208, 5466, 569, 40, 388, 615], [53, 146, 286, 44, 38, 951, 131], [123, 38, 656, 738, 577, 20, 116, 61, 5467, 11, 138, 906, 4, 5468, 15, 5469, 1083, 8, 34, 4, 5470, 220, 59, 1204, 35, 3, 55], [119, 90, 1, 100, 479, 15, 5471, 7, 5472, 1415, 1763], [256, 125, 58, 23, 729, 728, 1180, 264, 945, 48, 44, 4, 345, 398, 58, 3506, 1358, 131, 39, 48, 5473, 454, 5474, 146, 1180], [1, 973, 47, 3, 58, 541, 11, 66, 137, 3, 710, 2, 5, 524, 1600, 112, 3, 31, 13, 113, 5475, 211, 3, 18, 4, 266, 524, 1, 100, 15, 3, 718], [256, 36, 3507, 5476, 716, 1045], [264, 2600, 180, 27, 226, 1, 954, 48, 44, 1094, 256, 27, 48, 12, 75, 778, 3508], [119, 50], [81, 39, 83, 316, 44, 344, 220], [310, 301, 1, 61, 4, 2256, 7, 33, 702, 3, 34, 2257, 7, 1646], [408, 1, 355, 46, 385], [56, 39, 203, 44, 6, 80, 37, 77, 20, 213, 399, 323], [37, 112, 3, 325, 1, 58, 210, 5477, 157, 22], [3, 16, 1255, 3509, 74, 3510, 790, 8, 28, 3511, 209, 7, 865, 2112, 42, 41, 2, 871, 2601, 15, 3512, 29, 25, 1416, 26, 3513, 2112, 2, 698], [37, 1, 706, 19, 64, 277, 132, 189, 79, 283, 1805, 7, 2602, 79, 283, 9, 12, 5478], [3514, 322, 38, 1592, 1358, 264, 146, 638, 2603, 686, 5479, 93, 48, 1697, 1698, 398, 130, 6], [3, 16, 1255, 3509, 74, 3510, 790, 8, 28, 3511, 209, 7, 865, 2112, 42, 41, 2, 871, 2601, 15, 3512, 29, 25, 1416, 26, 3513, 2112, 2, 698], [301, 39, 33, 16, 415, 3515, 528, 3516], [396, 259, 311, 2, 235, 5, 297], [90, 90, 102, 288, 87], [186, 487, 920, 12, 1400, 1140, 87, 9, 13, 670, 65, 20, 167, 51, 164, 790, 1401, 5480, 154, 5481, 209, 67, 9, 4, 1047, 979, 1260, 12, 3], [56, 39, 878, 29, 14, 160, 19], [198, 58, 901, 1312, 960, 9, 309, 5482], [125, 28, 211, 775, 128], [115, 378, 2, 19, 239, 1890], [1017, 51, 67, 3517, 5, 3518, 1806, 803, 225, 100, 8, 15, 6, 110, 125, 51, 67, 125, 611, 59, 519, 2604, 170, 368, 611], [569, 38, 1082, 2991, 798, 721, 6, 1012, 94, 14, 1282, 595, 309, 798, 9, 145, 479, 1930, 89, 519, 138, 15, 1673, 1195, 2992, 189, 89, 404, 2993, 2994, 16, 228, 65, 86], [118, 1487, 106, 1075, 2, 1783, 40, 9, 88, 633, 520, 2, 194, 6, 73, 244, 2, 687, 191, 2113, 804, 805, 653, 1026, 1116, 268, 1250], [23, 1555, 38, 1220, 482, 129, 7, 47, 482, 9, 1524], [960, 9, 5483, 7, 1807, 10, 19, 254, 9, 1808, 758, 43, 5, 5484, 74, 39, 378], [37, 304, 587, 202, 234, 2, 511, 821], [37, 973, 173, 1, 236, 1809, 872, 4, 3519, 315, 24, 1, 264, 1, 510, 4, 1259, 75], [1417, 94, 4, 700, 7, 71, 14, 2, 10], [378, 64, 45, 3, 213, 13, 563, 21, 296, 329, 5, 3520, 257, 947], [37, 662, 842, 8, 2232, 12, 19], [29, 3, 147, 53, 40, 114], [754, 38, 346, 582, 627, 15, 1097, 522, 623, 49, 476, 20, 88, 507, 537, 290, 73, 576, 2, 838, 1490, 154, 1098, 209, 122, 5485], [176, 124, 22, 161, 259, 775], [141, 22, 64, 510, 13, 157], [93, 32, 28, 781, 8, 55, 42, 41, 2490], [50], [212, 81, 57, 394, 58, 1810, 8, 890, 1093, 260, 37, 3521, 9, 2584, 83, 34, 5486, 1093, 878, 5487, 44, 3522, 293, 991, 254], [97, 3, 52, 35, 3, 134, 4, 421, 5488, 7, 1500, 3523, 1375, 14, 60, 2, 680, 2, 5489, 132, 2035, 128, 116, 12, 5, 5490, 345, 15, 2105], [12, 1252, 2605, 5491, 57, 3524, 24, 37, 5492, 26, 5493], [95, 416, 85, 28, 5, 2447, 328, 3, 16, 37, 3525, 7, 1, 95, 68, 3, 2, 31, 133, 1066, 36, 1357, 78, 7, 1769, 4, 3525, 2, 5, 907], [11, 2606, 1482, 273, 1, 232, 271, 2, 197, 2607, 139, 53, 5, 63, 24, 1146, 5494, 10, 45, 1, 61, 701], [171, 12, 2114, 861, 5495, 3, 1114], [3, 5496, 5497, 3, 16, 4, 124, 63, 7, 82, 3, 575, 219], [1, 473, 1667, 2, 59, 768, 7, 673, 12, 317], [457, 234, 51, 752], [1, 354, 123, 62, 519, 19, 2608, 10, 173, 30, 158, 2608, 129, 3, 550, 260, 184, 2, 213, 2609, 79, 263], [140, 23, 229, 83, 364, 824, 26, 39, 499, 48, 44, 344, 80, 2115, 1, 409], [2096, 267, 431, 2610, 7, 1786], [8, 1058, 45, 29, 3, 235, 1, 100, 2611, 477, 85, 2, 485, 3526, 26, 1565], [301, 5498, 2116, 731, 5499, 1583, 5500, 1760, 53, 583, 251, 2, 270, 6, 751, 170, 16, 4, 228, 65], [226, 72, 12, 3527], [62, 50, 1, 36, 1299, 112, 6, 765, 1150, 37], [49, 397, 114, 476, 20, 2117, 44, 4, 320, 20, 185, 1527, 969, 26, 808, 155, 188, 335, 73, 2118, 2, 2573, 1044, 305, 154, 2117, 524, 1022, 2099], [448, 5501, 5502], [1, 61, 8, 4, 1359, 5503], [1374, 55, 6, 648, 180, 259, 4, 5504, 161, 620, 108, 757, 20, 3054, 24, 35, 6, 81, 3528, 12, 11, 720, 1, 214, 656, 8, 815, 39, 211, 560, 2, 163, 8, 5505], [1458, 135, 4, 5506, 3529, 489, 107, 100, 7, 1, 2612, 1458, 321, 102, 269, 15, 694, 7, 53, 19], [74, 4, 1255, 5507, 2084, 38, 290, 44, 507, 522, 697, 33, 32, 1181, 18, 1785, 15, 4, 935, 912, 2, 1735, 786, 1384, 8, 5, 5508, 5509], [152, 5510], [130, 10, 45, 5511, 615], [226, 45, 21, 109, 643, 1970, 3530, 1094, 1, 355, 8, 2075], [240, 57, 328, 1, 77, 1045], [1015, 62, 25, 1379], [27, 109, 53, 1068, 2027, 173, 11, 681, 72, 78, 340], [5512, 791, 108, 787, 4, 244, 26, 1317, 34, 500, 1674, 8, 784, 859, 2, 31, 5513, 43, 36, 91, 1381, 22, 49, 20, 469, 2119, 73, 84, 5514], [6, 647, 22, 26, 3, 72, 2, 94, 256, 1, 58, 5515, 140, 10, 541, 936, 89, 1165, 3531, 80], [2613, 108, 61, 2577, 3342, 63, 61, 22, 701, 6, 326, 849, 192, 1056, 244, 22, 5516, 123, 20, 136, 6, 404, 2613, 671, 1797, 3446], [1979, 34, 5, 375, 9, 438, 6, 582, 185, 26, 728, 389, 3123, 34, 1980, 132, 9, 672, 2, 6, 9, 3124, 35, 6, 728, 6, 728, 35, 6, 185, 6, 83, 728], [1811, 75, 445, 7, 22, 259, 453, 3532, 162, 1232, 5517, 133, 488, 820], [5518, 3533, 5519, 604, 389, 5520, 5521, 3534, 3535, 5522, 3536, 5523, 1359, 3537, 5524, 23, 3534, 9, 713, 263, 5525, 604, 3535, 5526, 3533, 3538, 3538, 145], [1117, 207, 75, 934, 8, 28, 2614, 2615, 378, 613], [2616, 186, 13, 99, 37, 2617, 187, 4, 852, 462, 589, 826, 149, 18, 1221, 1270, 827, 40, 9, 5, 446, 520, 2, 405, 3, 17, 2616, 976], [50, 57, 56, 1, 131, 59, 167, 109, 136, 670, 1, 253, 109, 2, 48, 815, 131, 1802, 94, 298, 109, 37, 133, 200], [140, 559, 6, 264, 93, 1567, 231, 24, 396, 1, 264, 30, 358, 5527, 20, 2556, 670, 11, 457, 28, 78, 1, 151, 129, 59, 89, 1545, 10, 148], [3, 5528, 21, 276, 5, 5529, 193, 113, 4, 1527, 969, 1348, 782, 26, 4, 627, 149, 73, 331, 472, 2, 37, 1720, 792, 5530, 5531, 5532, 191, 2462, 5533], [1, 379, 682, 3, 34, 51, 13, 5534], [98, 62, 3539, 3540, 28, 5535, 53, 65, 762, 1, 33, 180, 701, 28, 1355, 6, 787, 5536, 192, 115, 235, 130, 1108, 5537, 3539, 254, 1797, 2618], [307, 3541, 8, 11, 375, 3542, 3, 3543, 38, 1520, 3544, 38, 295, 2120, 38, 3545, 2543, 38, 2121, 446, 38, 247, 7, 397, 38, 861, 691, 57, 177, 118], [94, 110, 959, 5538, 5539, 12, 2066], [119, 6, 484, 16, 2010, 13, 333, 1234, 51, 406, 207], [36, 196, 3, 127, 661, 1129, 2, 127, 571, 34, 5540, 8, 14, 9, 19, 156], [33, 29, 3, 223, 32, 28, 2619, 53, 117, 1, 356, 32, 486, 2, 31, 51, 15, 108, 4, 421, 364], [691, 9, 25, 4, 629, 2, 353, 14, 9, 25, 4, 331, 2, 152, 14, 5541, 2509, 355, 18, 890, 7, 1016, 18, 265, 14, 9, 150, 525, 87, 7, 146], [228, 203, 142, 3, 32, 1449, 156, 22, 30, 25, 223, 401, 13, 1342, 226, 54], [30, 380, 2620, 690, 11, 681, 466, 612, 23, 6, 246, 20, 163, 10, 44, 344, 28, 555, 4, 25], [164, 3, 1601, 10, 504, 55, 40], [1, 100, 62, 725, 133, 329, 19, 24, 167, 51, 325, 1812, 5542, 12, 4, 222, 46, 13, 3214], [11, 568, 60, 50, 24, 358, 5543, 80, 1786, 1210, 87, 24, 144, 50, 44, 10, 173, 30, 25, 643, 102, 3546, 24, 354, 5544, 18, 11, 633, 784, 845], [16, 3, 232, 106, 608, 2518], [30, 4, 521, 5545, 9, 5546], [3547, 15, 691, 481, 442, 9, 25, 79, 709, 160, 1020, 5, 1368, 157, 62, 79, 709, 36, 76, 872, 5, 284, 257, 2015, 5547], [1, 142, 1243, 19, 1, 95, 158, 189, 7, 35, 3, 221, 1, 27, 28, 863, 31, 40, 538, 2, 456, 217, 24, 120, 13, 215, 35, 3, 68, 14], [261, 1321, 47, 477, 19, 103, 317, 21, 3, 67, 22, 21, 3, 139, 29, 3, 100, 15, 10, 1, 503, 11, 1246, 7, 71, 3, 4, 1560, 413, 46, 1040, 5, 809], [1, 253, 13, 143, 2, 2327], [97, 169, 37, 77, 2, 5548, 79, 10, 2465], [50, 1, 499, 342], [230, 596, 1, 165, 23, 242, 248, 2, 3, 40, 177, 45, 53, 1, 158, 478, 2, 152, 60, 57, 177, 1, 66, 3, 16, 4, 606, 177, 82, 3, 8, 5, 1244, 131], [13, 338, 121, 106, 2093, 34, 534, 49, 70, 495, 2, 1523, 36, 73, 5, 331, 774, 2, 37, 1798, 179, 305, 154, 1798, 1314], [8, 5, 318, 96, 356, 83, 1813, 24, 62, 467, 25, 439, 33, 59, 51], [47, 21, 3, 34, 215, 74, 8, 2, 3, 215, 1814, 4, 212, 47, 21, 3, 2122], [14, 121, 439, 2, 29, 34, 5, 1540, 197, 916, 1041, 62, 4, 1338, 24, 327, 1581, 115, 679, 15, 5549, 136], [120, 1747, 698, 15, 6, 72, 231, 2, 146, 551, 2123, 451], [30, 232, 18, 1212, 2593, 22, 36, 71, 5, 157, 2, 10, 7, 1, 391, 31, 14, 3, 265, 16, 2, 71, 14, 8, 5, 99, 1265, 2122, 24, 1, 391, 31, 14, 7, 33, 91], [30, 1511, 14, 18, 22, 14, 142, 32, 311, 12, 42, 63, 41], [63, 89, 295, 81, 5, 442, 5550, 248, 8, 88, 166, 1186, 63, 559, 199, 2, 668, 295, 7, 1186, 5551, 295, 559, 199, 2, 668, 63, 257, 1128], [247, 874, 3548, 1055, 9, 1328, 24, 6, 265, 25, 54, 125, 5552, 14, 1108, 38, 5553, 5554, 81, 1402, 5555, 91, 912, 690, 561, 318, 91, 318, 3548], [5556, 5557, 5558, 12, 5559, 5560], [556, 299, 1597, 17, 22, 1598, 36, 1152, 238, 195, 1051, 714, 423, 362, 1408, 1409, 1410, 1411, 1269, 9, 4, 544, 376, 17], [732, 37, 86, 786, 3, 425], [303, 32, 67, 18, 42, 41, 50], [119, 11, 363, 30, 819, 78], [2124, 361, 5561, 49, 823, 744, 40, 8, 1812, 673], [171, 12, 5, 1805, 22, 1749, 2125, 34, 5, 2621, 34, 2622, 18, 13, 99, 12, 4, 49, 989, 36, 91, 34, 1749, 22], [686, 55, 190, 19, 225, 3549, 10, 172, 5562], [45, 6, 66, 225, 92, 134, 169, 2, 66, 6, 74, 116, 74, 6, 29, 24, 66, 169, 23, 116, 19, 107, 92, 68, 2, 32, 980, 76, 698, 1602, 3, 257, 3550], [1019, 9, 40, 13, 113, 83, 62, 3009, 46, 719, 7, 5563, 52, 21, 3, 43, 2, 22], [993, 101, 36, 2, 325, 19, 3, 95, 321, 913, 10, 43, 613, 28, 332, 2623, 46, 1591, 172, 19, 32, 50], [120, 368, 1, 60, 1148, 45, 3, 137, 4, 1027, 35, 3, 356, 59, 2, 10, 1, 68, 2, 71, 4, 2624, 2, 225, 24, 14, 565, 48, 192, 1212, 12, 169, 328, 831, 1666, 1283, 381, 45, 3, 635, 43, 19, 1297, 12, 10, 2, 48, 2, 7, 823, 5, 3551, 5564, 214, 3, 97, 10, 47, 2, 29, 19, 26, 29, 3, 54, 110, 249, 138, 2, 823, 341, 1920, 328, 107, 27, 823, 283, 1463, 46, 5, 1306, 102, 250, 172, 32, 124, 11, 2533, 1560, 413], [769, 5, 5565, 36, 620, 5566], [90, 53, 5, 286, 669], [1, 973, 35, 783, 31, 40, 70], [1, 77, 2, 59, 78, 7, 135, 3, 110, 57, 5567], [88, 1577, 103, 99, 576, 233, 9, 22, 299, 5, 49, 576, 782, 33, 1418, 2126, 36, 5568, 18, 13, 113, 2, 5569, 747, 46, 5, 594, 5570], [408, 1, 151, 75, 212, 35, 3, 92, 1208, 10], [325, 721, 5571, 5572, 1, 146, 3552], [186, 13, 99, 37, 60, 346, 4, 852, 462, 589, 826, 149, 18, 122, 3306, 827, 40, 9, 88, 446, 520, 2, 194, 3, 17, 2408, 5573, 5574, 2409, 389, 544, 376], [21, 3, 798, 34, 10, 52, 598, 118], [1, 264, 6, 236, 529, 20, 2473, 8, 146, 3553, 148, 80, 173, 1, 253, 2625, 89, 909, 9, 72, 20, 97, 1365], [291, 50, 394], [98, 5575, 5576, 47, 21, 3], [115, 115, 167, 51, 46, 3554, 5577], [873, 1, 66, 3, 5578, 116, 3, 54, 1, 27, 1535, 1171, 14, 1, 973, 47, 13, 65, 477, 7, 35, 3, 21, 111, 11, 66, 1, 100, 15, 3, 7, 175, 3], [37, 1815, 513, 5579], [120, 52, 598, 542, 21, 3, 508], [142, 1, 16, 1264, 43, 4, 1785, 26, 190, 815], [1, 100, 768, 111, 2298], [119, 5580, 1, 287, 590, 811, 71, 19, 2, 3, 176], [3555, 198, 36, 684, 51, 19, 39, 16, 2, 205, 11, 755, 43, 46, 5, 1816, 19, 452, 23, 95, 100, 93, 32, 72, 51, 28, 53, 39, 142, 271, 2, 48, 51, 75, 15, 900], [1791, 1676, 1, 22, 243, 775], [381, 18, 19, 65], [3, 16, 187, 4, 193, 2127, 40, 9, 52, 3, 31, 45, 3, 185, 88, 49, 664, 2, 94, 418, 71, 193, 2, 1603, 22, 1025, 804, 805, 653, 2128, 272], [431, 14, 213, 888, 13, 25, 11, 333, 1234, 36, 11, 319, 1234, 218, 637, 6, 3170, 353], [53, 686, 57, 1352, 559, 14, 923, 2, 744], [1390, 28, 5, 5581], [255, 25, 183, 19, 30, 25, 292, 2, 134, 2489, 680, 328, 1, 95, 68, 2, 680, 160, 309, 253, 1, 680, 128, 116], [90, 59, 2, 5582, 45, 255, 260], [29, 6, 3556, 3557, 9, 3558, 691, 161, 3559, 2129, 127, 3560, 3561, 2626, 2130, 130, 3562, 3563, 15, 2130, 130, 9, 3564, 389, 3565, 2129, 27, 3566, 14, 3567, 3568, 3569, 1096, 170, 16, 4, 228, 227, 368, 611], [22, 985, 5583, 86], [261, 46, 443, 12, 122, 2485, 49, 1109, 2, 652, 636, 7, 1498, 505, 419, 49, 453, 7, 929, 1393, 495, 91, 141, 1036, 414, 154, 443, 281, 241, 3570], [160, 2965, 5584, 67, 9, 37, 279, 8, 3571, 3572], [57, 447, 11, 66, 102, 317, 2627, 21, 3, 450, 10, 52, 29, 3, 29, 21, 3, 309, 1080, 7, 5585, 833, 26, 139, 7, 3573, 34, 11, 66], [5586, 1099, 6, 1159, 3574, 3], [2131, 323, 5587, 37, 77, 201, 23, 364, 173, 35, 201, 22, 1, 878, 850, 11, 315], [10, 1, 92, 54, 200, 119], [538, 3575, 12, 2420, 69, 58, 591, 7, 5588, 58, 2628], [69, 483, 98, 7, 2, 31, 13, 899, 85, 2, 1419, 1249, 2629, 28, 4, 5589], [8, 146, 130, 354, 22, 6, 165, 171, 12, 522], [6, 128], [50, 47, 3, 118, 112, 3, 17, 2366], [153, 39, 29, 5590, 45, 6, 326], [50, 1, 684, 466, 5591, 5592, 75, 224, 1374, 1018, 1817, 929, 62, 18, 1252], [57, 227, 9, 79, 3576, 5, 330, 121, 2, 5593, 4, 3576, 19, 5, 1692, 33, 1448, 7, 279, 35, 3, 68, 2, 54, 133], [140, 81, 6, 159], [157, 46, 1, 61, 28, 5594, 994, 18, 5595, 3, 27, 113, 10, 108, 74, 1, 16, 4, 113, 76, 11, 836], [1224, 312, 34, 4, 341, 1599, 175, 184, 44, 38, 286, 166, 24], [36, 58, 110, 866, 215, 102, 320, 3, 7, 5, 2630, 68, 2, 48, 18, 4, 2002, 2121, 3577], [1012, 516, 279, 1069, 2472, 8, 4, 5596, 2132, 182, 94, 20, 2631], [538, 36, 510, 4, 2321, 315, 34, 62, 5597, 2599, 43, 3575], [31, 311, 2, 454, 18, 13, 1154, 1223, 424], [3479, 161, 2632, 426, 2633], [5, 42, 41, 502, 19, 1, 510, 4, 304, 306, 841, 5, 521, 585, 1048, 3578, 64, 12, 42, 41, 7, 34, 1776, 12, 42, 41, 240, 164, 1, 5598, 129], [1, 61, 229, 1, 33, 32, 67, 28], [696, 161, 763, 1768, 217], [1, 92, 16, 19, 116, 5599, 8, 285], [37, 1, 58, 3579, 19, 3, 72, 2, 201, 1652, 8, 768], [1119, 5600, 390, 411, 5601], [38, 155, 889, 9, 842, 534, 666, 2, 1337, 38, 155, 8, 22, 71, 48, 2, 687, 64, 191, 130, 1505, 1335, 1025, 804, 805, 653, 1026], [247, 664, 4, 1577, 103, 193, 3580, 9, 43, 44, 664, 87, 664, 9, 49, 20, 469, 94, 418, 73, 193, 2, 1603, 22, 1025, 804, 805, 653, 1026], [11, 681, 9, 2555, 146, 498, 8, 146, 447, 23, 30, 25, 380, 690, 104, 23, 136, 6, 246, 20, 373, 87, 26, 451, 80], [686, 658, 256, 27, 1889, 6, 1697, 1698, 23, 729, 340], [37, 2, 32, 5602, 1, 336, 2133, 61, 1, 192, 5603, 35, 30, 5604], [381, 53, 448, 2134, 1, 577, 1399, 306, 15, 5605, 5606, 8, 10, 77, 2, 401, 4, 527, 23, 32, 14, 265, 5607, 197, 10, 72, 7, 74, 6, 165, 1006, 19, 1, 31, 5, 321, 2, 31, 192, 5, 262], [47, 2, 134, 4, 388, 139, 144, 25, 28, 53, 923, 2, 134, 708, 139, 6, 64, 77, 2, 32, 122, 4, 269, 20, 5608, 162, 1321, 44, 5609, 42, 41, 57, 5610, 42, 41, 5611, 42, 41, 57, 3581, 42, 41, 178, 1042, 42, 41, 5612, 42, 41, 5613, 42, 41, 1041, 42, 41, 5614, 42, 41, 5615, 42, 41, 519, 42, 41, 5616, 42, 41, 1971, 42, 41, 5617, 42, 41, 5618, 5619, 42, 41, 5620, 42, 41, 5621, 42, 41, 5622, 42, 41, 3582, 5623, 5624, 5625], [164, 9, 19, 412, 1, 2013, 5, 2634, 21, 53, 2635, 3], [1, 408, 536, 5626, 5627, 12, 332, 2623, 35, 240, 50, 34, 3], [5628, 2569, 1955, 5629, 60, 5630, 8, 13, 367, 26, 190], [1031, 28, 5631, 297, 22, 82, 3, 773, 42, 162], [144, 301, 181, 10, 54, 202, 14, 3583, 217, 208, 42, 41, 93, 32, 51, 7, 79, 53, 65], [1, 60, 1148, 35, 14, 172, 32, 467, 12, 3, 2, 17, 882, 1059, 7, 181, 129, 54, 19, 248, 21, 25, 5, 262, 8, 1167, 74, 107, 81, 108, 19, 42, 41, 1708, 9, 5632, 196, 7, 19, 3, 54, 62, 4, 5633, 24, 1, 425, 2, 401, 85, 188, 3584, 69, 1712, 188, 3584, 23, 12, 10, 2, 1931, 184, 46, 3, 9, 25, 3530, 190, 55, 19], [67, 21, 37, 249, 1714, 160, 2379, 1714, 7, 3, 27, 5634, 5635, 3, 55], [92, 673, 66, 181, 66, 167, 6, 310, 164, 62, 393, 3585, 8, 66, 952, 6, 92, 2636, 549, 6, 36, 1567, 7, 6, 54, 67, 9, 3586, 2, 797, 6, 894], [28, 44, 1788, 48, 2, 1009, 5636], [1, 66, 3, 3, 635, 11, 3480, 18, 3587, 14, 9, 25, 36, 4, 5637, 24, 14, 9, 4, 3588, 4, 341, 5638, 3588, 5639], [5640, 225, 9, 1563, 490, 44, 6, 7, 363, 121, 706, 4, 2036, 63, 2, 134, 6, 163, 349, 330, 547, 398, 322, 38, 5641], [240, 11, 5642, 5643], [33, 14, 250, 35, 39, 3589, 72, 85, 200, 150], [641, 13, 855, 338, 675, 12, 348, 856, 857, 904, 204, 1, 436, 592, 17, 5644, 712, 400, 3296, 676, 3297, 703, 905], [294, 2637, 4, 65, 8, 38, 166, 57, 306, 135, 6, 908, 399, 306, 135, 6, 1310, 575, 21, 1997, 8, 166, 53, 21, 3590, 2638, 57, 177], [115, 871, 5, 63, 2, 472, 5, 5645], [74, 4, 1255, 2084, 784, 290, 44, 4, 507, 522, 697, 33, 180, 1181, 18, 1785, 15, 4, 935, 912, 45, 21, 5, 206, 5646, 73, 912, 2, 1735], [186, 13, 99, 143, 121, 106, 346, 34, 4, 618, 149, 276, 17, 2551, 46, 657, 312, 126, 1214, 506, 674, 64, 371], [1228, 33, 94, 57, 189, 15, 3], [153, 374, 1, 83, 878, 325, 51, 34, 5647], [90, 56, 102, 249, 288], [717, 9, 643, 210, 368, 63, 74, 1103, 23, 181, 10, 54, 45, 3, 7, 5648, 21, 260, 68, 2, 680, 7, 93, 97, 129, 2, 5649, 899], [50, 432, 327, 351], [16, 3, 977, 79, 19, 317, 30, 72, 2, 19, 5650, 282, 200, 220, 35, 6, 5651, 62, 5652, 7, 4, 5653, 26, 696, 14, 9], [363, 1264, 43, 4, 1583, 7, 3591, 3592, 2311, 3593, 6, 7, 5, 69, 3594, 3595, 40, 269, 9, 1106], [45, 3, 480, 2, 1702], [50, 37, 741, 93, 59, 160, 314, 56], [354, 777, 6, 349, 93, 180, 620, 44, 5654, 18, 2225, 1420, 23, 603, 529, 133, 63, 20, 163, 43, 5655], [21, 13, 2639, 21, 3, 78, 263, 33, 3, 381, 2, 413, 13, 881, 8, 5, 177, 29, 3, 66, 10, 29, 3, 100, 15, 10, 21, 3, 450, 10, 263], [3, 53, 311, 12, 341, 65, 150], [93, 374, 32, 208, 781, 4, 337], [5656], [5657, 1241, 5658, 361, 600, 77, 250, 772, 2640, 281, 241, 26, 17, 5659, 3, 484, 32, 272, 600, 1100, 5660, 28, 154, 2640, 281, 241, 322], [5661, 538, 6, 359, 51, 1056], [10, 5662, 1549, 1046, 3, 2051, 431, 11, 1634, 5663], [1030, 1, 137, 11, 553, 86, 46, 51], [90, 559, 1325, 1723, 717, 9, 309, 923, 23, 3, 359, 21, 223, 680, 475, 1, 48, 205, 43, 5, 638, 3596, 7, 31, 866], [112, 6, 823, 5, 5664, 1466], [5, 20, 1790, 521, 9, 309, 1117, 3597, 24, 75, 269, 9, 1203, 8, 913, 43, 42, 41, 749, 220, 35, 1379], [266, 19, 6, 27, 539, 18, 1522, 244, 34], [456, 168, 1, 175, 3, 3598, 116, 1, 270, 3, 211, 108, 2, 227, 34, 10, 11, 386, 9, 23, 1740, 1, 48, 22, 2, 227, 2, 943, 15, 3, 11, 66], [1751, 9, 178, 693, 699, 9, 182, 693, 2135, 9, 128, 693, 2641, 9, 3599, 693, 24, 309, 3600, 9, 178, 923, 257, 5665], [6, 16, 4, 753, 1011, 132, 9, 433, 20, 134, 194, 34, 6, 167, 51, 132, 107, 81, 891, 132, 793, 38, 23, 288, 17, 18, 3601], [347, 111, 19, 3602, 248, 5666, 14], [534, 49, 70, 677, 36, 70, 50, 2, 1798, 7, 603, 774, 13, 338], [98, 118, 17, 10, 62, 1891, 1, 95, 54, 786, 13, 351, 3, 95, 68, 2, 147, 26, 35, 3, 16, 102, 249, 351, 28, 863, 97, 10, 5667, 12, 13, 91], [118, 47, 3, 21, 3, 50], [3, 16, 106, 444, 2, 539, 8, 122, 15, 2136, 594, 3603, 3604, 12, 327, 280, 749, 910, 2, 126, 17, 1604, 5668, 5669, 5670, 3605], [141, 412, 1, 68, 2, 134, 3, 139], [686, 55, 3, 16, 242, 5671, 172, 3, 55, 2, 48, 18, 4, 344, 564, 206, 114], [1, 61, 72, 2, 1054, 1108, 86, 28, 2642, 101, 86], [39, 25, 380, 570, 148, 1132, 585, 20, 533, 23, 30, 406, 690, 104, 22], [261, 11, 421, 816, 5672, 1, 36, 273, 868, 1421, 3, 74, 3, 211, 34, 13, 266, 921, 3155, 3, 211, 980, 7, 71, 4, 1280, 3606, 413], [525, 62, 34, 10, 64, 22, 61, 72, 78], [1818, 193, 488, 1106, 1170, 245, 2137, 2, 586, 930, 245, 3607, 2, 586, 2643, 3608, 3609, 3610, 3611, 3612, 154, 1134, 281, 241, 1700, 191], [3, 16, 59, 360, 11, 166, 7, 2138, 5, 731, 5673, 231, 18, 10, 5674, 11, 308, 1511, 4, 3613, 295, 18, 11, 424, 528, 10, 213, 980, 7, 3614, 12], [37, 350, 24, 1, 924, 19, 2139, 23, 1, 234, 7, 1172, 5, 452, 34, 19, 5675, 521, 1, 961, 8, 458, 108, 7, 39, 5676, 208, 4, 293, 24, 1, 287, 181, 129, 456, 10], [5677, 2320, 3615, 5678, 2, 1009, 12, 247, 23, 107, 21, 5679, 12, 831, 5680], [124, 2140, 230, 84, 2135, 86], [771, 3616, 1117, 5681, 123, 6, 55, 20, 197, 10, 720, 1525, 58, 4, 1936, 2141, 326, 136, 11, 700, 73, 26, 91, 564, 2, 2644, 3617, 3618, 3619, 3620, 84, 2, 2644], [508, 546, 53, 635, 108, 70, 5, 300], [98, 125, 21, 3, 546, 28, 7, 1382, 25, 5682, 2, 48, 51, 1, 727, 15, 61, 24, 213, 1, 1655, 23, 27, 39, 48, 51, 613, 95, 321, 29, 3], [647, 713, 557, 111], [6, 33, 2645, 13, 801, 18, 5683], [847, 16, 2, 94, 1762], [1, 391, 624, 104, 51, 1533, 8, 285], [1593, 140, 5684, 665, 112, 2, 3621], [452, 243, 57, 35, 5685, 3622, 5686, 33, 2110, 3, 8, 95, 3, 516, 766, 656, 50, 24, 2072, 5687, 82, 3, 28, 2228, 56], [35, 6, 1046, 158, 2270, 35, 6, 282, 5688, 35, 6, 92, 189, 52, 1149, 213, 6, 21, 374, 34, 13, 118, 170, 286, 266, 5689, 118], [62, 4, 892, 94, 14, 34, 3], [1, 92, 16, 102, 15, 13, 2624, 8, 11, 1558, 1, 60, 8, 147, 45, 3, 393, 10, 1, 2275, 97, 3, 35, 1, 167, 184, 8, 11, 367], [1, 246, 24, 128, 364, 543, 10, 761, 22, 1289, 180, 78, 23, 364, 659, 321, 56], [12, 38, 320, 2, 185, 4, 808, 155, 188, 335, 73, 2142, 2, 3623, 1231, 634, 154, 3624, 390, 1022, 3625, 1728, 335], [1, 60, 28, 1273, 499, 22, 140, 24, 22, 30, 1413, 78, 752, 252, 23, 229, 56, 91, 1, 532, 510, 4, 594, 349, 1, 55, 24, 1217, 201, 125, 81, 109, 22], [28, 307, 39, 33, 48, 50, 919], [141, 1, 1506, 4, 846, 15, 695, 18, 1522, 463, 83, 812, 761, 128, 30, 36, 1819, 43], [204, 35, 39, 16, 75, 57, 3626, 72, 39, 33, 94, 1762], [5690, 40, 9, 5, 446, 520, 2, 194, 6, 6, 16, 187, 3215, 17, 3216, 813, 3217, 179, 2454, 3218, 371, 3219, 2455, 237], [153, 1189, 13, 285, 28], [37, 36, 71, 2, 3, 3257, 3, 8, 2440, 919], [3, 1680, 258, 78, 481, 285, 156, 1, 77, 2, 147, 51, 7, 938], [98, 35, 38, 1605, 44, 3477, 5691, 415, 1202, 5692, 1801, 1710, 61, 49, 53, 206, 114, 244, 22, 20, 975, 63, 5693, 5694, 1797, 2618], [204, 24, 3627, 25, 55, 19], [252, 243, 2063, 3355], [409, 173, 1, 60, 243, 229, 89, 45, 1, 405, 107, 1422, 148, 24, 39, 1572, 5695, 80, 144, 146, 1747, 132, 81, 2135, 28, 10, 80], [336, 132, 1172, 53, 174, 117, 5696, 8, 7, 51, 15, 5, 5697, 5698], [23, 22, 11, 457, 9, 223, 17, 160, 69, 934, 51, 15, 147, 7, 151, 53, 583, 733, 1013], [141, 24, 107, 165, 62, 14], [178, 3482, 89, 5699, 2425, 357, 1, 5700, 439, 12, 11, 66], [1417, 228, 122], [1050, 2, 82, 13, 91], [186, 39, 21, 292, 2, 194, 6, 593, 290, 348, 19, 3, 16, 187, 4, 1143, 149, 276, 17, 5701, 46, 657, 312, 126, 5702, 506, 674, 64], [2646, 1294, 12, 988, 5703, 209, 9, 5704, 279, 13, 988, 113, 25, 1238], [983, 5705, 24, 5706, 83, 2628], [2606, 563, 1, 273, 309, 139, 60, 5, 479, 5707, 212, 18, 1543, 24], [153, 240, 267, 144, 3628, 2, 31, 8, 9, 19, 50], [176, 125, 29, 6, 59, 43, 34, 583, 2647], [23, 242, 277, 1242, 2, 32, 288, 28, 207, 1820, 24, 64, 178, 304, 33, 2648, 288, 2, 3, 547, 13, 174, 1820, 3629, 169, 547, 166, 1016, 3630, 5708], [467, 39, 203, 347], [289, 543], [98, 168, 6, 81, 479, 2416, 2, 32, 8, 386, 24, 161, 23, 101, 79, 220, 1, 158, 326, 82, 6, 150, 23, 17, 10, 28, 426, 66, 10, 377], [148, 61, 5709, 9, 5, 103, 138, 15, 1413], [29, 3, 68, 1373, 20, 26, 1266, 1372], [2649, 1729, 72, 85, 2, 227], [593, 1541, 828, 1077, 34, 5710, 11, 174, 2267, 5711, 21, 444, 2, 2143, 4, 910, 468, 35, 13, 143, 1237, 105, 17, 5712, 2, 126, 13, 910, 468], [49, 594, 445, 1223, 2, 537, 445, 31, 397, 114, 49, 71, 3245, 2, 3246, 162, 238, 114, 84, 247, 2468], [2650, 5713, 5714, 164, 1460], [491, 1526, 1097, 732, 668], [1, 95, 54, 24, 30, 5715, 5716, 28, 3631], [5717, 37, 133, 388, 266, 134, 937, 15, 215, 18, 3140, 26, 190, 7, 135, 171, 2, 363], [60, 645, 2, 82, 19, 157, 23, 45, 81, 6, 620, 669, 118, 52, 485, 7, 140, 81, 38, 958], [252, 1298, 131, 24, 30, 1298, 460, 11, 1268, 22, 543, 252, 72, 78, 207], [298, 148, 858, 107, 197, 608, 1, 5718, 1, 23, 5719, 50], [101, 300, 11, 5720, 1821, 1978, 174, 117, 7, 1, 221, 205, 43, 133, 459, 773], [1388, 5721, 21, 3, 156, 52, 1145, 165, 432, 125, 21, 3], [49, 130, 101, 4, 233, 3, 2144, 46, 2651, 214, 25, 32, 2095, 74, 3, 29, 25, 16, 3368, 774, 105, 594, 43, 2, 342, 5, 233], [50], [105, 151, 2293, 2, 17, 981], [27, 59, 11, 367, 24, 1665, 59, 11, 297, 173, 11, 297, 83, 3632, 256], [1, 16, 839, 419, 5722, 74, 15, 87], [36, 3118, 2396, 3399, 1053], [52, 27, 1, 29, 356, 5723, 5724, 481, 1017, 5725, 1822, 3633, 3634, 5726, 23, 535, 3635, 170, 95, 516], [1778, 347, 22, 109, 3636, 125, 1723, 35, 109, 48, 3637, 5727, 252, 954, 5728, 8, 5729], [141, 1, 61, 4, 75, 1710, 300, 105, 97, 10, 13, 2652, 7, 2653, 8, 386], [60, 159, 11, 552, 815, 1, 1315, 3, 33, 17, 3, 150], [431, 11, 1580, 159, 52, 382, 69, 29, 19, 3638, 129, 46, 258, 2, 210, 2145, 833, 738, 69, 2043, 2, 378, 2, 10, 175, 10, 5730], [6, 163, 249, 2146, 236, 246, 163, 10, 347, 945, 180, 4, 521, 630], [37, 2654, 18, 45, 461, 550, 218, 3639, 344, 263], [1, 58, 13, 85, 29, 3, 16, 102, 2653, 8, 386], [811, 1479, 51, 1, 137, 5731, 66, 18, 5732, 113, 1544, 5, 3640, 2655], [745, 299, 3641, 244, 36, 2147, 195, 724, 13, 388, 7, 2656, 299, 17, 5733, 22, 1125, 244, 1469, 2282, 299, 233, 5734, 5735], [153, 1, 95, 82, 164, 25], [967, 29, 6, 765, 169, 26, 713, 265, 32, 38, 876, 26, 5736], [101, 79, 815, 1511, 51, 5737, 21, 3, 208, 2, 282, 160, 426, 26, 29, 3, 396, 16, 4, 166, 176], [873, 5, 1606, 81, 85, 94, 19, 3642, 241, 1594, 185, 2056, 999, 3643, 536, 34, 2056, 600, 73, 600, 2, 2651, 5738, 714, 772, 5739], [74, 8, 5740, 1823, 43, 2387, 1823, 43, 2657], [56, 6, 296, 48, 227, 236, 1099, 6, 340, 6, 503, 43, 56, 130, 10, 80], [61, 380, 297, 1129, 178, 5741, 1129, 61, 259, 5, 778, 5742, 5743, 212, 1129, 218, 34, 5, 3644, 1129, 3645, 1085, 34, 5, 3644], [273, 5744, 3, 796, 334, 75, 2932, 93, 416, 150], [98, 5745, 1019, 108, 1093, 1824, 20, 5746, 1395, 501, 2938, 5747, 402, 1009, 165, 6, 26, 38, 5748, 860, 1203, 8, 14, 1, 501, 928, 5749, 23, 208, 5750, 1873, 2658], [67, 1373, 20, 42, 41, 9, 19, 566], [3, 54, 67, 9, 1, 408, 378, 2, 3, 8, 42, 41, 395, 56], [1406, 2042, 489, 6, 43, 20, 1056, 440, 318, 43, 560, 231, 458, 354, 86, 660, 1420, 354, 2590, 28, 86, 1256, 8, 10, 1371, 66, 3164, 377], [1, 234, 2, 845, 2123], [74, 238, 13, 1446, 3646, 3647, 984, 121, 106, 635, 74, 13, 1447, 12, 53, 2227, 985, 426, 2, 1276, 13, 266, 1447], [176, 153, 28, 40, 817, 1, 336, 25], [159, 845, 690, 1268, 80], [176, 111, 1323, 1814, 399, 28, 53, 23, 1, 1814, 5751], [90, 27, 19, 598, 220], [98, 40, 9, 5752, 5753, 578, 46, 5754, 5755, 3, 21, 3648, 2, 342, 617, 1123, 8, 88, 3649, 149, 290, 105, 3650, 5756, 2, 126, 202, 2659, 827, 1825, 26, 13, 149, 33, 32, 5757, 2, 225, 515], [1, 100, 546, 72, 2, 5758, 22, 59], [164, 885, 52, 288, 67, 3, 137], [1, 33, 59, 150, 2660], [1, 230, 205, 5, 113, 156, 22, 115, 71, 4, 157], [90, 48, 7, 227, 111, 94, 957], [6, 359, 294, 2239, 10, 2465], [38, 72, 20, 2148, 3651, 3652, 7, 378, 2, 4, 299, 779, 2, 126, 582, 2148, 2661, 3653, 155, 268, 64, 2, 692, 51, 73, 254, 2, 3654], [1, 27, 29, 19, 1, 68, 2, 105, 3, 575, 1422, 7, 761, 5, 1371], [3166, 3655, 5759, 5760, 5761, 6, 173, 5762, 54, 5763, 81, 1060, 28, 5764, 318, 5765, 6, 8, 1755, 599, 10, 35, 38, 3656, 5766, 410, 66, 1398, 377], [1, 66, 2, 942, 7, 5767, 11, 1532], [225, 121, 5768, 88, 726, 233, 7, 1181, 13, 113, 328, 107, 787, 3, 2, 167, 51, 132, 14, 9, 17, 46, 387, 5769, 5770], [2149, 301, 1502, 404, 24, 243, 885, 20, 640, 1, 16, 106, 1060, 937, 15, 1176, 53, 335, 39, 16, 58, 88, 1826, 642, 5771, 28, 5, 5772, 94, 189, 2055, 2493, 254], [1, 732, 54, 338, 474, 1, 33, 151, 11, 881, 7, 71, 3, 11, 881, 9, 51, 15, 405, 22], [1, 100, 6, 16, 5, 767, 143], [213, 549, 19, 3, 21, 232, 139, 1061, 14, 3657, 13, 3658, 170, 791, 14, 3657, 418, 15, 13, 166, 2662, 14, 139, 177, 170, 16, 4, 139, 65], [29, 25, 180, 229, 66, 730], [58, 14, 470, 5773, 5774], [60, 628, 79, 5775, 38, 995, 1562, 89, 1259, 5776, 20, 998, 5777, 169, 5778, 18, 1127], [135, 75, 175, 46, 19, 143, 105], [354, 480, 85, 837, 314, 460, 11, 681, 64, 6, 422], [47, 9, 13, 2150, 206, 114, 1, 61, 51, 15, 458, 40, 403], [158, 57, 5779, 3406, 369, 200], [1417, 50, 1, 379, 32, 5780, 6, 2, 29, 11, 511, 1159], [175, 226, 77, 226, 68, 226, 66, 226], [101, 30, 25, 49], [29, 6, 357, 31, 4, 997, 2663, 8, 13, 656, 12, 37, 807, 7, 14, 565, 48, 504, 530, 6, 810, 2, 14, 55, 216, 494], [713, 263, 604, 693, 5781, 1423, 482, 6], [58, 38, 470, 5782, 429, 3, 23, 5783, 416, 1339, 2, 679, 15, 918, 178, 1038, 3659, 108, 381, 75, 5784, 3, 5785, 150, 35, 25, 229, 1, 408, 271, 2, 59, 43, 547, 67, 1096, 118], [1186, 308, 5786, 225, 178, 116, 3660, 225, 219, 952, 308, 33, 25, 55, 644, 24, 1288, 1135, 33, 32, 2354, 5787, 894], [1607, 981, 9, 1059, 56, 1059, 9, 5, 284, 15, 1607, 981, 5788], [98, 3661, 3662, 239, 1327, 372, 5, 103, 3663, 99, 46, 64, 1049, 28, 1552, 73, 331, 355, 2, 37, 2025, 31, 566, 22, 2026], [98, 40, 9, 1304, 144, 2664, 5, 5789, 5790, 144, 1694, 2, 5791, 638, 5792, 30, 1827, 14, 12, 237], [247, 664, 3, 16, 187, 4, 193, 2127, 40, 9, 52, 3, 31, 45, 3, 185, 88, 49, 664, 2, 94, 418, 71, 193, 2, 1603, 22, 1025, 804, 805, 653, 2128, 272], [90, 68, 199, 2, 59, 76, 22], [47, 62, 4, 421, 923, 24, 62, 4, 693, 138, 2, 865, 40, 222], [704, 575, 15, 199, 159, 146, 262, 212, 24, 1, 58, 390, 20, 373, 6, 27, 264, 15, 125, 20, 48, 220, 26, 6, 148, 529, 705, 8, 321], [92, 498, 549, 47, 725, 454, 103, 1696, 43, 18, 1209], [380, 390, 22, 1, 58, 103, 317], [57, 447, 500, 1828, 47, 477, 5, 317, 673, 1, 503, 7, 3, 21, 11, 207, 273, 74, 232, 11, 66, 1, 270, 13, 267, 7, 139, 7, 54, 1, 2665, 3], [30, 25, 258, 192, 29, 696, 3, 68], [62, 50, 604, 7, 62, 11, 122, 15, 2347, 997], [112, 6, 82, 52, 1, 1506, 18, 13, 1209], [17, 1481, 879, 2003, 3243, 22], [201, 1383, 3664, 44, 4, 320, 20, 185, 3665, 1608, 629, 3666, 985, 2151, 12, 652, 1608, 925, 988, 601, 82, 1400, 281, 241, 652, 44, 1036, 2152, 37, 2019], [307, 3541, 8, 11, 375, 3542, 3, 3543, 38, 1520, 3544, 38, 295, 2120, 38, 3545, 2543, 38, 2121, 446, 38, 247, 7, 397, 38, 861, 691, 57, 177, 118], [1218, 12, 102, 2380, 627, 3094, 462, 3095, 2381, 848, 16, 3, 106, 3096, 2382, 39, 27, 83, 250, 17, 49, 879, 3097, 26, 70, 85, 2383], [341, 665, 2153, 5, 880, 121, 444, 6, 12, 2500, 155, 26, 1126, 697, 17, 5793, 1051, 423, 362, 5794, 268, 389, 387, 366, 371, 987, 1514], [119, 111, 136, 6, 131], [11, 2432, 8, 2666, 270, 3, 359, 4, 124, 950], [37, 118, 1, 29, 16, 49, 495, 449, 102, 3667, 98, 98, 98], [92, 673, 66, 181, 66, 167, 6, 310, 164, 62, 393, 3585, 8, 66, 952, 6, 92, 2636, 549, 6, 36, 1567, 7, 6, 54, 67, 9, 3586, 2, 797, 6, 894], [1, 236, 596, 6, 1, 264, 6, 253, 129], [29, 3, 54, 164, 363, 1829, 1741, 481, 13, 1352, 23, 19, 75, 132, 9, 490, 12, 3, 615, 170, 2667, 448, 2668, 76, 1609, 13, 887, 34, 66], [141, 1756, 8, 731, 390, 176], [3668, 27, 6, 5795, 10, 145, 2376], [2154, 4, 938, 22, 24, 153, 93, 235, 45, 30, 260], [61, 25, 437, 24, 61, 43, 2, 1133, 8, 2669, 23, 33, 70, 6, 131, 45, 4, 293, 133, 49, 12, 244], [6, 3267, 839, 10, 303, 232, 180, 108, 1106, 1, 3669, 5796, 20, 577, 6, 24, 1, 294, 917, 47, 6, 1002, 79, 10, 45, 5797, 5798, 1636, 52, 5799, 5800, 1, 5801, 6], [185, 39, 16, 4, 734, 888, 179, 5802, 187, 127, 969, 133, 1830, 5803, 219, 23, 197, 127, 3670, 18, 38, 99, 26, 759, 154, 185, 5804, 281, 241], [3, 399, 388, 1, 27, 83, 381, 169], [47, 116, 1, 1001, 2, 3, 177], [1, 123, 13, 508, 168, 1, 516, 19, 3, 356, 16, 1002, 4, 293, 3671, 45, 3, 5805, 5, 317, 60, 4, 3672, 1, 61, 108, 251, 45, 3, 59, 85, 11, 66], [120, 27, 3, 97, 10, 2619, 571, 717, 478, 10, 2, 163, 129, 67, 24, 1, 58, 839, 7, 417, 25, 2155, 210, 113], [27, 1, 31, 13, 1220, 18, 190, 207], [19, 75, 114, 235, 1, 454, 54, 19, 63, 164], [35, 39, 742, 14, 217, 3, 27, 996, 8, 34, 10], [1154, 1, 1172, 42, 41, 517, 8, 5, 1507, 2636, 5806, 7, 5807, 1, 61, 5808, 7, 5809, 29, 3, 55, 5810], [1, 326, 373, 19, 570], [50, 80, 394, 252, 8, 485], [30, 8, 285, 112, 3, 31, 11, 70], [5, 430, 1101, 28, 42, 41], [363, 2348, 31, 57, 227, 11, 118, 1, 33, 1006], [593, 1653, 828, 1077, 5811, 21, 444, 2, 342, 4, 5812, 35, 3, 16, 4, 940, 105, 17, 1464, 1654, 126, 400, 3673, 1465, 1003, 1466], [29, 16, 4, 228, 65, 87, 1, 66, 3, 23, 2315], [1534, 4, 293, 5813, 5814, 109, 597, 1650, 69, 236, 1809, 132, 1, 61, 56, 955, 822, 24, 69, 1474, 296, 1605, 752, 422], [370, 93, 151, 4, 304, 15, 11, 2250], [22, 786, 13, 297, 200, 7, 29, 3, 16, 102, 1831, 67], [29, 109, 53, 246, 20, 163, 43, 89, 3674, 53, 5, 5815, 431, 86, 957, 15, 86, 845, 72], [259, 999, 44, 5816, 5817, 275, 900, 890, 11, 814, 9, 259, 10, 169, 18, 410, 303, 401, 11, 702, 68, 20, 48, 73, 1185, 5818], [141, 39, 21, 2540, 128], [98, 62, 2156, 1, 92, 54, 35, 3, 21, 28, 147, 24, 17, 10, 45, 6, 27, 161, 28, 78, 53, 626, 377], [3675, 612, 316, 2344, 58, 147, 20, 29, 340, 6, 437, 22], [21, 3, 72, 2, 1153, 5819, 951, 40, 114], [111, 1, 33, 373, 5820, 8, 2040, 180], [61, 1, 19, 116, 2157, 5821], [409, 3128, 140, 69, 253, 10, 50, 80], [93, 374, 32, 76, 150, 26, 218, 131, 220, 35, 5822, 72, 18], [1, 1750, 152, 37, 74, 69, 9, 4, 5823, 300, 7, 1, 213, 631, 12, 129, 23, 1, 33, 48, 7, 1, 36, 478, 3, 2, 54, 1, 172, 374, 32, 710, 229, 360, 13, 117], [35, 255, 628, 15, 5824, 10, 75, 56, 37], [262, 74, 6, 236, 246, 289, 6, 236, 55, 10, 148, 347, 140, 6, 159, 22, 83, 1285], [196, 10, 38, 661, 574, 219], [140, 559, 110, 277, 3393, 9, 25, 36, 542, 908, 349, 6, 213, 45, 6, 163, 169, 24, 542, 497, 6, 213, 45, 6, 175, 2548], [538, 554, 43, 47, 5825, 123, 3, 16, 106, 467, 45, 1, 440, 385, 46, 583, 277, 1, 393, 169, 7, 107, 137, 2143, 5, 2158, 465, 5826, 42, 41, 36, 3248, 5827, 55, 2, 54, 29, 16, 4, 1047, 274, 7, 53, 5, 286, 34, 13, 1020, 505, 35, 3, 27, 158, 158, 5828, 207, 5829, 12, 5830, 56, 13, 147, 9, 260], [120, 1968, 300, 11, 147, 99, 143, 9, 16, 4, 57, 75, 168, 5831, 5832], [265, 1, 17, 3, 131, 115], [5833, 695, 1483, 2, 13, 113, 82, 10, 259, 1635, 7, 2059, 36, 12, 3, 671, 70, 695, 2, 2445, 22, 73, 1817, 191, 2446, 3676, 268, 377], [240, 5, 138, 3, 142, 539, 119], [261, 394, 12, 643, 19, 17, 1, 58, 4, 317, 1210, 18, 968], [52, 63, 9, 38, 2340, 451], [45, 142, 1, 59, 192], [1, 16, 4, 1354, 5834, 2421, 1161, 18, 11, 156, 5835], [33, 32, 5836, 76, 56], [21, 3, 1635, 156, 22], [7, 431, 13, 2670], [5837, 244, 31, 5838, 476, 360, 3641, 244, 1909, 28, 4, 5839, 15, 5, 366, 91, 5840, 26, 17, 5841, 2, 5842, 1236, 625, 5843, 5844, 362, 5845, 1116, 1966], [21, 39, 159, 5, 2671, 150, 1, 298, 36, 4, 44, 2520, 173, 15, 963, 2359, 77, 2, 975, 1244, 283, 51, 28, 110, 817, 613, 58, 1882, 46, 87, 1109, 530, 318, 890, 23, 1, 296, 31, 996, 18], [153, 1, 58, 4, 1424, 34, 64, 6, 7, 3677, 35, 30, 557, 158, 2570, 1826], [1, 61, 8, 13, 411, 919], [21, 3, 5846, 131], [1595, 86, 57, 3678, 12, 5847], [86, 9, 57, 57, 782, 164, 69, 9, 1763], [98, 29, 6, 68, 2, 469, 10, 34, 5848, 131, 316, 169, 28, 1564, 17, 6, 160, 285], [62, 18, 8, 5849, 24, 3679, 121, 706, 14, 565, 181, 10, 373, 14, 7, 5850, 7, 5851, 211, 5852, 1554, 14], [49, 193, 26, 843, 34, 2159, 3680, 122, 5853, 2111, 534, 49, 254, 524, 278, 5854, 3681, 49, 5855, 17, 756, 18, 2160, 26, 17, 1670, 5856], [1, 92, 68, 2, 385, 2669, 36, 152, 52, 598], [3, 58, 317, 8, 3682, 3, 33, 31, 188, 212, 8, 166, 8, 20, 26, 162, 517], [56, 230, 31, 86, 892, 11, 5857, 689, 460, 109, 543], [409, 86, 206, 498, 612, 275, 9, 5858, 2672, 2673, 58, 5859], [40, 9, 5, 446, 63, 39, 16, 548, 20, 194, 6, 6, 16, 187, 5, 649, 1232, 149, 20, 126, 9, 438, 17, 5860, 22, 64, 518, 238, 195, 389, 544, 376], [1, 36, 490, 110, 5861, 23, 92, 16, 19, 116, 101, 172, 3, 68, 14, 5862, 26, 5, 249, 138], [107, 1690, 353, 75, 65, 174, 274, 54, 218, 461, 107, 16, 178, 57, 1281, 55, 847], [90, 3, 21, 5, 64, 388, 251, 8, 5863, 347], [152, 40, 1061, 363, 1, 66, 3, 170, 1, 77, 3, 1042, 11, 308, 34, 13, 1226, 71, 40, 2, 901, 288, 277, 170, 6, 136, 1578, 150, 29, 14, 115, 115, 29, 14], [1, 1832, 45, 96, 382, 40, 96, 1479, 52, 142, 32, 4, 415, 406, 568, 360, 127, 3421, 65, 15, 47, 439, 172, 416, 8, 104, 297], [339, 1, 61, 251, 12, 13, 17], [554, 43, 29, 3, 68, 10, 2, 59, 541], [14, 214, 147, 603, 405, 4, 5864, 28, 5, 206, 316], [1588, 56, 1, 203, 80, 56, 6, 5865, 10, 822], [5, 174, 212, 1, 357, 478, 2, 29, 60, 577, 3, 7, 1, 287, 100, 14, 172, 16, 1166, 1046, 32, 1884, 3683, 5, 5866, 7, 197, 72, 24, 74, 725, 74, 1, 917, 14, 924, 218, 43, 5, 1058, 19, 3, 218, 1002, 55, 1, 172, 29, 14, 2, 577, 3, 348, 3, 158, 95, 54, 10, 28, 53, 14, 60, 3632, 1271, 24, 14, 924, 399, 5, 351, 1, 16, 34, 14, 9, 3, 16, 5, 63, 2, 1042, 14, 24, 3, 724, 25, 2, 3, 2161, 3, 94, 1696, 3, 227, 3, 68, 2, 48, 51, 1, 95, 321, 4, 304, 248, 108, 7, 67, 24, 45, 3, 95, 134, 5, 386, 45, 3, 1935, 3684, 18, 594, 15, 14, 45, 1, 221, 16, 4, 269, 8, 5, 297, 328, 30, 1884, 19, 463, 3685, 7, 5867, 5868, 18, 5, 386, 5869, 18, 5, 2288, 240, 190, 515, 3, 740, 2, 32, 57, 79, 28, 863, 528, 5, 386], [93, 181, 3, 54, 45, 14, 3583, 8], [3, 17, 129, 22, 50, 1, 165, 17, 129], [17, 2, 5, 143, 224, 9, 632, 8, 1896, 7, 151, 2, 2656, 5, 17, 2, 3686, 2674], [26, 109, 48, 201, 460, 129, 56, 1, 163, 109, 131, 27], [2675, 456, 25, 2241, 3, 54, 11, 5870, 921, 3687, 3, 2, 13, 5871, 5872, 11, 1739, 7, 5873, 13, 656, 2, 14, 95, 668, 1, 54, 566, 128, 5874, 295], [87, 11, 1485, 3630, 31, 311, 53, 9, 111, 7, 1, 61, 182, 8, 5, 1195, 111], [881, 585, 2, 54, 125, 3, 28], [370, 93, 70, 3, 45, 30, 85], [92, 54, 5875, 899, 7, 5876, 1, 1425, 1, 100, 5877, 27, 353, 906, 3311, 128], [119, 50, 1, 440, 54, 52, 3, 796, 1031, 1, 61, 407, 5878], [3, 16, 187, 4, 276, 384, 155, 26, 4, 618, 149, 2, 126, 784, 149, 17, 88, 239, 233, 1175, 18], [172, 3, 55, 2, 82, 11, 377, 695, 107, 21, 23, 556, 107, 211, 2676, 5879, 8, 5, 241], [1324, 589, 288, 534, 666, 15, 3004, 1324, 623, 2, 32, 187, 36, 619, 44, 438, 1013, 353, 22, 71, 1324, 2, 687, 133, 772, 154, 3005, 333, 209], [40, 3359, 212, 9, 2677, 4, 1454, 379, 4, 5880, 29, 95, 29, 4, 2162, 74, 221, 29, 40, 357, 200], [1, 61, 28, 4, 816, 34, 1366, 2430], [6, 16, 4, 753, 1011, 132, 9, 433, 20, 134, 194, 34, 6, 167, 51, 132, 107, 81, 891, 132, 793, 38, 23, 288, 17, 18, 5881], [36, 872, 13, 496, 17, 11, 118, 665, 29, 16, 4, 645, 65], [50, 252, 2632, 219], [101, 1, 221, 250, 3, 18, 40], [59, 2, 10, 1246, 13, 159, 14, 200, 72, 360, 13, 5882, 7, 5883, 3688, 10, 3, 21, 528, 10, 5884], [1, 66, 13, 899, 29, 3, 322, 2387, 1520], [1, 100, 967, 12, 4, 907, 9, 5, 1426, 12, 1080, 277, 1, 5885], [118, 3689, 1487, 106, 1075, 2, 1783, 40, 9, 88, 633, 520, 2, 194, 6, 73, 244, 2, 687, 191, 2113, 804, 805, 653, 1026, 1116, 2678], [186, 105, 17, 5886, 46, 387, 13, 2679, 877, 44, 1344, 280, 26, 617, 155, 610, 493, 581, 179, 305, 362, 3690, 1977, 371], [37, 18, 5, 138, 78, 23, 35, 25, 12, 5, 302, 1978, 2230, 5, 1833, 172, 16, 106, 192], [1, 878, 472, 86, 315, 28, 275, 543], [50, 24, 2585, 36, 480, 78, 7, 234, 2, 227, 25, 57, 28, 40, 602, 63, 147, 5887], [374, 815, 329, 19, 35, 5, 5888, 125, 1, 100, 14, 9], [17, 5889, 810, 2, 5890, 2157, 299, 244, 72, 18, 8, 5, 411, 156, 22, 2124, 3034, 37, 75, 992, 13, 5891, 2012, 2147, 195, 2001, 5892, 5893], [57, 177, 535, 17, 10, 339], [771, 120, 6, 1, 36, 58, 122, 15, 583, 361, 700, 5894, 91, 5895, 2, 40, 73, 303, 71, 6, 11, 695, 1357, 43, 161, 23, 540, 28, 147, 377, 268, 191, 1334, 5896], [3691, 3692, 43, 39, 95, 16, 19, 116, 402], [1, 580, 6, 761, 173, 909, 152, 6, 59, 406, 15, 834, 39, 228, 140, 39, 354, 234, 1326, 5897, 416, 28, 1348, 782], [370, 686, 57, 45, 29, 3, 68, 10, 2, 59, 231], [140, 172, 6, 55, 44, 38, 434], [1, 66, 437, 46, 78], [7, 175, 3693, 5, 5898, 7, 567, 1892, 6, 484, 25, 54, 10, 178, 111], [11, 755, 58, 5899, 8, 2286, 2287, 86], [49, 476, 8, 20, 4, 537, 867, 12, 4, 320, 2, 185, 127, 969, 73, 2118, 2, 2680, 2, 31, 476, 925, 73, 376, 179, 634, 414, 2681, 12, 474, 268], [1889, 688, 688, 945, 134, 279, 15, 146, 799, 256], [3694, 110, 277, 76, 781, 30, 28, 5, 3695, 76, 5900], [7, 84, 309, 127, 591, 300, 3, 31, 2, 3696, 3697, 812, 5901, 7, 5902, 3698], [5903, 168, 6, 50], [261, 606, 81, 6, 50, 198, 1117, 1773, 4, 653, 1202, 7, 69, 2541, 51, 5, 660, 1, 478, 4, 117, 1202, 6, 175, 6], [56, 6, 72, 2682, 1877, 612, 349], [1893, 62, 42, 41, 2470, 3486, 1115, 5, 624, 3699, 9, 8, 280, 23, 96, 2683, 48, 837, 5, 624, 3699, 58, 14, 5904], [176, 5905, 11, 881, 9, 643, 1071, 34, 11, 3700, 5906, 9, 55, 20, 395, 504, 915], [12, 333, 637, 40, 1283, 1, 221, 218, 2163, 11, 778, 3701, 9, 51, 7, 30, 775], [3, 68, 2, 48], [103, 3186, 244, 20, 1322, 359, 8, 38, 859, 44, 36, 1236, 49, 20, 342, 673, 2436, 26, 28, 3187, 209, 73, 75, 284, 2, 3188, 5907, 5908, 84, 20, 5909], [62, 25, 19, 63, 15, 5, 345, 5910, 1389, 15, 5, 63], [5911, 27, 3, 70, 2684, 26, 21, 3, 128, 725, 710], [39, 25, 620, 263, 50, 80, 56, 39, 48, 2405, 89, 324, 6, 264], [9, 3702, 204, 1887, 5912, 57], [858, 1, 478, 20, 3703, 6, 1380, 24, 229, 148, 1, 125, 58, 5913, 2685, 5914, 3, 35, 6, 151, 10, 813, 69, 151, 10, 56, 93, 48, 51, 690, 6, 53, 80, 89, 6, 83, 27, 5915, 23, 333], [92, 54, 3, 491, 110, 553], [37, 1695, 7, 553, 108, 1, 61, 701, 182], [93, 32, 8, 558, 837, 44, 275, 1, 236, 529, 86, 536, 8, 558, 144, 28, 78], [261, 107, 21, 72, 2, 5, 1717, 660, 28, 455, 23, 582, 59, 108, 26, 67, 2449, 50], [50], [39, 732, 17, 55, 42, 41, 494, 119, 37, 135, 199, 5916, 119], [92, 135, 4, 3529, 489, 107, 100, 7, 1, 2612, 95, 321, 102, 269, 15, 694, 53, 19, 36, 95, 227, 1202, 19, 2686, 32, 5917], [1247, 14, 214, 812, 108, 1014], [17, 46, 5918, 1807, 6, 20, 17, 3704, 2, 126, 617, 149, 6, 16, 20, 865, 53, 38, 99, 1482, 474, 5, 3705, 2054], [49, 397, 114, 476, 20, 2117, 44, 4, 320, 20, 185, 1527, 969, 26, 808, 155, 188, 335, 73, 5919, 2, 2651, 1044, 305, 154, 2117, 524, 1022, 2099], [2687, 18, 25, 3706, 575, 15, 3], [52, 432, 97, 10, 1, 234, 2, 946], [354, 616, 2688, 5920], [81, 6, 192, 5921, 14], [123, 3, 21, 313, 4, 124, 65], [112, 582, 15, 3, 16, 102, 5922, 29, 3, 54, 15, 5923, 159, 190], [11, 1176, 1450, 2689, 28, 167, 2014, 1112], [5, 1058, 19, 255, 2164, 348, 3, 54, 164, 30, 2023, 13, 5924, 9, 2690, 52, 1, 68, 2, 29], [1154, 21, 3, 311, 2, 1521, 7, 1536, 8, 5925], [133, 277, 21, 941, 8, 13, 859, 22, 17, 5926, 7, 469, 55, 5927, 359, 164, 25, 1475, 122, 549, 463, 122, 40, 452, 5928, 237, 5929, 5930], [538, 2688, 2040, 60, 3256, 28, 75, 817, 1, 273, 67, 211, 396, 3707, 8, 5, 367, 7, 819, 548, 5931, 75, 74, 4, 5932], [111, 260, 13, 44, 1427, 1004, 1428, 280, 26, 617, 610, 493, 17, 1610, 22, 1611, 581, 1976, 1612, 1613, 1394, 1614, 237, 625, 1615], [90, 90, 164, 230, 3, 59, 108, 7, 673, 317], [1, 58, 2691, 227, 1, 1287, 1819, 43, 188, 20, 587, 2, 82, 35, 11, 2165, 478, 2, 59, 8, 1, 516, 79, 129, 45, 62, 1338], [153, 93, 235, 8, 4, 846, 395, 170, 181, 3, 54, 45, 1, 31, 2, 781], [27, 109, 17, 10, 28, 419, 419, 2, 134, 183, 349, 198, 3708, 43], [120, 39, 27, 48, 1726, 1198, 1331, 2166, 1308, 1330, 7, 1727], [5, 1316, 9, 12, 888, 5933, 11, 882, 3709, 5934], [203, 20, 195, 1171, 28, 430, 84], [119, 2692, 1, 273, 3, 796, 5935, 2582], [256, 158, 119, 37, 47, 56, 33, 107, 5936, 13, 667, 451], [983, 161, 560, 20, 5, 5937, 34, 1398, 489, 757, 6], [56, 36, 324, 4, 350, 7, 203, 12, 38, 5938, 424, 1782, 6, 5939], [57, 117, 61, 72, 2, 227], [370, 93, 5940, 190, 2, 324, 128, 70, 10, 45, 255, 85, 28, 781], [90, 90, 164, 230, 3, 59, 108, 7, 673, 317], [94, 190, 12, 497, 35, 14, 3634, 1191, 2, 102, 836, 8, 5, 206, 2107, 82, 4, 1145], [176, 119, 37, 168, 1, 379, 32, 5941, 360, 13, 222, 160, 1390, 24, 171, 12, 5, 2239], [1589, 19, 1470, 683], [336, 52, 956, 3, 54, 3360, 2534, 3, 326, 167, 51, 132, 14, 9, 135, 199, 4, 17, 18, 5942, 46, 387, 3361, 191, 195, 268], [176, 19, 172, 32, 621, 5943], [14, 2, 1798, 13, 534, 49, 70, 495, 21, 506, 459, 2442, 1685, 2226], [3710, 165, 30, 145, 3711, 8, 145, 375, 363, 3712, 170, 165, 203, 6, 3713, 961, 145, 330, 1020, 40, 130, 1414, 218, 363, 27, 3714, 2269, 2538, 1155, 1104, 1155], [171, 14, 60, 64, 46, 5944, 24, 358, 228, 53, 710, 22, 378, 219], [554, 4, 5945, 5946, 9, 19, 190, 359, 16, 19, 1, 95, 54, 79], [218, 1, 230, 672, 11, 1133, 3, 21, 8, 10, 88, 2268, 1757, 1178, 145], [20, 892, 1, 597, 5947, 24, 128, 965, 323, 1, 246, 729, 75], [3, 16, 187, 4, 276, 1107, 468, 26, 218, 384, 3251, 126, 38, 468, 17, 49, 18, 3252, 268, 20, 84, 3253, 18, 3254, 3255], [1834, 144, 50], [322, 38, 166, 57, 117], [141, 24, 27, 39, 163, 8, 458, 173, 33, 48, 2, 5948, 7, 56, 78, 3, 214, 70, 28, 430, 84, 7, 95, 516, 603, 16, 616, 76, 890, 766, 1504], [1, 137, 1299, 6, 4, 561, 110, 587, 202, 62, 619], [310, 301, 125, 142, 1, 849, 18, 3, 26, 8, 3], [3715, 7, 768, 83, 1121], [176, 508, 1, 60, 1156, 19, 128, 256], [91, 2, 185, 507, 537, 125, 33, 5, 5949, 5950, 375, 1158, 32, 3716, 71, 84, 2, 2167, 2, 318, 233], [37, 30, 8, 5, 262, 2693, 83, 108, 28, 11, 1835, 325, 10, 51, 18, 319, 30, 332, 1492], [5951, 1146, 9, 902, 2, 54], [101, 93, 17, 131, 8, 316, 102, 212, 5952, 2, 3120, 105, 17, 5953, 42, 41], [120, 1, 33, 32, 229, 30, 28, 5954, 77, 2, 655, 1284, 26, 1197], [1, 1705, 2, 201, 4, 3082, 315, 3083, 62, 1706, 186, 24, 1962, 4, 3084, 15, 42, 41, 1963, 67, 9, 37, 3085, 2, 3086, 466, 2376, 42, 41, 1963, 310, 11, 741], [186, 105, 17, 5955, 46, 387, 13, 2679, 877, 44, 1344, 280, 26, 1975, 155, 610, 493, 581, 179, 305, 362, 3690, 1977, 1126, 2050], [5, 5956, 9, 146, 262, 24, 146, 594, 2458, 89, 1, 58, 4, 3717, 22, 1, 264, 30, 25, 72, 340, 128, 1080, 236, 246, 20, 3718, 6, 182], [204, 5957, 1503, 5958, 5959], [37, 464, 495, 496, 464], [5, 5960, 1136, 602, 23, 1, 356, 32, 76, 220], [98, 750, 1093, 36, 58, 85, 7, 1, 137, 4, 158, 228, 117, 7, 171, 23, 116, 12, 5, 1513, 82, 6, 150, 377], [37, 249, 1110, 605, 5, 2694, 9, 18, 13, 1522, 1297, 915, 30, 23, 1050, 1, 158, 287, 373, 13, 5961, 498, 3, 3007], [49, 488, 123, 3, 2037, 13, 103, 747, 70, 84, 2, 3719, 2, 650, 250, 3720, 2695, 76, 3721, 281, 241], [869, 398, 410, 6, 536, 146, 1330, 340, 605], [16, 3, 106, 5962, 13, 5963], [408, 1, 59, 2, 31, 3141], [176, 1559, 1, 60, 1039, 12, 4, 1046], [2696, 1, 61, 1939, 3656, 190, 410], [111, 1, 16, 2, 235, 12, 11, 285, 168, 3, 294, 480, 85, 2, 10, 123, 3, 16, 4, 228, 227, 11, 66], [1417, 1189, 13, 2396, 5964, 45, 1, 77, 14], [24, 93, 180, 72, 20, 558, 18, 1147, 11, 681, 77, 20, 94, 705], [1375, 33, 219, 31, 5965, 2, 299], [1679, 319, 319, 319, 108, 615, 4, 103, 1943, 15, 556, 2697, 12, 88, 2698, 2, 31, 12, 49, 36, 1279, 678, 5, 206, 989, 196, 2, 38, 801], [204, 204, 847, 72, 2, 290, 5, 1887, 160, 242, 517, 8, 1419, 5966, 5967], [751, 87, 1, 61, 229, 12, 42, 531, 41, 195], [221, 94, 102, 2699, 5968, 8, 2467, 5969, 3, 1114, 3722], [406, 80, 169, 1590, 824, 745, 20, 235, 948], [98, 108, 16, 2700, 28, 18, 5, 2, 28, 5970, 5971, 1387, 7, 407, 159, 5972], [82, 5, 5973, 157, 12, 2694], [1, 221, 197, 72, 906, 40, 14, 60, 294, 11, 5974, 2, 526, 3, 51, 24, 35, 3, 724, 2, 29, 19, 1354, 329, 197, 5, 367, 1042, 23, 1, 95, 16, 2, 152, 37, 2, 5975, 56, 383, 240, 5, 286, 1793, 141, 1, 478, 3, 2, 32, 1884, 23, 383, 1166, 213, 12, 369, 47, 1, 213, 45, 1, 16, 4, 269, 132, 585, 2, 663, 201, 7, 1, 16, 2, 152, 37, 74, 711, 40, 177, 198, 548, 439, 1, 95, 54, 52, 515, 2, 29], [409, 543, 1, 264, 730, 1080, 2, 48, 51, 1, 659, 151, 104, 263], [29, 696, 3, 68, 3, 54, 52, 5, 5976, 21, 39, 137, 4, 282, 815, 40, 114, 79, 52, 137, 2, 355, 1340, 3, 1673, 3723, 263, 188, 114, 144, 27, 1, 5977, 5, 2701, 40, 138, 52, 79, 19, 138, 29, 696, 30, 885, 15, 313, 5978, 262, 1927, 34, 3, 188, 114, 7, 4, 42, 41, 570, 1084, 5979, 5, 5980, 255, 83, 259, 8, 160, 122], [606, 1052, 1396, 2515, 802, 2516, 88, 308, 1142, 803, 45, 225, 9, 8, 14, 24, 14, 1142, 178, 1575, 45, 225, 1101, 14, 751], [124, 636, 17, 2702, 5981, 2, 126, 13, 276, 384, 155, 26, 618, 522, 378, 2, 4, 299, 779, 22], [5982, 5983, 961, 6, 8, 3668, 5984, 5985, 3468], [36, 509, 802, 14, 7, 1, 16, 37, 2091, 24, 97, 10, 47, 69, 722, 14, 7, 35, 69, 2243, 1, 33, 2637, 6, 44, 357, 25, 158, 44, 357, 36, 4, 302, 63], [412, 9, 13, 5986, 5987, 26, 2703], [296, 329, 1266, 35, 69, 379, 279, 14, 210, 492, 33, 26, 169, 1145], [226, 14, 480, 4, 475, 841], [46, 150, 2704, 626, 275, 2, 162, 147], [184, 80, 24, 2672, 2673, 58, 222, 20, 622, 1118], [1, 95, 16, 5988, 143, 1, 83, 550, 273, 43, 4, 5989, 138, 2, 151, 1366], [6, 27, 185, 507, 15, 576, 522, 623, 188, 114, 1130, 22, 73, 5, 331, 290, 2, 838, 2705, 154, 1098, 209, 2706, 2707, 1124, 2708], [9, 67, 102, 570, 1616, 1, 27, 48, 2, 7, 373, 799, 1258, 7, 36, 401, 369], [6, 313, 314, 701, 1, 22, 23, 540], [141, 1836, 24, 3, 21, 5, 2709, 5990, 7, 5, 2933, 5991, 378, 219], [983, 300, 11, 315, 9, 796, 2, 32, 5992, 602, 15, 277], [37, 58, 103, 317, 28, 3488, 8, 1816, 18, 5993, 44, 5994, 441, 24, 513, 37, 2710, 8, 197, 8, 682], [1489, 9, 311, 12, 2313, 8, 446, 2314], [394, 24, 11, 434, 9, 192, 148], [915, 289, 221, 6, 36, 5995, 3221, 6, 211, 767, 7, 151, 10, 2, 94, 6, 85], [1, 597, 1274, 6, 954, 5996, 1676, 532, 630, 90, 80, 249, 306, 398], [141, 30, 959, 3724, 7, 1837, 9, 5, 753, 15, 11, 1055], [161, 223, 175, 6, 23, 116], [9, 2688, 902, 2, 16, 5997], [1459, 1157, 7, 380, 940, 8, 411], [3, 27, 5998, 231, 248, 3, 68, 2, 381, 131], [119, 101, 105, 62, 192], [120, 21, 39, 72, 12, 5, 3026, 667, 26, 907], [92, 2132, 52, 3, 27, 201, 28, 102, 972, 55, 5999, 35, 3, 484, 2132, 553, 2132, 6000, 26, 190, 2393, 19, 3, 33, 175], [3, 232, 134, 248, 2560, 329, 107, 21], [252, 236, 246, 2, 373, 2168, 3725], [10, 25, 1819, 43, 459, 44, 8, 5, 447, 1568], [1, 27, 71, 3, 4, 700, 35, 3, 55], [467, 1, 1033, 53, 148, 1617, 5, 75, 28, 1273], [370, 456, 14, 93, 31, 14, 131], [37, 542, 24, 17, 10, 160, 110, 63, 303, 97, 3, 90], [23, 92, 279, 1823, 43, 102, 47], [47, 116, 9, 2108, 6001, 8, 1167], [98, 125, 3, 3, 8, 78, 26, 2711], [120, 750, 1, 27, 205, 6, 43, 28, 719, 35, 6, 97, 10, 569, 125, 20, 2462, 66, 1019, 671], [17, 6002, 2, 279, 38, 278, 464, 6003, 518, 195, 512, 1514, 233, 2695, 76, 3726, 36, 6004, 345, 3726, 6005, 6006, 6007, 459, 6, 84, 1755, 268, 64], [119, 1, 60, 6008, 15, 560, 1727, 28, 419, 398, 37, 3727, 2, 48, 28, 162, 398, 27, 2106, 2, 3728, 44, 3729, 688, 80, 6, 17, 10, 45, 311], [289, 23, 229, 24, 1, 77, 2, 48, 89, 31, 86, 892], [339, 1, 61, 251, 12, 13, 470], [105, 601, 11, 99, 45, 3, 31, 43, 8, 177], [327, 1, 58, 130, 851, 1150, 3640, 37], [915, 456, 14, 30, 6009, 2, 626], [69, 287, 82, 210, 6010, 39, 31, 127, 364, 3224, 1551], [1, 112, 75, 2886, 7, 75, 6011, 176], [120, 1, 68, 3, 1, 933, 3, 1, 175, 3, 1, 77, 3, 1, 66, 3, 1618, 6012, 1115, 3730], [9, 67, 102, 1251, 150], [186, 13, 99, 37, 187, 4, 852, 462, 589, 826, 149, 18, 1221, 1270, 827, 40, 9, 5, 446, 520, 2, 405, 3, 17, 6013, 976, 2712, 371], [875, 466, 2, 53, 38, 3659, 89, 82, 140, 6, 31, 995, 30, 8, 404, 721, 6, 800, 6, 454, 4, 295, 18, 11, 424, 6014, 6, 81, 1347, 556, 2713, 6, 81, 23, 1305, 443, 1, 1425, 1, 3731, 6, 1562, 1, 1347, 954, 48, 51, 721, 6, 6015, 1, 1705, 6, 3732, 1259, 30, 2324, 15, 6, 6016, 1, 175, 3, 1792, 535, 2169, 10, 75, 3733], [173, 1228, 6017, 63, 136, 140, 63, 1545, 109, 824], [56, 3, 21, 6018, 54], [1429, 67, 152, 98, 2, 88, 6019], [62, 745, 2, 596, 248, 55, 40, 53, 27, 152, 2710, 24, 100, 1745, 202, 608, 184, 2, 10], [1818, 193, 488, 1106, 1170, 245, 2137, 2, 586, 930, 245, 3607, 2, 586, 2643, 3608, 3609, 3610, 3611, 3612, 154, 1134, 281, 241, 1700, 191], [500, 1674, 21, 251, 12, 3, 70, 13, 830, 1921, 76, 13, 3734, 74, 6020, 436, 26, 832, 146, 502, 6021, 12, 1253, 1074, 70, 13, 830, 1921, 76, 4, 502, 146, 502, 6022], [57, 117, 11, 118, 3735, 170, 94, 189], [19, 9, 6023, 997], [771, 126, 38, 2136, 247, 495, 70, 50, 2, 2545, 22, 279, 6024, 20, 38, 914, 820, 469, 6025, 209, 12, 122, 1225, 335, 179, 136, 6026, 6027, 272, 1035, 6028, 26, 84], [858, 80, 396, 39, 358, 729, 173, 86, 1104, 965, 140, 256], [484, 59, 131, 1, 2714, 1008, 129, 8, 86, 447, 824], [1087, 10, 218, 35, 939, 67, 62, 67], [120, 1795, 6029, 560, 20, 163, 129, 69, 585, 2563, 51, 3485, 1940, 24, 1, 6030, 213, 55, 14, 1296, 16, 20, 31, 174, 430, 78, 24, 3046, 368, 6031], [6032, 49, 445, 91, 333], [1, 27, 94, 3, 28, 55, 1128], [125, 9, 14, 9, 67, 102, 3244, 12, 3736], [30, 370, 1430, 1340, 18, 13, 836], [30, 260, 752], [3, 21, 368, 74, 111, 412, 105, 97, 10, 13, 2652, 7, 2653, 8, 386], [47, 21, 3, 270, 3, 4, 124, 950], [2109, 1, 66, 3, 133, 329, 563, 16, 4, 2715, 65], [538, 47, 29, 3, 55, 5, 2628, 3403], [508, 168], [111, 260, 1065, 31, 5, 1838, 654, 445, 26, 562, 1431, 18, 2716, 99, 70, 245, 26, 1431, 2, 2717, 22, 692, 51, 73, 2170, 84, 2718, 2719, 343, 237], [37, 30, 25, 1, 221, 135, 3, 439, 3, 68, 7, 77, 3, 396, 214, 29, 296, 12, 549, 18, 2720, 953, 789, 58, 133, 215, 329, 1, 29, 1, 221, 31, 147, 1, 221, 31, 4, 300, 1, 221, 401, 5, 1120, 1, 221, 218, 2110, 11, 758, 866, 3413, 141, 30, 6033, 7, 3402, 1, 287, 218, 17, 78, 12, 2438, 1296, 93, 16, 2, 97, 169, 1, 436, 43, 2, 327], [204, 1489, 379, 353, 8, 207, 442, 2899], [56, 31, 110, 155, 584, 7, 93, 70, 2721], [119, 11, 66, 144, 6034, 57, 2, 385, 46, 3, 1247, 1, 496, 3, 23, 116, 87, 30, 101, 13, 313, 1596, 34, 5, 6035, 24, 429, 3, 12, 6036, 10], [633, 320, 126, 38, 1222, 749, 15, 1028, 623, 87, 70, 141, 2, 1531, 22, 853, 1349, 903, 99, 179, 305, 853, 1556, 2038, 854, 1123, 2171, 272], [641, 13, 1184, 338, 675, 12, 2935, 348, 1904, 1905, 589, 592, 2, 126, 17, 2936, 712, 400, 2274, 676], [374, 68, 2, 205, 43, 133], [30, 260], [21, 3, 5, 6037, 388, 8, 5, 375, 26, 52], [37, 6038, 2722, 285, 275, 1219, 426, 171, 461, 102, 1375, 52, 63, 1, 142, 59, 150], [247, 642, 12, 13, 1839, 70, 1100, 115, 1187, 154, 1137, 524, 1369, 650, 34, 84, 37, 916, 601, 250, 6039, 423, 6040, 1452, 1453], [119, 6041, 257, 257, 6042, 3205, 6043, 604], [1, 264, 1647, 80, 24, 409, 27, 31, 999, 4, 25, 140, 6, 159, 22], [6044, 2691, 6045], [62, 4, 1772, 2, 6046, 5, 552, 14, 36, 1712, 3, 178, 1516, 1013, 2, 552, 13, 6047], [435, 1282, 742, 10, 43, 45, 255, 85, 328, 1141, 1, 16, 2, 803, 43, 34, 1840, 7, 69, 232, 121, 350, 7, 26, 9, 3737], [1, 1545, 1778, 26, 6, 1545], [429, 3, 1, 55, 3, 74, 111], [833, 7, 1329, 160, 789, 59, 78, 46, 19, 313, 2, 3738, 11, 2172, 134, 10, 344, 7, 250, 10, 31, 311, 12, 11, 564, 21, 3, 183, 13, 311, 12, 19, 727, 15, 166], [6048, 165, 96, 27, 1218, 10, 42, 41], [29, 39, 16, 102, 3238, 1198, 6049], [858, 69, 358, 3739, 24, 612, 242, 6050, 80, 69, 58, 151, 10, 20, 491, 24, 1, 264, 909, 25, 23, 1508, 20, 48, 2115, 107, 264, 2433, 83, 25, 6051, 140], [3, 21, 4, 734, 3, 16, 106, 1076, 444, 2, 342, 384, 155, 26, 4, 618, 468, 378, 2, 4, 299, 779, 2, 126, 17, 6052, 1376, 366, 518], [153, 95, 48, 2, 386, 93, 32, 85, 202, 1390], [1301, 2266, 2, 126, 38, 2723, 280, 71, 4, 6053, 1353, 571, 2443, 2, 2009, 18, 199, 241, 423, 362, 6054, 6055, 6056, 6057, 829, 1210, 776, 1721, 84], [111, 1, 924, 632, 74, 1, 6058, 6059, 34, 174, 117, 23, 107, 137, 2, 151, 6060, 6061, 1420, 15, 10], [144, 19, 63, 15, 5, 114, 200, 6062], [270, 6, 242, 242, 1991, 15, 5, 65, 139, 434, 1432], [6, 27, 185, 507, 15, 576, 522, 623, 188, 114, 1130, 22, 73, 5, 331, 290, 2, 838, 2705, 154, 3740, 209, 2706, 2707, 1124, 2708], [1, 123, 3, 54, 30, 83, 1744, 28, 3], [2724, 11, 1776, 9, 6063, 435, 5, 64, 212, 1, 381, 46, 5, 1901, 39, 112, 60, 19, 6064, 7, 6065, 211, 5, 64, 351, 49, 1770, 39, 1841, 28], [8, 6066, 6067, 392, 473, 388, 97, 10, 5, 1130, 2725, 12, 466, 619, 1, 27, 398, 3741, 18, 11, 953, 160, 337, 15, 6068, 89, 1605, 208, 3415, 96, 165, 5, 6069, 6070, 6071], [29, 3, 54, 45, 5, 1972], [2397, 754, 8, 40, 1872, 1699, 290, 6, 16, 187, 5, 2398, 149, 2, 126, 36, 17, 3125, 3126, 179, 305, 84, 247, 3127, 192, 268, 64, 371], [101, 161, 259, 43, 22, 213, 158, 399, 1808, 6072, 19, 1117, 10, 212], [3, 29, 58, 4, 3742, 15, 3743, 461], [3744, 115, 29, 10, 4, 3745, 115, 1586, 11, 434, 1649, 2, 2726, 115, 1012, 668, 14, 87, 9, 104, 434, 3746], [111, 30, 72, 2, 32, 127, 3747], [694, 108, 55, 53, 837, 2727, 56, 23, 6073], [131, 1, 336, 1, 6074, 29, 3748, 1010, 128], [204, 46, 5, 1251, 6075, 14, 498, 67, 9, 37, 3350, 1584, 62, 53, 79, 1294, 6076, 7, 6077], [13, 6078, 697, 690, 136, 3749, 827, 9, 6079, 790, 1401, 154, 6080, 209, 12, 1028, 774, 2, 692, 51, 91, 84, 239, 189, 17, 6081], [1664, 34, 882, 1059, 87, 69, 6082, 1142, 19, 3, 77, 2, 3750, 2, 197, 10, 108, 417, 72, 2, 17, 3, 45, 69, 382, 1, 3751, 3, 2, 36, 810, 92, 134, 102, 2654, 26, 134, 14, 2234, 248, 21, 25, 438, 7, 1, 77, 3, 2, 105, 181, 199, 147, 248, 51, 74, 302, 74, 1, 197, 1842, 250, 11, 6083, 33, 32, 6084, 23, 115, 36, 197, 129, 139, 37, 2654, 18, 13, 418], [717, 614, 4, 475, 200, 39, 235, 8, 4, 646], [111, 260, 7, 404, 226, 53], [56, 164, 3, 480, 2, 1702], [90, 83, 21, 3, 699, 10], [24, 1, 499, 2354, 1, 878, 1008, 11, 1405, 87], [160, 5, 1738, 96, 33, 32, 486, 2, 324], [508, 614, 5, 2728, 85, 8, 319], [3, 82, 5, 6085, 105], [3, 3752, 51, 15, 1173, 2349, 510, 2390, 5, 249, 65, 6086, 2579, 22, 83, 34, 10, 3375, 45, 6, 2339, 31, 4, 388, 888, 38, 730, 83, 793, 39, 33, 31, 6087], [771, 120, 30, 6088, 1318, 7, 66, 2, 3753, 1074, 78, 701, 557, 2946, 91, 20, 136, 11, 1433, 6089, 6090, 4, 130, 71, 84, 2, 84, 896], [23, 27, 472, 38, 892], [50, 27, 32, 131, 1673, 208, 455, 455, 770, 35, 3, 68, 3754, 16, 655, 202, 3067, 2729, 25, 2, 1007, 215, 18, 6091, 35, 3, 95, 321, 74, 159, 19, 1397, 335], [1, 33, 369, 1, 31, 78], [6092, 6093, 50, 206, 63, 56], [5, 6094, 6095, 30, 251, 76, 5, 2367], [1, 1563, 92, 420, 2, 59, 1, 33, 232, 32, 8, 682, 8, 34, 3], [98, 2730, 135, 199, 85, 88, 6096, 224, 39, 6097, 12, 1218, 46, 6098], [1, 92, 16, 1, 408, 201, 75, 118], [119, 363, 1, 61, 139, 2, 82, 13, 157, 160, 162, 306], [52, 274, 7, 47, 242, 2731], [120, 6099, 47, 477, 14, 108, 8, 2231, 62, 1117, 50, 67, 9, 55, 6100, 7, 350, 24, 1, 83, 2310, 3755, 990], [631, 683, 15, 4, 300, 174, 114, 60, 11, 1651, 11, 492, 2732, 270, 10, 11, 886, 420, 89, 23, 112, 11, 1230, 1, 234, 2, 147, 218, 11, 1619, 112, 25, 270, 74, 1, 1181, 11, 2931, 11, 432, 165, 825, 139, 1651, 1460, 825, 1, 1002, 288, 96, 1299, 10, 44, 314, 160, 314, 96, 1075, 10, 2, 104, 1652, 39, 234, 67, 96, 165, 825, 29, 6, 321, 35, 1, 48, 360, 5, 1371, 12, 4, 646, 825, 2173, 1, 1843, 8, 4, 500, 1434, 96, 480, 51, 216, 2174, 2175, 721, 4, 1332, 89, 11, 492, 11, 886, 11, 2733, 11, 266, 89, 11, 1619, 53, 1815, 979, 7, 1, 60, 251, 18, 5, 1272, 984, 1492], [1, 100, 3, 142, 48, 5, 6101, 1194, 17, 5, 788, 150, 62, 5, 1516, 3101, 19, 134, 199, 124, 277], [49, 12, 397, 114, 1384, 193, 245, 44, 38, 512, 188, 114, 36, 73, 193, 2, 1160, 31, 1005, 7, 97, 38, 914, 1561, 736, 1557, 1753, 1754, 245, 272], [37, 62, 25, 6102, 27, 147, 24, 62, 1246, 6103, 33, 416, 12, 14, 40, 345, 2122, 173, 37, 6104, 44, 6105], [9, 96, 1165, 121, 2394, 1295, 210, 113, 143], [122, 48, 2, 1153, 130, 20, 454, 18, 2471, 1265, 162, 1412, 5, 3489, 34, 887, 44, 985, 42, 41, 216, 2594, 1035, 38, 887, 62, 2085], [98, 11, 750, 161, 18, 11, 138, 2, 1604, 7, 39, 16, 36, 106, 3756, 360, 76, 334, 3582, 7, 16, 4, 341, 6106, 161, 158, 450, 6, 52, 16, 6, 106, 43, 2, 377], [327, 158, 36, 528, 183, 3757, 43, 2, 2554], [30, 25, 258, 78, 44, 344], [429, 3, 7, 76, 5, 138, 1, 36, 839], [141, 69, 16, 57, 6107, 321], [3369, 53, 33, 32, 111, 8, 4, 304, 1063], [533, 547, 6, 663, 9, 14, 3, 582, 2500, 3298, 627, 155, 26, 507, 1761, 697, 17, 22, 3299, 1051, 423, 362, 3300, 3301, 366, 371, 99, 1514], [27, 1, 105, 59, 43, 22, 6108, 458, 6109, 35, 6110, 6111], [1, 379, 23, 1430, 748, 5, 359], [6112, 548, 263, 7, 294, 2058, 1800, 582], [1144, 137, 4, 57, 65, 16, 3, 2029, 2, 465, 5, 403], [82, 1, 273, 14, 53, 906], [31, 311, 2, 1521, 7, 1536], [119, 90, 164, 3, 58, 317, 56, 786, 43], [1, 732, 179, 100, 23, 3, 95, 77, 2, 32, 72, 51, 19, 229, 18, 4, 485, 117, 1085, 45, 5, 75, 285, 3, 16, 9, 5, 75, 3, 496, 174, 1271, 7, 374, 2504, 4, 552, 8, 18, 743], [7, 6113, 42, 41, 6114, 60, 37, 250], [168, 47, 477, 19, 65, 52, 21, 3, 159, 125, 21, 3, 1, 6115, 11, 3262, 7, 100, 15, 3, 11, 66, 1, 71, 4, 413, 2, 3, 46, 1040, 5, 809], [50], [3758, 6, 37, 38, 4, 6116, 43, 22, 156], [6117, 58, 6118, 6119, 3339, 6120, 1332, 6121, 6122, 582, 39, 324, 1125, 398, 48, 1600, 89, 3759, 26, 48, 3456, 26, 1732], [1, 54, 4, 304, 277, 1, 27, 742, 43, 7, 456, 2, 5, 141], [3547, 15, 691, 481, 442, 9, 25, 79, 709, 160, 1020, 5, 1368, 157, 62, 79, 709, 36, 76, 872, 5, 284, 257, 2015], [23, 9, 67, 184, 3760, 1, 142, 32, 159, 34, 1784, 2, 6123, 26, 52, 328, 2133, 52, 5, 456], [119, 363, 30, 223, 1812, 6124, 6125, 22], [49, 365, 898, 34, 2111, 46, 44, 6126, 345, 34, 649, 1923, 2176, 278, 122, 20, 527, 73, 6127, 6128, 182, 6129, 17, 2160, 26, 964, 1398, 6130], [291, 1, 1407, 529, 545, 419, 2177, 35, 1, 1243, 3761, 252, 53, 58, 47, 242, 2177], [6131, 6132, 30, 223, 355, 1739, 3169, 8, 6133, 6134, 275, 770, 35, 6, 68, 20, 469, 10, 107, 16, 4, 1600, 128], [6135, 23, 116, 12, 5, 17, 1, 1315, 13, 189], [669, 702, 2734, 1, 61, 25, 18, 470, 12, 20, 306, 33, 470, 369, 1219, 1646, 1387, 28, 78, 325, 3531], [1, 393, 24, 37, 75, 205, 43, 146, 113, 1, 151, 575, 15, 169, 148, 107, 165, 50], [98, 11, 661, 571, 121, 1295, 22, 14, 9], [243, 6136, 4, 6137, 2371, 6138, 146, 6139, 89, 6140, 179, 6141, 1, 6142, 89, 6143, 146, 6144, 139, 1110, 65, 8, 1683], [25, 116, 36, 110, 6145, 47, 757, 3], [491, 14, 35, 3, 58, 14], [30, 8, 4, 570, 17, 10, 44, 140], [25, 183, 1, 16, 5, 2492, 12, 14], [256, 27, 24, 30, 313, 344, 34, 11, 3762], [4, 392, 60, 229, 20, 78, 210, 981, 1198, 15, 2178], [7, 11, 300, 717, 9, 1499, 258, 76, 781, 220, 37, 3763], [219, 3, 33, 16, 5, 333, 212, 412, 29, 1, 134, 3, 1635], [6146, 115, 29, 10, 4, 3457, 115, 1586, 11, 434, 1649, 2, 2726, 115, 87, 9, 104, 434], [256, 11, 2735, 7, 3764, 21, 2900, 10, 7, 11, 6147, 21, 1039, 2, 318, 5, 117, 34, 4, 6148, 100, 1, 214, 893, 76, 8, 55, 127, 441], [186, 13, 99, 37, 2617, 187, 4, 852, 462, 589, 826, 149, 18, 1221, 1270, 827, 40, 9, 5, 446, 520, 2, 405, 3, 17, 2616, 976, 2712, 371], [1450, 5, 1692, 722, 189, 15, 14, 201, 528, 183, 14, 1084, 6149, 27, 39, 115, 3765, 40, 282, 18, 776], [186, 13, 44, 1427, 1004, 1428, 280, 26, 617, 610, 493, 17, 1610, 22, 1611, 581, 792, 204, 1612, 1613, 1394, 1614, 237, 625, 1615], [780, 111, 117, 117], [36, 478, 2, 152, 3766, 350, 3, 359, 6150, 3507, 79, 40, 2008], [36, 1136, 4, 293, 6151, 34, 11, 6152, 28, 5, 1256, 111, 6153, 20, 2552, 138, 58, 4, 2539, 8, 4, 195, 861, 1, 408, 322, 19], [40, 9, 75, 15, 5, 306, 3, 16, 4, 3767, 3768, 156], [751, 87, 1, 61, 229, 12, 6154, 328, 15, 85, 497], [50, 56, 93, 181, 129, 597, 131, 89, 151, 129, 17, 6, 451], [1985, 30, 3132, 1347, 851, 308, 30, 3133], [50, 30, 6155, 545, 22, 29, 6, 246, 10, 20, 201, 184, 48, 38, 297], [33, 16, 442, 133, 6156, 217, 6, 7, 9, 178, 1455, 34, 6157], [228, 844, 2, 3, 105, 92, 668, 11, 1433, 1, 68, 2, 82, 53, 15, 3], [3, 16, 187, 4, 276, 384, 155, 26, 4, 618, 149, 2, 126, 784, 149, 17, 88, 239, 233, 1175, 18, 6158, 481, 1293, 1376, 366, 518], [24, 158, 358, 1215, 80, 140, 56, 6, 1407, 529, 526, 2458, 2736, 140], [1, 1343, 3, 55, 433, 8, 5, 350, 6159, 3769, 3770, 360, 4, 156, 2179], [124, 1, 60, 259, 991, 79, 3, 36, 54, 19, 4, 737, 7, 2602, 330, 55, 3, 33, 16, 64, 5, 286, 8, 166, 54, 19, 6, 81, 737, 7, 1435, 66, 9, 566], [171, 12, 13, 445, 573, 2180, 143, 6160, 13, 99, 33, 32, 870, 2181, 237, 142, 13, 245, 25, 1418, 105, 17, 239, 642, 18, 6161], [1, 2729, 11, 49, 306, 3526, 1565, 762, 532, 27, 252, 151, 448, 1227, 80], [1406, 6162, 769, 5, 3521, 560, 6163, 1824, 1060, 4, 6164, 89, 146, 138, 6, 326, 849, 192, 160, 719, 671], [35, 3, 16, 3771, 10, 59, 2, 11, 78], [119, 90, 90, 125, 112, 3, 94, 552], [448, 211, 11, 2101, 6165], [256, 24, 37, 215, 422, 131, 58, 2, 48, 12, 1592, 256, 7, 433, 12, 1062, 3772, 12, 551, 1094], [120, 264, 39, 499, 48, 6166, 2, 140, 39, 3773, 1380, 80, 1602, 37, 1330, 18, 731, 173, 463, 713, 116, 667, 2, 48, 35, 39, 2064, 1330, 18, 410], [90, 569, 38, 49, 59, 2, 11, 78, 7, 182, 795, 1432, 1, 501, 196, 470, 2, 129, 182, 296, 59, 452, 1000, 32, 49, 87, 1742, 2642], [327, 36, 259, 677, 76, 466, 284, 748, 1034, 6167], [554, 13, 367, 143, 200, 326, 134, 183, 30, 6168, 18, 5, 156, 1229], [1969, 6169, 37, 6170, 6171, 2655, 358, 658, 5, 103, 6172, 224, 9, 6173, 182, 6174, 867, 6175, 18, 6176, 6177], [115, 97, 6178, 19, 5, 6179, 21, 37, 1235, 931, 5, 215, 1, 60, 1842, 1814, 258], [135, 104, 190, 2, 655, 35, 96, 722, 14, 7, 738, 1813, 56, 3, 104, 2737, 356, 663, 35, 96, 6180, 1191, 181, 10, 54], [100, 3, 196, 5, 70, 2, 5, 78, 113, 19, 230, 2738, 453, 35, 3, 83, 68, 2, 71, 14, 210, 143, 9], [188, 65, 1, 279, 2, 227, 160, 42, 41, 23, 64], [90, 93, 17, 3, 45, 30, 672], [6, 201, 6181, 148], [760, 460, 11, 681, 80, 612, 2078, 11, 1405, 56, 1, 27, 1008, 1374, 55, 144, 72, 20, 1073, 219], [1559, 30, 18, 11, 138, 2, 11, 1835, 662, 528, 2934, 2739, 6182], [37, 2740, 6183], [47, 112, 3, 167, 51, 8, 4, 138, 19, 287, 2741, 53, 15, 583, 474], [98, 226, 168, 254, 6, 6184, 757, 10, 984, 6185, 259, 1944, 461, 40, 9, 4, 2742, 1541, 37, 35, 3, 1707, 3, 31, 1957, 3774, 376, 130, 1639, 249, 3139, 740, 182, 2601], [85, 20, 147, 3775, 332, 2725, 192, 27, 6, 136, 10, 1056, 44, 110, 500, 6186, 813, 1, 16, 20, 48, 85, 244, 22, 6187, 404, 6188, 464, 343, 2618], [33, 3, 55, 2, 32, 3776], [171, 12, 13, 445, 573, 2180, 143, 6189, 13, 99, 33, 32, 870, 2181, 237, 142, 13, 245, 25, 1418, 105, 17, 239, 642, 18, 6190], [1, 61, 259, 2743, 46, 13, 3777, 2580, 6191, 74, 1, 6192, 3778, 1396, 129, 62, 127, 1838, 157], [123, 248, 234, 111, 28, 6193, 6194, 10, 1, 83, 77, 2563, 112, 6, 136, 145, 421, 212, 1, 402, 8, 5, 2744], [398, 140, 33, 146, 2150, 180, 3779, 18, 731], [176, 322, 1620, 1757, 116], [50, 10, 380, 390, 128], [1, 36, 3780, 40, 312, 577, 10, 34, 5, 1052], [36, 1844, 51, 2972, 51, 2, 663, 217, 11, 283, 22], [108, 58, 679, 15, 511, 2251, 837, 2727], [631, 683, 15, 4, 300, 174, 114, 60, 11, 1651, 11, 492, 2732, 270, 10, 11, 886, 420, 89, 23, 112, 11, 1230, 1, 234, 2, 147, 218, 11, 1619, 112, 25, 270], [303, 17, 3, 452, 303, 110, 2647], [6195, 724, 46, 1953, 15, 645, 488, 715, 335, 40, 9, 4, 6196, 233, 34, 537, 488, 3532, 3781, 6, 16, 75, 774, 1319, 85, 7, 322], [112, 3, 498, 129, 7, 489, 112, 69, 152, 26, 214, 6, 25, 136, 129, 44, 6197], [14, 142, 94, 79, 42, 41, 195], [25, 977, 46, 3782, 4, 475, 17, 44, 2406, 244, 641, 312, 6198, 2, 849, 246, 6199, 695, 15, 10, 1136, 6200, 56, 70, 1433, 2, 3783, 6201, 71, 84, 3783, 1924, 377], [50, 22, 1, 61, 8, 430, 35, 1, 59, 219, 1, 33, 59, 1141, 150], [1368, 46, 3784, 49, 476, 360, 88, 808, 537, 867, 36, 71, 5, 331, 865, 2, 3784, 22, 268, 179, 136, 154, 2574, 209], [298, 340, 6], [2745, 46, 2745, 839, 6202, 250], [256, 1, 100, 1, 112, 128], [6, 54, 39, 6203, 28, 2262], [166, 1007, 34, 225, 12, 4, 2345, 265, 32, 6204, 24, 4, 304, 2511, 1172, 34, 225, 132, 158, 66, 3, 513, 133, 329, 166, 1090], [256, 621, 198, 106, 2, 1106, 4, 846, 494, 132, 6205, 258], [1338, 92, 32, 631, 118], [100, 1, 214, 84, 76, 8, 55, 127, 441, 26, 23, 11, 2891, 433, 2, 1638, 43, 12, 4, 568], [9, 19, 18, 5, 3679, 37, 62, 6206, 6207], [66, 3, 1704, 66, 6, 337], [261, 47, 81, 6, 161, 540, 6208, 273, 574, 31, 540, 34, 5, 390, 24, 1, 61, 97, 10, 190, 1830, 121, 711, 67, 184], [780, 399, 636, 6209, 850, 2949, 3785, 6210, 2010, 64, 402, 20, 3786, 2746], [101, 93, 17, 131, 8, 316], [81, 109, 931, 85, 12, 344], [1, 501, 819, 1070, 17, 1, 436, 1845, 2, 2656, 6], [2134, 3, 3787, 12, 525], [1, 405, 78, 944, 89, 971, 340], [6211, 57, 141, 105], [98, 2182, 50, 24, 1967, 2531, 335, 25, 57, 74, 16, 3788, 85, 790, 15, 6212, 2, 29], [1, 16, 137, 442, 133, 2183, 46, 1, 33, 1276, 169, 12, 3, 173, 75, 121, 4, 157, 12, 3, 378, 219], [1366, 992, 4, 521, 132, 3377, 3789, 24, 417, 231, 8, 1419, 1249, 7, 1, 95, 100, 1, 214, 635, 14, 43, 202, 55, 455], [92, 3, 16, 157, 372], [137, 13, 99, 1199, 523, 12, 49, 2, 3790, 352, 562, 365, 987, 799, 403, 464, 17, 99, 3791, 18, 2702, 806, 26, 6213], [120, 67, 168, 47, 6, 1060, 489, 6, 43, 20, 1056, 66, 3792, 254], [1846, 10, 47, 2, 31, 67, 7, 1, 408, 29, 23], [240, 25, 243, 1669], [261, 1554, 40, 840, 212, 1, 100, 1, 16, 706, 2, 197, 40, 1348, 19, 1084, 147], [3, 16, 122, 103, 157, 105, 17, 6214], [98, 750, 161, 2608, 6, 123, 3, 21, 313, 4, 57, 63, 45, 21, 6, 85, 7, 52, 63, 35, 6, 27, 135, 10, 4, 17, 28, 78, 2156, 671], [1368, 46, 3793, 98, 40, 9, 13, 3794, 3795, 247, 2153, 3, 16, 44, 495, 3, 16, 1678, 1237, 105, 17, 85, 18, 3796, 2, 3797, 13, 495, 7, 1237], [290, 6215, 1, 92, 100, 23], [92, 205, 43, 145, 17, 45, 190, 487, 9, 67, 2, 97, 3798], [669, 122, 274, 288, 1168, 875, 12, 20, 9, 566, 17, 2245, 22, 136, 2246, 243, 2247, 2248, 820, 53, 44, 49, 1644, 1452, 1453, 1645, 92, 175, 51], [3799, 615, 2, 11, 321, 252, 250, 10, 201, 6216, 80, 38, 892, 25, 1575], [42, 41, 240, 53, 336, 240, 438, 428], [39, 27, 134, 4, 407, 8, 319, 637], [142, 1, 97, 11, 269, 25, 2, 59, 1204, 530, 55, 42, 41, 1504], [691, 3800, 118, 811, 118, 6, 81, 25, 1119, 24, 1, 27, 385, 92, 31, 2237, 299, 34, 2747, 37, 133, 1436, 6, 81, 232, 11, 118, 257, 785], [83, 8, 5, 859, 15, 5, 3527, 303, 271, 2, 59, 85, 219], [370, 3801, 147, 171], [185, 4, 274, 2495, 15, 1758, 44, 4, 972, 15, 38, 1793, 749, 627, 865, 88, 507, 537, 290, 73, 576, 2, 838, 1044, 305, 154, 1098, 209, 3428, 3429], [2141, 660, 829, 185, 4, 507, 1328, 1095, 149, 35, 6, 54, 132, 5, 103, 3802, 15, 2748, 33, 32, 73, 104, 207, 284, 2, 1468, 1721, 84, 343, 237, 3803, 1303, 6217], [1, 16, 20, 647, 2749, 122, 6218, 7, 1131, 7, 113, 474, 184, 515], [3, 16, 187, 4, 193, 2127, 40, 9, 52, 3, 31, 45, 3, 185, 88, 49, 664, 2, 94, 418, 71, 193, 2, 1603, 22, 1025, 804, 805, 653, 2128, 272], [754, 171, 2, 4, 57, 269, 6, 16, 187, 5, 852, 462, 471, 149, 20, 126, 9, 438, 36, 17, 6219, 22, 64, 518, 238, 646, 389, 544, 376], [6220, 6221, 281, 241, 133, 652, 46, 6222, 118, 3354, 6223, 15, 49, 652, 34, 124, 6224], [23, 52, 29, 3, 359, 29], [182, 19, 244, 60, 621, 24, 95, 134, 14, 2742, 1105, 3, 27, 82, 104, 8, 330], [240, 6225, 24, 92, 516], [240, 640, 13, 591, 1, 299, 2, 32, 1328], [6226, 2685, 6227, 26, 6228, 2685, 6229, 6230, 6231, 6232, 3804, 6233, 3805, 3806, 3804, 69, 3807, 6234, 6235, 1388, 3805, 3806, 1388, 3807, 6236, 6237, 1388], [18, 5, 138, 2, 411, 86], [8, 224, 222, 29, 3, 68, 86], [40, 497, 1750, 16, 59, 28, 4, 1437, 63], [142, 1, 32, 6238, 6], [101, 538, 92, 54, 47, 1, 420, 218, 160, 3808, 6239, 10, 101, 123, 3, 359, 137, 415], [50, 80], [2568, 285, 6240, 6241], [5, 471, 683, 9, 2444, 5, 471, 130, 9, 66, 5, 471, 1578, 9, 1779, 501, 4, 3351, 345, 1286, 170, 270, 6, 1200, 471], [186, 13, 99, 143, 187, 4, 618, 589, 826, 149, 18, 419, 1270, 827, 40, 9, 5, 446, 520, 2, 405, 3, 17, 6242, 976, 362, 6243, 371], [19, 65, 3, 473, 79, 6244, 143, 164], [61, 2346, 541, 972, 12, 903, 29, 3, 68, 2, 201, 102, 212], [302, 6245, 80, 6246, 6, 313, 344, 22], [28, 78, 76, 5, 138], [39, 21, 575, 267, 171], [52, 598, 2, 104, 97, 5, 1052], [29, 3, 55, 1787, 553], [224, 9, 2020, 328, 1, 54, 1, 137, 14, 28, 75, 817], [3809, 3, 484, 32, 2676, 1091, 111, 6247, 2750, 192, 6248, 110, 6249, 19, 6250, 1071], [97, 13, 266, 52, 3, 425, 2, 29, 18, 1110, 65, 42, 1886, 41], [508, 82, 3, 8, 4, 293], [1163, 12, 5, 157, 6251, 6252, 106, 3810, 28, 11, 113, 12, 127, 830, 3380, 1847, 2, 70, 26, 25], [1, 33, 94, 189, 15, 6253, 351, 1, 33, 250], [97, 118, 52, 598, 2, 3, 164, 3, 844, 2, 10, 55, 127, 6254], [567, 13, 278, 896, 18, 443, 26, 122, 20, 527, 2111, 843, 7, 1688, 34, 180, 6255, 49, 193, 49, 17, 756, 18, 806, 6256, 6257], [98, 40, 9, 1304, 27, 1, 163, 6, 28, 703, 451], [62, 6258, 1012, 299, 8, 42, 41, 6259, 3811, 6260, 89, 1425, 1034], [24, 1, 1493, 1192, 8, 447], [19, 1242, 3812, 6261], [858, 515, 93, 264, 15, 53, 6262, 15, 1215, 248], [3, 33, 32, 8, 5, 222, 15, 19, 300], [823, 74, 242, 1057, 74, 6, 55, 37, 6263, 1953, 20, 724, 6, 27, 218, 71, 20, 784, 6264, 73, 339, 2, 2751, 854], [310, 301, 47, 60, 13, 65], [105, 17, 6265, 1021, 74, 67, 9, 127, 186, 157, 251, 12, 3], [81, 39, 72, 34, 5, 42, 41, 430], [261, 11, 66, 47, 234, 13, 65, 21, 3, 508, 1, 100, 15, 3, 11, 368, 7, 71, 4, 2999, 2, 13, 308, 2, 1846, 3, 1, 66, 3, 27, 3, 385, 14, 1, 3110, 14, 1040, 5, 809, 12, 53, 5, 375, 2, 385, 1618, 1115, 3730, 9, 980, 7, 6266, 6267, 1990, 413], [37, 69, 1190, 87, 1090], [467, 262, 34, 10, 111, 171, 12, 5, 6268], [93, 282, 2, 5, 1149, 7, 374, 36, 59, 364, 150, 56], [1848, 43, 13, 512, 34, 4, 2752, 493, 15, 4, 1341, 700, 157, 505, 4, 49, 1818, 245, 73, 689, 1848, 2, 586, 1561, 3813, 238, 1341, 700], [137, 5, 215, 2753, 3814, 10, 231, 24, 171, 2, 3, 1, 27, 3042, 2098, 22, 1, 391, 134, 183, 3, 92, 2071, 14, 171], [98, 30, 101, 1, 496, 13, 17, 27, 3, 115, 17, 85], [1849, 2184, 9, 85, 18, 13, 390, 48, 2, 1438, 3815, 18, 1438, 3816, 7, 353, 3817, 943, 1281, 3818, 1210, 18, 776, 23, 2299, 22, 1438, 692, 51, 2, 3819], [50, 56, 37, 77, 2, 97, 10, 184, 1, 61, 72, 2, 227, 57, 117], [50, 271, 2, 29, 114, 318, 834, 8, 6269], [245, 600, 13, 2171, 121, 22, 3820, 20, 509, 1223, 91, 6270, 44, 6271, 26, 6272, 44, 1248, 122, 537, 191, 238, 114, 73, 84, 20, 84, 40, 130, 49, 6273, 6274], [243, 228, 217, 20, 3364, 2595, 20, 1507, 11, 3821, 18, 6275, 20, 180, 740, 20, 2754, 6276, 8, 206, 6277, 572, 6278], [35, 3, 81, 78, 56, 59, 231, 970, 216, 195], [4, 392, 980, 4, 922, 69, 3822, 389, 96, 440, 321, 69, 3823, 3824, 3825, 389, 104, 876, 3826, 2755, 200, 145, 392, 706, 20, 3827, 145, 922, 3828, 63, 4, 3829, 60, 3830, 1311, 145, 922, 2756, 14, 60, 79, 20, 742, 145, 388, 145, 392, 1821, 55, 1309, 89, 2057, 104, 96, 473, 3831, 2683, 6, 526, 23, 729, 984, 145, 392, 1471, 1837, 9, 145, 753, 15, 11, 1055, 89, 2757, 145, 388, 2457, 88, 1055, 89, 3832, 3833, 3834, 3835, 2758, 1837, 3836, 1414, 15, 145, 683, 1, 1962, 49, 677, 145, 257, 785], [19, 65, 109, 152, 109, 821, 38, 511, 28, 3837, 9, 14, 393, 511, 1325, 29, 109, 597, 47, 116, 9, 4, 511, 821], [780, 128, 242, 15, 169, 3555, 695, 1836, 3838, 556, 6279, 62, 1117, 415, 637], [380, 390, 80, 289, 96, 23, 1215, 39, 3839, 104, 44, 140, 1360, 328, 96, 264, 144, 2759, 481, 199], [471, 149, 6280, 39, 21, 292, 2, 194, 6, 593, 290, 348, 19, 3, 16, 187, 4, 618, 149, 276, 17, 3303, 46, 657, 312, 506, 674, 64], [409, 543, 69, 659, 152], [394, 44, 1108, 6, 81, 4, 6281, 1, 100, 38, 630, 3840, 6282, 122, 6, 6283, 10, 43, 66, 6, 6284], [30, 18, 11, 138, 78, 234, 2, 579, 6285, 44, 11, 373, 56, 48, 533, 4, 293, 80], [141, 5, 64, 222, 8, 458, 2, 163, 1830, 1789, 1674, 9, 22, 8, 5, 241, 73, 244, 2, 687, 22, 191, 130], [98, 99, 37, 42, 41, 121, 1621, 3, 8, 831, 194, 1424, 18, 154, 1211, 209, 14, 204, 4, 124, 222, 2, 71, 49, 247, 2, 277, 12, 133, 759, 1211, 209], [57, 452, 339, 123, 3, 21, 313, 4, 228, 65, 1, 478, 2, 491, 14, 2, 13, 1343, 19, 1, 16, 106, 229, 8, 1183, 1120, 12, 5, 1313, 304, 1063, 7, 16, 137, 2, 401, 4, 42, 41, 601, 1, 1002, 14, 172, 32, 3275, 15, 10, 2, 3276, 79, 190, 3, 135, 28, 124, 366, 2, 549, 7, 240, 164, 1, 440, 378, 43, 1, 1191, 61, 8, 4, 3277, 7, 379, 32, 486, 2, 401, 5, 601, 40, 345, 3278, 11, 1515, 111, 1286, 15, 2485, 318, 27, 3, 105, 250, 429, 3, 12, 439], [35, 1, 181, 3, 29, 40, 1, 68, 3, 8, 5, 297, 76, 2890], [286, 312, 165, 8, 66, 1, 33, 203, 547, 5, 65, 1, 27, 668, 6, 26, 5, 65, 6, 2460, 19, 6, 1665, 668, 10, 1155], [1, 33, 405, 202, 901, 177], [13, 1622, 9, 2036], [225, 121, 1701, 88, 726, 233, 7, 1181, 13, 113, 6286, 787, 3, 2, 167, 51, 132, 14, 9, 17, 46, 4, 387, 6287, 6288, 6289, 191], [37, 157, 37, 3841, 52, 2760], [182, 1189, 5, 3842], [3843, 3844, 3845, 3846, 1831, 2761, 3847, 3848, 942, 3849, 3850, 3851, 3852], [1559, 431, 248, 30, 85, 28, 78, 7, 4, 421, 540, 148], [207, 121, 96, 6290, 133, 329, 42, 41, 3853, 465, 96, 614, 8, 638, 121, 96, 260, 5, 1226, 2185, 2359, 35, 96, 121, 7, 62, 50, 7, 104, 1226, 6291, 9, 970, 1018, 6292, 56, 37, 1102], [205, 38, 801, 43, 22, 6, 3854], [171, 86, 2186, 1, 213, 178, 178, 139, 118, 1, 182, 175, 3, 86], [2762, 6293, 30, 28, 78, 24, 25, 3855, 173, 6294, 208, 303, 378, 2, 3, 131, 757, 494, 7, 283], [1, 95, 526, 504, 851, 6, 1, 622, 1061, 170, 14, 3856, 10, 19, 6, 95, 189, 428, 2, 84, 10], [168, 30, 85, 59, 85, 2, 10], [111, 3, 253, 1149, 1166, 1803, 169], [6295, 795, 10, 132, 81, 6], [319, 319, 319, 6296, 6297], [119, 3857, 18, 410, 156], [98, 40, 9, 2187, 46, 6298, 47, 21, 3], [168, 6, 68, 10, 92, 6, 407, 161, 3858, 7, 16, 4, 212, 44, 6299, 787, 4, 2406, 63, 34, 4, 500, 1782, 47, 79, 39, 48, 3859, 89, 745, 73, 377, 3859, 6300], [119, 119, 3860, 398, 945, 6301, 18, 410, 89, 731, 340], [1779, 3861, 1782, 30, 292, 2, 135, 3, 1045, 619, 13, 758, 113], [105, 135, 14, 20, 26, 1, 33, 205, 14, 43, 18, 1239, 452, 79, 455, 35, 19, 9, 50], [30, 316, 909], [75, 15, 286, 6302, 8, 1262, 6303, 569, 1, 955], [2188, 145, 794, 4, 300, 60, 684, 1439, 18, 42, 531, 41, 42, 41, 447, 122, 210, 492, 393, 982, 20, 982, 2763, 644, 162, 492, 339, 1, 60, 647, 45, 5, 1569, 614, 222, 44, 2163, 1, 60, 2189, 216, 2764, 1, 60, 913, 2765, 275, 297, 1440, 1, 234, 20, 145, 624, 411, 307, 1122, 39, 234, 20, 353, 455, 2766, 39, 234, 20, 4, 1359, 982, 1804, 145, 1441, 1021, 1429, 14, 91, 34, 807, 35, 6, 81, 1850], [118, 125, 3, 33, 32, 45, 1, 405, 67], [3809, 240, 5, 207, 63, 6, 165, 6, 496, 10, 449, 967, 35, 1, 496, 6, 207, 3, 29, 66, 10], [50, 394, 658, 555, 20, 109, 128], [59, 2, 10, 156, 22, 1618], [1, 95, 54, 6, 7, 6, 95, 54, 10, 71, 244, 2, 687, 22, 7, 1788, 167, 715, 249, 64, 191, 130, 1334, 1025, 804, 805, 653, 1026, 1116, 268, 517, 26, 192], [176, 105, 29, 396, 71, 4, 700, 15, 549, 156, 22, 1, 326, 82, 6304, 34, 4, 6305, 7, 511, 6306, 26, 190], [811, 60, 25, 360, 6307, 56], [605, 513, 6308, 2767, 289, 107, 55, 349, 75, 3862, 108, 89, 67], [214, 3, 25, 802, 10, 11, 66, 1, 3863, 3], [119, 3779, 1902, 398, 39, 94, 146, 75, 1902, 1016, 28, 1275, 80, 236, 246, 1727, 532, 27], [2768, 2071, 6309, 356, 342, 4, 1207, 325, 46, 6310, 6311, 2730, 32, 1462, 3864, 1024, 1780], [247, 642, 12, 13, 1839, 70, 1100, 115, 6312, 154, 1137, 524, 1369, 2044, 650, 34, 84, 37, 916, 601, 250, 2045, 1137, 6313, 2046], [2378, 56, 296, 2365, 48, 1008, 89, 2769, 231], [6314, 1948, 29, 30, 72, 2, 28, 3865, 1, 550, 58, 4, 138, 2, 194, 129, 459, 56], [4, 2770, 2770, 2770, 93, 175, 5, 207, 2068], [1417, 24, 62, 23, 415], [119, 90, 90, 24, 69, 9, 25, 4, 341, 6315, 435, 57], [120, 1, 819, 420, 139, 180, 65, 168, 1, 66, 226], [1110, 65, 288, 185, 192, 384, 8, 88, 829, 7, 94, 13, 1671, 18, 5, 568, 15, 4, 2345, 71, 48, 2, 1952, 22, 191, 130, 1334, 1022, 1335], [29, 3, 100, 1, 27, 996, 42, 41, 8, 4, 114], [96, 204, 167, 1, 196, 3, 127, 6316, 157, 2, 54, 47, 6317, 22], [336, 132, 61, 1, 40, 9, 5, 207, 63, 1, 1829, 4, 3149, 1297, 154, 6318, 209, 802, 53, 1, 3866, 30, 251, 12, 13, 3821, 1, 68, 2, 32, 13, 269, 122, 122], [47, 60, 1005, 7, 551], [240, 57, 651, 429, 363, 105, 1403, 5, 1738, 16, 679, 15, 1037, 7, 16, 4, 606, 65], [158, 236, 3839, 10, 422, 6, 227, 364, 128, 555], [2771, 81, 1139, 24, 847, 9, 25, 4, 1139, 1467, 483, 75, 15, 5, 3867, 788, 6319, 69, 483, 19, 42, 41, 6320, 3868, 15, 1730, 215, 9, 6321, 8, 3867, 2392, 224, 27, 32, 740, 12, 6322, 1623, 12, 42, 41, 1250, 27, 135, 42, 41, 3868, 3869, 2, 53, 2771, 46, 102, 1717, 2, 3715, 44, 3870, 2389, 1071, 49, 1198, 6323, 2, 133, 329, 42, 41, 1826, 6324, 188, 2772, 27, 31, 2646, 42, 41, 12, 42, 41, 1250, 37, 77, 15, 375, 788, 170, 6325, 1218, 100, 47, 88, 215, 9, 6326, 76, 2715, 3871, 39, 16, 602, 3872, 1396, 6327, 3871, 6328, 1339, 6329, 6330, 6331, 847, 6332, 502, 436], [882, 2394, 1, 77, 1258, 119, 1693, 10, 505, 3, 54, 6333, 21, 25, 6334, 1897, 108, 7, 5, 1485, 9, 6335, 231, 52, 142, 1, 29, 16, 4, 645, 65, 505, 16, 3, 639, 173, 1, 92, 163, 3, 541, 47, 60, 5, 1263, 1806], [119, 226, 226, 1, 381, 86], [1723, 2664, 19, 39, 142, 158, 271, 2, 82, 35, 698, 515, 27, 32, 88, 2120, 521, 202, 39, 6336, 2, 4, 1624, 538], [12, 38, 320, 2, 185, 808, 155, 188, 335, 73, 353, 2, 6337, 1231, 634, 154, 576, 6338, 524, 1022, 2000, 1728, 335], [1, 25, 572, 499, 236, 246, 20, 48, 23, 364, 822], [6339, 703, 6340, 14, 9, 56, 111, 3838, 39, 53, 43, 2116, 7, 364, 40, 177], [124, 30, 8, 2441, 22, 33, 1378, 45, 1, 31, 51], [85, 8, 6341, 171, 12, 1511, 199, 43, 7, 1601, 199, 53, 7, 139, 82, 3, 219], [1, 3873, 35, 107, 21, 6342], [42, 41, 124, 3062, 471, 2367, 3063, 523, 3, 27, 1808, 82, 2621, 108], [141, 24, 1, 92, 189, 1, 77, 3, 399, 412], [5, 521, 2684, 1907, 106, 1827, 465, 5, 685, 1, 54, 75, 249, 521, 24, 417, 6343, 74, 456, 7, 738, 55, 1827, 449, 10, 67, 7, 1, 221, 32, 43, 67, 530, 229, 220], [451, 56, 109, 6344, 323, 2115, 131, 1, 59, 89, 136, 323, 860, 109, 659, 635, 3874, 109, 58, 86, 250, 6345, 460, 109], [29, 6, 765, 466, 37, 42, 41], [56, 96, 236, 596, 140], [90, 135, 85, 11, 171], [1, 54, 6346, 1503, 64, 6347, 1463, 48, 2, 6348, 6349, 3727, 414, 12, 14], [467, 198, 897, 14, 23, 1, 142, 205, 14, 18, 743], [47, 116, 96, 6350, 6351], [402, 6352, 6, 246, 10, 20, 48, 2592, 416, 44, 6], [6353, 134, 2047, 24, 62, 4, 355, 21, 3, 1088, 14, 2, 31, 6354, 12, 5, 206, 3622], [6355, 2915, 432, 1018, 329], [90, 90, 47, 9, 13, 755, 1230], [301, 93, 70, 3, 45, 30, 18, 5, 138], [760, 2051, 96, 282, 152, 134, 1, 1764, 3], [1, 230, 282, 2, 3, 22, 1, 33, 17, 45, 1, 27, 92, 197, 578], [184, 323], [1496, 716, 1037, 1833, 716, 579, 6356, 716, 6357, 11, 113, 716, 38, 247, 7, 1, 77, 38, 861, 2178, 1071], [57, 447, 168, 47, 477, 19, 65, 102, 317, 2627, 263, 1, 175, 3, 11, 66, 1691], [107, 33, 205, 43, 7, 663, 8, 315, 23, 37, 351], [204, 1, 100, 69, 9, 1478, 12, 6358], [69, 9, 375, 6359], [9, 67, 258, 743, 9, 235, 12, 1684, 29, 3, 31, 102, 636, 46, 13, 147, 222], [176, 111, 95, 29, 14, 449, 10, 39, 214, 16, 4, 341, 1252, 584], [61, 18, 11, 138], [324, 28, 591, 1816, 1194, 24, 22, 3875, 752, 58, 4, 337, 15, 1802], [2773, 221, 282, 18, 113, 34, 886], [633, 320, 126, 38, 1222, 749, 15, 1028, 623, 87, 70, 141, 2, 1531, 22, 853, 1349, 903, 99, 179, 305, 853, 1556, 2038, 854, 1123, 2171, 272], [50, 80, 140, 63, 109, 298], [412, 1, 55, 2, 134, 66, 42, 41, 494, 238, 117, 123, 310, 25, 4, 351], [1030, 1, 61, 18, 5, 138, 2, 2386], [1, 1012, 1705, 2, 3493, 721, 6], [30, 260, 30, 101, 1, 123, 13, 206, 1383, 1712, 3, 439, 3, 68, 381, 53, 5, 3876, 9, 566, 35, 30, 25, 208, 45, 3, 996, 14, 36, 3877, 53, 5, 6360, 7, 235, 5, 2190, 34, 6361], [25, 263, 36, 868, 55, 2, 197, 8, 682, 7, 14, 33, 32, 5, 6362, 138, 2, 29, 19, 46, 6363, 76, 5, 138, 47, 1851, 7, 47, 9, 5, 297], [6364, 43, 38, 512, 34, 4, 2752, 493, 15, 193, 1341, 700, 157, 505, 4, 49, 1818, 245, 73, 689, 1848, 2, 586], [186, 17, 2774, 46, 387, 13, 6365, 44, 1344, 280, 26, 1049, 462, 155, 610, 493, 581, 179, 305, 423, 362, 162, 6366, 6367, 371, 268, 2368, 3266, 372], [90, 29, 14, 28, 452, 86, 186], [6368, 789, 106, 1751, 8, 4, 6369, 12, 442, 517, 62, 11, 551, 3, 142, 32, 133, 991, 79], [1030, 16, 110, 6370, 92, 324, 184, 1575, 50], [64, 35, 3, 1064, 13, 259, 51, 74, 219, 74, 3, 27, 7, 783, 70, 10, 8, 5, 177, 2, 181, 10, 54, 3, 490, 14, 8, 50], [176, 240, 1034, 1, 95, 48, 292, 2, 167, 188, 333, 166, 1393, 3, 357, 614], [1, 92, 1425, 62, 4, 767, 578, 481, 199], [90, 303, 655, 432, 56, 52, 159, 1, 77, 6371, 1386, 115, 71, 14, 2, 11, 470, 574, 432], [1588, 146, 1073, 55, 358, 341, 422, 35, 6372, 1, 27, 28, 863, 526, 78], [1, 16, 20, 2576, 6373, 206, 114, 30, 885, 15, 169, 3878, 283, 43, 10, 915, 164, 1750, 1, 16, 137, 4, 1018, 1692], [236, 180, 631, 144, 192, 236, 264, 482, 14, 148, 3372, 18, 38, 249, 3879, 90], [2775, 10, 3294, 549, 6374], [37, 6375, 115, 1, 16, 137, 428, 46, 3, 7, 607, 475, 1, 61, 6376, 8, 5, 556, 731, 8, 4, 3880, 222, 37, 807, 164, 67, 142, 32, 127, 6377, 15, 25, 72, 6378, 25, 6379, 45, 396, 62, 6380, 2, 48, 203, 12, 178, 1581, 6381], [107, 2191, 334, 1787, 75, 87, 7, 14, 121, 4, 6382, 2603], [3, 28, 781, 3, 142, 271, 2, 1023, 51, 47, 116, 215, 644, 121, 12, 866, 7, 2353, 960, 7, 1, 21, 292, 2, 1023, 51, 88, 1112, 1623], [734, 74, 4, 927, 427, 239, 3, 6383, 106, 444, 2, 342, 4, 1277, 986, 2, 472, 17, 6384, 506, 2001, 587, 64, 3881], [6385, 768, 6386, 6387, 12, 1032, 1584, 1154, 1722, 1903, 1775, 2159, 42, 41, 17, 3332, 6388, 42, 41, 12, 6389, 1912, 895, 3882, 209], [2776, 52, 40, 86, 27, 1, 71, 11, 3883, 2, 40, 574], [1, 54, 125, 5, 42, 41, 9, 93, 32, 67, 208, 216], [291, 198, 616, 136, 109, 67], [381, 2, 151, 1366, 79, 210, 1162], [37, 86, 87, 182, 1, 420], [3458, 172, 31, 85, 2, 3, 383, 25, 87, 24, 1, 2114, 253, 129, 3, 27, 32, 210, 884, 989, 8, 5, 199, 8, 259, 1852, 69, 3884, 12, 541, 3, 1475, 2319, 7, 3, 31, 4, 821, 26, 6, 12, 4, 3626, 125, 6, 3435, 215, 12, 2319, 7, 69, 722, 189, 15, 5, 957, 6, 2686, 180, 1353, 6390, 219, 1012, 516], [6391, 5, 807, 30, 64, 208, 45, 144, 63, 2, 680, 9, 19, 328, 15, 866, 1, 27, 64, 6392, 2, 32, 208, 45, 225, 1807, 10, 2, 32, 7, 19, 2034, 64, 1442, 45, 956, 585, 2, 803, 43], [261, 11, 718, 1, 490, 14, 78, 7, 11, 3613, 273, 9, 15, 3, 11, 66, 1, 123, 13, 313, 4, 228, 759, 24, 1, 221, 203, 547, 3, 59, 78, 2, 10, 413], [669, 1457, 3885, 204, 5, 702, 2777], [132, 6, 844, 79], [291], [50], [6, 503, 43, 148, 140, 6, 159, 6, 913, 199, 43, 131, 630, 30, 643, 6393, 1151, 545, 307, 705, 455, 55, 349, 6, 27, 325, 146, 6394, 63, 136, 226, 219], [3886, 30, 1413, 8, 6395, 22, 109, 2027, 59, 231, 10, 178, 775], [1853, 1031, 183, 6396], [1144, 16, 6, 106, 1183, 215, 360, 11, 338, 35, 23, 171, 58, 4, 6397, 979, 45, 1, 1844, 11, 889, 6, 136, 1, 95, 31, 6398, 44, 19, 1709], [6, 16, 187, 4, 193, 6399, 505, 4, 49, 1587, 365, 40, 9, 52, 6, 31, 45, 6, 185, 88, 49, 664, 2, 94, 418, 71, 193, 2, 3887, 22, 6400, 6401, 2067, 272], [50, 303, 71, 3, 34, 8, 42, 531, 41, 50], [6402, 14, 9, 142, 32, 6403, 28, 40, 63, 15, 274], [141, 30, 8, 411, 86], [50, 1, 64, 151, 482, 146, 570, 6, 246, 6404, 532], [6405, 13, 143, 7, 60, 883, 453, 2, 13, 591, 143, 1148, 164, 198, 25, 977, 46, 3, 40, 274, 53, 5, 286, 8, 13, 3748, 58, 40, 143, 46, 11, 2666, 266], [409, 543, 1, 356, 180, 1298, 460, 11, 1268, 35, 109, 246, 2, 324, 56, 1, 203, 44, 109, 323], [49, 476, 360, 88, 808, 537, 867, 36, 71, 5, 331, 185, 2, 3070, 22, 268, 179, 136, 154, 3071, 281, 241], [152, 40, 1061, 363, 1, 66, 3, 170, 1, 77, 3, 1042, 11, 308, 34, 13, 1226, 71, 40, 2, 901, 288, 277, 170, 6, 136, 1578, 150, 29, 14, 115, 115, 29, 14], [29, 6, 597, 47, 20, 71, 1920, 481, 20, 6406], [3888, 1, 980, 1819, 2, 13, 563, 40, 177, 1, 175, 3, 128, 11, 66, 1, 123, 13, 65, 477, 111, 7, 3, 21, 139, 1, 203, 12, 199, 2, 32, 584, 200], [960, 483, 1682, 454, 8, 42, 41], [27, 3, 36, 59, 8, 12, 4, 1715, 463, 956, 108, 1, 68, 3, 2, 82], [23, 5, 731, 9, 2570, 227, 2778], [554, 1340, 34, 3, 16, 3, 3639, 4, 317, 7, 16, 3, 6407, 6408, 12, 6409, 6410], [291, 50], [1050, 14, 234, 111, 59, 192, 28, 703, 56, 603, 16, 1625, 15, 63, 202, 2613, 477, 2, 147], [50, 322, 81, 6, 67, 8, 78], [27, 3, 115, 115, 71, 10, 4, 470, 18, 53, 3, 54, 79, 3889, 258, 2, 1854, 108, 53, 3, 54, 79, 1817, 6411, 3890, 7, 184, 515, 171], [3, 29, 52, 53, 3, 55], [240, 289, 39, 529, 2, 3674, 89, 136, 47, 80], [5, 2646, 1855, 9, 25, 19, 2531, 7, 3, 33, 25, 401, 184, 547, 2360, 160, 2632, 485], [833, 47, 242, 1415, 444], [107, 165, 35, 62, 223, 812, 14, 33, 355, 208, 455, 26, 426, 625, 1014, 107, 21, 6412, 127, 3241, 15, 6413], [1, 92, 27, 3, 71, 14, 2, 10, 505, 431, 1265], [1534, 105, 109, 58, 63, 1118], [2158, 53, 13, 6414, 111], [96, 9, 88, 755, 96, 6415, 20, 88, 607, 96, 9, 145, 123, 15, 150, 1006, 44, 104, 132, 60, 6416, 44, 145, 6417, 1127, 2779, 651, 797, 88, 2082, 584, 170, 6418, 76, 66, 170, 6419, 6420, 20, 104, 6421, 170, 497, 115, 469, 8, 466, 2591, 170, 875, 14, 84, 2780, 1396, 2342], [23, 21, 3, 359, 967, 19, 1, 31, 19, 2312, 200, 26, 62, 710, 34, 174, 274], [720, 9, 178, 57, 6422, 9, 6423, 7, 553, 9, 158, 228], [6424, 31, 133, 1057, 3462, 7, 652, 46, 154, 3891, 209, 1013, 772, 3891, 281, 241], [6425, 198, 36, 490, 4, 861, 1158, 15, 1284, 7, 6426, 1777, 11, 2335, 8, 14, 7, 56, 6427, 11, 1352, 259, 169, 51], [291, 24, 25, 1086, 2346, 80, 30, 8, 146, 1080, 1265, 87], [105, 1667, 11, 727, 1856, 105, 59, 108, 7, 271], [30, 260, 136, 109, 67], [119, 267, 93, 32, 76, 220], [252, 135, 10, 110, 63, 2, 622, 67], [93, 405, 8, 545, 929, 278, 50], [771, 3, 16, 106, 346, 4, 49, 2322, 1587, 365, 36, 91, 6428, 2, 472, 13, 149, 6429, 692, 51, 84, 6430, 335, 1303, 6431, 2572, 6432], [456, 168, 52, 711, 2, 3, 47, 59, 3, 294, 480, 85], [40, 157, 9, 2138, 2, 3, 76, 6433, 714, 7, 9, 25, 6434, 2, 5], [110, 266, 68, 10, 2, 609, 1043, 6435, 374, 94, 4, 475], [1, 182, 264, 128, 729, 1132, 2297, 75, 25, 10, 6, 236, 246, 144, 50, 72, 20, 1073, 422, 125, 58, 658], [21, 3, 83, 259, 5, 6436], [7, 383, 110, 6437], [153, 1, 61, 23, 93, 235, 383, 3122], [1, 253, 104, 1, 137, 4, 3892, 2039, 206, 114, 96, 793, 30, 223, 955, 1, 253, 104, 62, 36, 4, 325, 327, 2, 32, 991, 79, 24, 96, 287, 810], [3, 8, 13, 367, 1, 77, 4, 304], [1, 92, 68, 2, 385, 184], [120, 12, 10, 67, 9, 37, 235, 18, 743, 203, 1, 33, 151, 11, 3893, 7, 97, 3], [6438, 6439, 6440, 6441, 6442, 6443], [46, 216, 2, 20, 64, 11, 147, 1743], [766, 7, 1458, 516, 6444, 16, 616, 76, 890, 766, 1504], [5, 297, 9, 18, 5, 1037, 34, 4, 6445, 4, 2693, 6446, 43, 34, 4, 6447, 132, 6448, 8, 1726, 6449, 1443, 5, 6450], [669, 20, 99, 1776, 2522, 81, 566, 17, 3347, 22, 2523, 721, 38, 914, 353, 2524, 652, 2525, 3348, 576, 2526, 2527, 1644, 1452, 1453, 191], [13, 206, 1857, 377, 3894, 361, 33, 32, 196, 2, 3, 322, 35, 75, 3895, 9, 25, 428, 12, 1108, 70, 85, 5, 6451, 3894, 2, 31, 5, 206, 361], [22, 310, 72, 2, 3896, 13, 3378], [8, 558, 24, 659, 321, 6, 324, 397, 80], [120, 786, 43, 6, 647, 53, 177], [2781, 1, 273, 5, 1579, 1821, 51, 6452, 15, 6453], [1, 409, 459, 45, 651, 48, 1448, 1510], [6, 21, 2459, 2, 5, 286, 99, 747, 233, 8, 5, 241, 12, 854, 238, 901, 306, 459, 3, 71, 84, 2, 6454, 3230, 3231], [291, 30, 6455, 18, 5, 6456, 6457, 7, 110, 249, 1858], [162, 49, 6458, 453, 167, 51, 79, 13, 66, 166, 22, 271, 162, 12, 49, 70, 320, 2, 6459, 272, 64, 160, 162, 49, 677, 343, 237, 715], [751, 87, 1, 61, 229, 12, 3436], [98, 139, 434, 98, 98, 98, 98, 98, 98, 98], [1, 33, 32, 761, 411, 94, 53, 46, 67], [35, 3, 95, 1707, 1363, 2024, 255, 83, 1781, 7, 1363, 355, 578, 89, 350], [370, 82, 3, 8, 4, 293], [11, 3893, 777, 19, 743, 9, 235, 12, 53, 249, 3897, 1602, 6460, 23, 14, 33, 32, 235, 12, 3, 102, 138, 17, 3686, 2674, 1626, 7, 3898, 14], [469, 5, 1469, 6461, 941, 233, 7, 6, 27, 16, 911, 1056, 36, 1193, 43, 7, 2662, 5, 2782, 73, 476, 2, 2939, 22, 978, 1659, 2783, 130, 191], [176, 1, 16, 2, 94, 14, 1349, 47, 1, 165, 11, 3554, 6462, 287, 759, 12, 275, 1063, 144, 640, 1, 6463, 6464, 6465, 3899, 9, 5, 64, 138, 2, 6466, 169], [83, 147, 72, 18, 14, 9, 178, 959, 297], [11, 269, 36, 58, 108, 7, 483, 417, 6467, 210, 573, 76, 4, 304, 6468, 417, 58, 42, 41, 45, 27, 3, 31, 108], [451, 6469, 83, 86, 262, 140, 173, 1, 58, 667, 459, 275], [2415, 5, 212, 34, 6470, 6, 27, 2080, 2, 5, 2784, 2, 197, 190, 24, 5, 646, 107, 16, 14, 45, 6, 181, 48, 310, 14], [1301, 829, 818, 1656, 185, 4, 594, 1079, 1302, 782, 35, 6, 54, 224, 1467, 2501, 2058, 8, 1389, 114, 73, 2277, 2, 1468, 343, 237, 1303, 2278], [37, 30, 25, 223, 32, 486, 2, 128, 229, 1343, 93, 32, 78, 8, 4, 304, 764, 435, 52, 21, 5, 958], [58, 3702, 6471, 6472, 3900, 58, 4, 337, 15, 1386, 47, 2, 152], [688, 394], [6473, 19, 52, 4, 497, 6474, 1, 296, 59, 56], [74, 1103, 1392, 267, 139, 170, 159, 111], [688], [23, 45, 3, 223, 31, 6475, 1109], [161, 28, 6476, 1285, 6477, 1, 33, 32, 51, 79, 419, 770, 326, 6478, 26, 9, 19, 2, 229], [3, 17, 494, 317, 87, 50, 1178, 7, 151, 169, 2, 2554, 43], [261, 6, 17, 569, 6, 298, 2785, 1, 787, 2032, 43, 1202, 6, 53, 1014, 74, 1, 77, 4, 685, 46, 6479, 112, 44, 1627, 174, 555, 20, 87, 15, 2785], [81, 6, 1924, 1053, 8, 6480, 35, 39, 163, 39, 27, 48, 20, 11, 297], [153, 176, 6481, 1, 287, 16, 4, 6482, 1620, 55, 3], [261, 2768, 47, 21, 3], [621, 70, 10, 45, 255, 6483], [3901, 3901, 73, 3523, 67, 2, 2751, 2, 865, 81, 537, 290, 44, 4, 808, 522, 697, 44, 4, 972, 15, 784, 1793, 179, 305, 154, 6484, 209, 1124, 2, 6485, 237, 114], [141, 144, 53, 3902, 415, 811], [171, 12, 883, 40, 3903, 3152, 561], [339, 123, 13, 65, 9, 72, 6486, 1, 158, 3904, 1, 379, 16, 2, 1300, 3, 79, 40, 1, 16, 110, 3905, 19, 1, 221, 2769, 40, 345, 1, 61, 51, 15, 53, 916, 155, 1, 54, 40, 9, 4, 6487, 63, 12, 3, 182, 24, 1, 16, 2, 181, 3, 54], [3906, 64, 1565, 28, 42, 41, 2, 20, 1213], [1, 234, 2, 38, 3907, 1998, 24, 37, 75, 9, 67], [120, 1802, 3785, 26, 2746, 12, 216, 1484, 1154, 2925, 460, 6488, 6489], [1368, 46, 3793, 98, 40, 9, 13, 3794, 3795, 247, 2153, 3, 16, 3233, 1237, 105, 17, 85, 18, 3796, 2, 3797, 13, 495, 7, 1237, 6490, 195], [47, 59], [176, 983, 924, 128, 399, 171, 62, 57, 2, 180, 78, 24, 62, 106, 358, 4, 2786, 325, 769, 38, 65, 106, 112, 6, 29, 184, 34, 1488], [50, 80], [30, 258, 78, 44, 344], [204, 86, 1115, 81, 6491, 42, 41], [49, 599, 245, 36, 70, 1248, 2, 1959, 56, 188, 114, 31, 4, 103, 245, 6492, 64, 343, 237, 335], [6493, 429, 3, 118, 12, 5, 3667, 1024], [1, 54, 30, 6494, 18, 479, 15, 40, 6495, 6496, 474, 24, 12, 5, 479, 418, 30, 25, 991, 79, 19], [256, 107, 230, 52, 28, 5, 479, 451, 6497, 256, 23, 47], [120, 67, 1050, 6, 81, 296, 22, 1, 385, 6, 3908, 1111, 2, 4, 6498, 1936, 9, 14, 57, 39, 81, 217, 28, 1894, 16, 4, 3909, 103, 274, 136, 6, 8, 6499, 3910], [37, 138, 30, 72, 85, 67], [186, 13, 99, 37, 6500, 187, 4, 852, 462, 589, 826, 149, 18, 1221, 1270, 827, 40, 9, 5, 446, 520, 2, 405, 3, 17, 6501, 976, 2712, 371], [1, 33, 1320, 3, 339, 8, 316], [240, 52, 1, 66, 2, 385, 243, 82, 3, 6502, 56], [101, 86, 2186, 178, 178, 101, 1, 61, 3716, 43, 34, 6503], [3911, 2, 6504, 6505, 481, 3912, 7, 6506], [429, 363, 107, 21, 8, 386], [37, 1, 95, 16, 1628, 1835, 528, 4, 341, 1089, 51, 15, 4, 2742, 6507, 3709, 3913, 6508], [61, 8, 6509, 3914, 719], [164, 96, 585, 2, 282, 2, 10], [3915, 1190, 6510, 6511, 87, 69, 58, 317], [3, 21, 276, 5, 352, 193, 113, 4, 1527, 969, 1348, 782, 26, 4, 627, 149, 73, 331, 472, 2, 37, 1720, 2400, 2401, 191, 1986], [107, 27, 271, 107, 27, 31, 839, 8, 1058, 3447, 822], [98, 3, 36, 1664, 2, 2958, 243, 2292, 55, 2, 54, 35, 3, 211, 2959, 34, 5, 1310, 91, 2960, 49, 34, 141, 26, 37], [11, 266, 279, 2, 17, 5, 262], [1043, 62, 6512, 2787, 3916, 16, 4, 124, 63, 8, 6513, 25, 631, 79, 3917, 439, 9, 4, 2882], [14, 204, 4, 6514, 6515, 6516, 6517, 2724, 50, 6518], [98, 27, 1, 105, 31, 4, 42, 41, 3918, 1218, 46, 3, 1, 391, 401, 3, 85, 76, 1389, 2105, 115], [3, 356, 68, 2, 3919, 51, 133, 36, 8, 794, 7, 36, 425, 18, 25, 2192, 14, 35, 3, 27, 1, 95, 16, 116, 2411, 8, 2060, 7, 6519, 215, 2740], [29, 3, 55, 6520, 13, 2788, 18, 5, 3487, 2288], [70, 10, 45, 3, 31, 217, 95, 17, 11, 898, 313, 1596], [37, 77, 12, 5, 1738, 1159], [101, 86, 1, 60, 273, 15, 578, 3, 337, 15, 494, 2789, 572, 1, 33, 17, 3, 28, 1128], [62, 3552, 713, 6521], [124, 1, 16, 2, 526, 22, 23, 1518], [213, 55, 292, 2684, 200, 243], [2776, 42, 41, 6522, 6523], [25, 263, 604, 140, 482, 6], [68, 2, 791, 16, 314, 87], [29, 3, 54, 45, 457, 33, 32, 85], [261, 1634, 47, 21, 3, 87, 1, 172, 66, 2, 16, 4, 244, 164, 92, 3, 97, 10, 52, 3, 416, 55, 7, 52, 3, 21, 8, 2, 500], [586, 49, 12, 397, 114, 1384, 193, 245, 44, 38, 512, 188, 114, 36, 73, 193, 2, 586, 31, 1005, 7, 97, 38, 914, 154, 1134, 281, 241, 736, 1557, 6524, 6525, 2671, 191, 245, 272], [69, 2790, 4, 2791, 3920, 2792], [81, 6, 316, 86, 1104, 28, 555, 451], [60, 4, 228, 65, 7, 6526, 1, 60, 6527, 234, 78, 364, 7, 22, 213, 267, 26, 61, 1, 36, 1774, 2793, 566, 1, 221, 381], [164, 542, 3, 433, 57, 64], [326, 31, 1657, 1056, 68, 333, 941, 1658, 196, 884, 2, 38, 99, 469, 5, 1469, 1908, 941, 427, 73, 850, 2, 3921, 22, 978, 1659, 2783, 343, 237, 130], [39, 548, 2, 194, 3, 509, 13, 2794, 2, 88, 372, 15, 4, 103, 193, 801, 7, 739, 742, 91, 26, 17, 707, 12, 588], [141, 107, 1471, 11, 470, 30, 72, 2, 5, 2740, 411, 131, 505, 33, 8, 2, 788, 131, 182, 26, 18, 1271], [240, 301, 93, 59, 76, 55, 42, 41, 1504], [1595, 130, 86, 3922, 1743], [57, 447, 11, 718, 47, 21, 3, 557, 87, 296, 1, 123, 21, 3, 309, 11, 57, 392, 21, 3, 11, 6528, 1246, 29, 3, 105, 13, 2145], [1, 61, 275, 6529, 39, 33, 32, 4, 57, 6530], [30, 1066, 30, 6531, 1, 68, 3, 2795, 2796, 2172, 125, 21, 3, 2795, 2796, 2172, 1, 68, 11, 1246, 1, 68, 129, 22], [61, 18, 4, 1127, 85, 46, 3923, 23, 30, 1945, 25], [125, 8, 3924, 21, 3, 3925, 21, 3, 1083, 34, 457, 26, 701], [60, 6532, 426, 2633, 629, 7, 41, 3338, 18, 113, 176], [103, 488, 40, 114, 2741, 122, 6533, 53, 6534, 20, 6535, 6536, 3181, 162, 33, 3926, 2645, 2, 573, 2662, 2782, 18, 206, 157], [2188, 145, 794, 4, 300, 60, 684, 1439, 18, 42, 531, 41, 42, 41, 447, 122, 210, 492, 393, 982, 20, 982, 2763, 644, 162, 492, 339, 1, 60, 647, 45, 5, 1569, 614, 222, 44, 2163, 1, 60, 2189, 216, 2764, 1, 60, 913, 2765, 275, 297, 1440, 1, 234, 20, 145, 624, 411, 307, 1122, 39, 234, 20, 353, 455, 2766, 39, 234, 20, 4, 1359, 982, 1804, 145, 1441, 1021, 1429, 14, 91, 34, 807, 35, 6, 81, 1850], [30, 18, 86, 430, 72, 78], [1, 58, 4, 17, 46, 4, 387, 143, 1, 61, 473, 2, 59, 2, 3927, 3928, 1, 33, 48, 8, 5, 447], [30, 467, 2635, 5, 943, 554, 57, 52, 21, 3, 159, 206], [6537, 198, 752, 1033, 3772, 44, 11, 1179, 340], [186, 39, 21, 292, 2, 194, 6, 593, 290, 348, 19, 3, 16, 187, 4, 1143, 149, 276, 17, 3390, 46, 657, 312, 126, 3391, 506, 674, 64], [67, 81, 242, 1386, 1079, 6538, 182, 6539, 42, 41, 14, 6540, 57, 389, 1, 420, 6541, 37], [688], [141, 1, 54, 5, 6542, 2100, 46, 6543, 5, 3697], [226, 50, 1432, 1267, 136, 6544, 42, 41, 278, 7, 1000, 91, 6], [2797, 6545, 31, 5, 352, 2797, 636, 1877, 20, 38, 99, 122, 335, 49, 505, 4, 49, 245, 73, 1498, 18, 2, 586, 154, 1134, 281, 241, 6546, 2671, 2885, 6547], [120, 451, 163, 28, 1273, 3229], [186, 186, 39, 16, 856, 49, 1461, 2, 3440, 2, 135, 504, 17, 813, 6548, 2193, 94, 4, 269, 44, 49, 17, 22, 2, 126, 18, 6549, 6550], [53, 583, 228, 103, 2798, 7, 5, 64, 212, 1, 27, 1769, 169, 2, 9, 6551, 6552, 3, 8, 781], [120, 500, 1828, 52, 15, 19, 65, 37, 331, 46, 3, 40, 177, 18, 1767, 1, 100, 15, 3], [7, 974, 3, 7, 1, 82, 39, 27, 83, 1823, 43, 128], [760, 24, 30, 72, 78, 22, 56, 48, 6553, 2799, 80, 55, 72, 20, 1073, 219], [27, 3, 279, 2535, 2536, 12, 696, 3, 71, 169, 217, 12], [46, 2745, 839, 6554, 250], [119, 407, 15, 5, 297, 47, 59, 3, 92, 16, 102, 103, 1696, 18, 1209], [1629, 42, 41, 9, 1, 66, 6, 65, 71, 466, 2, 53, 38, 927, 876, 3400, 10, 35, 162, 615, 85, 1576, 41, 1801, 145, 330, 6, 404, 35, 6, 2194, 466, 6, 33, 728, 38, 404, 44, 6555], [1144, 101, 287, 501, 6556, 1, 550, 897, 26, 977, 46, 7, 3929, 121, 224, 9, 6557, 8, 1090, 93, 454, 18, 5, 794, 7, 31, 129, 2, 975, 14, 51, 3930, 7, 3931], [1356, 85, 2, 1249, 46, 3932, 6558, 3, 385, 52, 711], [291, 37, 133, 148, 394, 44, 6559, 89, 6560, 14, 43], [771, 787, 4, 1317, 91, 564, 22, 469, 5, 2800, 3933, 3934, 99, 726, 233, 677, 1334, 36, 1236, 2, 2119, 73, 84, 2, 6561, 91, 564, 22], [52, 1, 590, 9, 29, 107, 59, 3935, 3, 51, 45, 62, 192, 26, 9, 14, 6562, 3, 27, 373, 74, 242, 1258, 74, 3, 68], [204, 22, 64, 1, 614, 2631, 3182, 177, 64], [124, 103, 372, 567, 278, 567, 73, 18, 286, 443, 1630, 7, 31, 352, 365, 898, 44, 49, 17, 756, 49, 18, 806, 22, 26, 2801, 179, 305], [983, 30, 4, 6563, 6564], [101, 542, 1, 234, 2, 533], [123, 3, 2037, 13, 103, 747, 70, 84, 2, 3719, 2, 650, 250, 3720, 2695, 76, 3721, 281, 241], [120, 3, 83, 68, 2, 48, 12, 1727, 595, 35, 39, 318, 28, 1275, 56, 27, 48, 1008, 7, 501, 5, 3936, 946], [760, 30, 25, 2021, 1, 659, 3151, 86, 1771, 543], [1, 61, 628, 15, 72, 231, 2, 3937, 12, 6565, 1094, 6566, 11, 1683, 256, 140, 63, 6, 72], [301, 1, 61, 42, 41, 1883, 302, 123, 3, 55, 169, 341], [297, 1440, 9, 5, 1441, 595, 5, 300, 60, 1439, 18, 42, 41, 900, 1391, 74, 2195, 280, 53, 2196, 2197, 21, 1553, 1617, 624, 411, 862], [688, 394], [268, 306, 2, 1733, 3376, 6, 33, 32, 1287, 1462, 15, 53, 5, 352, 636, 7, 1734, 1539, 650, 71, 31, 2542, 84, 2, 2431], [48, 125, 89, 201, 499, 201, 45, 39, 31, 67, 323], [30, 437, 2076, 918, 1032, 1584], [144, 6567, 6568, 114, 465, 39, 1799, 43, 7, 148, 88, 6569, 21, 72, 2, 6570], [6571, 47, 21, 3, 159, 40, 9, 36, 1245, 3, 4, 124, 65, 932], [760, 136, 109, 56], [37, 24, 603, 29, 1257, 6572, 2, 1167], [37, 1, 61, 25, 313, 25, 102, 1258, 8, 11, 892], [3069, 67, 92, 6, 68, 2, 227], [186, 105, 17, 2774, 46, 387, 617, 155, 26, 4, 3938, 44, 3939, 2561, 280, 610, 493, 179, 305, 581, 468, 6573, 371, 272, 6574], [186, 105, 17, 2774, 46, 13, 387, 13, 877, 44, 3326, 1427, 1004, 1428, 280, 26, 384, 155, 610, 493, 2050, 1126, 581, 179, 305, 2658, 1731, 6575], [1, 514, 543, 206, 1147, 27], [1030, 557, 3940, 87, 1090, 1, 408, 31, 19, 118], [47, 2198, 3, 1015, 1, 379, 97, 184, 2, 3, 385, 160, 1, 379, 282, 2, 3], [29, 109, 597, 35, 2802, 9, 72], [27, 3, 29, 4, 3941, 316, 40, 6576, 28, 110, 817], [1, 796, 2803, 402, 26, 156], [158, 1, 6577, 51, 6578, 18, 11, 1272], [98, 6579, 548, 578, 6, 22, 1845, 2, 405, 6, 6580, 135, 10, 4, 496, 1320, 369, 6, 136, 6581, 130, 6582], [1, 196, 3, 5, 6583, 7, 29, 3, 590, 5, 42, 41, 502], [327, 27], [37, 61, 437, 18, 5, 6584, 6, 212, 24, 16, 778, 6585, 15, 1815, 6586, 23, 61, 6587, 11, 511, 51, 699, 6], [24, 11, 607, 25, 2474, 12, 184, 22, 61, 8, 367, 25, 234, 2, 78, 12, 3942, 24, 37, 75, 393, 10, 7, 164, 25, 258, 14, 559, 10, 213, 55, 1486], [1631, 1631, 1631, 168], [81, 109, 72, 44, 1530, 316], [90, 86, 47, 242, 1297, 3, 68], [226, 137, 36, 22, 3943, 2539], [71, 210, 143, 7, 135, 91, 150, 177, 12, 164, 3, 165, 19, 2, 129, 55, 19, 50], [3, 165, 25, 22, 37, 351, 45, 3, 27, 181, 10, 54], [50, 24, 97, 10, 332, 127, 1626, 813, 6, 59, 1, 77, 20, 2016], [353, 690, 880, 1588, 1, 3759, 20, 6, 80], [410, 156, 467, 171], [6588, 224, 9, 1437, 4, 538, 132, 232, 585, 2, 816, 26, 4, 538, 132, 1920, 4, 3778, 79, 5, 1994, 1738, 6589, 69, 1871, 34], [50, 1794, 553, 18, 62, 138, 45, 1, 31, 1351, 255, 1183, 12, 11, 6590], [39, 81, 761, 148], [16, 4, 57, 568, 373, 51, 12, 381, 45, 3, 31, 85, 39, 484, 1068, 79, 3649], [319, 39, 21, 380, 4, 570, 18, 6591], [52, 63, 1637, 51, 459, 741, 162, 26, 23], [27, 1118, 3944, 110, 33, 6592, 158, 347, 1, 236, 321, 1, 236, 897, 2, 16, 839, 102, 1180, 1358], [1, 92, 1425, 62, 4, 767, 578, 481, 199], [1, 61, 25, 183, 79, 117, 1307, 1, 54, 64, 79, 1128, 1307], [6593, 434, 87, 1, 270, 129, 2, 31, 133, 6594], [678, 6595, 34, 6596, 45, 14, 937, 36, 454, 505, 1193, 8, 5, 1140, 284, 222, 7, 14, 33, 498, 3, 442, 828, 5, 3945, 143, 9, 11, 143, 369, 3, 205, 19, 143, 5, 1528, 33, 2738, 467], [7, 913, 169, 43, 46, 2571, 592], [1801, 1472, 2342, 433, 12, 3284, 2142, 22, 216, 333, 1237, 2757, 2, 13, 113, 70, 940, 2, 6597, 130, 366, 191, 20, 84, 73, 84, 6598], [873, 243, 243, 6599, 16, 6600, 406], [1, 61, 18, 5, 138, 2, 38, 78], [2249, 1241, 326, 353, 6601, 28, 4, 594, 6602, 31, 20, 2249, 1241, 202, 397, 2193, 7, 48, 6603, 26, 1595, 34, 6604, 6605, 7, 622, 51, 4, 734], [37, 351, 282, 2, 3, 131], [56, 38, 681, 47], [83, 8, 239, 222], [47, 59, 14, 722, 23, 421, 63, 12, 4, 2235, 132, 9, 1945, 15, 5, 2804, 2, 1474, 4, 6606, 132, 585, 2, 539, 51, 53, 117], [538, 6, 765, 182, 2922, 1593, 257, 90, 257, 978], [39, 871, 1285, 28, 1961], [71, 10, 13, 574, 7, 1294], [727, 15, 614, 14, 2, 2334, 2123, 418, 15, 3946, 716, 6607, 418, 2144, 89, 643, 14, 2, 32, 1201, 613, 177], [12, 38, 320, 2, 185, 4, 808, 155, 188, 335, 73, 2142, 2, 3623, 1231, 634, 154, 3624, 390, 1022, 3625, 1728, 335], [111, 1, 356, 25, 59, 56], [302, 160, 1, 1999, 1, 31, 18, 64, 55, 216, 395, 4, 65, 74, 14, 9], [56, 62, 479, 2416, 393, 6608, 1812, 14, 35, 3, 92, 16, 6609, 92, 516, 14, 33, 48], [111, 28, 40, 156, 30, 223, 16, 2, 31, 43, 7, 325, 1530, 3936, 3777, 3947, 23, 70, 10, 45, 3, 68, 10, 2, 59, 31, 3], [36, 6610, 82, 3, 8, 4, 846, 306, 42, 162], [90, 140, 204, 1150, 2779], [153, 31, 5, 799], [6611, 1, 264, 1407, 180, 2805, 83, 58, 6612, 89, 2806, 1989, 89, 6613, 93, 180, 159, 86, 2806, 1989, 89, 1412, 1989], [420, 14, 722, 10, 162, 517, 2, 938, 101, 125, 3, 28, 13, 113, 1091, 263], [252, 58, 140, 2, 201, 97, 199, 56, 109, 37, 77, 2, 59, 8, 200], [45, 3, 21, 341, 363, 33, 491, 3948], [6614, 1824, 346, 3949, 2, 353, 44, 6615, 155, 17, 6616, 2, 126, 188, 6617, 782, 1928, 195, 3949, 627, 2119, 2468], [766, 39, 81, 3752, 108, 127, 916, 114, 85, 206, 1565, 47, 112, 39, 29, 8, 5, 6618, 40, 403, 98, 2, 7, 7, 136, 6, 219, 2924], [25, 46, 40, 1529, 21, 3, 8, 5, 1244], [5, 6619, 483, 42, 41, 146, 6620, 963, 3950, 502, 6621, 42, 41, 42, 63, 41, 61, 93, 567, 325, 7, 70, 3, 200, 150], [47, 33, 1, 3951, 18, 3, 22], [97, 13, 266, 52, 3, 425, 2, 29, 18, 1110, 65, 42, 1886, 41], [35, 1, 31, 67, 202, 3, 160, 13, 901, 3767, 464, 7, 453, 23, 250, 10, 363], [198, 253, 129, 19, 198, 2494, 14, 19, 142, 1, 509, 573, 14], [297, 1440, 9, 5, 1441, 595, 5, 300, 60, 1439, 18, 42, 41, 900, 1391, 74, 2195, 280, 53, 2196, 2197, 21, 1553, 1617, 624, 411], [1346, 18, 125, 6, 72, 80], [7, 295, 12, 10, 156, 22, 74, 3, 48, 7, 5, 375, 33, 973, 52, 3, 21, 709, 79, 7, 100, 13, 733, 7, 197, 504, 46, 3, 921], [771, 3065, 471, 488, 91, 333], [2789, 2066, 22, 267], [1, 100, 144, 53, 83, 8, 11, 315], [27, 4, 25], [1685, 64, 137, 13, 99, 1199, 3, 21, 1278, 2, 523, 2, 5, 352, 562, 365, 99, 12, 49, 17, 5, 99, 523, 281, 49, 18, 1946], [141, 412, 1, 68, 2, 1067, 3, 34, 11, 341, 1402, 2082], [119, 153, 1, 420, 6, 27, 64, 94, 20, 51, 406, 28, 369], [1030, 23, 3, 473, 10, 25, 2, 17, 1916], [1156, 79, 225, 9, 53, 57, 37, 1045, 12, 19], [152, 40, 1061, 363, 1, 66, 3, 170, 1, 77, 3, 1042, 11, 308, 34, 13, 1226, 71, 40, 2, 901, 288, 277, 170, 6, 136, 1578, 150, 29, 14, 115, 115, 29, 14], [322, 5, 6622, 15, 6623, 6624, 18, 6, 76, 38, 980, 1135, 952, 8, 40, 375, 15, 3952, 14, 9, 4, 6625, 522, 2, 32, 980, 1899], [508, 35, 255, 183, 181, 10, 54, 45, 255, 620], [110, 21, 6626, 74, 116, 74, 20, 587, 3, 356, 31, 670], [3286, 554, 43, 47, 13, 665, 115, 71, 210, 143, 2, 11, 2161], [645, 654, 488, 44, 53, 6627, 884, 2475, 1170, 34, 654, 2137, 2, 586, 930, 654, 6628, 2643, 6629, 6630, 6631, 6632, 1134, 281, 241, 6633, 3781], [264, 110, 15, 1043, 167, 6634, 128, 725, 6635, 25, 560, 146, 957, 1, 409, 263, 81, 38, 560, 44, 344, 398, 1, 356, 180, 486, 2, 469], [95, 668, 132, 3156, 3, 7, 1429, 641, 3953, 3, 21, 7, 32, 11, 57, 392, 232, 1990, 413], [3954, 6636, 25, 128, 229, 2, 573, 3954, 6637, 12, 840, 17, 879, 6638, 2, 222, 13, 573, 202, 1390, 150], [119, 363, 2010, 5, 2199, 9, 14, 6639], [6640, 644, 208, 142, 32, 2474, 111, 2, 13, 6641, 465, 3, 21, 23, 1041, 7, 6642, 3, 21, 1981, 8, 4, 333, 3395, 15, 1301], [56, 6, 151, 909, 48, 89, 205, 6, 80, 24, 1, 532, 3675, 451, 529, 20, 163, 1081], [37, 77, 2, 201, 314, 12, 10, 1, 324, 6643, 6644], [754, 171, 2, 4, 57, 269, 6, 16, 187, 5, 852, 462, 471, 149, 20, 126, 9, 438, 36, 17, 6645, 22, 64, 518, 238, 646, 389, 544, 376], [50, 80], [119, 156, 50, 93, 134, 183, 19, 1, 29, 937, 15, 147, 1399, 5, 65, 58, 4, 158, 3858, 6646, 87, 7, 9, 1978, 89, 2597, 23, 19, 142, 158, 250, 14], [492, 47, 96, 917, 5, 63, 15, 1569, 1550], [71, 4, 1341, 20, 38, 1321, 20, 2373, 1190, 76, 4, 308, 73, 66, 3072, 3073, 3074, 930, 66, 3075, 626, 3076, 2, 1160, 1212, 1700, 3077, 44, 37, 3078, 191], [1589, 19, 1470, 683], [394, 44, 883, 10, 78], [62, 2714, 556, 470, 209, 3, 82], [789, 187, 1869, 2, 5, 1733, 1158, 633, 26, 1143, 155, 2, 472, 17, 3955, 3956, 736, 3957], [6, 1066, 83, 27, 48, 406], [226, 107, 21, 111, 7, 267, 3958, 6647, 602, 3959, 218, 96, 1474, 358, 1259, 7, 38, 630, 108, 62, 128, 1338, 2087, 6648], [228, 228, 47, 9, 14, 437], [3438, 405, 78, 17, 10], [211, 292, 2, 167, 4, 1794, 553, 222, 208, 108], [438, 814, 336, 5, 1164, 655, 60, 293, 6649], [168, 1, 6650, 3, 1, 77, 3, 1, 933, 3, 1689, 30, 23, 631, 449, 3, 168, 1, 66, 3], [50, 394], [1704, 125, 21, 3, 118], [6651, 431, 5, 2145, 47, 21, 3, 159, 40, 9, 36, 1245, 3, 4, 124, 65, 932], [87, 2200, 3960, 1496, 65, 35, 6, 66, 11, 2178, 135, 10, 122, 6652, 170, 71, 40, 2, 38, 6653, 170, 82, 47, 242, 175, 464, 6, 31, 35, 6, 31, 6654, 6, 1803, 38, 1321], [33, 32, 51, 15, 285, 8, 4, 304, 587, 101], [140, 63, 6, 298, 38, 1081, 87], [49, 157, 2102, 31, 5, 733, 3961, 971, 22, 12, 654, 70, 6655, 12, 333, 70, 6656, 2, 3962, 275, 733, 686, 12, 36, 162, 2357, 114, 272, 64, 179, 634, 414], [13, 320, 2, 32, 18, 4, 2786, 1849, 498, 17, 22, 1598, 36, 1152, 238, 195, 1051, 714, 423, 362, 1408, 1409, 1410, 1411, 1269, 9, 4, 544, 376, 17], [662, 267, 57, 2, 385, 46, 3, 47, 21, 3, 11, 118, 139, 103, 274, 119], [21, 3, 72, 2, 3682, 1912, 87], [47, 6657, 21, 3, 412], [1, 3963, 3, 214, 2201, 216, 494, 238, 117, 8, 102, 794], [256, 123, 109, 27, 385, 5, 1785, 971, 658, 864], [13, 223, 32, 5, 2784, 35, 10, 30, 223, 235, 4, 2202, 19, 483, 62, 53, 6658, 1205, 6659, 10], [6660, 6661, 35, 75, 27, 29, 14, 6, 128, 27, 29, 14, 35, 1512, 27, 29, 14, 6, 484, 29, 14, 1730, 2053, 35, 75, 27, 29, 14, 181, 129, 29, 14, 35, 1512, 27, 29, 14, 235, 14, 7, 791, 1780, 2053, 35, 75, 27, 29, 14, 84, 129, 159, 14, 35, 1512, 27, 29, 14, 134, 4, 3964, 1396, 14], [87, 30, 25, 1227, 24, 25, 49, 532, 1358, 3944, 6, 1227, 28, 38, 6662, 533], [8, 166, 45, 3, 424, 6663, 36, 6664, 4, 3965, 25, 1893, 62, 2769, 5, 561, 24, 475, 5, 3965, 8, 5, 1507, 6, 33, 54, 52, 13, 308, 9, 1039, 12, 6665], [29, 3, 54, 164, 363, 1829, 1741, 481, 13, 1352, 23, 19, 75, 132, 9, 490, 12, 3, 615, 170, 2667, 448, 2668, 76, 1609, 13, 887, 34, 66], [1, 68, 2, 32, 67, 23, 1, 27, 413, 3, 7, 213, 3, 206, 2, 10], [1, 61, 25, 28, 53, 139, 34, 52, 3, 608, 26, 159], [1789, 268, 747, 13, 361, 33, 32, 34, 3, 2126], [50, 19, 172, 180, 861, 35, 6, 81, 183, 100, 79, 489, 6, 68, 2, 29, 3453, 6666, 1298, 1168, 8, 51, 79, 43, 2, 6, 489, 79], [52, 30, 608, 9, 35, 3, 550, 6667, 253, 6668, 1, 54, 225, 30, 374, 36, 25, 223, 1300], [3926, 1478, 86, 1, 326, 6669], [730, 198, 196, 3, 242, 242, 495, 465, 1, 58, 108, 1, 36, 68, 2, 54, 19, 3, 21, 396, 259, 169, 29, 322, 5, 957, 15, 13, 65], [370, 150, 208, 42, 41, 14, 9], [297, 1440, 9, 5, 1441, 595, 5, 300, 60, 1439, 18, 42, 41, 900, 1391, 74, 2195, 280, 53, 2196, 2197, 21, 1553, 1617, 624, 411, 862], [13, 320, 2, 32, 18, 4, 2786, 1849, 498, 17, 22, 1598, 36, 1152, 238, 195, 1051, 714, 423, 362, 1408, 1409, 1410, 1411, 1269, 9, 4, 544, 376, 17], [1, 396, 112, 12, 5, 207, 63, 8, 4, 475, 1, 234, 2, 386, 25, 128, 302, 160, 1, 1664, 34, 3, 1029, 43, 28, 307, 47, 60, 13, 117], [82, 3, 67], [1, 92, 862, 13, 157], [6670, 9, 136, 25, 204, 3, 142, 16, 253, 10, 815], [2133, 3, 197, 608, 19, 255, 25, 24, 465, 69, 2807, 39, 197, 6671, 3692, 192, 3966, 6672, 3723, 7, 30, 885, 1, 16, 23, 116, 249, 350, 2, 1089, 34, 19, 30, 1535, 1601, 990, 584, 369, 40, 934, 1621, 2, 14], [456, 6673, 2190, 7, 456, 104, 59, 192, 435, 637], [3967, 1313, 1564, 69, 165, 33, 40, 1127, 16, 106, 2, 6674, 148, 26, 25, 595, 1, 61, 8, 4, 6675, 2808], [120, 1606, 68, 556, 377, 695, 196, 884, 20, 38, 113, 73, 2203, 2, 6676, 3145, 49, 7, 56, 36, 1225, 238, 65, 2, 84, 70, 6677, 6678, 1966], [6, 83, 3968, 38, 6679], [174, 320, 126, 38, 1222, 749, 15, 1028, 623, 87, 70, 533, 2, 1531, 22, 853, 903, 99, 179, 305, 853, 1556, 2038, 854, 1123, 1223, 272], [6680, 9, 301, 1, 590, 6681, 942, 9, 6682], [98, 6683, 1120, 121, 106, 6684, 2, 38, 6685], [184, 80, 9, 96, 258], [1796, 9, 158, 57, 3969, 337, 15, 533, 7, 6686, 1748, 9, 6687, 57], [252, 83, 6688, 86, 3970], [37, 3971, 3907, 47, 6, 6689, 5, 1256], [90, 93, 94, 189, 15, 14], [1, 94, 14, 39, 287, 16, 5, 113, 6690, 743, 27, 39, 2024, 39, 565, 16, 14, 40, 274, 22], [11, 1316, 9, 2456, 168], [1365, 121, 1811, 6691, 1362, 144, 4, 3972, 373], [153, 463, 358, 4, 293, 402, 93, 893, 76, 150, 45, 1, 31, 43], [168, 3, 165, 20, 587, 7, 144, 106, 819, 44, 9, 13, 1306, 231], [90, 93, 32, 183, 2, 31, 43, 202, 1128, 7, 82, 554, 52], [90, 90, 525, 1, 60, 8, 1796], [234, 2, 3973, 2809, 533], [6692, 22, 567, 278, 7, 1956, 896, 18, 443, 1630, 352, 843, 1688, 193, 1206, 49, 17, 756, 18, 806, 26, 964, 6693], [252, 2810, 38, 892, 56, 72, 2, 6694, 86, 2152, 1360], [35, 3, 81, 78, 56, 59, 231, 970, 216, 195], [370, 1, 142, 32, 67, 76, 455, 28, 5, 352, 374, 1926, 2, 307, 21, 960, 7, 1641, 231, 26, 142, 39, 36, 29, 442, 3974], [59, 1742, 42, 531, 41, 22, 1, 436, 2164, 5, 297], [38, 155, 889, 9, 842, 534, 666, 2, 1337, 38, 155, 8, 22, 71, 155, 2, 687, 64, 191, 130, 1505, 1335, 423, 362, 2512, 2513, 2514, 2067], [1009, 74, 8, 21, 67, 102, 2183, 12, 10, 6695, 1842, 75, 46, 443, 19, 6696, 4, 1009, 24, 265, 83, 152, 443, 18, 14], [97, 10, 432, 47, 9, 497, 542], [98, 750, 1, 123, 3, 137, 4, 228, 117, 1, 270, 1, 137, 59, 230, 203, 2, 82, 3, 66, 2584, 3758, 1, 68, 2157, 6697, 911, 7, 1, 68, 4, 419, 300, 2630, 3912], [704, 3, 1458, 54, 582, 1, 112, 4, 4, 3739, 24, 693, 212, 34, 6698, 5, 249, 65, 2036, 12, 840], [6699, 503, 43, 368, 177, 6700, 3, 322, 40, 65, 34, 602, 15, 2289, 257, 947], [1406], [164, 484, 39, 1548, 208, 7, 203, 12, 1381, 306, 2, 2204, 6701, 4, 2517, 1820, 45, 5, 3283, 3855, 8, 1765, 6702, 181, 67, 32, 812], [186, 13, 99, 143, 121, 106, 346, 34, 4, 618, 149, 276, 17, 6703, 46, 657, 312, 126, 1214, 506, 674, 64], [47, 29, 3, 359, 48, 2, 82, 1258, 18, 13, 836], [3, 287, 16, 2, 97, 10, 19, 22, 30, 628, 505, 417, 72, 2, 84, 53, 13, 2243], [2730, 71, 110, 75, 2, 88, 1713, 202, 42, 531, 41, 87], [101, 6, 27, 25, 650, 263, 5, 512, 372, 2158, 121, 4, 195, 2725, 15, 6704, 764, 115, 6705, 1446, 160, 6706, 91, 1679, 250, 44, 133, 772], [327, 80, 4, 293, 540, 128, 56, 289, 236, 6, 48, 78, 364, 20, 227, 87], [52, 63, 142, 1, 97, 11, 269, 2, 32, 208], [141, 19, 33, 32, 267, 66, 3, 32, 944], [171, 604, 257, 978], [9, 1132, 8, 38, 315, 45, 6, 913, 10, 43], [394, 44, 5, 63, 6707, 1172, 3975, 62, 1824, 6708, 38, 11, 407, 7, 53, 1, 68, 9, 6, 2476], [319, 102, 138, 39, 214, 205, 190, 43, 220], [198, 25, 196, 14, 69, 27, 71, 10], [267, 61, 1459, 1157], [1593, 1435, 522, 12, 1760, 74, 6709, 501, 110, 2703, 522, 851, 363], [21, 3, 258, 2, 65, 12, 285], [161, 260, 36, 6710, 8, 1244], [50, 6, 322, 38, 348], [184], [125, 3976, 1, 32, 449, 11, 407, 5, 273, 701, 2097, 685, 10, 7, 1, 1711, 326, 48, 733, 24, 6711, 716, 210, 1532, 6712], [1430, 11, 118, 159, 647, 347], [6713, 552, 18, 42, 41, 1822], [64, 20, 2022, 3977, 40, 2165, 561, 8, 6714, 216, 162, 20, 42, 41, 426, 20, 44, 42, 41, 455, 275, 162, 42, 41, 56, 307, 20, 216, 97, 10, 5, 619, 35, 6, 81, 1850, 6715, 1, 58, 145, 6716], [319, 29, 3, 54, 698, 42, 41, 26, 1141, 486, 2, 201, 6717, 88, 521, 2811, 7, 156, 22, 35, 39, 95, 31, 4, 797, 15, 956, 62, 36, 44, 6718, 53, 117], [291, 89, 104, 2146, 80, 30, 316, 11, 2146, 28, 6719], [153, 39, 58, 75, 6720, 43, 12, 199], [7, 84, 1148, 873, 9, 96, 357, 72, 2, 84, 6721, 10, 328, 1, 33, 2205, 3, 974, 1, 68, 328, 3, 21, 694, 6722], [176, 1031, 112, 19, 525, 148, 58, 11, 6723, 22, 62, 36, 334, 6724, 1157, 67, 12, 10], [120, 198, 1033, 5, 1510, 7, 1331, 667, 148, 256], [21, 3, 50, 52, 598, 2, 2404, 55, 40], [3, 16, 122, 103, 157, 105, 17, 6725], [11, 2344, 167, 44, 10, 75, 80, 1, 264, 210, 2022, 1, 514, 151, 104, 263, 97, 6, 612, 1, 151, 104], [261, 37, 636, 18, 317, 107, 21, 528, 10, 203, 4, 6726, 114, 153, 161, 43, 12, 110, 6727, 7, 6728, 8, 3522, 83, 24, 32, 78, 79, 162], [37, 157, 37, 3841, 52, 2760], [39, 842, 16, 4, 157, 1260, 13, 493, 2, 472, 13, 157, 36, 17, 6729], [120, 168, 101, 1, 287, 31, 1878, 2812, 27, 59, 7, 1672, 14, 640, 69, 793, 69, 992, 52, 14, 9, 24, 69, 738, 48, 74, 725, 4, 2358, 7, 69, 483, 14, 33, 366, 42, 41, 1312, 1, 95, 54, 35, 14, 356, 32, 1766, 2, 167, 225, 67, 39, 95, 16, 102, 638, 887, 6730, 28, 53, 156, 22, 181, 10, 54, 52, 3, 68, 2, 29, 168], [134, 19, 162, 44, 6731, 3978, 254], [235, 14, 6, 33, 232, 32, 6732], [760, 24, 93, 180, 72, 20, 558, 18, 762, 358, 364, 80, 173, 6733, 681, 58, 1131, 8, 86, 2575], [28, 3979, 180, 6734, 170, 6735, 22], [125, 21, 3, 3, 165, 3, 172, 32, 108, 45, 1, 1029], [120, 22, 61, 49, 3, 27, 17, 10], [97, 10, 2557, 40, 115], [186, 13, 99, 60, 346, 4, 343, 534, 589, 826, 149, 18, 3749, 275, 827, 88, 633, 520, 20, 194, 6, 17, 6736], [100, 1, 356, 16, 2, 135, 14, 4, 175, 61, 3980, 530, 2614, 56, 16, 2073, 28, 442, 1554, 40, 437, 212], [574, 16, 2, 325, 24, 463, 64, 55, 122, 6737, 749, 402], [141, 67, 211, 242, 3323], [1, 172, 24, 30, 83, 6738, 7, 2426, 46, 174, 117, 1146, 234, 2, 485, 26, 147, 439, 9, 1553], [6, 16, 4, 753, 1011, 891, 132, 793, 6, 81, 23, 288, 17, 3264, 2, 692, 51, 91, 891, 84, 122, 237, 238, 130, 1925, 2048, 189, 3265], [6739, 921, 112, 1, 1421, 13, 899, 1421, 13, 3981, 1421, 13, 2412, 125, 29, 3, 197, 13, 113, 9, 5, 6740, 18, 112, 3, 213, 14, 6741], [339, 71, 2, 1517, 470, 325, 14], [30, 159, 86, 1694, 3982, 1055, 6742, 89, 6743, 89, 6744, 3983, 6745, 15, 6746, 6747, 89, 532, 3983, 2813, 15, 6748, 89, 6749, 58, 482, 307, 89, 332, 2177], [1512, 6750, 6751, 6752, 6753], [3, 92, 54, 3, 6754, 10, 2206], [29, 3, 357, 1343, 19, 45, 255, 551, 698, 72, 6755, 329, 3, 9, 127, 2104, 7, 644, 551, 2027, 329, 3, 9, 4, 6756], [25, 263, 137, 226, 6757, 3747, 6758, 6759, 6760, 6761, 602, 1642, 7, 6762, 1259, 6763], [21, 3, 309, 57, 407], [3426, 1918, 34, 1207, 143, 42, 41, 12, 835, 42, 531, 41, 121, 106, 2093, 2, 5, 3427, 338, 18, 42, 41, 28, 42, 63, 41, 42, 41], [3627, 2797, 744, 3731, 6764, 6765], [2063, 656, 1549, 6766, 119, 171, 12, 528, 11, 65], [6, 142, 134, 4, 1522, 1424], [3840, 36, 77, 6767, 8, 5, 6768, 14, 577, 129, 4, 337, 23, 69, 6769, 10], [139, 103, 274, 412], [93, 70, 717, 7, 181, 3, 54, 3984, 18], [95, 516, 9, 438, 369, 16, 6770], [1, 66, 6, 20, 11, 421, 6771, 2814, 1, 61, 101, 24, 1, 66, 6], [50, 1356, 22, 3, 28, 3302], [858, 80, 197, 1590, 6772, 84, 26, 6, 246, 20, 48, 2405], [471, 372, 352, 843, 1688, 193, 49, 1206, 26, 1302, 567, 278, 1956, 73, 18, 443, 17, 756, 18, 806, 26, 964, 6773], [52, 6, 590, 6, 819, 260, 260, 460, 647, 24, 1, 580, 6, 72, 2, 94, 4, 2498, 291, 1, 71, 104, 340, 23, 30, 913, 104, 43, 28, 545, 44, 705, 80], [220, 153, 868, 32, 231, 12, 19], [52, 142, 1, 324, 3159, 314, 6774], [69, 165, 19, 69, 137, 4, 156, 6775, 45, 69, 510, 6, 200, 3, 172, 6776, 32, 5, 207, 6777, 46, 6778, 24, 100, 47, 116, 3, 214, 12], [37, 685, 63, 75, 47, 1, 59, 51, 89, 31, 11, 283, 837, 109], [91, 2, 185, 507, 537, 52, 6779, 1498, 382, 6780, 6781, 353, 71, 84, 2, 2167, 2, 318, 233], [30, 67, 7, 1, 27, 82, 3, 24, 3, 221, 82, 10, 383, 3, 142, 3985, 1767, 1, 897, 5, 1421], [29, 3, 83, 16, 5, 6782], [37, 122, 1752, 245, 44, 38, 512, 188, 114, 36, 73, 3986, 2, 2229, 397, 245, 49, 23, 31, 2566, 22, 7, 97, 38, 266, 191, 245, 272, 91, 1874, 2567], [66, 939, 4, 2069, 144, 4, 557, 35, 39, 214, 1068, 132, 2, 66, 56, 166, 172, 32, 116, 3334, 24, 56, 1038, 2517], [556, 299, 1597, 17, 22, 1598, 36, 1152, 238, 195, 1051, 714, 423, 362, 1408, 1409, 1410, 1411, 1269, 9, 4, 544, 376, 17], [90, 1, 1690, 82, 3, 90, 125, 21, 3, 22], [23, 30, 159, 4, 1424, 15, 6783], [37, 1375, 1, 336, 603, 147, 19, 51, 127, 441, 160, 546, 902, 2, 235, 465, 74, 1103, 1146, 121, 102, 3476, 8, 6784, 350, 51, 202, 5, 174, 638], [1030, 25, 6785, 183, 1, 2815, 19, 70, 24, 120, 1240, 224, 403], [107, 2191, 3693, 2798, 7, 45, 6, 454, 14, 18, 14, 559, 13, 2816, 332, 1492, 1420, 15, 448, 1765, 3685], [732, 54, 69, 9, 380, 1054, 8, 880], [37, 813, 1736], [119, 56, 13, 113, 3987, 10, 24, 14, 6786], [574, 6787, 6788, 45, 259, 18, 46, 6789], [40, 157, 9, 49, 848, 2, 5, 103, 3988, 911, 941, 600, 2, 650, 46, 40, 233, 91, 84, 677, 191, 268, 64], [1154, 93, 82, 52, 6790, 958, 21], [789, 187, 1869, 2, 5, 1733, 1158, 633, 26, 1143, 155, 2, 472, 17, 3955, 3956, 736, 3957], [6791, 21, 3, 75, 15, 169], [182, 98, 6792, 6793, 3, 106], [347, 3, 82, 3, 16, 2, 32, 8, 5, 6794, 1, 33, 181, 3, 54, 489, 18, 1543, 14, 9, 45, 121, 616, 528, 14], [523, 22, 3680, 332, 527, 443, 312, 966, 6795, 17, 756, 18, 806, 26, 964, 6796], [1329, 166, 449, 10, 82, 47, 729, 6, 21, 1876, 10, 95, 516, 6797, 232, 67, 2, 1099, 6, 3475], [3989, 57, 177, 2422, 698], [153, 37, 3971, 174, 117, 9, 1836, 2555, 43, 34, 3, 378, 219], [49, 799, 2281, 2203, 884, 20, 13, 99, 73, 2203, 2, 6798, 31, 49, 1109, 12, 2001, 1627, 56, 6799, 1225, 238, 65, 73, 84, 6800, 40, 130, 9, 49], [1, 356, 48, 20, 558, 858, 28, 146, 3990, 22, 243, 1774], [42, 41, 278, 24, 1, 137, 2, 84, 1017, 207], [42, 41, 9, 729, 6801, 23, 270, 6, 4, 178, 139, 103, 274, 139, 6802, 139, 6803, 65, 139, 1110, 65, 139, 6804, 139, 6805, 139, 6806, 65, 139, 265, 65, 139, 6807, 65, 139, 691, 1387, 981, 6808, 6809, 65, 170, 139, 434, 44, 6, 139, 3973, 6810, 139, 6811, 139, 3942, 139, 840, 42, 41, 57, 6812, 6813, 3991, 1484, 6814, 61, 5, 207, 2, 1245, 6, 53, 583, 6815, 3992], [75, 15, 5, 6816, 8, 6817, 1819, 43, 715, 6818, 3394, 19, 6819, 3474, 428, 6820, 4, 1041, 177, 6821], [1, 287, 31, 5, 638, 332, 15, 19, 157], [140, 63, 29, 6, 246, 20, 163, 10, 131], [1, 429, 3, 23, 116, 12, 53, 3, 29, 34, 6822, 1, 66, 3, 1625], [61, 8, 1054, 303, 17, 3, 131], [47, 2198, 3, 579, 11, 599], [3, 21, 4, 178, 178, 178, 178, 399, 388, 26, 1532], [1, 66, 226, 128, 24, 271, 7, 1623, 13, 215, 296, 168, 2812, 172, 2179, 18, 10, 35, 69, 917], [52, 418, 15, 95, 6823, 95, 3, 862], [1, 616, 11, 314, 148, 6, 503, 43, 148], [3, 83, 28, 5, 629], [3, 16, 58, 6824, 24, 3, 21, 6825], [52, 9, 13, 2341, 12, 75, 117], [182, 339, 1, 196, 3, 127, 661, 79, 47, 2, 790, 360, 5, 2787, 3993, 6826, 1, 391, 71, 3, 334, 157, 19, 142, 2018, 47, 248, 21, 85, 78, 16, 4, 124, 403], [223, 181, 10, 54, 173, 615, 1185, 46, 280, 19, 65, 9, 258, 6827, 10, 143], [3466, 64, 323, 1346, 18, 224, 113, 11, 981, 27, 31, 80], [370, 1196, 54, 554, 43], [31, 311, 12, 42, 41, 1883, 15, 1291], [50, 1, 213, 55, 1059, 6828], [173, 909, 152, 109, 1900, 824, 23, 1, 151, 109], [3, 21, 25, 6829, 10, 24, 3, 16, 2, 1087, 11, 2006, 115], [75, 65, 4, 2817, 60, 1377, 18, 5, 809, 3994, 5, 3995, 480, 89, 2350, 5, 2818, 15, 5, 2817, 2817, 473, 309, 11, 746, 289, 81, 6, 3996, 11, 606, 2818, 3995, 1471, 4, 6830, 60, 1290, 38, 2818, 2, 1067, 3, 310, 289, 1, 2350, 14, 217, 6831, 294, 651, 6, 6832, 257, 978], [370, 52, 63, 3, 68, 10, 2, 59, 43], [6833, 125, 21, 3, 484, 1, 6834, 3, 2, 10, 53, 5, 63, 22, 95, 3, 270, 2, 59, 2, 10, 18, 13, 953, 1159], [13, 1009, 28, 162, 9, 3997, 3349, 23, 310, 25, 399], [181, 10, 54, 47, 14, 2819, 8, 5, 206, 2107, 14, 27, 218, 32, 6835, 24, 3, 21, 51, 15, 19, 830, 3998, 1191, 62, 25, 2759, 23, 36, 2589, 7, 181, 10, 54, 8, 2107], [261, 153, 198, 36, 58, 51, 15, 5, 946, 7, 77, 2, 29, 11, 511, 23, 93, 59, 43, 45, 30, 260, 153], [23, 431, 5, 1540, 192, 67], [50, 25, 116, 2, 29, 108, 461, 3001, 436, 743, 230, 203, 409, 489, 5, 1309, 161, 223, 29, 12, 334, 162, 764, 1474, 4, 6836, 119, 203, 148, 260, 19], [955, 22, 1, 16, 146, 3420, 3717, 200], [176, 107, 95, 54, 79, 11, 621, 113, 1, 214, 1279, 3683, 156, 22, 35, 1, 68], [50], [621, 561, 34, 4, 1262, 619, 225, 473, 4, 392, 47, 9, 38, 166, 69, 6837, 170, 3863, 96, 9, 267, 2351], [105, 235, 40, 3999, 101, 12, 777, 19], [115, 71, 10, 5, 935, 284, 86], [52, 711, 2, 88, 319, 564], [3381, 390, 829, 52, 1583, 382, 2283, 3382, 3383, 2, 145, 3384, 146, 3385, 832, 3386, 73, 145, 146, 26, 832, 2, 2545, 22, 44, 320, 20, 185, 507, 155, 3387, 3388], [6838, 204, 25, 632], [36, 1029, 43, 6839, 62, 229, 24, 1, 287, 1567, 1781, 530, 42, 41, 61], [3, 21, 22, 6840, 53, 642, 31, 3329, 15, 500, 1497, 26, 6841, 1483, 2, 13, 113, 48, 2, 37, 6842], [118, 53, 74, 39, 54, 42, 41, 900, 9, 5, 42, 41, 900, 434, 15, 88, 699, 6843, 39, 21, 1176, 2, 135, 4, 959, 522, 18, 19, 65, 448, 132, 55, 2, 6844, 8, 19, 3, 21, 848, 105, 194, 88, 4000, 1281, 12, 133, 474], [90, 90, 46, 150, 2704, 639, 347], [52, 6, 844, 757, 364, 177, 144, 819, 1128, 125, 13, 28], [267, 29, 3, 381, 10], [98, 168, 62, 2092, 47, 81, 6, 161, 78, 46, 6845, 7, 1740, 70, 10, 85, 35, 6, 326, 244, 6846, 4001, 209, 70, 84, 2, 6847, 191, 6848], [50, 47, 242, 142, 1, 201], [686, 57, 197, 10, 1506], [31, 4, 1577, 103, 99, 113, 76, 309, 127, 6849, 15, 5, 512, 505, 937, 133, 6850, 12, 133, 772, 36, 70, 6851, 2, 3434], [50, 23, 1582, 230, 203], [392, 3, 286, 31, 319, 899, 51, 108, 1164], [6852, 954, 163, 18, 410, 109, 3636, 18, 410], [30, 22, 24, 16, 2, 203, 547, 20, 12, 5, 430, 2, 205, 10], [3431, 46, 5, 75, 1, 253, 3, 79, 525], [50, 80, 24, 201, 140], [956, 142, 48, 2, 4002, 7, 6853, 1069], [732, 54, 1, 1690, 130, 129, 1395], [94, 199, 51, 406, 7, 1161, 33, 3718, 6854, 145], [730, 123, 3, 21, 313, 4, 124, 65, 1039, 40, 70, 4003, 3, 111, 7, 602, 15, 166, 16, 4, 124, 65, 932], [67, 9, 37, 1325, 8, 11, 4004, 7, 4005], [467, 24, 1, 273, 3, 211, 5, 6855], [1195, 4006, 1, 175, 3, 1, 61, 158, 2139, 3, 550, 710, 2, 5, 524, 1600, 263, 2, 31, 2, 10, 95, 3, 175, 10], [204, 204, 1, 6856, 1620, 9, 55, 3092, 36, 2657, 1149, 16, 2, 742], [16, 4, 124, 568, 2, 847, 7, 491, 5, 803, 2, 644, 25, 36, 34, 5, 845, 24, 34, 644, 19, 9, 670, 2, 82, 3, 295, 1480, 932], [7, 178, 6857, 53, 39, 1663, 9, 481, 6, 7, 1, 64], [90, 90, 47, 79, 13, 1251, 1584], [50, 80, 1, 3481, 20, 48, 2672, 2673, 44, 4, 475, 20, 1333, 705, 6, 246, 20, 71, 10, 67, 26, 140], [8, 86, 315, 850], [1, 270, 19, 1, 60, 34, 3, 1609, 3, 6858, 528, 3, 82, 47, 487, 3, 21, 47, 116, 3, 590, 2, 10, 47, 116, 1, 77, 3, 8, 11, 166], [23, 1, 473, 431, 3130, 457, 7, 13, 1676], [6859, 1, 954, 6860, 8, 404, 4007, 11, 2820, 11, 386, 6861, 8, 404, 4007, 10, 825, 6862, 6863, 6864, 6865, 6866, 6867, 487, 6868, 257, 4008], [52, 87, 773, 773, 9, 280, 23, 37, 147], [61, 72, 2, 94, 946, 303, 222, 5, 2190, 8, 4009], [6869, 15, 5, 6870, 1333, 15, 5, 1241, 8, 972, 22, 91, 2620, 76, 20, 2075, 44, 320, 20, 185, 2620, 6871, 1758, 6872, 91, 84, 2, 318, 896], [118, 94, 189, 1, 61, 36, 1151, 78, 66, 6, 4, 337], [2284, 2767, 3637, 3916, 6873, 6874, 3980, 6875], [16, 3, 6876, 26, 190, 50, 383, 216, 770, 60, 4, 293, 6877], [6878, 1, 2979, 51, 4, 3553, 624, 76, 4, 521, 34, 5, 2101, 262, 741, 224, 60, 1201, 34, 4, 3212, 3678, 1640, 107, 92, 2194, 19], [39, 2541, 46, 11, 1835, 156, 18, 6879, 875, 156, 18, 6880, 402, 18, 6881, 2207, 571, 9, 42, 41], [319, 3, 28, 6882, 7, 775, 55, 4, 6883], [40, 9, 53, 36, 3432, 7, 733, 2, 10], [50, 1, 1217, 31, 38, 130], [3744, 115, 29, 10, 4, 3745, 115, 1586, 11, 434, 1649, 2, 2726, 115, 1012, 668, 14, 87, 9, 104, 434, 3746], [6884, 6885, 6886, 6887], [218, 35, 69, 11, 269, 69, 9, 4, 6888, 17, 129, 22], [6, 23, 2691, 526, 148, 59, 85, 56, 332, 1091, 822], [240, 289, 1, 165, 144, 399, 349, 53, 146, 1747, 54, 6, 140, 6, 159, 22], [26, 1846, 10, 8, 4, 304, 1627], [1, 137, 106, 1039, 1, 172, 25, 16, 2, 71, 3, 40, 157, 11, 1120, 9, 1570, 7, 1, 92, 16, 428, 12, 14, 11, 6889, 21, 1188, 710, 62, 4, 1218, 1, 77, 7, 60, 1039, 3, 214, 104, 5, 889, 9, 42, 41, 9, 67, 4, 138, 1, 214, 31, 19, 46, 3, 547, 1389, 890, 45, 1, 123, 2, 401, 85], [98, 139, 103, 274, 1, 92, 590, 2, 6890, 24, 27, 3, 115, 181, 10, 54, 47, 116, 1592, 3, 1367, 174, 950, 7, 47, 116, 40, 950, 9, 171], [261, 1795, 47, 1851, 62, 108, 76, 5, 138, 161, 57, 106, 18, 20, 1941, 34, 19, 521, 1, 961, 8, 6891, 23, 725, 39, 16, 2, 163, 43, 219, 769, 644, 515], [176, 1, 60, 223, 174, 345, 1, 6892, 110, 8, 24, 1, 402, 42, 41, 36, 8, 794, 1, 60, 2810, 133, 1399, 5, 114, 640, 107, 6893, 14, 18, 5, 6894], [57, 864, 290, 722, 222, 6895, 1629, 1270, 57, 864, 12, 4010, 71, 84, 2, 2167, 239, 642, 4011], [1072, 24, 1262, 32, 4, 57, 330], [36, 550, 706, 125, 263, 869], [140, 63, 340, 125, 83, 58], [141, 380, 6896, 24, 991, 546, 72, 2, 4012, 14, 6897, 6898], [1, 203, 44, 109, 1422, 86, 315, 850], [882, 6899, 139, 103, 274, 932], [22, 61, 49, 17, 10, 432], [81, 6, 608, 1, 142, 509, 573, 5, 2312, 173, 1, 137, 2, 401, 12, 6900, 14], [84, 2821, 10, 23, 111], [57, 452, 40, 9, 2187, 47, 21, 3], [959, 351, 8, 664, 6901, 22, 967, 3911], [49, 476, 8, 20, 4, 537, 867, 12, 4, 320, 2, 185, 127, 969, 73, 2118, 2, 2680, 2, 31, 476, 925, 73, 376, 179, 634, 414, 2681, 12, 474, 268], [69, 777, 25, 2, 97, 102, 75, 35, 23, 702, 12, 10, 98, 98, 98], [11, 2432, 8, 2666, 270, 3, 359, 4, 124, 950], [397, 335, 49, 645, 488, 6902, 20, 6, 715, 335, 73, 193, 18, 2, 586, 12, 6903, 193, 488, 26, 742, 18, 2, 586, 12, 1248, 193, 191, 654, 6904, 272], [6, 258, 20, 205, 10], [310, 301, 1, 1288, 13, 1771, 3, 21, 178, 500], [172, 6, 2528, 596, 14, 107, 440, 54, 1, 137, 1859, 3643, 1033, 217, 23, 107, 509, 4013, 10, 200, 19, 716, 2, 180, 6905], [256, 296, 229, 329, 357, 102, 138, 1, 214, 893, 76], [50, 24, 1, 298, 28, 275], [4014, 171, 12, 13, 2019, 15, 4, 361, 6906, 46, 4014, 789, 106, 870, 6907, 100, 3, 27, 29, 296, 164, 25, 71, 4, 361, 8, 4, 6908, 6909], [198, 106, 6910, 46, 53, 180, 7, 1656, 3319, 12, 166, 40, 6911, 8, 443, 6912, 480, 43, 2, 10, 7, 473, 35, 1, 478, 6913, 23, 1, 58, 5, 207, 6914, 8], [23, 37, 495, 137, 553], [50, 72, 2, 227, 123, 1, 27, 163, 104], [27, 3, 181, 10, 54, 474, 15, 762, 45, 6, 167, 51, 173, 30, 25, 8, 2595, 26, 762, 6915, 1794, 171], [255, 156, 1, 16, 22, 19, 1, 100, 79, 14], [140, 81, 6, 159, 22], [9, 38, 2073, 192], [500, 500, 849, 7, 70, 10, 161, 1635, 7, 1041, 7, 311, 12, 110, 2203, 6, 43, 12, 110, 415, 40, 130, 9, 49, 1925, 677, 191, 1182, 6916, 20, 1261, 70, 84], [239, 222, 1, 33, 17, 3], [25, 1444, 263, 72, 2, 469, 720, 18, 2470, 216, 64, 732, 54, 52, 33, 598, 160, 19], [392, 1, 66, 6, 2208, 6917, 392, 3461, 2591, 6918, 2208, 4015, 392, 3337, 6919, 2208, 4015, 392, 6920, 122, 6921, 6922, 6923, 2208, 1, 66, 6, 1457], [256, 1, 977, 19, 70, 10, 45, 255, 208], [1, 391, 31, 67, 150, 7, 71, 14, 2, 3], [350, 168, 6924, 293, 6925, 43, 2696], [119, 310, 229, 111, 16, 4, 57, 117, 7, 1, 33, 135, 6, 4, 17, 150, 1392, 22, 72, 2, 48, 2, 227, 117, 117], [1163, 6, 6926, 6927, 6, 6928, 153, 6929, 2042, 81, 6930, 335, 410, 6931, 6932, 2577, 6933, 1398, 197, 6934, 6935, 15, 3261, 4016], [101, 8, 316, 93, 17, 3, 131], [319, 1589, 6, 708, 294, 2578, 160, 847, 2371], [153, 24, 224, 9, 1437, 12, 1], [1, 6936, 11, 266, 19, 3, 1885, 2, 4017, 74, 13, 266], [302, 63, 3, 381, 10, 87], [514, 406, 22, 80, 1, 499, 1418, 64], [429, 6, 14, 296, 147, 51, 640, 1, 33, 213, 740, 1141], [21, 3, 43, 12, 5, 2822, 1, 54, 1, 61], [47, 116, 112, 38, 6937, 6938, 366], [3291, 3977, 36, 6939, 11, 661, 7, 417, 196, 10, 334, 3596, 939, 69, 4, 3484], [1, 221, 6940, 47, 670, 3, 21, 19, 30, 396, 1370, 76, 1128], [40, 9, 5, 446, 63, 39, 16, 548, 2, 194, 6, 6, 16, 187, 5, 2398, 149, 2, 126, 36, 17, 6941, 813, 6942, 179, 305, 84, 247, 6943, 6944], [87, 9, 101, 65, 35, 357, 1, 60, 798, 34, 3, 35, 357, 1, 3037, 26, 577, 3, 535, 535, 36, 2352, 1111, 952, 62, 38, 1205, 30, 1686, 57], [1163, 12, 5, 689, 9, 14, 19, 63, 15, 274, 148], [556, 299, 1597, 17, 22, 1598, 36, 1152, 238, 195, 1051, 714, 423, 362, 1408, 1409, 1410, 1411, 1269, 90], [45, 277, 82, 11, 677, 107, 100, 1392, 2062, 2, 2508, 107, 21, 767, 952, 107, 732, 2509, 54, 19, 1392, 2062, 2, 11, 368, 266, 894], [915, 1640, 5, 6945, 1949, 92, 2823, 29, 4, 6946], [550, 897, 11, 1209, 605, 176], [824, 180, 93, 205, 14, 43, 150], [83, 4018, 2559, 6, 59, 2486, 2777], [29, 6, 83, 16, 6947, 2824, 7, 4, 6948, 39, 214, 3259], [118, 697, 1542, 2, 126, 40, 764, 372, 28, 3, 1238, 105, 48, 2, 1044, 305, 414], [14, 1267, 6949, 133, 923], [38, 72, 20, 2148, 3651, 3652, 7, 378, 2, 4, 299, 779, 2, 126, 582, 2148, 2661, 3653, 155, 268, 64, 2, 692, 51, 73, 254, 2, 3654], [514, 83, 1950, 74, 1103, 252, 59, 85, 558, 752], [8, 316, 86, 1, 33, 17, 3], [90, 90, 56, 373, 110, 2825], [382, 1168, 505, 655, 6950, 613, 9, 4, 837, 6951, 76, 6952, 1, 55, 18, 28, 3310, 28, 455, 770], [67, 5, 4019, 15, 6953, 2631, 6, 6954, 6955, 43, 38, 899], [23, 242, 277, 1242, 2, 32, 288, 28, 207, 1820, 24, 64, 178, 304, 33, 2648, 288, 2, 3, 547, 13, 174, 1820, 3629, 169, 547, 166, 1016, 94, 6956, 86], [11, 886, 11, 2733, 11, 266, 89, 11, 1619, 53, 1815, 979, 7, 1, 60, 251, 18, 5, 1272, 984, 1492], [409, 1, 499, 1515, 173, 1, 58, 4, 689, 58, 929, 217, 44, 4, 3990, 393, 511, 1325, 23, 1, 580, 144, 86, 75, 109, 821, 38, 511], [57, 177, 6957, 2004, 176, 123, 1, 287, 503, 6, 43], [383, 35, 3, 1029, 43, 202, 758, 162, 40, 1860, 32, 4, 351], [139, 434, 2, 3, 118, 34, 679, 15, 66, 1024, 6958], [1589, 19, 1470, 683], [40, 9, 5, 446, 63, 39, 16, 548, 20, 194, 6, 6, 16, 187, 5, 649, 1232, 149, 20, 126, 9, 438, 17, 4020, 22, 64, 518, 238, 195, 389, 544, 376], [6959, 42, 41, 21, 3, 72, 2, 31, 19], [98, 659, 516, 757, 86, 1052, 595, 5, 1052, 33, 1762, 10, 20, 38, 308, 4021, 5, 863, 4, 1917, 330, 55, 6, 6960, 227, 4022, 26, 177], [38, 346, 4, 1748, 685, 7, 214, 185, 4, 1107, 1381, 406, 1361, 188, 335, 73, 972, 2, 2030, 2031, 2463, 1124, 343, 2464], [9, 38, 1131, 87, 8, 146, 2575, 26, 612], [1, 33, 2826, 43, 188, 663, 21, 3, 311, 2, 279, 13, 2952, 74, 111], [7, 3, 33, 1931, 3, 974, 3, 70, 123, 53, 477, 111, 613], [124, 1053, 6961, 9, 11, 6962, 7, 615, 12, 6963, 188, 177], [1, 4023, 4, 103, 143, 648, 6, 64, 279, 40, 75, 1502], [23, 62, 2, 32, 6964, 300, 4024, 19, 107, 1571, 3, 8, 3473, 2206, 47, 21, 3, 36, 608, 98], [307, 80, 579, 20, 2592, 140, 63, 6, 258], [37, 542, 61, 872, 8, 541, 533, 23, 19, 1, 473], [36, 4025, 328, 11, 1296, 473, 52, 1, 60, 43, 2], [228, 228, 47, 9, 14, 437], [467, 80, 1889, 55, 19, 1939, 107, 379, 181, 199, 48, 256, 52, 112, 107, 152, 8, 5, 1036, 7, 1716], [256, 291, 1640, 39, 33, 728, 4, 304, 3853, 76, 1147, 160, 2166, 1308, 27, 48, 948, 7, 3814, 200], [662, 57, 47, 21, 3, 125, 81, 6, 437, 22], [119, 141, 198, 36, 106, 4, 421, 1544, 5, 1540, 23, 198, 727, 15, 106, 6965, 28, 78], [28, 78, 182], [40, 113, 121, 5, 3445, 2827, 935], [993, 11, 113, 1486, 7, 1, 287, 218, 54, 153, 1, 55, 14, 296], [514, 6966, 151, 35, 6, 27, 397, 140, 15, 163, 44, 314, 398, 6, 89, 129, 163, 27, 148, 80, 26, 6, 246, 20, 48, 151, 86, 1104, 397, 56, 871, 690, 10, 976], [96, 165, 825, 29, 6, 321, 35, 1, 48, 360, 5, 1371, 12, 4, 646, 825, 2173, 1, 1843, 8, 4, 500, 1434, 96, 480, 51, 216, 2174, 2175, 721, 4, 1332, 89, 11, 492], [119, 153, 7, 501, 4, 124, 63, 8, 6967, 71, 10, 4, 4026, 122, 416, 160, 53, 5, 708, 475, 161, 710, 6, 54, 5, 6968, 6969, 757, 671], [39, 58, 4, 2911, 176, 96, 204, 108], [554, 38, 1528], [168, 16, 3, 58, 428, 215, 2, 205, 43, 4027, 7, 1995, 7, 93, 135, 3, 14, 85, 45, 3, 31, 78], [1, 68, 812, 144, 36, 2639, 7, 6970], [186, 39, 21, 292, 2, 194, 6, 593, 290, 348, 19, 3, 16, 187, 4, 618, 149, 276, 17, 6971, 46, 657, 312, 126, 6972, 506, 674, 64], [59, 2, 4028, 430, 84, 42, 531, 41], [732, 54, 40, 114, 30, 72, 2, 6973, 86], [10, 128, 407, 1, 1064, 2, 702, 3, 111, 1, 2013, 3, 33, 94, 57, 189, 15, 10], [62, 55, 19, 1355, 6974, 629, 1, 100, 3, 2188, 6975, 8, 4, 859, 212], [171, 12, 13, 445, 573, 1207, 143, 6976, 13, 99, 33, 32, 870, 44, 237, 142, 13, 245, 25, 1418, 105, 17, 239, 642, 6977], [98, 11, 66, 47, 477, 19, 65, 456, 40, 177, 1, 1029, 7, 1777, 11, 1404, 18, 5, 138, 231, 5, 6978, 24, 14, 1242, 508, 6979, 1, 175, 3], [111, 19, 484, 32, 4, 497, 2, 1067], [101, 86, 2186, 144, 11, 1208], [1, 77, 595, 1, 294, 48, 202], [1496, 12, 995, 995, 12, 1226, 1226, 12, 308, 308, 12, 6, 24, 6, 12, 10, 71, 2033, 2, 53, 38, 266, 1617, 10, 35, 6, 55, 10, 35, 6, 31, 85, 122, 6, 81, 1139, 8, 2209, 20, 6, 77, 110, 122, 2, 918, 162, 6, 81, 746, 20, 242, 44, 1980, 6980, 6, 216, 1980, 9, 4029, 363, 2, 1803, 6, 271, 14], [492, 47, 96, 917, 5, 63, 15, 1569, 1550], [38, 155, 889, 9, 842, 534, 666, 2, 1337, 38, 155, 8, 22, 71, 472, 2, 1952, 64, 191, 130, 1505, 1335, 423, 362, 2512, 2513, 2514, 2067], [1, 213, 55, 4, 2419, 328, 1, 197, 647, 906, 13, 453, 7, 1209, 495, 1568, 3, 8, 458], [37, 3363, 1, 33, 59, 86, 18, 5, 138], [336, 69, 585, 701, 63, 39, 214, 36, 498, 43, 7, 373, 45, 107, 29], [2451, 15, 6981, 802, 1745, 277, 1007, 63, 12, 6982, 215, 7, 5, 262, 215, 9, 1172, 12, 2192, 63, 57, 177, 197, 709], [291, 109, 25, 931], [141, 412, 6983], [370, 70, 10, 45, 255, 85, 28, 781, 7, 93, 893, 76, 77, 956, 2, 31, 5, 1229, 12, 10], [2625, 152, 762, 422, 89, 69, 165, 4030, 6984, 6985, 230, 134, 6986, 24, 69, 165, 203, 80], [57, 37, 6987, 4031], [61, 467, 33, 219, 32, 192, 53, 5, 286], [4, 1262, 273, 12, 691, 62, 25, 4032, 2, 1416, 188, 753, 34, 38, 672, 746], [50, 198, 196, 6, 86, 352, 2053, 15, 86, 845], [57, 177, 11, 118, 16, 4, 124, 170, 2484, 65], [115, 1681, 10, 12, 75, 65, 26, 61, 3242, 3, 579, 5, 143], [6988, 40, 9, 840, 2210, 35, 6, 1861, 11, 6989, 398, 2210, 10, 85, 35, 6, 31, 162, 6, 81, 1262, 275, 6, 81, 6990, 426, 6, 81, 23, 670, 1512, 277, 1832, 6], [62, 50, 35, 1677, 1862, 482, 10, 6, 795, 169, 1053], [1215, 1058, 1146, 1922, 6991, 20, 6992, 3176, 20, 6993, 6994, 20, 6995, 6996, 37, 122, 1922, 1423, 20, 724, 4, 492, 2703, 6997, 36, 1442], [3, 223, 599, 40, 403, 26, 489], [182, 1500, 231, 102, 6998, 3, 27, 167], [168, 1, 77, 13, 1856], [1996, 235, 208, 2267, 50], [59, 2, 1257, 719, 28, 1376, 1339, 14, 86], [90, 90, 62, 57, 45, 21, 3, 72], [1, 27, 134, 6999, 12, 3, 2761], [98, 62, 949, 27, 6, 135, 10, 4, 599, 976, 377], [132, 211, 448, 277, 211, 3, 8, 4, 1594, 1, 273, 3, 211, 159, 19, 1272, 212, 3, 196, 10, 13, 4025, 2185], [37, 24, 3, 253, 10, 3, 211, 72, 202, 3, 58, 2544], [69, 758, 7000, 51, 69, 4033, 10, 69, 172, 32, 229, 7, 7001, 1421, 10, 7, 56, 1, 287, 385, 4, 331, 46, 129], [754, 171, 2, 4, 57, 269, 6, 16, 187, 5, 852, 462, 471, 149, 20, 126, 9, 438, 36, 17, 7002, 22, 64, 518, 238, 646, 389, 544, 376], [30, 232, 433, 12, 127, 1426, 2, 32, 8, 5, 1748], [291, 30, 83, 313, 1197, 460, 11, 1268, 11, 2146, 3357, 1703, 135, 10, 4, 1513], [811, 3994, 21, 3, 2154, 5, 430], [23, 6, 223, 31, 4034, 962], [1, 33, 71, 169, 2, 13, 661, 29, 3, 321, 42, 41, 494, 238, 117], [7003, 7004, 29, 3, 68, 4, 103, 193, 1863, 562, 113, 2828, 34, 1864, 49, 395, 2, 102, 99, 735, 49, 453, 49, 739, 91, 26, 17, 707], [4035, 4036, 28, 2437, 9, 19, 660, 18, 866, 963, 217, 4037, 963, 76, 4038, 50], [50, 56, 1, 59, 89, 205, 6, 28, 4039], [224, 9, 164, 1, 294, 478, 2, 97, 3, 102, 15, 40, 224, 9, 164, 30, 23, 1072, 34, 3, 7, 18, 4040, 74, 15, 229], [7005, 7006, 7007, 4041], [90, 396, 27, 3, 359, 163, 10, 28, 5, 7008, 18, 4042, 14, 142, 32, 156, 18, 5, 138], [3, 16, 122, 103, 2562, 105, 17, 3433], [1806, 121, 59, 2, 3733, 13, 611, 2621, 2, 134, 169, 7009, 7, 11, 247, 2, 135, 3, 1041, 7, 3295, 227, 57, 117], [36, 616, 1285, 58, 6, 4, 7010, 25, 7011, 40, 63], [394, 4, 337], [1357, 78, 6, 341, 2530, 3984, 43, 18, 13, 174, 826, 35, 6, 16, 2, 553, 9, 260, 7, 30, 7012, 95, 151, 52, 1, 4043], [176, 13, 156, 52, 2065, 4024, 1, 4044, 435, 30, 796, 2, 32, 4, 7013], [62, 4, 124, 65, 29, 16, 549, 4, 606, 75], [52, 711, 8, 1912], [2188, 145, 794, 4, 300, 60, 684, 1439, 18, 42, 531, 41, 42, 41, 447, 122, 210, 492, 393, 982, 20, 982, 2763, 644, 162, 492, 339, 1, 60, 647, 45, 5, 1569, 614, 222, 44, 2163, 1, 60, 2189, 216, 2764, 1, 60, 913, 2765, 275, 297, 1440, 1, 234, 20, 145, 624, 411, 307, 1122, 39, 234, 20, 353, 455, 2766, 39, 234, 20, 4, 1359, 982, 1804, 145, 1441, 1021, 1429, 14, 91, 34, 807, 35, 6, 81, 1850], [7014, 9, 64, 12, 768, 1, 33, 1563, 205, 12, 199, 37, 1699, 12, 129], [1, 580, 144, 11, 1517, 814, 670, 1, 514, 91, 140, 63, 29, 109, 77, 2, 235], [120, 3, 208, 198, 58, 428, 12, 4, 332, 5, 901, 1, 7015, 3], [120, 451, 383, 27, 163, 3, 28, 3325], [1406, 1924, 62, 3250, 36, 7016, 19, 40, 9, 38, 143, 23, 9, 14, 179, 180], [107, 21, 36, 528, 14, 438, 2, 401, 85, 1, 16, 42, 41, 1250, 2, 152, 24, 1, 27, 401, 85, 815, 3, 31], [25, 2, 516, 30, 183, 783, 31, 14], [5, 866, 1591, 9, 55, 4, 4045, 504, 46, 11, 297, 783, 609, 156, 76, 14, 465, 7017, 1016, 28, 7018, 7, 3, 16, 2, 94, 4042], [225, 6, 54, 121, 473, 88, 726, 233, 20, 194, 3, 230, 336, 132, 17, 7019, 22, 53, 33, 32, 2077, 736, 275, 3371, 191], [365, 3, 21, 346, 4, 2083, 1587, 365, 17, 2829, 2830, 387, 588, 970, 1731, 306], [11, 1592, 9, 28, 7020, 3989, 39, 48, 12, 5, 7021, 2, 7022, 75, 29, 3, 321], [30, 25, 2831, 475, 277, 279, 2211, 2035, 128, 116, 2, 7023, 4046, 11, 350], [118, 57, 177, 47, 3, 557, 118], [4, 421, 1632, 152, 94, 369, 188, 455, 587, 144, 64, 106, 216, 24, 497, 9, 85, 23, 1, 614, 334, 123, 1, 95, 955], [606, 150, 294, 615, 45, 14, 615, 144, 148, 87, 8, 5, 7024, 15, 606, 150, 95, 1478, 13, 737, 87, 751], [409, 543, 109, 53, 1068, 80, 47, 482, 2433, 993, 1, 580, 2802, 9, 72, 89, 1, 130, 129], [98, 67, 39, 16, 22, 2807, 2832, 88, 660, 172, 32, 124, 20, 136, 6, 35, 6, 1948, 59, 43], [593, 1653, 828, 1077, 7025, 21, 444, 2, 342, 4, 2937, 468, 35, 3, 7026, 4, 940, 105, 17, 1464, 1654, 126, 400, 7027, 1465, 1003, 1466], [40, 157, 9, 49, 848, 2, 5, 103, 3988, 911, 941, 600, 2, 650, 46, 40, 233, 91, 84, 677, 191, 268, 64], [36, 29, 52, 357, 9, 2098, 12, 3], [7028, 7029, 7030, 12, 6, 70, 3864, 7031], [84, 578, 644, 608, 1, 356, 16, 1628, 11, 2072, 1292, 2, 282, 1, 221, 32, 2155, 7032, 464, 35, 1, 31, 75, 133, 17, 30, 25, 7033, 18, 968], [7034, 32, 1516, 24, 93, 29, 52, 1, 16, 2], [161, 7035, 23, 116, 1, 172, 152, 1000, 71, 6, 4, 4026, 7036, 7037, 116, 320, 15, 7038, 7039, 9, 7040, 25, 7041, 210, 1579, 404, 7042], [4047, 130, 919, 7043, 7044, 7045, 307, 284, 122, 7046, 20, 7047, 162, 7048, 44, 7049, 216, 7050, 275, 7051, 307, 7052, 4047, 307, 284, 42, 41, 7053, 7054, 7055, 206, 776, 7056, 7057, 57, 636, 7058, 7059, 7060, 122, 7061, 7062, 7063, 7064, 7065, 7066, 42, 41, 519, 95, 7067], [98, 750, 1, 298, 28, 162, 29, 6, 122, 20, 205, 10, 43, 26, 163, 10, 70, 85, 18, 40, 143, 404, 949, 377], [635, 4, 222, 12, 10, 8, 13, 308, 7, 25, 8, 13, 321, 74, 5, 321, 4048, 3660, 24, 5, 308, 33, 232, 381, 270, 3, 139, 1110, 65], [24, 30, 2139, 96, 83, 27, 336, 156, 80], [688, 109, 246, 163, 28, 2131, 173, 10, 28, 2131, 22, 30, 25, 551, 87], [98, 750, 47, 60, 147, 112, 6, 31, 360, 1173, 7068, 7069, 2, 13, 730, 53, 177, 1, 137, 4, 158, 57, 63, 174, 117, 161, 560, 51, 219, 24, 17, 10, 35, 6, 27], [1, 54, 3, 21, 3925, 1, 590, 52, 21, 3, 159, 22], [605, 3129, 850, 25, 8, 3722, 347, 7070, 58, 3237, 435, 35, 7071, 146, 286, 1793, 398, 39, 499, 16, 2, 94, 14], [119, 7072, 19, 2760, 2, 10, 8, 7073, 383, 303, 7074, 14, 8, 2040, 45, 62, 51], [49, 157, 1523, 13, 534, 49, 70, 495, 76, 1165, 2, 40, 157, 34, 5, 331, 49, 12, 1036, 1716, 759, 154, 3119, 209], [1, 54, 708, 232, 944, 7, 4049, 54, 1, 58, 14, 432, 429, 3, 57, 117], [37, 1102, 123, 1393, 1919, 234, 111, 16, 4, 7075, 415, 28, 7076], [30, 2639, 7, 7077, 1069, 1895], [3857, 465, 39, 21, 51, 148], [869, 101, 422, 1, 1217, 136, 38, 130, 25, 631, 148, 323, 10, 380, 390, 22, 6, 83, 8, 411], [319, 161, 156, 76, 319, 147], [50, 750, 1, 7078, 14, 60, 50, 1, 36, 516, 128, 116, 1, 16, 2, 29, 110, 1054, 283, 11, 814, 7, 56, 16, 2, 7079, 200, 24, 3, 27, 17, 10, 67, 671], [96, 165, 825, 29, 6, 321, 35, 1, 48, 360, 5, 1371, 12, 4, 646, 825, 2173, 1, 1843, 8, 4, 500, 1434, 96, 480, 51, 216, 2174, 2175, 721, 4, 1332, 89, 11, 492], [1, 732, 503, 465, 1, 1844, 19, 283, 7, 510, 19, 62, 519, 37, 632, 7080, 115, 17, 5, 7081, 26, 71, 4, 470, 2, 169], [760, 499, 217, 46, 147], [605, 23, 729, 349, 513, 6, 514, 616, 3968], [52, 143, 29, 6, 299, 28, 9, 14, 703], [37, 39, 454, 816, 307, 306, 4, 114, 7, 1010, 7082, 1, 100, 39, 77, 2, 290, 8, 110, 4050, 7083, 23, 107, 54, 546, 2281], [4051, 33, 2565, 341, 3191, 69, 9, 635, 7084], [71, 10, 7085, 143, 115], [47, 116, 14, 33, 366, 3293, 238, 345], [50, 5, 2307, 552, 45, 21, 109, 72, 2, 536, 1, 100, 144, 18, 1678, 265, 595, 273, 326, 48, 51, 34, 4052, 24, 96, 1519, 49], [3, 21, 309, 1701, 76, 88, 726, 233, 76, 225, 3, 54, 2, 167, 51, 132, 14, 9, 17, 46, 4, 657, 312, 7086, 4053], [240, 267, 16, 129, 135, 10, 4, 17, 35, 69, 992, 52, 69, 585, 26, 121, 102, 1013], [101, 58, 4, 229, 355, 546, 18, 5, 138], [56, 6, 48, 85, 1111, 80], [1, 61, 28, 5, 866, 1591, 48, 67], [90, 35, 6, 540, 43, 36, 59, 2, 11, 78], [168, 1, 66, 3, 3982, 13, 424, 8, 1947], [55, 1, 490, 129, 1935, 43, 45, 39, 211, 2831, 8, 88, 2338, 315, 75, 63, 14, 60, 621], [83, 1, 16, 25, 1844, 14, 86], [3, 33, 48, 2, 2564, 1, 391, 539], [1, 550, 4054, 3, 1, 356, 16, 4, 846, 1312, 2, 71, 3, 150, 90, 1, 66, 226, 128], [119, 124, 1, 391, 1099, 129, 133, 23, 19, 39, 27, 282], [4055, 9, 4056, 19, 9, 25, 4057], [1546, 848, 2236, 6, 1088, 3113, 1722, 200], [37, 351, 407, 9, 40, 9, 4, 57, 63, 2, 282, 1, 393, 7, 402, 4, 157], [119, 9, 14, 224, 1577], [101, 1, 230, 94, 13, 17, 156, 22, 14, 23, 1442, 19, 67, 81, 4058, 29, 140, 3, 68, 96, 27, 59, 7, 303, 31, 104, 1257, 1336, 7, 1703, 32, 486, 2, 1854, 7, 16, 2212, 189, 30, 842, 406, 12, 5, 156, 1257, 1336, 12, 104, 23, 36, 135, 10, 530, 743, 177, 310, 45, 1, 391, 82, 5, 2699, 330, 19, 27, 1693, 10, 2, 5, 156, 1336], [28, 52, 63, 21, 3, 258], [17, 129, 7, 152, 3, 25, 258, 87, 50, 7, 97, 169, 25, 2, 2537, 10, 55, 40, 50], [1, 7087, 7088, 11, 418, 752, 27, 109, 31, 14, 837, 129], [81, 6, 183, 7089, 862, 19, 942, 57, 1375, 36, 137, 4, 7090], [4059, 622, 9, 7091, 4, 65], [50, 25, 4, 351, 33, 31, 169, 4, 3015, 136, 7092, 150, 7, 1239, 18, 1239, 100, 39, 81, 53, 72, 2, 5, 1168], [7093, 407, 7094, 145, 7095, 7096, 609, 7097, 7098], [1, 95, 526, 504, 851, 6, 1, 622, 1061, 170, 14, 3856, 10, 19, 6, 95, 189, 428, 2, 84, 10], [101, 1, 496, 13, 17, 1788, 282, 45, 3, 16, 5, 63, 30, 18, 7099], [105, 2064, 5, 113], [3, 64, 1832, 10, 3, 27, 17, 102, 24, 3, 440, 1681, 218, 4, 1224, 17, 15, 694, 26, 218, 3, 4033], [37, 495, 18, 104, 113, 30, 1609, 14, 22], [27, 30, 49], [319, 11, 568, 58, 7100, 3, 83, 7101, 43], [1, 61, 251, 12, 13, 17, 339], [120, 52, 21, 3, 159, 289, 37, 91, 432], [120, 4060, 9, 1530, 316, 83, 18], [101, 198, 25, 710, 2, 19, 222, 1, 391, 29, 23, 150, 158, 101], [479, 15, 5, 7102, 45, 1, 95, 181, 3, 2210, 10, 144, 23, 1, 95, 685, 360, 7103], [150, 1, 61, 25, 72, 2, 1616, 23, 1, 27, 59, 1573, 6, 17, 10, 97, 10, 125, 7, 45, 2, 59, 150], [7, 22, 3701, 36, 234, 51, 1895], [1374, 55, 3, 684, 190, 2, 29, 249, 329, 680, 124, 317], [182, 4002, 1069, 820, 820], [], [57, 7104, 11, 66, 47, 21, 87, 1, 123, 13, 57, 7, 383, 16, 110, 7105, 1, 503, 7, 175, 3, 168, 4, 1990, 413, 46, 1040, 5, 809], [291, 1289, 596, 140, 6, 158, 659, 136, 146, 130, 1, 196, 1365], [769, 19, 373, 7106], [118, 1178, 96, 393, 10, 22], [36, 616, 450, 3, 1625], [877, 44, 2977, 2049, 280, 26, 1049, 462, 155, 716, 13, 186, 493, 7107, 22, 46, 387, 25, 2, 728, 51, 7108], [111, 1, 796, 74, 7109, 2, 11, 4061, 117, 15, 202], [90, 484, 536, 4, 25, 605, 23, 72, 12, 1331, 2212, 18, 773], [49, 130, 39, 2833, 13, 99, 143, 76, 1208, 46, 7110, 7111, 105, 17, 7112, 2, 16, 1714, 7113, 40, 17, 33, 32, 49, 46, 4, 389, 387], [50, 27], [993, 61, 28, 11, 2427, 8, 7114, 293, 725, 85, 613, 82, 3, 219, 254], [23, 6, 1227, 7115, 7116], [262, 74, 1489, 7117, 8, 446, 552], [811, 336, 107, 575, 58, 7118], [105, 17, 7119, 1021, 74, 67, 9, 127, 186, 157, 251, 12, 3], [30, 8, 4, 316, 17, 10, 131, 28], [52, 81, 6, 2189, 10, 12, 344], [50, 394], [7120, 13, 425, 60, 2, 48, 7121, 217, 2, 2682, 34, 10, 449, 4, 189, 8, 5, 375, 23, 1, 16, 2, 299, 34, 13, 4062, 334, 65], [56, 1, 201], [186, 13, 99, 143, 121, 106, 346, 34, 4, 618, 589, 826, 149, 17, 7122, 46, 657, 312, 506, 674, 64], [7123, 19, 60, 23, 1215, 637], [14, 64, 382, 693, 7124, 25, 7125], [153, 39, 1860, 235, 12, 127, 441, 28, 863, 431, 44, 971], [74, 4, 927, 239, 1, 61, 1455, 2, 2252, 3, 19, 1290, 2253, 1456, 15, 13, 512, 37, 3, 21, 346, 34, 4, 2254, 589, 149, 17, 2901], [171, 1263, 16, 4, 124, 65], [7126, 1857, 7127, 1186, 8, 166, 62, 923, 2, 1068, 786, 767, 4, 2710, 19, 1113, 4, 295, 26, 5, 1052, 19, 1113, 4, 1436], [57, 117, 11, 118, 3735, 170, 94, 189], [56, 109, 151, 457, 2, 205, 109, 43, 323, 252, 246, 20, 539, 459, 275, 1118], [354, 7128, 52, 43], [120, 7129, 301, 7130, 53, 20, 7131, 7132, 15, 7133, 4063, 2055, 20, 6, 1533], [606, 1052, 1396, 2515, 802, 2516, 88, 308, 1142, 803, 45, 225, 9, 8, 14, 24, 14, 1142, 178, 1575, 45, 225, 1101, 14, 751], [29, 3, 68, 4, 103, 193, 1863, 562, 113, 2828, 34, 1864, 49, 395, 2, 102, 99, 735, 49, 453, 49, 739, 91, 26, 17, 707], [786, 19, 258, 192, 5, 2207, 9, 14, 4, 7134, 123, 3, 16, 4, 124, 65, 248, 81, 72, 267, 108, 572, 461], [1607, 981, 9, 1059, 56, 1059, 9, 5, 15, 1607, 981, 35, 6, 912, 2834, 3, 501, 42, 41, 1888, 2033, 204, 4064, 561, 271, 2, 619], [64, 369, 56, 160, 303, 7135, 53, 566], [37, 96, 440, 1, 33, 673, 541, 7, 181, 3, 54], [125, 29, 3, 77, 2, 48, 2, 31, 14], [37, 700, 105, 509, 71], [69, 2790, 4, 2791, 3920, 2792], [7136, 1519, 313, 1873, 552, 399, 45, 3769, 1066], [24, 1, 529, 2805, 1383, 58, 55, 44, 4065], [166, 121, 294, 106, 40, 116, 415, 7, 124, 459, 3, 480, 8, 3, 490, 14, 1899, 288, 12, 10, 1, 565, 668, 3, 322, 75, 2357, 247], [29, 3, 68, 4, 103, 361, 113, 7137, 723, 102, 427, 278, 7138, 1839, 361, 464, 7, 2697, 216, 238, 114, 49, 7139, 17, 3274, 26, 91, 22], [74, 4, 927, 239, 1, 61, 1455, 2, 2252, 3, 19, 1290, 2253, 1456, 15, 13, 512, 37, 3, 21, 346, 34, 4, 2254, 589, 149, 17, 7140], [848, 105, 91, 34, 13, 830, 7, 3734, 2, 1660, 146, 502, 7141], [771, 122, 345, 799, 49, 464, 1523, 7142, 73, 17, 2, 37, 7143, 7144, 335, 799, 464, 250, 7145, 84, 73, 84, 7146], [137, 13, 99, 419, 1865, 523, 2, 352, 443, 365, 361, 898, 12, 49, 998, 7147, 34, 49, 453, 403, 464, 70, 141, 12, 4, 2835, 7148, 2, 692, 51], [61, 103, 20, 600, 92, 7149, 39, 961, 263, 33, 180, 645, 20, 136, 6, 105, 235, 130, 1108, 1202, 38, 859, 7150, 91, 7151, 7152, 254, 1797, 7153, 7154], [519, 62, 2098, 34, 104, 108], [183, 24, 465, 11, 886, 33, 32, 437, 18, 1239, 1, 95, 158, 77, 4, 1412, 683], [256, 467, 87, 403, 422], [98, 750, 112, 7155, 10, 161, 7156, 35, 7157, 244], [1, 95, 54, 7158, 350, 79, 184, 26, 868, 152, 151, 190, 7159, 24, 35, 3, 68, 3, 27, 7160, 19, 1, 112, 7, 36, 70, 10, 696, 8, 2794, 2, 5, 7161], [789, 232, 106, 5, 7162, 75], [153, 35, 39, 29, 16, 2, 31, 4, 1624, 538, 39, 77, 2, 579, 88, 772, 2260, 2, 816, 42, 41, 307, 294, 1010, 36, 2, 32, 944], [365, 3, 21, 346, 4, 2083, 1587, 365, 17, 2829, 2830, 387, 588, 970, 1731, 306], [840, 9, 127, 7163, 19, 9, 7164, 74, 4, 7165, 15, 38, 7166, 4066, 7167, 170, 7168, 16, 127, 3494, 840], [883, 3, 2775, 15, 2289, 7, 908, 29, 16, 4, 645, 452], [98, 750, 1, 7169, 7170, 74, 7171, 7172, 10, 7173, 4, 1940, 45, 21, 6, 49, 7174], [35, 847, 185, 26, 7175, 1887, 513, 40, 9, 2341], [56, 52, 79, 1957, 425], [62, 57, 2, 385, 46, 3], [621, 47, 29, 1, 1089, 34, 5, 7176, 3318, 253, 10, 174, 117, 24, 3691, 153], [52, 63, 3, 1156, 15, 560], [31, 4, 49, 99, 361, 782, 49, 570, 2, 472, 70, 48, 2, 7177, 62, 49, 916, 2825, 27, 32, 2144, 1231, 7, 634, 414, 268, 1250, 64], [998, 215, 18, 2836, 7178, 28, 154, 7179, 7180, 281, 241, 724, 46, 4, 3314, 1943, 34, 544, 588, 2138, 2, 3, 76, 7181], [13, 7182, 9, 437, 267, 5, 2753, 15, 7183, 9, 182, 7184, 24, 83, 2586, 7185, 9, 2734, 1, 33, 59, 208, 7186, 2081], [141, 24, 1, 95, 189, 640, 1, 54, 62, 67], [3843, 3844, 3845, 3846, 1831, 2761, 3847, 3848, 942, 3849, 3850, 3851, 3852], [1147, 688, 80, 256, 286, 9, 1125, 89, 658, 553, 1274, 962, 532, 688, 1346, 18, 1847, 954, 324, 7187, 26, 1794, 553, 398, 224, 6, 2729], [1157, 545, 327, 2, 29, 80, 6, 422, 572, 690, 147], [62, 42, 41, 90, 108, 119, 142, 1, 71, 78, 12, 1252], [101, 470], [226, 36, 777, 482, 1150, 2779], [141, 39, 211, 761, 12, 55, 20, 587, 7, 1, 393, 11, 778, 607, 2, 503, 169, 43, 640, 14, 639, 28, 122, 61], [915, 36, 58, 2213, 285], [3969, 277, 21, 7188, 5, 7189, 1746, 12, 7190, 15, 7191, 16, 3, 357, 7192, 7193, 38, 2820, 12, 5, 7194, 7195, 15, 7196, 14, 9, 178, 7197, 1, 100, 14, 9, 7198, 7199, 38, 1220, 7200], [37, 77, 323, 354, 3549, 146, 113, 689, 409, 427, 25, 658, 1, 264, 10, 251, 44, 11, 681, 20, 298, 2078, 23, 1, 27, 1008, 236, 1099, 6, 340, 6, 2164, 38, 367], [50, 1, 391, 29, 3, 156, 131], [691, 3800, 118, 811, 118, 6, 81, 25, 1119, 24, 1, 27, 385, 92, 31, 2237, 299, 34, 2747, 37, 133, 1436, 6, 81, 232, 11, 118, 257, 785], [16, 13, 314, 7, 59, 2365, 7, 678, 5, 1229], [25, 977, 46, 3782, 4, 475, 17, 10, 22, 61, 108, 53, 117, 34, 36, 11, 7201, 18, 134, 10, 3751, 12, 14, 55, 6, 112, 174, 63, 7202, 671, 404, 7203, 524], [1, 61, 85, 293, 302, 173, 15, 2837, 18, 7204, 137, 2, 7205, 895, 7206, 1, 137, 4, 1850, 403, 171, 378, 219, 679, 15, 66], [90, 1, 1697, 1698, 340, 410, 39, 27, 48, 44, 1273, 7207, 75, 851, 419, 2, 162, 398, 1308, 2, 3728, 44, 3729, 731, 27, 48, 1275, 851, 4067, 2, 20, 398, 1308, 2, 7208, 1092, 44, 2166, 1308, 28, 44], [4068, 157, 2395, 7209, 164, 203, 414, 12, 13, 1364, 4068, 209], [1, 61, 7210, 4, 1532, 8, 5, 1095, 7, 4, 2179, 8, 5, 2260, 9, 19, 3], [11, 113], [256, 3761, 111, 1, 684, 5, 3842, 7, 4069, 2068], [396, 456, 19, 36, 29, 696, 29, 167, 127, 1426, 2, 32, 8, 1249, 28, 110, 817, 202, 1391, 461], [186, 39, 21, 292, 2, 194, 6, 593, 290, 348, 19, 3, 16, 187, 4, 1143, 149, 276, 17, 3335, 46, 657, 312, 126, 3336, 2519, 64], [1551, 791, 176, 1, 496, 88, 1168, 568, 174, 114], [53, 65, 437, 65, 1602, 776, 7, 773], [1704, 125, 21, 3, 118], [308, 9, 1062, 449, 66, 321, 9, 1062, 449, 2838, 1133, 81, 1062, 449, 611, 170, 166, 9, 1062, 449, 876, 23, 2550, 32, 8, 682, 57, 117, 170, 368, 611], [1, 100, 1637, 251, 12, 5, 262, 430, 2214, 10, 45, 3, 31, 67, 35, 3, 357, 31, 67], [3, 259, 85, 102, 63, 219], [431, 248, 36, 4, 1164, 561], [117, 121, 1494, 12, 334, 65, 177, 121, 59, 8, 4, 288, 138, 265, 3, 295, 55, 5, 1495, 1675, 7, 1101, 13, 1102, 28, 5, 800, 800, 1933, 257, 947], [1, 27, 374, 59, 76, 3757, 260, 208, 42, 41, 156], [1, 58, 14, 202, 5, 103, 274, 173, 1906, 165, 96, 478, 2, 979, 3, 34, 14, 24, 45, 1, 440, 82, 215, 1, 2494, 14, 1389, 1391, 202, 5, 42, 41, 65, 1333, 2362, 1494], [1, 27, 151, 208, 24, 463, 25, 4, 337, 8, 1036, 15, 3789, 43, 108], [32, 183, 2, 325, 13, 1212, 661, 39, 196, 1771, 525], [52, 60, 96, 433, 12], [7211, 11, 718], [29, 3, 68, 4, 103, 361, 7212, 723, 102, 427, 278, 1126, 70, 12, 64, 1564, 666, 238, 114, 17, 3409, 22, 26, 91, 12, 588, 150], [261, 11, 66, 47, 477, 19, 65, 1, 270, 13, 111, 7, 267, 168, 7, 123, 19, 3, 167, 110, 317, 2627, 1, 175, 3, 718, 4, 1560, 413], [97, 11, 399, 1524, 224, 6, 1012, 1861, 8, 10, 93, 271, 2, 579, 8, 42, 41, 1, 391, 1243, 1526, 20, 11, 103, 274, 7213, 251, 12, 38, 91, 32, 7214, 57, 177], [37, 1, 58, 3579, 19, 3, 72, 2, 201, 1652, 8, 768], [153, 374, 815, 329, 19], [579, 2951, 7215, 971], [30, 182, 480, 2, 367], [605, 24, 1, 58, 667, 28, 44, 543, 89, 1, 60, 1156, 15, 72, 2, 558, 815, 89, 1, 580, 15, 7216, 28, 4070, 4071], [1, 33, 405, 411, 208, 42, 531, 41, 170, 11, 99, 16, 351, 3, 2839, 31, 11, 1032, 23, 17, 3, 7217, 93, 49], [301, 70, 10, 45, 3, 656, 51], [3, 21, 309, 1701, 76, 88, 726, 233, 76, 225, 3, 54, 2, 167, 51, 132, 14, 9, 17, 46, 4, 657, 312, 7218, 4053], [4072, 185, 4, 163, 1764, 34, 4073, 44, 6, 26, 4, 4074, 107, 21, 842, 18, 52, 1594, 122, 4075, 20, 4076, 162, 4077, 70, 122, 20, 26, 162, 2, 4078, 366, 1225, 925, 70], [139, 434, 265, 6, 167, 38, 4079, 7219, 219, 89, 236, 147, 128, 745], [119, 5, 2002, 9, 313, 4, 293, 15, 4, 816, 24, 14, 738, 7220, 102, 1412, 601, 23, 144, 374, 207, 59, 207, 7221], [3, 165, 2, 10, 202, 1, 234, 85, 2, 386, 19, 3, 221, 227, 12, 184], [1, 123, 3, 7222, 1768, 217, 24, 574, 172, 158, 55, 2, 82, 3, 150, 66, 10, 7223], [7224, 7225, 209, 788, 15, 4080, 1858, 1402, 201, 4081, 205, 12, 88, 2698, 43, 192, 1864, 4082, 2840, 4083, 19, 9, 4, 216, 1123, 238], [483, 5, 42, 41, 274, 591, 34, 4, 300, 7, 215, 30, 231, 2, 11, 174, 42, 41, 83, 251, 12, 19, 325], [1, 33, 59, 2, 38, 78, 22], [49, 102, 65, 24, 1, 298, 28, 275, 18, 1147, 89, 1859], [33, 3, 32, 108, 12, 553], [166, 7226, 7227, 7228, 2873, 3247, 7229], [555], [442, 7230, 15, 301, 166, 622], [365, 358, 57, 419, 7231, 7232, 7233, 7, 7234, 7235, 16, 4, 861, 280, 32, 944, 7, 1, 123, 3, 501, 4, 57, 1967, 139, 103, 274, 2, 3, 575, 82, 3, 8, 4, 846, 15, 764], [98, 3249, 7236, 50, 36, 478, 20, 244, 595, 2310, 2029, 20, 6, 44, 4, 302, 63, 123, 38, 1060, 1406, 16, 57, 3550, 28, 7237, 66, 226, 61, 254], [1, 36, 510, 2625, 7238, 7239, 4, 816, 2693, 23, 153], [30, 1581, 3, 21, 8, 5, 215, 4084], [148, 75, 521, 699, 3], [2284, 15, 4085, 1251, 8, 7240, 719], [1, 232, 244, 34, 3, 8, 1058, 1, 77, 215, 27, 3, 2074, 10], [30, 317, 7241, 1242, 55, 7242], [111, 1, 60, 79, 2, 135, 43, 173, 107, 53, 165, 37, 107, 4086, 29, 75, 7243, 1, 7244, 7, 684, 75, 24, 14, 9, 178, 1125, 23, 1, 2276, 8, 1683, 14, 9, 36, 1017, 2, 227, 1519, 14], [23, 3, 100, 1, 142, 396, 282, 2, 129, 25, 17, 210, 1460, 8, 5, 177, 1, 234, 2, 40, 222, 174, 274, 7, 69, 253, 10, 125, 1, 214, 48, 7, 31, 11, 315, 1201, 1766, 69, 1287, 777, 10, 87, 47, 116, 69, 3904, 1, 172, 59, 85, 8, 47, 69, 232, 7245, 25, 259, 11, 143, 820], [21, 3, 1508, 2, 48, 12, 2568, 285], [1942, 51, 34, 11, 665, 7, 210, 607], [37, 14, 33, 405, 76, 426, 64, 96, 777, 96, 33, 32, 67, 1, 92, 54], [120, 21, 3, 72, 2, 1999, 219, 2238, 7, 1, 437, 547, 318, 15, 5, 345], [161, 101, 757, 174, 555, 14, 7246, 38, 1205, 14, 60, 10, 7247, 14, 60, 7248, 26, 4087, 6, 7249, 10, 1, 100, 6, 7250], [271, 659, 814], [153, 7251, 763, 116, 32, 5, 286, 794, 7252], [1, 25, 49, 87, 1, 529, 20, 205, 11, 886, 43, 1014], [120, 168, 725, 20, 7253, 51, 20, 2055, 28, 86, 1256, 1091, 20, 86, 7254, 106, 647, 18, 86, 1272, 53, 65], [142, 1, 71, 3, 1280, 1433], [3, 21, 4, 384, 734, 26, 276, 826, 149, 40, 9, 88, 633, 520, 2, 194, 3, 2, 126, 17, 7255, 22, 7256], [471, 103, 517, 626, 999, 21, 22, 18, 1252, 46, 5, 600, 1399, 5, 65, 46, 1293, 547, 3865, 7, 18, 1859, 762, 410, 117, 40, 114, 1382, 1827, 729], [1641, 259, 127, 1345, 121, 2, 235, 25, 302, 160, 426, 27, 3, 31, 108, 8, 55, 127, 441], [2016, 2, 32, 7257, 188, 117], [396, 11, 99, 9, 602, 15, 130, 7, 1, 436, 159, 4, 147, 541, 125, 1, 77, 2, 71, 169, 42, 41, 196, 130, 1, 648, 2018, 6, 131], [101, 93, 17, 131], [57, 452, 47, 21, 3], [30, 28, 78, 105, 17], [2378, 173, 10, 89, 11, 681, 58, 37, 314, 87, 11, 457, 234, 51, 23, 409, 1847, 20, 324, 8, 558, 26, 140], [3888, 14, 60, 3598, 57, 2, 503, 2, 13, 563, 40, 177, 11, 66, 2675, 456, 1, 66, 3, 128, 11, 4088, 4089, 413, 46, 1040, 5, 809], [39, 21, 1455, 2, 2214, 19, 13, 3331, 12, 4090, 7258, 9, 4091, 2968, 13, 7259, 33, 598, 970, 162, 306], [52, 598, 118, 164, 3, 1121, 1, 61, 7260], [93, 31, 67, 28, 162, 1105, 3, 359, 68, 10, 2, 59, 110, 63, 1878], [35, 3, 21, 25, 7261, 56, 62, 327], [252, 59, 42, 1318, 89, 875, 2, 10, 323], [30, 146, 330, 1429, 159, 146, 247, 3410], [176, 50, 303, 271, 2, 71, 32, 7262, 7263, 9, 1091, 965, 783, 2841, 31, 14, 150], [429, 3, 163, 3, 968], [23, 9, 900, 7264, 814, 224, 9, 125, 1, 61, 47, 81, 6, 300, 53, 9, 57, 8, 2231, 303, 180, 85, 7265, 136, 6, 40, 335, 132, 60, 5, 130, 44, 2842, 1624], [1114, 784, 7266, 31, 7267, 15, 3333, 2825, 377, 695, 18, 784, 113, 22, 1170, 7268, 2, 4092, 7269, 714, 7270, 7271, 7272, 7273, 238, 216, 306, 7274, 1261], [1224, 312, 34, 4, 341, 1599, 175, 184, 44, 38, 286, 166, 24], [1, 58, 55, 42, 41, 1, 27, 31, 110, 133, 131, 461, 31, 696, 3, 213, 55], [457, 478, 2, 282, 79, 5, 1652, 23, 1, 58, 4, 229, 355, 1356, 22], [1, 66, 3, 575, 128], [176, 6, 83, 557, 1066], [1217, 1, 97, 6, 354, 22, 7275], [61, 43, 2, 11, 1133, 8, 2669], [46, 206, 345, 31, 2159, 237, 133, 464, 44, 38, 1465, 427, 601, 20, 1523, 17, 7276, 136, 7277, 524, 7278, 1556, 2336, 2337, 366, 343, 237, 195, 7279, 133], [50, 80, 30, 8, 458, 22, 543], [1, 137, 14, 148, 7280, 473, 10, 2, 48], [37, 86, 2079, 72, 2, 282, 8, 4093, 390], [186, 39, 21, 292, 2, 194, 6, 593, 290, 348, 19, 3, 16, 187, 4, 1143, 149, 276, 17, 7281, 46, 657, 312, 126, 7282, 423, 7283], [176, 1, 54, 120, 225, 112, 4, 124, 7284, 15, 7285, 18, 5, 4094, 1, 66, 14], [70, 7286, 2, 2445, 2, 82, 366, 191, 2446, 3676, 268, 377], [83, 320, 67, 35, 3, 673, 745, 3, 33, 31, 14, 181, 16, 4, 271], [664, 1204, 44, 5, 7287, 1385, 9, 22, 7288, 206, 7289, 1385, 9, 7290, 2, 1385, 71, 3884, 146, 502, 419, 2, 1385, 1049, 2, 3887, 57, 864], [29, 3, 232, 2204, 7291, 34, 13, 607], [39, 54, 7292, 4028, 74, 2840, 15, 66, 24, 5, 249, 7293, 7294, 7295, 122, 4095, 60, 7296, 2120, 492, 51, 15, 210, 307, 7297, 20, 7298, 3755, 4096, 2670, 2, 1803, 104, 162, 4095, 1486, 8, 104, 42, 41, 900, 588, 44, 69, 56, 1801, 4096, 755, 561, 7299, 125, 5, 1309, 9, 5, 66, 5, 124, 7300], [62, 50, 59, 2, 11, 78, 14, 1267, 228, 2, 163, 7, 243, 27, 244], [472, 13, 7301, 403, 2, 2005, 1182, 2340, 1355, 1107, 149, 276, 70, 2005, 2, 37, 7302, 154, 7303, 7304, 209], [196, 10, 542, 7305, 12, 7306, 1775, 3635], [662, 267, 3379, 104, 2775], [239, 1327, 372, 5, 103, 3225, 99, 46, 64, 1049, 28, 1552, 73, 331, 355, 2, 37, 2025, 31, 566, 22, 2026, 3226, 792, 191, 3227], [24, 3, 1493, 8, 682, 34, 10], [291, 620, 156, 22, 32, 85, 219], [3, 565, 596, 14, 24, 144, 519, 144, 7307, 896, 91, 502, 22, 2, 1448, 1899, 1857, 248, 19, 33, 4012, 13, 321, 46, 7308, 64, 7309, 73], [153, 183, 93, 235, 8, 4, 195], [7, 29, 3, 16, 102, 75, 19, 27, 1571, 10, 47, 2, 4097, 1852], [5, 1193, 15, 4098, 9, 25, 45, 39, 355, 608, 341, 248, 24, 396, 14, 9, 45, 39, 355, 2094, 959, 248, 16, 4, 228, 452, 894], [153, 2843, 12, 3, 1083, 28, 19, 403], [107, 165, 109, 236, 529, 7310, 26, 705, 55, 349, 26, 109, 499, 71, 2, 11, 661, 338], [7311, 5, 828, 7312, 7, 4017, 531, 592, 56, 12, 5, 3950, 3862, 5, 531, 1770, 55, 1, 7313, 3], [16, 4, 861, 117, 7, 45, 3, 503, 43, 2, 82, 40, 157, 1, 123, 3, 295, 2821, 53, 9, 74, 142, 32, 16, 4, 124, 177], [545, 44, 80], [3, 21, 156, 2051, 431, 845, 7314, 931, 43], [1, 196, 13, 2777, 19, 215, 525, 119], [98, 3661, 3662, 239, 1327, 372, 5, 103, 3663, 99, 46, 64, 1049, 28, 1552, 73, 331, 355, 2, 37, 2025, 31, 566, 22, 2026], [308, 9, 1062, 449, 66, 321, 9, 1062, 449, 2838, 1133, 81, 1062, 449, 611, 170, 166, 9, 1062, 449, 876, 23, 2550, 32, 8, 682, 57, 117, 170, 368, 611], [1, 61, 556, 89, 1322, 7, 1508, 1, 299, 1472, 2, 3, 70, 4, 91, 2, 385, 7315, 85, 46, 10, 191, 238, 130, 1910, 7316, 7317, 91, 84, 2, 318], [88, 1643, 7318, 7319, 25, 128, 242, 15, 448, 7320, 7321, 208, 28, 19, 63, 15, 117], [35, 3, 211, 21, 49, 1, 27, 135, 1141, 3922, 7322, 7323, 7324, 7325], [198, 196, 11, 492, 13, 70, 160, 39, 201, 169, 1703, 97, 3, 52, 2, 29, 23, 36, 1509, 39, 142, 48, 31, 169, 40, 2182], [1, 61, 8, 1913, 1616, 22, 72, 2, 373, 4099, 8, 4, 304, 395], [47, 116, 172, 14, 366, 2, 7326, 4, 7327], [1, 184, 80], [29, 3, 68, 4, 103, 193, 1863, 562, 113, 2095, 150, 34, 2844, 49, 395, 2, 102, 99, 735, 49, 70, 49, 739, 91, 26, 17, 707], [605, 24, 1, 230, 48, 20, 38, 297, 1062, 2326, 156], [57, 177, 412, 139, 103, 274], [754, 789, 187, 255, 4, 734, 8, 88, 2296, 384, 149, 290, 17, 7328, 22, 149, 400, 7329], [370, 603, 656, 51, 8, 4, 304], [56, 140, 81, 6, 159, 22, 572, 460, 147], [1, 54, 3, 1434, 217, 87], [960, 253, 10, 148, 33, 29], [7330, 9, 4100, 5, 7331, 2, 7332, 1055], [30, 25, 183, 1, 60, 36, 936, 51, 52, 60, 1340, 208, 5, 859], [120, 177, 52, 3, 59, 2, 151, 432], [2092, 58, 7333, 51, 174, 555], [19, 513, 3, 58, 127, 4, 8, 7334, 96, 204, 267, 96, 204, 108, 22], [1, 16, 37, 1375, 125, 3, 21], [115, 59, 1164, 230, 7335, 40], [1607, 981, 9, 1059, 56, 1059, 9, 5, 15, 1607, 981, 35, 6, 912, 2834, 3, 501, 42, 41, 1888, 2033, 204, 4064, 561, 271, 2, 619], [17, 10, 1, 436, 1845, 2, 1320, 651, 163, 7336, 7, 1195], [37, 1, 391, 163, 3, 8, 5, 1244], [90, 11, 2558, 182, 585, 4, 2845, 7, 334, 269, 265, 182, 68, 110, 23, 425, 18, 1981, 916, 93, 97, 3, 45, 107, 54, 12, 183], [1346, 18, 3103, 80, 146, 511, 2251, 152, 763, 24, 11, 886, 152, 416, 7337, 6, 7338, 1, 182, 409, 140, 96, 2810], [50, 136, 109, 56], [1, 322, 380, 7, 1757, 2184, 7, 7339, 184, 7340, 7, 3], [27, 3, 105, 151, 2846, 52, 210, 527, 3998, 9, 382, 69, 68, 190, 103, 26, 740, 505, 14, 69, 64, 7341, 8, 5, 2108, 1373, 42, 41, 26, 102, 1266], [101, 196, 2215, 130, 200, 291, 24, 292, 20, 29, 110, 1581, 1086, 22], [120, 325, 14, 86, 1, 16, 7342, 86], [586, 1236, 44, 2479, 2480, 1122, 8, 77, 997, 18, 38, 512, 97, 38, 2481, 73, 245, 1138, 2, 586, 12, 2482, 26, 654, 1138, 12, 1248, 1561, 2483, 2047, 20, 1138], [1, 796, 74, 127, 7343, 46, 10, 12, 1449, 3, 2, 31, 10, 1045, 28, 42, 41, 28, 117], [19, 513, 46, 2105, 2, 1582, 93, 32, 259, 4, 222, 2, 539, 231, 67, 23, 1, 95, 16, 2, 7344, 85, 7, 7345, 1399, 2847, 1833, 74, 1, 16, 465, 11, 755, 2807, 504, 46, 7346], [560, 2, 7347, 80, 945, 728, 146, 7348], [1554, 1139, 7349, 738, 1171, 4, 320], [1, 68, 2, 795, 6, 75, 212, 6, 142, 25, 1208, 10, 90, 40, 9, 5, 157, 19, 3, 196], [153, 156, 93, 491, 11, 2824, 2754, 762], [83, 320, 67, 35, 3, 673, 745, 3, 33, 31, 14, 181, 16, 4, 271], [142, 1, 656, 1483, 67, 26, 52], [31, 5, 1838, 1065, 654, 445, 26, 562, 1431, 18, 2716, 99, 12, 7350, 629, 70, 245, 26, 1431, 2, 2717, 2119, 73, 2170, 84, 2718, 2719, 343, 237], [429, 3, 412, 3, 21, 23, 500], [3165, 1, 58, 1625, 15, 448], [7351, 7352, 9, 8, 86, 4101], [62, 4, 341, 4102, 42, 41, 7353, 42, 41, 188, 42, 41, 1627], [144, 25, 19, 3, 134, 10, 1938, 144, 36, 19, 45, 53, 88, 283, 1442, 18, 594, 15, 439, 515, 14, 3687, 10, 192, 5, 4040, 3, 95, 7354, 47, 2007, 1, 1938, 192, 11, 101, 101, 166], [10, 20, 168, 1, 213, 5, 262, 651, 36, 2598, 79, 14, 575, 271, 2747, 43, 25, 2333, 3279, 7355, 6, 7356], [3, 54, 52, 1823, 43, 513, 156], [239, 233, 1537, 39, 1395, 548, 2, 134, 4, 588, 2, 3, 24, 211, 1845, 2, 29, 23, 105, 17, 7357, 2, 509, 2150, 2180, 7358], [1430, 86, 1386, 1503, 15, 38, 113], [417, 158, 360, 7359, 22, 4103, 5, 1058, 19, 69, 934, 7360, 217, 15, 14, 7, 7361, 43, 34, 7362, 7, 350, 53, 192, 210, 2096, 188, 1564, 395], [3, 27, 84, 1957, 600, 488, 76, 1165, 84, 2264, 82, 11, 245, 209, 322, 7363, 12, 1036, 600, 488, 366, 7364, 237, 114, 7365], [11, 297, 108, 146, 1438, 358, 2804, 340, 35, 1590, 56, 58, 1426, 25, 20, 526, 148, 630, 822], [101, 402, 113, 2980, 50, 356, 32, 7366, 24, 172, 32, 53, 11, 1760, 34, 75, 2848, 4104, 144, 4, 564], [273, 1, 287, 82, 3], [7367, 31, 1657, 68, 333, 7368, 1658, 196, 884, 2, 13, 99, 469, 5, 2800, 1908, 941, 427, 73, 7369, 2, 3921, 22, 978, 1659, 2783, 343, 237, 130], [717, 483, 39, 27, 205, 43, 46, 129, 131, 23, 153, 546, 635], [120, 168, 11, 269, 137, 2, 1261, 83, 43, 12, 4, 759], [74, 238, 13, 1446, 3646, 3647, 984, 121, 106, 635, 74, 13, 1447, 12, 53, 2227, 985, 426, 2, 1276, 13, 266, 1447], [780, 303, 16, 2, 100, 79, 14, 50, 255, 3134, 145], [39, 21, 1039, 2, 31, 504, 76, 307, 46, 4105, 3, 83, 43, 12, 458, 220], [68, 2, 71, 10, 4, 7370, 2210, 1, 77, 75], [374, 25, 83, 72, 192, 110, 283, 108], [14, 121, 1858, 156, 22, 303, 1672, 12, 104, 76, 150], [164, 1, 59, 8, 481, 3, 277], [2849, 1517, 720, 7371, 3454], [119, 158, 112, 3, 134, 14, 18, 1507, 554, 13, 3345], [1086, 24, 1, 391, 32, 49, 206, 403], [81, 6, 108, 263, 30, 2087, 800, 1661, 89, 1259, 7372], [203, 1, 33, 59, 51, 42, 41, 195], [1, 33, 405, 38, 78, 8, 42, 41, 395], [111, 56, 3, 16, 4, 124, 403], [52, 21, 3, 159, 8, 4105, 101, 24, 93, 374, 32, 8, 386, 76, 1894, 14, 1283, 309, 303, 28, 471, 45, 29, 3, 7, 7373, 7374], [746, 204, 25, 499, 4, 331, 25, 7375, 4, 7376, 62, 4, 1121, 1064, 224, 483, 1, 33, 32, 34, 3, 7377, 2587, 2850, 7378, 118], [605, 275, 182, 1665, 56, 64, 47, 242, 4106], [704, 6, 354, 1572, 1263, 1233, 23, 368], [30, 3770, 217, 11, 113, 11, 1835, 777, 644, 1, 16, 1628, 7, 11, 755, 565, 84, 578, 14, 1292, 2, 282, 221, 454, 43, 34, 14, 82, 6, 45, 6, 31, 78, 66, 6], [1263, 3192, 1634, 500, 1828, 2185, 7379, 1580, 1, 175, 3, 718, 7380, 13, 899, 112, 3, 48, 2, 5, 907, 128], [171, 12, 699, 10, 23, 3, 1114], [153, 1363, 59, 192, 640, 960, 585, 2, 29, 110, 1045], [50, 394, 94, 189, 56], [291, 264, 15, 6, 532, 1774, 140], [480, 2, 416, 28, 5, 1713, 1242, 50, 8, 210, 7381, 9, 504, 7382, 1202, 147, 58, 1710, 258, 28, 275, 770, 128], [2109, 36, 1462, 10, 19, 3, 2057, 88, 1871, 171], [3, 16, 187, 4, 193, 2127, 40, 9, 52, 3, 31, 45, 3, 185, 88, 49, 664, 2, 94, 418, 71, 193, 2, 1603, 22, 1025, 804, 805, 653, 2128, 272], [2557, 40, 61, 8, 285], [120, 81, 109, 83, 541, 198, 616, 5, 7383], [124, 23, 52, 7384, 3, 2, 5, 2634], [7385, 143, 7386, 38, 346, 4, 1748, 685, 7, 214, 185, 4, 1107, 1381, 406, 1361, 188, 335, 73, 972, 2, 2030, 2031, 2463, 1124, 343, 2464], [176, 52, 1442, 8, 4107, 2966, 8, 4107], [261, 261, 98, 4108, 101, 14, 614, 23, 302, 20, 91, 1, 402, 99, 28, 266, 8, 7387, 36, 58, 14, 1185, 7388, 161, 101, 1, 7389, 134, 38, 4109, 20, 1795], [45, 112, 1, 279, 7390, 1, 279, 14, 64, 28, 78, 252, 409, 47, 20, 744, 14, 8, 331, 1233], [457, 483, 1357, 5, 1309, 43], [503, 10, 43, 28, 42, 41, 61, 177], [1, 31, 51, 15, 285, 8, 7391, 8, 55, 42, 41, 395, 3, 54, 125, 7392, 9], [124, 1, 1919, 341, 937, 23, 31, 311], [93, 163, 3, 8, 5, 7393], [3, 83, 258, 220], [52, 598, 118, 97, 10], [339, 1, 61, 251, 12, 13, 17, 369, 49, 105, 17, 10], [37, 1, 61, 25, 313, 25, 102, 1258, 8, 11, 892], [1, 60, 79, 2, 29, 14, 45, 1, 2216, 1, 616, 4, 302, 63, 841, 7, 7394, 7, 7395], [50, 161, 25, 183, 52, 63, 1, 298, 150, 24, 1, 326, 1007, 5, 452, 34, 3, 173, 19, 172, 32, 4110, 4110, 7396, 66, 10, 377], [261, 74, 238, 1446, 46, 42, 41, 835, 216, 121, 106, 2391, 2, 3], [1, 61, 8, 2410, 17, 3, 86], [3, 21, 4, 734, 3, 16, 106, 1076, 444, 2, 342, 384, 155, 26, 4, 618, 468, 378, 2, 4, 299, 779, 2, 126, 17, 7397, 1376, 366, 518], [204, 24, 69, 137, 110, 864, 20, 7398, 454, 231], [47, 1, 597, 112, 109, 7399, 86, 7400, 74, 7401, 252, 83, 8, 558], [119, 1, 473, 12, 415, 256, 94, 189, 109], [408, 1, 31, 11, 2942], [120, 1580, 1, 66, 3, 1, 137, 2, 97, 1, 416, 28, 13, 2364, 7, 2043, 2, 213, 3, 481, 11, 2735, 456, 1, 68, 3, 1, 77, 3, 1, 933, 3], [47, 9, 11, 392, 37, 368, 563, 402, 12, 10, 40, 177, 1691, 47, 477, 3, 65, 11, 66, 112, 3, 355, 13, 1086], [4070, 4071, 80, 252, 203, 44, 10, 67, 1233], [50, 178, 57, 62, 53, 79, 528, 19, 215], [1020, 257, 3658, 2650, 7402, 7403, 7404, 7405, 7406, 1457], [370, 29, 3, 83, 68, 2, 31, 215], [50, 50, 50, 56, 786, 38, 593, 425], [21, 3, 8, 458, 40, 9, 243, 487], [101, 432, 1, 92, 765, 132, 1851, 432], [140, 6, 159, 67], [35, 1, 25, 316, 109, 53, 630, 56, 93, 48, 78, 80, 35, 109, 236, 213, 55, 931, 144, 50], [119, 1, 33, 31, 1367, 5, 479, 2505, 75, 9, 12, 4, 2987, 1, 112, 12, 7407, 8, 2296, 107, 490, 199, 7408, 906, 23, 242, 7409, 2, 31, 1367, 83, 25], [1, 61, 229, 23, 17, 3, 150, 177, 94, 189, 368, 611, 6, 7, 10, 7410, 1480], [2546, 2076, 918, 7411], [30, 223, 7412, 51, 11, 7413], [301, 29, 3, 55, 2428, 1, 16, 4, 4111, 7, 7414, 28, 11, 297], [171, 12, 13, 445, 573, 1207, 143, 4112, 13, 99, 33, 32, 870, 44, 237, 142, 13, 245, 25, 1418, 105, 17, 239, 642, 4113, 46, 562, 995, 70, 562, 7415], [153, 164, 25, 9, 5, 2630, 53, 311], [2215, 9, 2215, 24, 140, 9, 2215, 176], [30, 8, 4, 570, 472, 315, 752], [39, 402, 148, 39, 28, 948, 22], [98, 67, 7416, 38, 670, 117, 7417, 106, 1075, 20, 1783, 5, 2800, 7418, 244, 73, 244, 2, 687, 22, 191, 2113, 804, 805, 653, 1026, 1116, 2678], [327, 1718, 140, 482, 6, 7, 3885, 1851], [37, 604, 713, 263, 226, 30, 49], [7419, 1024, 962, 7420, 108, 115, 17, 186], [5, 673, 44, 908, 9, 122, 15, 145, 3483, 7421, 15, 7422, 1681, 166, 5, 138, 14, 615, 6, 33, 167, 908, 8, 188, 1027, 6, 299], [1, 336, 3, 214, 32, 74, 57, 127, 1426, 74, 102, 176], [939, 746, 4, 7423, 8, 166, 1329, 1111, 7424, 4, 746, 7425, 6, 213, 28, 38, 7426, 7427, 6, 29, 7428, 38, 1404, 140, 482, 7429, 1425, 482, 7430, 7431, 3614, 496, 170, 7432, 6, 7433, 14, 2, 53, 448, 118, 699, 876, 7434, 2134, 6, 230, 299, 1, 1525, 112, 14, 7435, 751], [257, 947, 118, 501, 4, 228, 65], [591, 948, 1119, 7436, 47, 79, 3], [44, 3142, 122, 7437, 7438, 156], [2414, 3628, 2, 31, 8, 9, 19, 50], [769, 5, 1095, 125, 5, 318, 15, 1244, 622, 9], [535, 2202, 35, 698, 578, 46, 4, 99, 281, 170, 1862, 6, 2, 744, 42, 41, 26, 42, 41, 29, 25, 29, 23, 4114, 5, 17, 595, 14, 2200, 127, 520, 15, 4115, 2, 134, 279, 15, 5, 1326, 689, 37, 2549, 4116, 76, 193, 89, 843, 89, 121, 106, 4117, 76, 4118, 4119], [39, 1729, 2, 31, 1069, 1960, 7, 33, 48, 85, 160], [112, 3, 7439, 210, 7440], [37, 86, 2079, 72, 2, 282, 8, 4093, 390], [20, 20, 7441], [120, 30, 540, 23, 30, 628, 15, 6, 23, 140, 81, 6, 159], [983, 1271, 45, 142, 1, 491, 5, 2322, 7442, 1558, 192], [1146, 2373, 831, 4005, 4, 708, 284, 40, 683, 738, 1243, 43, 28, 53], [370, 181, 10, 54, 45, 255, 223, 32, 208, 926], [30, 25, 96, 3236, 7443, 34, 7444], [252, 659, 97, 10, 47, 1, 597, 30, 25, 28, 78, 8, 86, 612, 140], [4, 293, 15, 38, 295, 9, 11, 4120, 4, 663, 15, 38, 1436, 9, 11, 4121, 4, 418, 15, 38, 308, 9, 11, 166, 4, 308, 55, 694, 648, 189, 12, 6, 2850, 74, 11, 4122], [118, 697, 1542, 20, 126, 13, 397, 285, 1816, 2744, 7445, 45, 1088, 13, 280, 697, 17, 7446, 45, 2403, 1992, 397, 285, 254, 20], [1421, 120, 11, 66, 1, 100, 15, 3, 7, 123, 13, 65, 477, 111, 112, 3, 227, 8, 1, 175, 3, 168, 1, 302, 12, 5, 1027, 39, 21, 584, 200, 699, 295], [256, 686, 733, 409, 27, 3024, 3025], [164, 21, 6, 43, 23, 364], [226, 19, 75, 9, 965, 74, 7447], [161, 18, 7448, 52, 21, 7449, 2, 131], [141, 108, 390, 9, 232, 632, 8, 147, 222], [141, 5, 64, 222, 8, 458, 2, 163, 1830, 1789, 1674, 9, 22, 8, 5, 241, 73, 244, 2, 687, 22, 191, 130], [176, 37, 7450, 24, 270, 868, 4123, 51, 4, 293, 1235], [363, 473, 52, 9, 7451, 4, 421, 2235, 1001, 861, 91], [603, 469, 5, 42, 41, 430], [60, 36, 79, 2, 151, 33, 197, 40, 75, 383, 240, 164, 3, 287, 31, 53, 5, 495, 39, 196, 3, 18, 7452], [49, 12, 397, 114, 1384, 193, 245, 44, 38, 512, 188, 114, 36, 73, 193, 2, 586, 31, 1005, 7, 97, 38, 914, 154, 1134, 281, 241, 736, 1557, 1753, 1754, 245, 272], [90, 1, 33, 71, 8, 42, 41, 195], [172, 10, 2831, 3, 51, 250, 199, 147, 906, 40, 923, 63], [225, 6, 54, 121, 473, 88, 726, 233, 20, 194, 3, 230, 336, 132, 17, 7453, 22, 53, 33, 32, 2077, 736, 307, 7454, 191], [141, 730, 1605, 1402], [339, 751, 369, 49, 17, 10], [125, 21, 3, 17, 10], [60, 645, 2, 82, 19, 157, 23, 45, 81, 6, 620, 669, 118, 52, 485, 7, 140, 81, 38, 958], [66, 14, 5, 708, 28, 5, 411, 265, 973, 164, 3, 21, 709, 24, 2070], [98, 7455, 85, 112, 973, 35, 3, 58, 2851, 76, 4, 4088, 26, 190, 327, 116], [382, 882, 7456, 250, 8, 3996, 1852], [1, 480, 1702, 1, 436, 72, 2, 227, 535, 17, 10, 43, 202, 285, 3798], [50, 24, 1558, 200], [50, 80, 130, 10, 813, 6, 17], [7457, 7458, 7459, 103, 8, 241, 1, 416, 911, 34, 241, 359, 35, 6, 55, 415, 34, 10, 70, 7460, 2, 7461, 268, 7462, 73, 397, 7463, 343, 237, 7464, 7465], [369, 4, 7466, 1029, 364, 8, 145, 947, 14, 60, 178, 2804, 69, 3787, 4, 475, 170, 684, 4, 7467, 2374, 15, 4124, 69, 7468, 7469, 2755, 2832, 145, 809, 20, 875, 63, 4125, 69, 137, 354, 7470, 731, 1496, 43, 170, 69, 684, 51, 1150, 448, 81, 713, 4124, 448, 211, 3743, 1414, 92, 503, 43, 364, 8, 145, 7471, 57, 117], [126, 4, 2844, 406, 1361, 36, 17, 7472, 22, 16, 3, 187, 7473], [56, 38, 7474, 31, 4], [118, 266, 101, 12, 5, 229, 920, 87, 9, 5, 434, 15, 88, 699, 1233, 7475, 12, 133, 474, 790, 18, 2, 424, 536, 7, 82, 62, 210, 143, 42, 41, 92, 175, 4, 7476, 702], [47, 81, 109, 72, 2, 71, 14, 2, 10], [27, 3, 29, 541, 1918], [118, 58, 1127, 7, 2808, 694, 3945, 2808], [181, 10, 54, 35, 3, 77, 184, 515, 7477, 26, 4126, 26, 190, 47, 242, 7478, 408, 1, 31], [140, 81, 6, 159], [7479, 3, 21, 3313], [68, 2, 4127, 43, 38, 801, 34, 4, 537, 103, 245, 91, 4128, 20, 40, 70, 154, 1057, 281, 241, 5, 1800, 89, 286, 488, 2103, 427, 779, 1003, 414], [21, 3, 183, 3, 95, 590, 31, 108], [1, 66, 3, 3, 54, 27, 3, 213, 14, 382, 14, 134, 13, 1739, 1041, 1, 270, 14, 382, 11, 66, 1, 408, 163, 3, 8, 13, 611, 1618, 3606, 413], [7480, 3490, 7481, 7482, 7, 7483, 21, 578, 22, 95, 175, 5, 4129, 415, 17, 7484, 28, 518, 195, 20, 84, 453, 17, 1254, 2852, 376], [66, 14, 1, 68, 2, 7485, 19, 763, 1622, 34, 849], [120, 21, 3, 798, 34, 10, 91, 10, 3892], [1072, 24, 1262, 32, 4, 57, 330], [182, 381, 5, 7486, 95, 59, 217, 357], [107, 16, 4, 3019, 18, 5, 7487, 7488, 15, 5, 4094, 125, 1949, 624, 7489, 2259, 355, 46, 5, 174, 1297, 7, 472, 46, 5, 2816, 43], [12, 5, 207, 63, 8, 5, 2813, 7490, 7491, 7, 7492, 21, 7493, 28, 262, 527, 8, 847, 3943, 835, 42, 41, 2799, 835, 42, 41, 1831, 835, 42, 41, 2499, 42, 41], [396, 1834, 58, 2014, 155, 39, 83, 18, 12, 42, 41, 1504], [39, 548, 2, 194, 3, 509, 13, 91, 2, 88, 372, 15, 4, 361, 1491, 649, 723, 102, 2320, 278, 799, 70, 739, 91, 26, 17, 707, 22], [144, 50, 28, 863, 7494, 83, 208], [37, 86, 1, 61, 139, 19, 39, 1548, 584, 919], [291, 997, 2791, 37, 7495, 659, 552, 1323, 69, 165, 325, 1456, 541], [37, 538, 62, 25, 3672, 11, 876, 58, 215, 1593, 289, 30, 7496, 6, 35, 6, 1349, 748, 11, 470, 989, 6, 1267, 32, 2093, 42, 41, 835, 7, 1000, 32, 7497, 42, 41, 835, 1, 27, 290, 11, 1709, 569, 14, 9, 42, 41, 835], [538, 475, 211, 3422, 448, 7498, 7499, 11, 755, 490, 621, 3220, 1, 614, 695], [186, 39, 21, 292, 2, 194, 3, 174, 1179, 290, 348, 19, 3, 16, 187, 4, 1277, 149, 276, 17, 7500, 126, 400, 7501, 506, 7502, 64], [115, 92, 7503, 104, 46, 1285, 2273, 96, 2652, 12, 5, 206, 442, 306], [1030, 3, 151, 129, 2, 59, 62, 428], [28, 5, 4130, 78, 34, 7504, 7, 457], [370, 27, 3, 70, 10, 5, 571], [1154, 270, 39, 211, 584, 156, 22], [1031, 56, 9, 267, 307, 770, 26, 455, 770, 12, 1069, 830], [115, 1, 379, 3771, 363, 25, 64, 1779], [27, 409, 140, 2, 31, 44, 104], [25, 263, 604, 90, 56, 140, 482, 1150, 521, 112, 69, 1729, 2375, 26, 2508, 2, 6], [47, 302, 382, 14, 94, 2, 31, 14], [40, 9, 11, 143, 76, 4131], [7505, 471, 2750, 38, 346, 582, 627, 1097, 522, 623, 49, 476, 20, 81, 507, 537, 290, 73, 576, 2, 838, 4132], [101, 4133, 36, 616, 5, 174, 15, 11, 1810, 52, 43], [1, 58, 1804, 12, 2853, 28, 1, 350, 3, 25, 42, 63, 41, 625], [3, 21, 156, 461, 1, 221, 135, 3, 5, 1383, 3, 68, 7, 77, 40, 9, 158, 1130, 2, 1474, 127, 2753, 1, 60, 72, 2, 2297, 3366, 4, 3138, 996, 51, 35, 30, 83, 67, 160, 7506, 24, 383, 3, 21, 311, 7, 142, 29, 14, 22], [36, 1018, 64, 108], [105, 4134, 549, 46, 146, 2743, 4135, 294, 1862, 12, 4136, 920, 55, 4137, 1668, 247, 1528, 1219, 661, 294, 1416, 13, 1294, 34, 1677], [1, 175, 3, 23, 116, 30, 23, 3671, 1, 16, 7507, 5, 157, 3, 402, 12, 10, 5, 249, 65, 7, 810, 2, 14, 36, 2, 385, 5, 971, 15, 13, 1032, 1, 66, 3], [98, 30, 232, 541, 18, 1212, 7, 172, 55, 2, 244, 34, 3, 7508], [751, 11, 7509, 3820, 23, 61, 18, 235, 87], [754, 6, 27, 126, 20, 2056, 653, 4, 999, 20, 136, 4138, 8, 2854, 8, 7510, 26, 4138, 522, 276, 17, 7511, 2, 126, 1044, 305, 154, 3292, 524, 7512, 7513], [125, 21, 3, 52, 21, 3, 159, 21, 7514, 437, 18, 259, 5, 1238, 2, 13, 1881, 112, 3, 167, 4, 7515, 19, 14, 172, 147, 1, 77, 3], [183, 93, 82, 35, 1, 27, 59, 76, 8, 4, 293], [1, 3044, 23, 1, 27, 84, 1156, 79, 4139, 27, 3, 105, 151, 2846, 5, 262, 561], [1788, 4111, 88, 215, 584, 7, 201, 4, 7516, 15, 7517, 999, 35, 39, 185, 1, 31, 42, 41, 6, 31, 42, 41, 1089], [50], [380, 390, 80, 228, 75, 56, 1, 55, 80], [30, 628, 19, 768, 420, 2, 59, 12, 664], [56, 109, 59, 89, 205, 10, 28, 1647, 1233], [364, 4140, 102, 7518, 263], [234, 2, 401, 1120, 23, 1, 137, 2, 48, 2, 5, 788, 2, 7519, 5, 3993], [2781, 766, 303, 205, 3, 43, 28, 79, 275, 7520, 3801, 135, 428, 63, 2, 31, 67, 850, 7, 19], [120, 814, 769, 6, 1263, 112, 6, 1177, 57, 280, 7521, 542, 7522, 254], [1589, 497, 14, 33, 59, 231, 87, 29, 74, 1, 165, 7523, 1069, 7, 2778], [7524, 105, 144, 64, 4, 42, 531, 41, 441, 609, 12, 10, 1, 59, 231, 53, 5, 63, 7, 33, 32, 7525, 1629, 1582, 12, 2847, 1833], [141, 7526, 166, 722, 337, 15, 1479, 3, 27, 64, 1548, 7, 271, 2, 797, 5, 7527], [153, 240, 52, 1, 273, 1196, 54, 35, 7528, 560, 18, 131], [2675, 1, 230, 203, 2, 2826, 14], [115, 48, 67, 87, 42, 41, 1, 92, 68, 102, 3763], [1849, 2184, 9, 85, 18, 13, 390, 48, 2, 1438, 3815, 18, 1438, 3816, 7, 353, 3817, 943, 1281, 3818, 1210, 18, 776, 23, 2299, 22, 1438, 692, 51, 2, 3819], [27, 3, 535, 97, 10, 5, 912, 894, 196, 895, 1211, 209], [6, 8, 458, 701], [1, 2, 61, 433, 1339, 2, 53, 5, 911, 3043, 64, 442, 133, 7529], [39, 16, 53, 7530, 23, 25, 7531], [37, 62, 519, 90, 29, 6, 765, 466, 37, 42, 41], [92, 516, 122, 65, 178, 341, 7532, 7533, 1267, 59, 530, 56, 322, 7534, 816], [119, 226, 58, 2166, 1308, 678, 256, 1, 60, 628, 27, 48, 12, 1726, 56, 7535, 2, 1275, 396, 220, 30, 49, 422, 7, 463, 4, 1330, 667, 220], [49, 130, 1224, 167, 4, 1671, 8, 13, 859, 1953, 15, 333, 277, 21, 251, 2, 244, 22, 71, 244, 2, 7536, 71, 7537, 7538, 237, 238, 130], [30, 50, 33, 29, 11, 418, 150], [37, 24, 39, 684, 4, 2466, 2450, 533, 2, 201, 110, 4141, 18, 138, 85, 22, 27, 1, 17, 8], [81, 6, 83, 437, 22], [185, 5, 2331, 7539, 3469, 7, 5, 573, 15, 5, 3470, 536, 216, 91, 3471, 619, 216, 1013, 320, 2, 32, 5, 207, 2588, 3472], [1031, 1, 29, 55, 5, 2713, 3876, 637], [49, 130, 445, 46, 4142, 209, 4143, 4144, 574, 7540, 7541, 207, 7542, 7543, 7544, 1825], [239, 222, 1, 648, 1320, 6, 339], [119, 11, 363, 198, 684, 13, 143, 200, 30, 23, 1050, 70, 10, 85, 7545, 40, 677, 7546, 925, 2176, 7547, 343, 237], [4, 7548, 7549, 330, 27, 16, 4, 737, 295, 19, 559, 218, 210, 104, 7550, 2, 213, 2609, 12, 309, 127, 3023, 23, 1067, 5, 375, 34, 13, 295, 751, 170, 16, 4, 7551, 773], [1636, 1406, 388, 6, 54, 7552, 9, 659, 767, 94, 189, 368, 7, 1711, 516, 136, 6, 7553, 1795, 66, 7554], [7555, 153, 69, 214, 32, 486, 2, 59], [508, 546, 7556, 43, 125, 3, 359, 28], [25, 19, 1, 54, 15, 479, 277, 43, 108, 21, 83, 51, 15, 458], [37, 181, 10, 29, 5, 3404, 13, 25, 57, 28, 14], [119, 50, 203, 44, 10, 67, 11, 1081, 514, 298], [153, 11, 1103, 3008, 51, 15, 458, 24, 3694, 1499, 277, 208, 1, 54], [1, 61, 3571, 87, 7557, 115, 197, 4029, 33, 282, 131], [139, 26, 631, 75, 212, 79, 1313, 9, 62, 37, 133, 57, 177], [37, 112, 3, 7558, 157, 169, 26, 146, 470], [688, 24, 1, 1650, 6, 152, 1, 1351, 56, 6, 236, 246, 10, 148], [112, 6, 31, 19, 157], [101, 339, 1, 33, 17, 3, 150, 2849, 4145], [52, 3, 77, 3, 16, 4, 330, 2, 135, 919], [96, 402, 14, 178, 7559, 96, 36, 165, 96, 172, 2214, 5, 330, 8, 7560, 79, 5, 7561, 1120, 7, 19, 1, 142, 1663, 34, 5, 7562, 7563, 79, 11, 7564, 334, 222, 24, 936, 541, 22, 7, 53, 1770, 208, 2787, 21, 42, 41, 7, 43], [98, 3492, 161, 258, 78, 18, 762, 120, 15, 834, 1, 1931, 4, 848, 816, 7, 679, 15, 7565, 303, 113, 6, 45, 1, 31, 85, 937, 15, 66, 7566, 254, 254, 254, 254, 254, 254, 254, 254, 254], [27, 3, 535, 97, 10, 5, 912, 894, 196, 895, 1211, 209], [1072, 24, 1262, 32, 4, 57, 330], [7567, 121, 4, 288, 125, 4, 42, 41, 4141, 1162, 9, 20, 23, 1, 54, 52, 546, 1060, 220], [4, 989, 2, 13, 2364, 121, 106, 196, 3, 27, 182, 279], [55, 4, 1482, 7568, 26, 52], [262, 30, 28, 11, 124, 3353, 3358, 816, 8, 7569, 7570], [7571, 9, 632, 107, 205, 43, 7, 663, 28, 1229, 7572], [50, 94, 189, 1178, 2, 3, 128], [799, 453, 7573, 395], [567, 278, 1956, 896, 18, 443, 1630, 352, 843, 1688, 193, 34, 1206, 49, 17, 756, 18, 806, 26, 964, 7574], [37, 351, 39, 33, 32, 2192, 4, 337, 15, 1323, 63, 584], [186, 40, 9, 88, 446, 520, 2, 194, 6, 13, 1277, 149, 46, 525, 9, 83, 1260, 493, 2, 126, 17, 22, 4146, 3881], [16, 3, 977, 46, 40, 114], [118, 2390, 40, 9, 13, 633, 1343, 2, 472, 13, 44, 1344, 280, 26, 1975, 155, 468, 17, 3108, 46, 387, 1976, 581, 3109, 1977, 371], [141, 174, 1954], [1807, 6, 20, 17, 3704, 2, 126, 617, 149, 6, 16, 20, 865, 53, 38, 99, 1482, 474, 5, 3705, 2054], [37, 429, 3, 789, 106, 737], [1141, 137, 418, 63, 317, 919, 1592], [252, 590, 144, 2843, 1, 580, 107, 499, 152, 1867, 50, 56], [688], [19, 1346, 47, 172, 3, 55, 2, 32, 3908], [156, 18, 4133, 82, 3, 131], [251, 8, 146, 315, 44, 11, 730, 80, 6, 422, 405, 78, 148], [13, 1184, 338, 12, 2617, 348, 1904, 1905, 592, 2, 126, 17, 7575, 712, 400, 4016, 676, 2217, 827, 1825], [29, 3, 68, 4, 103, 361, 1491, 649, 723, 102, 427, 278, 332, 527, 312, 966, 739, 91, 26, 17, 707, 12, 588, 150], [234, 729, 1781, 118, 94, 189], [37, 19, 36, 513, 3, 16, 4, 1351, 656], [686, 55, 4, 425, 2610, 9, 83, 108, 7, 83, 1338, 30, 1157, 18, 5, 7576], [1581, 52, 55, 7577, 7578, 104], [96, 204, 57, 96, 60, 1148, 35, 3, 379, 152, 98, 24, 96, 204, 709, 22, 23, 47, 21, 3, 3102, 34, 5, 302, 2736], [47, 1, 597, 662, 8, 86, 315, 22, 131, 56, 136, 323, 30, 2087, 7579], [3, 16, 127, 487, 239, 233, 1537, 17, 1481, 879, 2003, 3175, 22], [153, 696, 176], [545, 1647, 80, 1, 50, 56, 157, 109, 80], [50, 136, 6, 56], [869, 38, 892, 58, 37, 1638, 543, 69, 152, 1147, 945, 59, 200, 2, 94, 4, 416, 136, 58, 4, 25], [37, 77, 2, 3536, 7580, 252, 128, 540, 1360, 289, 7581, 264, 15, 40], [1, 270, 1, 95, 100, 62, 223, 812, 19, 116, 24, 14, 33, 32, 133, 329, 448, 7582, 39, 1450, 31, 19, 4147, 202, 107, 742, 5, 2553, 4148, 39, 550, 137, 812, 465, 42, 41, 202, 1, 60, 218, 2218], [49, 445, 91, 333, 26, 654, 930, 7583, 122, 7584, 20, 7585, 162, 7586, 44, 7587, 216, 7588, 397, 245, 49, 7, 275, 133, 45, 6, 469, 12, 854, 335], [119, 158, 7589, 1153, 4, 1131, 48, 2, 4, 570, 7, 32, 78, 76, 1390, 605], [467, 80, 33, 107, 83, 181, 199, 48, 4, 25, 347, 595, 107, 33, 25, 54, 459, 131, 39, 663, 88, 7590, 360, 5, 362, 156], [47, 1360, 83, 1590], [74, 35, 1, 924, 313, 428, 1173, 647], [1, 514, 1243, 109, 263, 156], [176, 1, 158, 77, 2, 381, 2, 324, 45, 30, 2758, 24, 1, 29, 1315, 3, 1601, 10, 720, 19, 117, 168, 1725], [168, 1, 839, 3, 33, 3, 271, 7591], [141, 7592, 3, 230, 1213], [1, 264, 109, 878, 48, 78, 76, 1111, 173, 93, 180, 72, 51, 406, 44, 11, 1268, 1362], [7593, 30, 223, 32, 540, 2, 2784, 53, 65, 7594, 7, 1306, 7595], [7596, 102, 1855, 1, 27, 31, 115], [7597, 1383, 3631, 6], [47, 59, 7598, 48, 89, 97, 104, 56, 6, 253, 104], [3, 77, 2, 31, 43, 22], [107, 81, 1216, 4, 638, 320, 2, 7599, 7600], [153, 8, 1058, 69, 36, 473, 35, 39, 1903, 184, 55, 127, 441, 841, 45, 7, 47, 116], [45, 5, 207, 3964, 9, 4, 995, 75, 5, 4140, 7601, 1660, 7602, 8, 5, 7603, 7604, 596, 40, 5, 1583, 15, 7605, 33, 3183, 1624], [289, 109, 246, 2, 48, 67, 136, 1145], [382, 1228, 16, 4, 1266, 22], [49, 130, 31, 7606, 7607, 733, 445, 1808, 49, 36, 91, 48, 2, 40, 157, 156, 22], [662, 7608, 24, 153, 696], [1, 58, 4, 17, 46, 4, 387, 143, 1, 61, 473, 2, 59, 2, 3927, 3928, 1, 33, 48, 8, 5, 447], [459, 7609, 80, 226, 27, 48, 44, 344, 584], [1, 33, 32, 1737, 412, 39, 33, 134, 368, 1737, 66], [47, 6, 1060, 407, 388, 123, 6, 21, 467, 188, 63, 1, 17, 1970, 113, 9, 217, 1, 175, 6, 31, 8, 682], [101, 234, 2, 386, 364, 7610], [1, 55, 2, 100, 463, 232, 5, 7611, 15, 309, 8, 4, 660, 131], [780, 153, 35, 13, 25, 128, 7612, 51, 7, 161, 433, 1339, 2, 11, 1232, 288], [1, 58, 2, 361, 2824, 1802, 744, 8, 157, 80, 6, 23, 49, 246, 20, 250, 10, 822, 173, 1, 597, 6, 246, 20, 373, 2168, 2855, 23, 151, 6, 2125, 967, 1365, 532], [98, 538, 1423, 81, 6, 86, 1347, 7613, 6, 87], [10, 775, 201, 110, 553, 57, 543, 24, 730, 89, 1778, 236, 246, 499, 201, 4, 421, 293], [2382, 4, 1218, 7614, 26, 7615, 221, 31, 774, 17, 49, 22, 879, 7616, 7617, 26, 70, 85, 2383, 39, 33], [1, 374, 565, 324, 28, 53, 87, 1, 100, 30, 223, 2435, 47, 60, 13, 403, 112, 6, 175, 10], [1, 917, 14, 6, 1192, 243, 229, 1380, 503, 43, 23, 229], [256, 92, 32, 798, 34, 549, 94, 14, 74, 4, 1954, 12, 5, 333, 212], [125, 9, 19, 75, 65, 1251], [23, 1, 214, 413, 7, 213, 3, 206, 2, 10], [16, 4, 228, 65, 11, 118], [1, 196, 7618, 7619, 7620, 474, 2, 5, 470, 362], [13, 457, 9, 85, 8, 2572], [3, 16, 106, 1076, 444, 2, 342, 4, 7621, 468, 17, 3171, 202, 5, 2425, 672, 366, 3172, 272, 179, 305, 414, 3173, 3174], [35, 3, 151, 104, 26, 96, 152, 102, 105, 157], [35, 146, 1743, 27, 56, 1, 48, 690, 6, 80], [1, 60, 36, 2418, 2, 152, 98, 94, 189, 2970], [3, 16, 187, 74, 4, 927, 1541, 239, 88, 880, 121, 1264, 3, 2, 185, 4, 1222, 149, 2, 472, 9, 438, 36, 17, 4149], [112, 6, 1879, 18, 5, 4150, 5, 4150, 60, 18, 7, 635, 2, 42, 41, 7622], [171, 12, 13, 157, 1, 158, 1315, 13, 3750, 30, 25, 183, 15, 5, 1584, 15, 884, 401, 24, 33, 167, 51, 18, 11, 138, 85, 46, 5, 552, 150, 30, 8, 285, 22, 29, 16, 4, 737, 65], [240, 5, 1173, 34, 3768, 19, 48, 111, 255, 1570, 4, 7623, 75, 766, 1842, 694, 613, 82, 3, 12, 3153, 262, 63, 262, 222], [49, 361, 365, 898, 34, 332, 527, 312, 966, 12, 928, 1865, 7, 534, 1923, 2176, 278, 735, 896, 17, 756, 2160, 26, 964, 4151], [489, 6, 43, 20, 1398], [117, 117, 82, 3, 150], [2187, 19, 2439, 374, 72, 2, 1809, 8, 79, 929], [29, 6, 100, 19, 102, 388, 33, 3589, 6, 87, 76, 7624, 38, 1914, 3020, 350, 758, 424, 7625], [1, 270, 6, 211, 108, 1, 213, 23, 701], [124, 103, 372, 567, 278, 567, 73, 18, 286, 443, 1630, 7, 31, 352, 365, 898, 44, 49, 17, 756, 49, 18, 806, 22, 26, 2801, 179, 305], [807, 9, 35, 5, 1281, 1623, 9, 632, 28, 174, 107, 201, 5, 1763, 1415, 12, 28, 4084, 376], [7626, 6, 7627, 368, 7628, 10, 421, 7629, 136, 226, 2581, 132, 716, 7630], [2640, 7631], [605, 1, 230, 264, 15, 133, 752, 47, 242, 2177, 29, 39, 16], [210, 1268, 48, 56, 69, 8, 80, 25, 701, 460, 11, 730, 89, 681, 80], [7632, 2827, 2123, 26, 190, 55, 19, 18, 7633, 1194, 1, 1288, 169, 67], [120, 1, 496, 3, 2205, 15, 174, 117, 74, 11, 113, 60, 18, 5, 601, 1725, 1, 61, 316, 4, 269, 2126], [696, 7634, 29, 696, 3, 68], [445, 600, 645, 103, 1248, 884, 2, 13, 99, 188, 114], [261, 975, 15, 51, 8, 458, 148, 19, 23, 92, 2106, 78, 1, 61, 1285, 7635, 33, 181, 3, 54, 4152], [50, 80, 435, 1, 264, 39, 230, 31, 999, 22, 173, 55, 358, 229, 148, 6, 246, 20, 48, 416, 44, 38, 1268, 4, 25, 909, 9, 460, 169, 22], [788, 15, 4080, 1858, 1402, 201, 4081, 205, 12, 88, 2698, 43, 192, 1864, 4082, 2840, 4083, 19, 9, 4, 216, 1123, 238], [7636, 370, 93, 151, 11, 7637, 45, 1, 31, 85], [7638, 1031, 113, 992, 19, 75, 1836, 173, 310, 4, 333, 331], [1, 66, 2, 2497, 1, 68, 2, 797, 3, 8, 11, 1402, 2096, 156, 22], [81, 6, 8, 40, 7639], [603, 3, 401, 192, 55, 42, 41, 1250, 23, 62, 25, 128, 923], [540, 4153, 244, 89, 564, 22, 4154, 4155, 703, 389, 544, 376, 518, 195, 64, 46, 4156], [39, 548, 2, 17, 3, 509, 13, 91, 2, 88, 247, 12, 4, 361, 99, 649, 278, 799, 70, 49, 739, 91, 26, 17, 22, 707, 1004, 1859], [90, 90, 45, 33, 3, 135, 702], [40, 9, 5, 446, 63, 39, 16, 548, 2, 194, 6, 6, 16, 187, 5, 1633, 149, 20, 126, 9, 438, 36, 17, 7640, 22, 64, 518, 238, 646, 389, 544, 376], [417, 36, 223, 516, 12, 327, 7, 69, 565, 135, 3, 215, 62, 37, 279], [112, 3, 31, 102, 522, 40, 274, 1, 440, 31, 184, 23, 399], [1017, 51, 67, 3517, 5, 3518, 1806, 803, 225, 100, 8, 15, 6, 110, 125, 51, 67, 125, 611, 59, 519, 2604, 170, 368, 611], [111, 463, 4, 3362, 7641, 15, 11, 266, 777, 10, 2, 609, 43, 7, 59, 680, 34, 169, 7, 56, 777, 10, 19, 30, 4, 1112, 7642, 134, 169, 680, 128, 116, 7643, 831, 159, 249, 248, 23, 3, 82, 47, 30, 7644], [3570, 6, 1549, 1, 1367, 7645, 7646, 1, 253, 6, 172, 17], [161, 267, 1497, 1814, 106, 43, 20, 116, 637, 510, 2330, 570, 1380, 62, 358, 1215, 68, 1724, 447, 28, 458, 26, 2291, 26, 4087, 671], [30, 1151, 78, 8, 216, 195], [420, 3, 211, 437, 87, 326, 244, 24, 248, 21, 50, 23, 663, 10, 4, 70, 45, 255, 49, 540, 820, 7, 93, 599, 123, 53, 9, 111, 7647, 7648, 7, 53, 671], [704, 56, 39, 484, 622, 2, 2950, 1665, 94, 7649, 11, 3762, 165, 27, 622, 2, 7650, 2434, 46, 88, 1355], [4072, 185, 4, 163, 1764, 34, 4073, 44, 6, 26, 4, 4074, 107, 21, 842, 18, 52, 1594, 122, 4075, 20, 4076, 162, 4077, 70, 122, 20, 26, 162, 2, 4078, 366, 1225, 925, 70], [3773, 34, 13, 1387, 347], [101, 1, 221, 70, 170, 609, 7651, 82, 3, 8, 3967], [3, 33, 32, 1974, 40, 1872, 7652, 7653, 445, 2126, 322, 14], [8, 224, 222, 1, 27, 31, 1909, 1125], [4148, 240, 4, 337, 15, 63, 1085, 465, 2417, 2004, 9, 55, 455, 395, 302, 1, 221, 84, 3398, 14], [7654, 7655, 51, 7656, 306, 841, 7657, 7658], [1487, 106, 444, 2, 539, 8, 122, 15, 2136, 594, 3603, 3604, 12, 327, 280, 927, 28, 910, 4157, 1464, 2, 126, 544, 376, 17, 7659, 3605], [2856, 15, 7660, 2857], [39, 16, 2, 205, 7661, 7662, 67], [6, 658, 80, 48, 406, 1, 58, 283, 2, 29, 6, 246, 20, 373, 2168, 2855, 4, 25, 59, 323], [111, 7663, 63, 2, 134, 464], [140, 63, 109, 246, 87], [42, 41, 8, 3736, 24, 25, 3898], [119, 50, 1430, 38, 661], [141, 412, 21, 3, 72, 2, 134, 10, 1521], [176, 62, 50, 1, 287, 381, 530, 174, 555], [766, 435, 242, 57, 3991, 2, 6, 204], [301, 93, 70, 3, 8, 4, 304], [101, 1432, 30, 380, 7664, 7665, 570, 1457, 8, 7666, 1616, 748, 11, 876], [30, 178, 139, 12, 3, 168, 7667, 7668, 816, 18, 538], [1, 61, 643, 3, 12, 1787, 553, 47, 79, 4, 763, 2809, 34, 37, 7669], [489, 6, 43, 20, 7670, 6, 211, 223, 17, 10, 73, 1185, 404, 90], [3, 21, 3648, 2, 342, 4, 910, 468, 115, 17, 126, 143, 7671, 2, 472, 13, 468, 224, 3, 21, 444, 2, 342, 74, 4, 927, 99, 239], [47, 21, 3, 1609, 43], [92, 7672, 549, 97, 19, 300, 15, 694, 442, 7673, 15, 7674, 8, 901, 395, 105], [123, 3, 21, 25, 1650], [30, 28, 78, 89, 311], [52, 63, 29, 6, 31, 51], [1, 61, 4158, 8, 386, 7, 16, 106, 43, 12, 55, 42, 41, 587], [141, 11, 3937, 9, 7675], [35, 3, 590, 5, 1488, 141], [185, 4, 384, 155, 149, 26, 4, 149, 749, 617], [171, 12, 13, 445, 573, 1207, 143, 4112, 13, 99, 33, 32, 870, 44, 237, 142, 13, 245, 25, 1418, 105, 17, 239, 642, 4113], [176, 26, 1, 214, 36, 7676, 7, 728, 4, 1232, 76, 5, 318, 15, 5, 65], [153, 240, 5, 7677, 1, 58], [50, 50, 94, 189, 1, 27, 862], [7678, 1443, 188, 7679, 67, 9, 4, 2984, 803, 251, 12, 3, 2, 167, 14, 1443, 188, 286, 269, 67, 9, 232, 1087, 7, 66, 894], [226, 50, 56, 137, 344], [1, 60, 1192, 19, 63, 3, 67], [92, 134, 2552, 958, 12, 1397, 7680, 595, 96, 585, 199, 2, 59, 231, 56, 50], [45, 9, 485, 1130, 125, 33, 3, 539, 554, 5, 1540, 55, 7, 5, 553, 29, 3, 16, 4, 1826, 918, 1485, 55, 266, 8, 5, 485, 53, 583, 248, 21, 487], [704, 704, 2650, 7681, 7682, 7683, 4159, 604, 6, 7684, 242, 248, 748, 10, 23, 725, 1, 287, 253, 102, 1692, 7, 218, 7685, 4, 331, 482, 6, 35, 38, 7686, 10, 23, 116, 47, 27, 1, 97, 583, 2, 1149, 535, 1397, 63, 92, 279, 448, 563, 2, 10, 50, 604, 180], [7687, 70, 10, 45, 255, 108], [98, 2660, 9, 1304, 546, 316, 28, 307, 625, 28, 7688, 220], [2141, 660, 829, 185, 4, 507, 1328, 1095, 149, 35, 6, 54, 132, 5, 103, 3802, 15, 2748, 33, 32, 73, 104, 207, 284, 2, 1468, 1721, 84, 343, 237, 3803, 1303], [40, 764, 853, 1349, 903, 21, 22, 7689, 36, 17, 7690, 12, 474, 853, 736, 7691, 7692, 7693, 64, 343, 237, 114, 853, 903, 99], [370, 198, 106, 635, 49, 100, 3, 214, 70, 10, 2619, 571, 14, 7694, 2, 10, 30, 25, 358, 74, 183, 52, 30, 159, 74, 1, 273, 1, 60], [98, 118, 39, 510, 118, 39, 575, 21, 139, 125, 3, 11, 1316, 9, 2456], [47, 21, 3, 62, 106, 1755, 431, 3924], [4160, 3, 16, 1934, 8, 53, 5, 3879, 8, 40, 4161, 669, 4162, 7695, 7696, 4160, 257, 947], [92, 1319, 7697, 45, 417, 231], [1451, 30, 223, 17, 3, 7698, 1130, 28, 55, 42, 41, 3899, 39, 21, 25, 25, 1060, 40, 350], [3, 21, 309, 1701, 76, 88, 726, 233, 76, 225, 3, 54, 2, 167, 51, 132, 14, 9, 17, 46, 13, 99, 26, 387, 7699, 7700], [7701, 7702, 106, 2635, 199, 465, 2193, 7703, 1499, 25, 1183, 22, 171, 2, 13, 920, 39, 33, 2194, 169, 7704, 7705], [123, 7706, 25, 313, 128, 116, 415, 449, 10, 82, 6, 150, 66, 2156, 254], [50, 1, 379, 17, 26, 1099, 102, 75, 1, 54, 53, 21, 3688, 10, 1, 61, 4, 7707, 12, 53], [198, 1070, 78, 89, 1, 1008, 340, 6, 27, 17, 10, 22], [2923, 12, 102, 2380, 218, 35, 3, 16, 399, 774, 2381, 848, 17, 7708, 209, 18, 7709], [60, 5, 4163, 951, 7710, 329, 7711], [4, 337, 15, 40, 7712, 212, 72, 1204, 94, 14, 438, 123, 6, 213, 296, 219, 176], [363, 1264, 43, 4, 1583, 7, 3591, 3592, 2311, 3593, 6, 7, 5, 69, 3594, 3595, 40, 269, 9, 1106], [1160, 1319, 217, 4, 103, 1833, 34, 2995, 49, 2884, 636, 2, 38, 99, 73, 38, 600, 284, 2, 1160, 930, 7713, 2, 1160], [120, 4164, 547, 22, 39, 1493, 163, 25, 218, 4, 1224, 63, 56, 47, 27, 1, 510, 5, 1169, 4164], [7714, 710, 160, 2505, 2314], [811, 1, 2058, 7715, 2792, 42, 41, 7716], [339, 57, 177, 123, 3, 137, 4, 57, 403, 1, 393, 2, 181, 3, 54, 19, 1, 60, 486, 2, 2074, 42, 41, 46, 11, 457, 69, 1191, 165, 69, 172, 134, 5, 957, 632, 76, 1389, 1629, 40, 1855, 9, 83, 358, 1072, 7, 1, 60, 1039, 3, 172, 250, 29, 16, 4, 57, 65, 932], [1357, 78, 2739, 9, 260], [37, 37, 1, 33, 325, 53, 1909, 2279, 2280], [57, 447, 11, 66, 14, 60, 57, 2, 82, 13, 563, 18, 1767, 7, 31, 13, 2205, 178, 1944, 996, 11, 1246, 1725, 1, 655, 11, 1197, 7, 610, 3], [358, 50, 24, 4, 293, 962, 6, 296, 48, 324, 705, 22, 515, 93, 213, 2609], [443, 1113, 3, 1057, 46, 53, 63, 3003, 7717, 34, 4, 49, 742, 715, 114, 48, 2, 1057, 695, 18, 988, 2, 84, 1974, 583, 7718, 91, 84], [1196, 54, 45, 255, 108], [641, 13, 855, 338, 675, 12, 7719, 348, 856, 857, 904, 204, 1, 436, 592, 17, 7720, 712, 400, 3197, 676, 2442, 419, 905], [69, 716, 2, 84, 72, 2, 386, 7, 134, 34, 5, 758, 4165], [47, 21, 3, 11, 66, 21, 3, 34, 13, 665, 63, 2, 282, 1722, 34, 129, 921, 152, 120, 7721, 7722, 483, 261, 46, 1040, 5, 809], [39, 548, 2, 17, 3, 509, 13, 91, 2, 88, 247, 12, 4, 361, 99, 649, 278, 799, 70, 49, 739, 91, 15, 17, 707, 22], [120, 2219, 115, 1, 68, 2, 31, 228, 179, 1661, 12, 11, 3540, 228, 7723, 1135, 11, 1623, 9, 42, 41, 90, 250, 115, 1, 33, 7724, 145, 689, 2206, 1423, 197, 10, 1506, 404, 20, 7725], [1, 2648, 7726, 19, 40, 939, 127, 7727, 552, 15, 11, 7728], [166, 9, 327, 569, 243, 31, 439, 24, 166, 9, 439, 569, 243, 175, 190, 333, 2858, 15, 277, 648, 32, 2244, 64, 8, 831, 7729, 257, 947], [47, 21, 3, 1, 175, 3], [1, 2041, 7730, 37, 113, 28, 52, 9, 396, 4, 763, 4166, 441, 24, 30, 3940], [120, 9, 630, 6, 454, 7731, 7732, 2859, 9, 19, 53], [1, 61, 72, 2, 386, 22, 7733], [1, 100, 36, 549, 766, 171, 7, 82, 3, 613], [35, 6, 236, 609, 56, 47, 1, 48, 20, 558], [1, 25, 28, 78, 22, 543], [7734, 57, 34, 7735, 5, 1538, 6, 214, 180, 4, 2506, 7736, 20, 469, 5, 1469, 3933, 3934, 7737, 600, 91, 7738, 7739, 7740, 3150, 91, 84, 130, 343, 7741], [50, 56, 1, 33, 59, 2, 38, 78, 160, 332, 127, 441], [6, 16, 4, 753, 1011, 132, 9, 433, 20, 134, 194, 34, 6, 167, 51, 132, 107, 81, 891, 132, 793, 38, 23, 288, 17, 18, 3601], [29, 6, 501, 102, 746, 76, 284, 7742, 8, 38, 719], [354, 298, 11, 314, 18, 11, 138, 78, 80, 1, 580, 6, 236, 246, 20, 539, 8, 558, 87], [90, 56, 3906, 21, 3, 258, 2, 285], [556, 299, 1597, 17, 22, 7743, 36, 1152, 238, 195, 1051, 714, 423, 362, 1408, 1409, 1410, 1411, 1269, 9, 4, 544, 376, 17], [115, 71, 10, 13, 571, 339], [1, 68, 2, 2826, 13, 1622, 22], [319, 3, 223, 83, 32, 8, 1638, 150, 87, 30, 292, 2, 31, 4, 2845], [186, 13, 99, 143, 121, 106, 346, 4, 7744, 2424, 149, 276, 17, 7745, 46, 387, 126, 1214, 506, 674, 64, 371], [93, 82, 24, 2841, 153], [273, 39, 214, 48, 51, 12, 344, 93, 702, 3, 2017, 50], [125, 21, 3, 52, 29, 3, 29, 47, 27, 3, 1171, 2, 32, 504, 46, 10, 738, 13, 308, 2043, 449, 10, 95, 3, 973, 15, 10, 95, 3, 933, 10], [101, 3, 294, 385, 1105, 3, 536, 14, 75, 60, 1117, 4, 1454, 7746, 211, 158, 433, 12, 7747, 1765, 708, 5, 249, 60, 75, 312, 3, 27, 64, 29, 23, 116, 18, 365, 34, 19, 190, 55, 19, 1382, 7748, 18, 5, 416], [183, 212, 341, 300, 1, 16, 2898, 7749, 28, 275, 7750, 48, 18, 1235, 329, 127, 441, 461], [373, 80, 1, 510, 4, 304, 3972, 75, 1, 264, 358, 50, 545, 7751, 24, 1, 77, 446, 1220, 422], [1144, 29, 6, 55, 5, 7752, 695, 1841, 1791, 8, 169, 23, 614, 1256, 51, 769, 5, 7753, 7754, 212, 378, 219, 7755], [168, 47, 477, 19, 65, 52, 21, 3, 43, 2, 1, 175, 3, 148, 11, 66, 699, 413, 1, 123, 439, 477, 111], [3886, 30, 560, 2, 32, 229], [2219, 7756, 10, 2728, 640, 5, 249, 497, 1632, 1680, 428, 251, 12, 11, 881, 2, 491, 14, 19, 2723, 142, 1319, 8, 729, 23, 30, 223, 271, 2, 32, 18, 131], [301, 68, 10, 2, 48, 2, 4167, 26, 142, 1, 163, 3, 761, 781], [120, 500, 1828, 16, 1, 253, 3, 1, 2665, 3, 1580, 1, 123, 3, 381, 2, 429, 13, 755, 8, 1547, 12, 448, 7757, 921, 1, 66, 3, 168], [265, 180, 7758, 7759, 24, 14, 142, 16, 133, 3206], [7760, 2506, 1252, 556, 1253, 244, 22, 1766, 17, 3320, 544, 376, 46, 122, 2507, 195, 1125, 2, 307, 3321, 195, 3322, 2, 84, 453, 17, 1254, 518, 195], [1, 92, 1425, 62, 4, 767, 578, 481, 199], [10, 30, 25, 1227, 369, 1, 31, 317], [7, 76, 45, 255, 260, 1, 590, 22], [62, 38, 864, 2, 66, 225, 62, 38, 7761, 2, 66, 5, 75, 132, 1174, 6, 24], [98, 407, 1093, 36, 58, 85, 46, 147, 7, 1, 60, 2059, 2, 82, 6, 7762, 1, 123, 1, 440, 4168, 6, 217, 18, 5, 113, 87, 35, 6, 21, 43, 135, 10, 4, 17, 377], [771, 1530, 5, 65, 35, 3, 21, 311, 30, 1322, 299, 8, 13, 458, 1, 66, 911, 415, 652, 1910, 714, 2947, 238, 130, 91, 84, 2, 318], [9, 14, 13, 1212, 1606, 19, 491, 8, 5, 7763, 26, 1897], [37, 77, 2, 152, 184, 2, 10, 1, 54, 1, 61, 127, 7764], [16, 3, 357, 137, 75, 4004, 202], [36, 58, 2, 42, 41], [57, 37, 1458, 77, 102, 7765, 260, 766, 141, 105, 97, 7766, 104, 143, 1, 214, 599, 104], [357, 1562, 1992, 357, 253, 76, 3450, 8, 2011, 4, 330, 132, 3451, 6, 232, 9, 5, 75, 132, 1174, 6, 1706, 116, 24, 3452, 2, 2583, 14, 257, 978], [235, 14, 460, 10, 323, 252, 246, 2, 2687, 1118, 23, 1575, 9, 86, 1503, 7767, 7768, 2, 109], [606, 1052, 3081, 15, 5, 424, 214, 32, 897, 76, 644, 24, 5, 7769, 15, 308, 214, 32, 2815, 64, 76, 5, 980, 1135, 257, 785], [7770, 139, 103, 274, 47, 21, 3, 125, 21, 3, 45, 21, 39, 872], [8, 5, 7771, 570, 2191, 8, 2385, 3642, 284, 5, 7772, 19, 1486, 28, 5, 355, 15, 5, 1054, 4, 1562, 65, 180, 800, 65, 136, 995, 65, 71, 4, 180, 26, 136], [240, 4, 2091, 383, 3754, 163, 12, 304, 1627, 613], [176, 1, 172, 24, 4103, 583, 2649, 1, 55, 309, 4, 388], [1, 7773, 203, 12, 2748, 123, 220, 7774, 128, 399, 74, 111, 24, 4021, 1114, 117, 7775, 435, 2149, 72, 12, 4, 7776, 22, 16, 4, 57, 117, 378, 2, 3, 219], [115, 250, 10, 97, 1756, 19, 30, 1842, 4, 1316, 46, 7777, 7, 19, 35, 142, 115, 71, 10, 4, 157, 79, 47, 2, 823, 1258, 171], [105, 17, 7778, 34, 7779, 2, 7780, 26, 7781, 13, 1695, 179, 99, 1491, 49, 15, 601, 372, 1016, 87, 795, 2329, 3010, 3011, 7782, 2, 1231, 7, 634], [550, 684, 4, 138, 2, 31, 334, 1466, 12, 13, 113, 869, 33, 3, 48, 2, 5, 524, 1600, 112, 3, 94, 19, 317, 1689, 1, 77, 3, 168, 1, 933, 2, 82, 3], [1, 64, 147, 46, 1147, 2, 1859, 24, 410, 1, 230, 422, 1033, 340, 224, 249, 65, 6, 49], [252, 931, 2, 1545, 199, 752], [554, 7783, 571], [186, 13, 44, 1427, 1004, 1428, 280, 26, 617, 610, 493, 17, 1610, 22, 1611, 581, 792, 204, 1612, 1613, 1394, 1614, 237, 625, 1615], [529, 6, 2851, 140, 63, 6, 246, 10, 20, 59], [68, 4, 103, 361, 113, 649, 723, 102, 427, 278, 332, 527, 312, 966, 49, 70, 12, 162, 1063, 91, 26, 17, 707, 12, 49, 588], [319, 17, 10, 45, 3, 31, 5, 320, 4, 269, 15, 694, 478, 10, 2, 151, 3, 79, 4, 341, 573], [40, 1224, 1224, 2006, 21, 39, 1979, 505, 1, 165, 61, 1799, 7, 3, 440, 91], [14, 2612, 7784, 248, 360, 7785, 45, 190, 55, 40, 1442], [22, 58, 390, 20, 373, 1118, 6, 37, 147, 87], [1, 1002, 23, 25, 102, 7786, 807, 2626, 69, 52, 79, 10], [431, 14, 72, 58, 102, 1830, 2622, 744, 2280, 1444, 30, 7787, 1847, 2, 353, 2184, 40, 626, 557, 1080, 461], [1, 253, 19, 61, 258, 18, 1271], [62, 50, 393, 881, 1420, 16, 415], [118, 697, 1542, 2, 126, 40, 764, 372, 28, 13, 1238, 105, 48, 2, 1044, 305, 414], [111, 35, 30, 19, 3528, 93, 36, 17, 1840, 200], [21, 3, 28, 147, 156, 22], [669, 193, 3087, 361, 365, 113, 9, 13, 17, 3088, 464, 366, 371, 1177, 17, 1965, 1514, 46, 987, 272, 672, 3089, 624, 3090, 1116, 1966], [550, 977, 184, 7, 417, 25, 2155, 11, 453, 23, 30, 4169, 69, 2811, 19, 165, 5, 7788, 9, 1047], [2892, 1, 66, 3, 23, 116, 1618, 1, 221, 203, 12, 40, 274, 2, 1660, 74, 188, 638, 722, 10, 1926, 2, 309, 28, 13, 836, 139, 103, 274, 11, 66], [115, 554, 5, 602, 284, 15, 7789, 485, 173, 2399, 8, 2856, 15, 7790, 2017, 2, 396, 32, 42, 41, 90, 115, 1378, 85], [50, 24, 107, 165, 198, 58, 2838, 2199, 7791, 1422, 89, 860, 77, 20, 1035], [7, 115, 115, 655, 1625, 1625, 1037], [47, 21, 3, 159, 431, 5, 2145, 21, 3, 72, 12, 5, 4170, 2836], [417, 8, 2996, 240, 36, 5, 631, 418, 24, 39, 197, 8, 682, 171, 2, 2161], [50, 80, 56, 39, 48, 2860, 80], [442, 7792, 251, 12, 110, 1415], [27, 109, 71, 10, 4, 1276, 15, 86, 1501], [7793, 47, 6, 1549, 123, 38, 50, 580, 79, 6, 1108, 66, 89, 175, 94, 189], [50, 86, 1, 148, 1444, 1, 648, 205, 3], [186, 105, 17, 7794, 13, 2679, 877, 44, 2290, 280, 26, 1049, 462, 155, 610, 493, 581, 179, 305, 362, 7795, 7796, 7797, 371, 268], [101, 93, 17, 131, 8, 316], [1, 36, 158, 77, 350, 202, 150, 7, 1, 54, 3, 565, 32, 1370, 202, 55, 275], [30, 57, 16, 3, 1255, 2, 1805], [780, 50, 93, 539, 12, 55, 127, 441, 173, 11, 3670, 9, 158, 2070], [118, 58, 430, 1463, 2, 2711], [1030, 1178, 151, 2268, 182, 2, 59, 97, 129, 27, 353, 131, 584], [111, 5, 7798, 527, 9, 42, 41, 1790, 181, 10, 54, 35, 45, 47, 116, 3, 68], [715, 1027, 8, 4, 65, 121, 62, 953, 2858, 177, 1113, 123, 447, 1113, 3239, 452, 1113, 404, 117, 1113, 957, 270, 6, 167, 169, 53, 87, 57, 177], [42, 41, 690, 7799, 1177, 35, 3, 420], [50, 30, 258, 78, 22], [27, 25, 279, 2535, 2536, 8, 40, 1467], [567, 278, 7, 896, 44, 2360, 49, 1206, 18, 443, 632, 18, 1079, 193, 843, 898, 17, 756, 18, 806, 26, 964, 3048], [101, 144, 4, 337, 15, 269, 15, 4, 269, 283, 30, 36, 22, 79, 2, 282, 2, 5, 4163, 521, 132, 585, 2, 201], [49, 12, 397, 114, 1384, 193, 245, 44, 38, 512, 188, 114, 36, 73, 193, 2, 586, 31, 1005, 7, 97, 38, 914, 154, 1134, 281, 241, 736, 1557, 1753, 1754, 245, 272], [68, 2, 4127, 43, 38, 801, 34, 4, 537, 103, 245, 91, 4128, 20, 40, 70, 154, 1057, 281, 241, 5, 1800, 89, 286, 488, 2103, 427, 779, 1003, 414], [7800, 168, 134, 10, 1322, 1879, 10, 18, 73, 10, 13, 1849, 22, 168, 161, 556, 4171, 7, 77, 3, 22, 53, 7801, 366, 343, 237, 20, 1261, 71, 84], [1, 33, 59, 150, 2660], [2211, 523, 11, 1112, 7802, 717, 234, 2, 3966, 7, 137, 4, 285, 34, 7803], [21, 3, 139, 407, 21, 3, 508, 112, 3, 94, 19, 317, 1, 123, 13, 267, 1, 71, 3, 4, 413, 2, 134, 3, 295, 46, 1040, 5, 809, 413, 413], [136, 570, 9, 499, 174, 646, 2069, 824, 499, 373, 20, 323, 24, 1, 580, 109, 25, 1203], [47, 21, 3, 7804, 40, 950, 94, 189, 665], [487, 920, 44, 443, 1140, 7805, 87, 9, 38, 670, 65, 20, 167, 51, 164, 790, 1401, 463, 4, 1047, 7806, 3], [31, 5, 1229, 30, 108], [651, 279, 14, 206, 114, 412], [26, 1, 48, 78, 207, 323, 109, 203, 44, 10, 80, 1, 454, 231, 11, 283, 207], [1, 68, 7807, 62, 1239, 64, 201, 20, 7808, 64, 20, 37, 7809, 64, 20, 1161, 20], [37, 86, 69, 9, 1015, 86, 232, 883, 55, 40, 732, 596, 102, 15, 448, 157, 3915, 9, 4, 3903], [3392, 45, 3, 223, 599], [496, 17, 2153, 583, 828, 393, 24, 402, 37, 157, 7810], [1, 7811, 24, 327, 9, 67], [545, 1647, 55, 349, 80, 39, 499, 163, 8, 1092, 1591, 56, 109, 236, 529, 2, 59, 51], [37, 118, 1, 60, 647, 1053], [1853, 7812, 161, 3573, 7813, 9, 370], [33, 32, 411, 208, 44, 625, 22, 1, 61, 72, 994], [396, 30, 251, 12, 20, 764, 45, 107, 355, 1511, 1773], [184, 80, 35, 107, 53, 48, 56, 1, 48, 80], [6, 49, 18, 410, 630, 6, 246, 20, 373, 2168, 2855, 460, 10, 89, 909, 89, 860, 1132], [535, 2202, 35, 698, 578, 46, 4, 99, 281, 170, 1862, 6, 2, 744, 42, 41, 26, 42, 41, 29, 25, 29, 23, 4114, 5, 17, 595, 14, 2200, 127, 520, 15, 4115, 2, 134, 279, 15, 5, 1326, 689, 37, 2549, 4116, 76, 193, 89, 843, 89, 121, 106, 4117, 76, 4118, 4119], [319, 3, 208, 4, 269, 15, 7814, 1605, 2, 205, 43, 131, 220], [1015, 2827, 935, 18, 11, 113], [567, 7815, 40, 114, 7816, 7, 7817, 7, 57, 7818, 2, 169], [5, 375, 7819, 4, 337, 25, 328, 15, 5, 2780, 15, 399, 277, 24, 328, 15, 5, 3520, 15, 57, 277], [50, 310, 301, 62, 36, 217, 582, 7820, 1822, 26, 7821, 1822, 1443, 5, 7822, 2553, 2461, 599, 45, 38, 7823, 82, 3, 1239], [201, 75, 1880, 12, 10, 86, 105], [16, 3, 639, 8, 7824], [16, 3, 7825, 7826, 7, 182, 13, 63, 217, 47, 21, 3, 76, 5, 138], [7, 3315, 2, 3, 339], [6, 158, 2061, 422, 227, 23, 116, 11, 457, 503, 10, 43, 28, 419, 705, 20, 324, 314, 87], [11, 66, 1, 123, 13, 25, 159, 184, 7827, 95, 3, 2198, 1048, 13, 1238, 26, 13, 113], [771, 88, 1759, 4172, 3, 265, 32, 1278, 2, 7828, 666, 12, 5, 2837, 3, 137, 2, 126, 12, 49, 91, 34, 141, 2, 40, 130, 2, 692, 51, 70, 84], [6, 27, 185, 507, 15, 576, 522, 623, 188, 114, 1130, 22, 73, 5, 331, 290, 2, 838, 2705, 154, 3740, 209, 2706, 2707, 1124, 2708], [166, 1520, 7829, 338, 37, 105], [176, 1955, 1624, 1723, 9, 19, 13, 314, 685], [7830, 769, 6, 542, 7831, 392, 123, 6, 81, 53, 57, 135, 11, 66, 20, 7832, 66, 226, 7833], [5, 7834, 300, 36, 2, 181, 3, 54, 3, 21, 496, 7, 273, 217, 29, 16, 4, 124, 65, 7, 35, 3, 27, 71, 10, 7835, 7, 7836, 828, 303, 1315, 944], [2897, 5, 78, 15, 812, 322, 14], [498, 38, 3467, 2542, 1184, 20, 44, 122, 372, 31, 127, 1065, 1431, 7837, 245, 18, 38, 113, 1279, 18, 5, 1290, 233, 157, 12, 772], [688], [370, 30, 2590, 8, 4, 2338, 367, 23, 70, 10, 45, 255, 18, 5, 138], [9, 3900, 7838, 7839, 658], [111, 2518, 9, 975, 15, 4, 7840, 1306, 212], [70, 875, 2, 4092, 2, 472, 13, 1752, 1057, 1018, 7841, 1714, 414, 64, 322, 13, 488], [2449, 1, 4173, 36, 70, 5, 331, 50, 18, 13, 99, 113, 7, 71], [7842, 48, 2, 994, 542, 92, 181, 14, 7843], [47, 116, 12, 127, 2895], [1247, 3677, 9, 7844, 10, 51, 662, 1841, 1219, 53, 11, 266, 2, 167, 1771, 15, 10, 7, 56, 662, 967, 79, 283, 18, 11, 7845, 224, 1, 550, 218, 7846, 18, 8, 55, 4, 274], [71, 38, 3455, 34, 345, 7, 274, 1, 33, 795, 6, 38, 166, 7847, 284, 7, 5, 7848, 15, 4174, 91, 484], [499, 22, 514, 1029, 43, 23, 4, 293, 4175, 4175, 27, 457, 234, 51, 340, 1, 230, 849, 22, 532], [47, 79, 4176, 7849, 7, 3974], [4045, 7850, 22, 615, 8, 7851, 3551, 34, 103, 7852, 7, 124, 7853, 46, 179, 99, 201, 12, 36, 2889, 76, 1165, 31, 7854, 7, 94, 5, 2822], [2615, 4, 2497, 172, 32, 4177, 868, 77, 679, 15, 1284, 7, 2739, 202, 102, 727, 15, 7855], [487, 920, 44, 443, 1140, 87, 9, 13, 670, 65, 4178, 51, 164, 790, 1401, 463, 4, 1047, 979, 1260, 3], [631, 683, 15, 4, 300, 174, 114, 60, 11, 1651, 11, 492, 2732, 270, 10, 11, 886, 420, 89, 23, 112, 11, 1230, 1, 234, 2, 147, 218, 11, 1619, 112, 25, 270], [21, 3, 958, 34, 13, 607, 635, 8, 7856], [115, 92, 668, 2, 1010], [783, 294, 596, 40, 24, 1, 16, 396, 58, 217, 28, 2220, 873], [398, 64, 7857, 58, 288, 527, 2861, 230, 324, 340, 821, 7858, 532, 945, 203, 459, 1, 298, 2021, 140, 314, 83, 945, 324, 140], [96, 36, 1799, 231, 4, 1424, 15, 1973, 164, 7859, 8, 458, 7, 1, 221, 97, 35, 662, 309, 2888, 26, 36, 3157], [42, 531, 41, 436, 24, 62, 25, 4, 1866, 315, 108, 23, 62, 296, 2, 201, 46, 2727, 26, 7860, 26, 35, 1, 167, 14, 1038, 1574, 1, 391, 1378], [5, 4179, 552, 15, 4180, 18, 1543, 9, 2, 4181, 4182, 449, 1993, 308, 1155, 792], [101, 161, 7861, 4183, 160, 174, 555, 234, 7862, 28, 7863, 58, 43, 44, 147, 28, 3875], [120, 23, 786, 5, 425, 40, 410], [4184, 227, 27, 250, 38, 3959, 128], [124, 123, 3, 21, 1088, 13, 3287, 46, 1265, 1074, 182, 173, 3, 27, 294, 54, 164, 591, 266, 27, 1762, 3, 2, 87], [4185, 1318, 832, 9, 1476, 3, 2, 32, 104, 269, 91, 141, 2221, 26, 37, 2221, 82, 104, 154, 247, 874, 6, 4186, 84, 71, 84, 746, 2, 1477], [125, 2, 31, 448], [727, 15, 36, 496, 1127, 173, 15, 7864, 7865, 1397, 75, 8, 332, 1626, 23, 551, 8, 25, 183, 125, 2, 850], [7866, 9, 4187, 4, 337, 33, 7867, 8, 174, 23, 178, 923, 2, 2313], [7868, 383, 13, 2967, 60, 2324, 15, 7869], [27, 3, 105, 71, 10, 11, 7870, 143], [30, 1050, 3, 21, 1290, 13, 611], [198, 1070, 78, 791], [186, 487, 920, 12, 1221, 1140, 87, 9, 13, 670, 65, 20, 167, 51, 164, 790, 1401, 67, 9, 4, 1047, 979, 1260, 3], [734, 74, 4, 927, 427, 239, 3, 16, 106, 444, 2, 2874, 1277, 149, 986, 2, 126, 17, 2875, 126, 400, 2876, 506, 928, 587, 64], [2756, 6, 81, 577, 76, 145, 7871, 132, 204, 672, 20, 6, 29, 2080, 748, 2548, 595, 2943, 466, 2080, 7872, 4, 2209, 389, 309, 3352, 1101, 3799, 8, 4, 2209, 257, 4008], [6, 27, 17, 22], [2767, 1807, 19, 3343, 33, 4147, 1544, 5, 4188, 105, 95, 622, 1544, 5, 4188, 952, 1, 95, 68, 2, 2222, 4, 368, 269], [141, 1, 59, 2, 1898, 12, 7873, 7, 61, 292, 2, 7874], [1, 7875, 3, 43, 67, 202], [669, 240, 124, 1, 478, 2, 97, 3, 25, 2, 97, 10, 13, 2565, 173, 14, 356, 134, 10, 1509, 24, 62, 7876, 10, 23, 171, 12, 3056], [1, 2686, 294, 321, 35, 6, 92, 175, 10, 26, 35, 6, 92, 77, 10, 24, 6, 648, 158, 577, 10, 569, 6, 77, 10, 170, 6, 92, 97, 10, 94, 189], [120, 888, 786, 5, 284, 15, 19, 1009, 7877, 536, 5, 75, 79, 3107, 7, 563], [467, 57, 37, 351, 7, 394], [12, 3, 920, 2682, 9, 7878, 34, 53, 7879, 19, 9, 25, 3207, 45, 3, 273, 1, 137, 402, 3, 3, 211, 1157, 18, 5, 386, 2588, 5, 4062, 45, 1, 480, 8, 1, 165, 39, 211, 72, 160, 3, 58, 78, 46, 285, 105, 95, 271, 7, 7880, 10, 14, 559, 10, 68, 2, 810, 2, 3, 1038], [17, 10, 45, 1546, 260], [502, 690, 81], [3, 286, 373, 52, 3, 152, 640, 1, 31, 2544, 74, 4, 7881], [7882, 7883, 3, 16, 106, 2833, 191, 1910, 714, 423, 362, 7884, 7885, 7886], [105, 17, 7887, 1021, 74, 67, 9, 127, 186, 157, 251, 12, 3], [7888, 209, 651, 3, 71, 49, 7889, 7, 7890, 495, 161, 883, 40, 157, 46, 67, 29, 3, 82, 5, 3344, 12, 7891], [111, 260, 13, 44, 1427, 1004, 1428, 280, 26, 617, 610, 493, 17, 1610, 22, 1611, 581, 1976, 1612, 1613, 1394, 1614, 237, 625, 1615], [2781, 7892, 7893, 1017, 29, 3, 31, 5, 7894, 7895, 210, 3650, 143, 33, 32, 8, 67], [21, 67, 1502, 3869, 632, 181, 10, 54, 105, 173, 1, 158, 77, 2, 355, 437], [2086, 745, 20, 744, 6, 131, 49, 56, 97, 10, 56, 1, 17, 89, 3703, 89, 97, 6], [291, 30, 49], [57, 57, 7896, 914, 53, 710, 36, 106, 4189, 200, 112, 322, 2854], [319, 59, 192, 717, 33, 32, 108, 219], [7897, 349, 9, 368, 39, 27, 100, 15, 190, 2, 29, 69, 69, 16, 4, 228, 63, 220, 303, 374, 73, 6, 131, 173, 161, 1740, 377], [1, 336, 14, 9, 7898, 578, 6, 44, 190, 487], [704, 704, 137, 2599, 231, 2, 5, 7899, 45, 3, 261, 7900, 10, 261], [69, 1493, 97, 184, 69, 9, 798, 18, 10, 19, 164, 3, 253, 2, 2206], [14, 23, 1442, 19, 67, 81, 4058, 29, 140, 3, 68, 96, 27, 59, 7, 303, 31, 104, 1257, 1336, 7, 1703, 32, 486, 2, 1854, 7, 16, 2212, 189, 30, 842, 406, 12, 5, 156, 1257, 1336, 12, 104, 23, 36, 135, 10, 530, 743, 177, 310, 45, 1, 391, 82, 5, 2699, 330, 19, 27, 1693, 10, 2, 5, 156, 1336], [1, 197, 901, 835, 8, 11, 7901, 201, 442, 1880], [1, 924, 111, 168, 1, 16, 7902, 7903, 28, 11, 2072, 52, 112, 3, 318, 43, 159], [9, 38, 2819, 20, 86, 1501, 341, 173, 198, 148, 490, 2819, 20, 86, 2862, 1501], [2863, 9, 8, 88, 367], [1, 221, 378, 7904, 99, 16, 351, 1, 27, 810, 3, 24, 3, 2839, 810, 11, 1032, 23, 1, 464, 3, 131], [1144, 7905, 489, 6, 43, 20, 161, 8, 23, 116, 7906, 28, 78, 28, 1027, 7907, 7908, 10, 218, 6, 489, 5, 1309, 4023, 1, 260, 22, 289, 379, 6, 36, 97, 10, 70, 3732, 105, 404, 3808], [204, 1, 33, 94, 4190, 1415, 64], [21, 3, 83, 1757, 34, 2327], [120, 888, 7, 1, 21, 72, 2, 5, 809, 7909, 7, 313, 4, 846, 15, 7910, 1, 590, 652, 135, 10, 4, 2814, 45, 226, 298], [90, 2721, 483, 417, 223, 32, 208, 23, 93, 32, 43, 67, 208, 42, 41], [101, 1, 33, 32, 486, 2, 31, 2, 3, 82, 3, 8, 5, 177], [370, 111, 197, 10, 1462], [1, 61, 25, 313, 104, 143, 339], [61, 64, 1876, 12, 57, 7911, 1326, 99, 432], [19, 1242, 3812, 7912], [538, 58, 4, 7913, 22, 62, 7914, 43, 67], [669, 20, 99, 1776, 2522, 81, 566, 17, 7915, 22, 2523, 721, 38, 914, 353, 2524, 652, 2525, 7916, 576, 2526, 2527, 1644, 1452, 1453, 1645], [7917, 65, 37, 1145, 7918, 7919, 65, 37, 1628, 7920, 65, 37, 1351, 7921, 1995, 65, 37, 4191, 7922, 162, 7923, 7924, 65, 37, 7925, 7926, 2834, 20, 2134, 6, 189], [1, 273, 39, 211, 159, 4, 1241, 15, 5, 2207, 212, 67], [760, 93, 59, 541, 22], [182, 97, 129, 1, 165, 139, 434], [289, 2131, 543, 1, 580, 109, 152, 7927], [1559, 52, 63, 6, 31, 51, 6, 211, 902, 2, 94, 10, 406, 87], [22, 6, 971, 55, 7928, 7929, 392, 4192, 55, 1, 9, 7930, 18, 86, 430, 78, 489, 121, 6, 7931, 44, 7932, 466, 626], [1451, 30, 643, 4, 1164, 938, 32, 28, 4193, 8, 55, 42, 41, 195], [18, 4, 1239, 117, 81, 6, 44, 333], [141, 45, 9, 5, 2039, 200], [36, 58, 2213, 285, 223, 48, 907], [1, 68, 2, 196, 42, 41, 7933, 87, 310, 289, 101, 35, 1, 1292], [252, 53, 1153, 26, 140], [704, 1, 1860, 152, 19, 1, 36, 287, 802, 184, 360, 138, 6, 1885, 1, 95, 55, 20, 32, 7934, 1, 998, 19, 12, 7935, 8, 5, 660], [62, 4, 1234, 629, 71, 466, 130, 2, 53, 38, 266, 35, 216, 2006, 81, 145, 262, 56, 225, 158, 1174, 6, 3179, 224, 562, 3180, 10, 5, 286], [98, 112, 3, 473, 2, 7936, 2674, 79, 235], [322, 1111, 451], [3, 83, 208, 1, 214, 279, 4, 332, 1345], [6, 2982, 16, 4, 753, 1011, 132, 9, 433, 20, 134, 194, 34, 6, 167, 51, 132, 107, 81, 891, 132, 793, 38, 23, 288, 17, 18, 2983], [3, 135, 199, 85, 11, 574, 2694, 7, 42, 41, 835, 39, 379, 3615, 3, 2, 147, 39, 33, 59, 2, 13, 78, 970, 306], [252, 7937, 7938, 752, 173, 1, 499, 1809, 1, 58], [141, 1120, 9, 178, 1574, 23, 62, 5, 138, 39, 998], [117, 121, 1494, 12, 334, 65, 177, 121, 59, 8, 4, 288, 138, 265, 3, 295, 55, 5, 1495, 1675, 7, 1101, 13, 1102, 28, 5, 800, 800, 1933, 257, 947], [769, 5, 497, 118, 289, 81, 6, 709], [415, 1058, 2986, 3, 172, 100, 1840, 172, 7939, 3696, 43, 4, 7940, 26, 110, 350, 1900, 47, 116, 69, 2035, 69, 934, 4183, 43, 8, 55, 20, 7941], [487, 920, 44, 443, 1140, 7942, 87, 9, 13, 670, 65, 4178, 51, 164, 790, 1401, 463, 4, 1047, 979, 1260, 3], [101, 1, 221, 250, 3, 18, 40], [124, 23, 142, 1, 71, 3, 11, 338, 143], [7943, 769, 6, 11, 801, 60, 18, 601, 4194, 7944, 569, 6, 7945, 10, 7946, 1773, 4, 228, 2182, 74, 161, 183, 6, 112, 1605, 7947, 20, 136, 8, 6, 1724, 404, 7948], [88, 726, 233, 121, 106, 473, 20, 194, 6, 76, 225, 2258, 17, 7949, 22, 53, 33, 32, 2077, 1556, 2336, 2337, 191], [252, 64, 71, 10, 5, 2806, 1297], [117, 368, 227, 111, 198, 36, 106, 2, 82, 5, 7950, 15, 7951, 1496, 7, 265, 294, 227, 200, 3930, 7, 3931], [95, 100, 79, 52, 6, 16, 58, 100, 79, 47, 2, 279, 14, 19, 3, 16, 58, 57, 785], [1, 221, 156, 40, 638, 878, 742, 277, 43, 207], [4195, 7952, 2864, 501, 563, 4195, 270, 2864, 501, 7953, 35, 6, 295, 145, 375, 9, 748, 6, 7954, 218, 145, 663, 15, 1436, 2864, 1861, 20, 539, 748, 6, 23, 180, 139, 57, 177, 197, 709], [23, 52, 79, 3, 52, 29, 3, 381], [7955, 880, 3061, 51, 34, 571, 2, 7956, 7, 7957, 3870, 1955, 3211], [1030, 141, 118, 416, 47, 1, 61, 7958, 3, 575, 1053], [1, 55, 466, 7959, 837, 7960, 24, 37, 133, 11, 4019, 148, 23, 2375], [122, 1, 95, 16, 104, 143, 7, 20, 62, 223, 32, 4, 4196, 497, 8, 5, 899, 7, 868, 1354, 25, 31, 7961, 35, 240, 1379], [723, 80], [29, 3, 68, 4, 103, 361, 1491, 649, 102, 63, 102, 427, 278, 799, 70, 739, 91, 26, 17, 22, 707, 12, 1004, 410, 61], [38, 889, 9, 22, 7962, 206, 561, 1403, 5, 7963, 341, 4, 7964, 180, 7965, 26, 136, 2802, 70, 4, 180, 26, 136, 2, 7966, 57, 864], [10, 267, 4197, 267], [90, 7, 255, 183, 1, 95, 16, 2, 16, 7967, 4198, 2, 29, 14, 243], [38, 7968, 1639, 121, 106, 7969, 7, 3, 16, 106, 870, 2181, 237, 3, 27, 724, 419, 133, 1248, 40, 345, 154, 7970, 281, 241, 7971, 130], [35, 3, 95, 13, 149, 33, 48, 2, 334, 239, 179, 136, 28, 154, 179, 136, 1314, 268, 191, 195, 4199, 714, 2052, 4200, 1604, 4201, 4202, 105, 17, 85, 35, 572], [47, 116, 9, 1372, 8, 2393], [159, 327, 56, 6, 25, 313, 344, 690, 199], [47, 21, 3, 36, 936, 43, 18, 3], [260, 14, 24, 1306, 1666, 243, 965, 7, 7972, 71, 14, 33, 271, 200, 131, 26, 207, 212, 613], [7973, 26, 7974, 26, 7975, 26, 7976], [153, 183, 212, 814, 7977, 58, 53, 11, 283, 2579, 24, 161, 72, 971, 435, 7978, 7979, 12, 76, 5, 138, 132, 9, 40, 92, 54, 143, 1454], [37, 77, 323, 1, 48, 4039, 173, 11, 681, 28, 3914, 87], [171, 1263, 24, 83, 550, 977, 184, 1, 33, 235, 14, 4, 293, 1235, 23, 25, 20, 7980, 129, 7, 33, 271, 131, 124, 1856, 171, 123, 2610, 9, 83, 67], [29, 3, 68, 4, 103, 193, 1863, 562, 113, 2095, 150, 34, 2844, 49, 395, 2, 102, 99, 735, 49, 70, 49, 739, 91, 26, 17, 7981], [161, 18, 5, 7982, 568, 1, 60, 1148, 35, 13, 1176, 2, 31, 644, 584, 2279, 39, 48, 4, 163, 7, 1764, 727, 15, 3725, 1163], [204, 30, 380, 14, 8, 299], [82, 3, 56, 546, 53, 7983, 108], [90, 30, 311, 42, 41], [5, 4179, 552, 15, 4180, 18, 1543, 9, 2, 4181, 4182, 449, 1993, 308, 1155, 792], [52, 21, 13, 103, 517, 958], [7984, 122, 162, 3, 16, 2144, 4, 445, 13, 573, 9, 309, 4091], [7985, 503, 43, 1, 175, 3, 1, 933, 3, 1, 77, 3], [64, 36, 58, 40, 157, 25, 7986, 3, 141, 1, 60, 406, 19, 9], [118, 164, 3, 1434, 217, 1, 230, 609, 23, 1, 665, 2, 609], [45, 112, 457, 31, 85], [27, 3, 97, 7987, 2, 105, 48, 2, 719, 15, 2778, 7, 759, 5, 4203, 3897, 97, 5, 4203, 3917, 52, 5, 1695, 1169, 9, 7, 151, 35, 96, 27, 2379, 67, 96, 142, 151, 225, 2, 325, 7988, 12, 5, 262, 212, 7, 7989, 62, 7990, 96, 7991, 104, 1257, 7992, 8, 1167, 62, 1038, 1574, 116, 1038, 1574, 1105, 96, 33, 32, 259, 2772, 1003, 8, 103, 7993], [141, 36, 616, 380, 306, 15, 88, 1871, 1, 66, 14], [499, 48, 1812, 89, 673, 44, 7994], [242, 494, 39, 728, 88, 286, 1135, 952, 39, 21], [57, 266, 189, 12, 715, 249, 672, 266, 862, 715, 249, 7, 519, 266, 539, 1071, 2677, 563, 2677, 63, 257, 785], [36, 259, 85, 78], [101, 93, 17, 131, 42, 41, 278], [236, 77, 2, 279, 4157, 43, 499, 678, 86, 7995, 89, 7996], [74, 75, 15, 88, 1255, 7997, 6, 27, 865, 5, 290, 44, 4, 735, 502, 180, 522, 697, 76, 1165, 34, 865, 2, 650, 70, 84], [621, 425, 2, 31, 108, 102, 63, 160, 55, 42, 41, 93, 70, 3, 474, 8, 4, 3194, 293], [94, 189, 7, 227, 111, 3, 77, 2, 1448, 2, 579, 8, 166, 3, 64, 77, 2, 31, 4204, 18, 19, 1, 33, 203, 24, 37, 133, 7998, 481, 199, 31, 4204, 76, 19, 63, 13, 607, 9, 192, 12, 3, 8, 242, 7999, 1646, 169, 24, 25, 8000, 26, 6, 16, 37, 1620, 8, 11, 166], [12, 13, 320, 2, 185, 4, 49, 1206, 8001, 56, 1459, 91, 85, 34, 8002], [3, 182, 440, 31, 919, 98, 98, 98, 98, 98], [226, 24, 14, 230, 2738, 8003, 2171, 23, 1, 878, 8004, 169], [35, 1, 165, 184, 767, 101, 542], [47, 1015, 2, 152, 19, 1, 2822, 363, 3, 92, 100, 28, 53, 18, 52, 1, 1153, 1420, 3, 1707, 8005], [153, 1, 142, 32, 486, 2, 93, 70, 3, 45, 30, 311, 2, 163, 43], [243, 8006, 128, 24, 8007, 304, 8008, 8009, 2339, 48, 163, 8010, 8, 8011, 24, 1525, 1824, 8012, 3397, 1543, 1272, 9, 243, 8013, 35, 1, 92, 134, 14, 501, 658, 117], [483, 19, 417, 8014, 28, 8015, 4, 65, 23, 1, 8016, 94, 116, 1343, 15, 19, 983, 96, 287, 321, 21, 3, 223, 82, 129, 200, 29, 3, 68, 2, 59, 2, 2220, 220, 6, 27, 97, 10, 53, 79], [45, 3, 31, 49, 17, 10], [47, 16, 13, 421, 3066, 106, 23, 725, 40, 114, 77, 4, 1197, 526, 613, 221, 596, 144, 19, 63, 15, 114, 148, 766], [50, 1, 130, 6, 813, 1, 235, 11, 297], [83, 28, 3932, 4205, 2861, 8017, 94, 1071, 2, 59, 85], [1932, 456, 1200, 840, 2, 10], [508, 171, 12, 5, 1856, 322, 13, 117, 51, 8018, 271, 2, 31, 110, 227], [523, 13, 424, 536, 3041, 8019], [36, 22, 510, 13, 157, 14, 90, 86], [60, 14, 190, 6, 1572], [23, 52, 112, 5, 788, 152, 79, 5, 215], [2086, 236, 1099, 6, 340, 264, 6, 16, 679, 20, 29, 612, 38, 8020, 59], [120, 107, 81, 25, 380, 570, 220, 23, 93, 741, 180, 78, 364], [858, 80, 47, 6, 597, 6, 740, 349, 8021, 128], [8022, 1, 61, 25, 258, 2, 907, 1890, 1096], [92, 100, 3, 77, 3960, 689, 12, 241, 1761, 151, 225, 19, 121, 710, 202, 35, 3, 29, 62, 36, 42, 41, 1312], [27, 6, 416, 44, 10, 8, 86, 4101, 1, 58, 283, 514, 298, 263], [686, 124, 161, 72, 2, 227, 22, 16, 4, 57, 117], [95, 180, 8023, 180, 8024, 139, 64, 1253, 244, 233, 34, 1393, 2596, 17, 3491, 518, 195, 20, 84, 88, 453, 17, 1254], [297, 1440, 9, 5, 1441, 595, 5, 300, 60, 1439, 18, 42, 41, 900, 1391, 74, 2195, 280, 53, 2196, 2197, 21, 1553, 1617, 624, 411, 862], [47, 59, 6, 58, 327, 2, 29], [327, 33, 357, 32, 438, 24, 95, 32, 433, 12, 4, 807, 25, 2, 94, 4, 8025, 18, 166, 7, 66], [1, 68, 2, 8026, 13, 763, 2788], [198, 58, 14, 231, 2, 4, 1284, 25, 183, 224, 8027], [30, 72, 20, 948, 22, 8028, 10, 1151, 219, 6, 1151], [118, 1, 61, 25, 8029, 13, 563, 105], [3, 54, 11, 591, 8030, 1, 253, 3, 79, 525, 210, 284, 9, 2187, 69, 58, 8, 682, 34, 10, 174, 117, 7, 585, 10, 2, 163, 129, 87, 28, 20, 625], [59, 85, 2, 1249, 8031], [20, 2204, 11, 4109, 289, 515], [1200, 840, 2, 6, 128, 3792], [105, 97, 10, 3, 16, 110, 15, 19, 288, 1638, 3, 211, 844, 79], [1, 196, 169, 29, 3, 55], [186, 38, 346, 4, 877, 568, 2, 2903, 2904, 2905, 2906, 26, 384, 2, 126, 73, 466, 2, 1870, 268, 275, 343, 237, 2907, 2908, 419, 2909, 2910], [621, 32, 67, 8, 4, 646], [7, 19, 9, 5, 351, 3, 622, 208, 8, 8032, 8033, 2, 52, 9, 72, 18, 208, 3, 1, 152, 5, 262, 248, 2690, 7, 107, 48, 8, 75, 3308, 7, 51, 5, 249, 475, 3, 48, 217, 159, 696, 3, 68, 2, 29, 144, 25, 19, 3, 95, 54, 164, 30, 2023, 144, 19, 3, 95, 810, 45, 1, 97, 3, 52, 9, 72, 2, 2023, 10, 56, 3, 68, 2, 32, 2139, 45, 30, 1744], [198, 253, 3, 439, 33, 84, 36, 92, 181, 104, 31, 8034], [26, 1, 336, 42, 41, 195], [30, 78, 545, 140, 63, 33, 6, 405], [3498, 130, 569, 6, 1513, 145, 3499, 6, 152, 261, 29, 6, 765, 3500, 9, 145, 333, 1599, 15, 261, 144, 145, 284, 15, 4, 388, 141, 7, 6, 765, 132, 9, 349, 388, 3501, 261, 96, 9, 145, 3502, 832, 3503, 132, 3504, 3505, 1414, 75, 27, 2598, 145, 284, 15, 4, 330], [35, 3, 68, 2, 8035, 14, 26, 190, 416, 43, 926, 8036, 609], [370, 142, 1, 36, 425, 2, 59, 43, 131, 220], [955, 1, 1937, 1911, 146, 130, 1, 4206, 20, 454, 8, 146, 1326, 8037, 2861, 1, 23, 631], [848, 2, 241, 99, 564, 40, 130, 9, 49, 1216, 3, 49, 578, 2, 8038, 1364, 8039, 2833, 28, 191, 1539, 2, 1261, 71, 48, 84, 2, 8040], [40, 9, 1245, 3, 4, 124, 65, 2109, 253, 10, 79, 13, 372, 7, 74, 232, 1, 60, 3370, 3, 372, 23, 4048, 2, 48, 2, 124, 8041, 18, 11, 8042, 7, 62, 8043, 11, 951, 9, 206, 743, 160, 19, 1, 33, 197, 8, 682, 133, 101], [171, 200, 12, 13, 91, 87, 45, 9, 38, 8044, 258, 8, 7, 81, 6, 83, 1078, 5, 8045, 7, 2749, 11, 755, 248, 21, 25, 438, 882, 1059, 182, 121, 210, 953, 3905, 23, 1, 158, 77, 2, 100, 79, 47, 2, 134, 11, 953, 215, 131, 2122], [101, 1, 2811, 174, 117, 8046, 1282, 560, 231, 34, 11, 2558, 52, 3, 43, 2, 220], [69, 165, 1, 416, 763, 460, 302, 511, 140, 24, 1, 264, 417, 3154, 358, 1072, 44, 10, 422], [2317, 1320, 2988, 2989, 7, 2990, 2318, 797], [1163, 12, 2418, 168, 8047, 8048, 8049, 1, 8050, 6, 474, 131, 8051, 244, 3874, 254], [120, 6, 83, 28, 5, 907], [96, 165, 825, 29, 6, 321, 35, 1, 48, 360, 5, 1371, 12, 4, 646, 825, 2173, 1, 1843, 8, 4, 500, 1434, 96, 480, 51, 216, 2174, 2175, 721, 4, 1332, 89, 11, 492], [116, 296, 22, 171, 176], [327, 8052, 6, 89, 1132, 80, 101, 80, 86, 359, 659, 136, 6, 8, 330, 24, 107, 975, 15, 54, 6, 80, 23, 6, 246, 20, 163, 169, 1132, 151, 10, 20, 491, 6, 2125, 44, 88, 206, 316], [1196, 54, 45, 1, 27, 893, 76, 7, 205, 43, 30, 49, 1686, 102, 63, 160, 122, 53, 40, 950], [2272, 6, 23, 8053, 1358, 394], [162, 3, 16, 2143, 13, 99, 747, 322], [204, 24, 25, 486, 2, 227], [68, 4207, 911, 8, 770, 4208, 599, 4209, 22, 1817, 1152, 195], [39, 33, 163, 219, 412, 1518], [93, 205, 3, 43, 28, 79, 216, 8054, 2, 48, 2, 2220, 35, 3, 83, 68, 2, 59], [119, 64, 44, 761, 1415, 4031, 2, 353, 54], [1, 184, 80], [8055, 8056], [289, 230, 6, 271, 103, 8057, 2, 3621, 30, 25, 1445], [37, 62, 2374, 15, 997, 8058], [52, 29, 6, 3346, 74, 77, 20, 1475, 3137, 35, 6, 221, 29, 14, 171], [519, 3780, 89, 189, 648, 8059, 48, 8060, 461, 8061, 2007, 559, 4106, 45, 8062, 14, 24, 107, 33, 8063, 8064, 369, 45, 107, 355, 450, 14], [406, 869, 8065, 1, 8066, 482, 8067, 422, 256], [52, 25, 1544, 2657], [16, 57, 403], [175, 17, 175, 17, 8068, 8069, 8070, 175, 17, 8071, 8072, 310, 145, 2701, 75, 34, 124, 113, 1974, 1323, 1928], [17, 10, 45, 3, 31, 5, 320, 535, 42, 162], [5, 103, 4034, 962, 629, 931, 364, 206, 784], [11, 880, 36, 8073, 5, 64, 1997, 418, 39, 95, 197, 8074, 15, 328, 11, 758, 2104, 2250, 8075, 620, 5, 212, 1377, 18, 602, 42, 41, 307], [11, 269, 662, 1086, 28, 8076, 2028, 1444, 2, 48, 406, 7, 2, 2854, 8077, 24, 14, 265, 32, 8078, 8079, 897, 12, 1755, 153, 39, 142, 31, 584, 1958], [374, 4, 846, 587, 8080], [176, 921, 30, 25, 168, 24, 171, 12, 628, 15, 10], [300, 40, 430, 9, 23, 23, 23, 965, 1, 100, 255, 223, 31, 67, 202, 10], [123, 40, 70, 4003, 3, 709, 35, 25, 56, 181, 40, 70, 135, 3, 4, 807, 2, 295, 16, 4, 606, 65], [8, 794, 3, 503, 43, 1148, 125, 1, 61, 1, 420, 1, 16, 2, 94, 189, 15, 190, 12, 8081, 87, 142, 32, 260, 202, 5, 8082], [352, 193, 99, 26, 969, 1348, 782, 1633, 8083, 276, 91, 34, 185, 2, 1720, 22, 8084, 714, 343, 237, 1986], [247, 642, 12, 13, 1839, 70, 1100, 115, 1187, 154, 1137, 524, 1369, 2044, 650, 34, 84, 37, 916, 601, 250, 2045, 1137, 2477, 2478, 2046], [1834, 94, 38, 63], [23, 1430, 86, 2069], [489, 9, 6, 43, 20, 56, 1782], [96, 253, 2, 1626, 19, 69, 68, 8085, 8, 768, 328, 30, 437, 108], [99, 600, 724, 102, 15, 5, 594, 1323, 3460, 12, 13, 99, 8086], [45, 21, 3, 359, 620], [69, 659, 8087, 24, 1, 631, 80, 822, 201, 451, 80, 612, 314, 24, 39, 83, 2032, 44, 314, 451, 4, 25, 659, 385, 837, 169, 543, 252, 58, 4, 337, 15, 147, 1233], [25, 486, 2, 29, 184], [252, 2154, 8088, 8089, 87], [40, 403, 9, 267, 127, 1426, 25, 2, 29, 128, 116, 8090], [101, 1, 496, 3, 168, 1, 60, 43, 229, 7, 1192, 8, 1, 123, 3, 322, 13, 551, 667, 718, 1, 175, 3, 128, 1560, 413], [22, 845, 432, 160, 19, 64, 1, 27, 59], [215, 1, 16, 187, 8091, 143, 8092, 489, 29, 1, 29, 206], [183, 974, 3, 498, 5, 456, 43, 41], [19, 60, 1624, 510, 11, 591, 8093, 18, 1529, 69, 8094], [1074, 232, 716, 4, 606, 1971, 2602, 699, 8095, 8096, 492, 24, 5, 1547, 8097, 64, 75, 492], [19, 1283, 23, 52, 29, 3, 58, 1444, 12, 13, 319, 1234, 1, 61, 13, 319, 1234, 1680, 1], [36, 58, 418, 8098, 162, 1627, 8099, 57, 212, 1, 66, 11, 300, 23, 116, 24, 64, 159, 8100, 120, 1240], [52, 2, 100, 37, 75, 608, 4210, 50, 235, 37, 77, 2, 151, 104, 1, 33, 48, 35, 96, 59, 26, 25], [98, 57, 8101, 8102, 270, 6, 145, 262], [29, 6, 68, 20, 163, 43, 3775], [396, 1, 706, 1, 60, 128, 775, 23, 1, 550, 402, 263, 243], [198, 196, 109, 11, 418], [173, 1, 60, 51, 406, 460, 909, 354, 22, 89, 1, 393, 129, 20, 151, 140, 1362, 69, 246, 80, 56, 69, 639, 4169, 132, 1, 60, 460, 89, 69, 791, 8103, 909, 80], [1, 68, 110, 2412, 11, 8104, 504, 1, 77, 4, 333, 300, 20, 3753, 10, 73, 492, 2, 8105, 12, 37, 8106, 2142, 73, 84, 20, 318, 73, 3121, 343, 8107, 8108, 8109, 8110, 8111], [862, 210, 2222, 9, 11, 4211, 23, 29, 3, 147, 485], [47, 21, 6, 1, 16, 496, 6, 1, 514, 106, 43, 20, 116, 4, 293, 540, 34, 5, 280, 68, 20, 48, 1185, 20, 719, 631, 1519, 14, 671], [1144, 374, 258, 78, 403, 160, 206], [95, 668, 461, 19, 1, 66, 3, 7, 1, 622, 8112, 3, 380, 192, 3, 7, 1601, 13, 308, 1041], [1, 270, 248, 211, 1034, 1, 973, 45, 1, 33, 32, 486, 2, 498, 3, 47, 116, 1, 2858, 3, 115, 3765, 5, 8113, 8114, 37, 1045, 449, 1515, 10, 105, 7, 167, 248, 2, 1046, 79, 1, 66, 3, 2315], [50, 575, 88, 306, 23, 52, 21, 3, 528, 12, 344, 1014, 61, 1, 1075], [645, 103, 233, 299, 911, 361, 244, 18, 13, 512, 82, 5, 8115, 8116, 708, 299, 18, 38, 113, 44, 474, 70, 1322, 2, 4212, 2, 1261, 71, 84, 2, 4212], [1, 16, 37, 215, 44, 4192, 814], [161, 229, 8117, 161, 18, 11, 138], [294, 2637, 4, 65, 8, 38, 166, 57, 306, 135, 6, 908, 399, 306, 135, 6, 1310, 575, 21, 1997, 8, 166, 53, 21, 3590, 2638, 57, 177], [2714, 1, 279, 2, 655, 133, 1037, 1539], [2198, 1, 151, 102, 864, 34, 2325, 51, 5, 315], [8118, 28, 11, 222, 28, 926, 37, 601, 24, 35, 3, 27, 8119, 8, 102, 138, 14, 9, 8120, 3430, 7, 153, 39, 58, 367, 12, 75, 133], [8121, 8122, 556, 8123, 15, 3324, 1351, 171, 200, 1085, 12, 5, 8124, 25, 4, 8125, 70, 331], [1144, 47, 60, 174, 117, 198, 106, 1280, 7, 1811, 990, 4176, 7, 178, 421, 311, 12, 133, 406, 637, 52, 727, 15, 63, 29, 3, 326, 163], [771, 98, 407, 873, 36, 58, 4, 103, 1936, 2141, 326, 136, 4, 556, 700, 26, 787, 4, 244, 161, 8126, 8127, 1170, 244, 2, 2644, 3619, 3620, 3617, 3618], [198, 106, 292, 2, 405, 129, 449, 3948], [45, 3, 7, 2060, 260, 34, 285], [294, 289, 543, 1, 243, 1080, 58, 140, 349, 65, 109, 71, 10, 86, 1886, 230, 147, 75], [294, 271, 701, 2, 94, 5, 1180, 15, 4, 1436, 19, 615, 51, 15, 38, 308, 7, 2556, 906, 38, 1133, 232, 381, 4, 1015, 269, 9, 108, 2, 1416, 894], [120, 814, 1664, 2, 5, 3941, 277, 2439, 18, 5, 9, 1854, 76, 5, 318, 15, 5, 345, 1854, 18, 5, 8128, 2193, 282, 131], [123, 3, 21, 313, 4, 57, 114, 36, 936, 8], [256, 11, 269, 1641, 4158, 36, 473, 35, 3, 214, 31, 129, 4, 2845], [120, 29, 6, 787, 2032, 10, 28, 44, 28, 1987, 2842, 501, 4, 2789, 8129, 18, 10, 35, 25, 73, 26, 599, 10, 7, 39, 27, 163, 43, 1533, 358, 885, 58, 8, 28, 162, 243, 8130, 66, 1019, 254, 254, 254], [124, 16, 4, 944, 568, 92, 3201, 8131, 53], [8132, 45, 6, 21, 8, 66, 122, 6, 55, 2012, 2100, 20, 6, 31, 1729, 125, 6, 82, 5, 284, 15, 13, 2957, 162, 6, 565, 31, 798, 45, 13], [731, 347, 264, 860, 27, 35, 236, 16, 2273, 18, 264, 16, 2, 536, 146, 667, 146, 1510, 9, 28, 948, 1092, 6, 597, 2871], [271, 2, 29, 190, 118, 3, 802, 190, 12, 1810], [1136, 8133, 2, 4097, 867], [1, 61, 8, 994, 86, 1, 33, 1333, 78, 8, 452], [4168, 9, 844, 9, 225, 19, 4213, 6, 19, 817, 40, 28, 9, 14, 22, 802, 14, 8134], [100, 86, 3, 648, 29], [30, 1370, 119, 554, 43], [57, 447, 11, 718, 47, 477, 19, 1413, 108, 7, 67, 65, 112, 3, 31, 19, 982, 8135, 21, 3, 83, 51, 7, 79, 1, 503, 7, 175, 3, 168], [47, 116, 6, 292, 2, 31], [59, 208, 42, 531, 41, 625, 1432, 30, 4018, 1792, 1000, 59, 76, 1150, 63], [97, 10, 200, 52, 13, 571, 9], [3710, 165, 30, 145, 3711, 8, 145, 375, 363, 3712, 170, 165, 203, 6, 3713, 961, 145, 330, 1020, 40, 130, 1414, 218, 363, 27, 3714, 2269, 2538, 1155, 1104, 1155], [142, 1, 201, 129, 4, 2108, 1373, 20, 26, 1372, 142, 1, 201, 129, 103, 26, 740, 181, 10, 54, 505, 21, 3, 608, 1, 142, 201, 5, 42, 41, 502, 3578, 4139, 7, 52, 21, 3, 608, 79, 5, 79, 5, 42, 41, 502], [24, 3, 211, 584, 23, 3, 142, 32, 1156, 79, 129], [1144, 769, 14, 72, 8, 1495, 8136, 123, 6, 81, 8137, 4, 57, 63, 135, 19, 341, 591, 3519, 85, 4, 341, 413, 46, 10], [28, 52, 63, 142, 1, 59, 150], [326, 16, 4, 1046, 271, 8138, 244, 18, 13, 99, 22, 8139, 76, 1005, 5, 331, 244, 7, 71, 14, 2, 37, 8140, 3811, 423, 362, 8141, 1604, 8142, 8143, 272, 8144, 130, 1334], [1987, 8145, 8146, 168], [1247, 47, 112, 6, 54, 52, 1, 1572], [186, 40, 9, 5, 446, 520, 2, 194, 6, 6, 16, 187, 8147, 8148, 813, 8149, 2454, 8150, 2455, 237], [24, 13, 25, 108], [25, 1463, 1443, 482, 44, 8151, 1443, 109], [754, 38, 346, 534, 15, 1097, 623, 26, 2316, 276, 49, 476, 20, 735, 818, 290, 73, 576, 2, 838], [137, 13, 1579, 99, 703, 4214, 352, 843, 193, 820, 53, 49, 567, 278, 70, 18, 443, 1630, 70, 141, 12, 2835, 37, 2, 1035, 46, 1759], [186, 17, 3280, 46, 13, 387, 13, 877, 44, 2049, 280, 26, 419, 462, 155, 610, 493, 581, 179, 305, 423, 362, 1662, 2487, 2488, 1126, 2050, 268], [37, 958, 263, 52, 21, 3, 159], [98, 11, 8152, 121, 106, 8153, 18, 42, 41, 900, 15, 206, 345, 1, 54, 62, 158, 3013, 389, 780, 8154, 8155, 179, 3213, 1115, 15, 4, 8156], [25, 834, 64, 8157, 75, 65, 75, 8158, 34, 8, 75, 345, 39, 27, 298], [873, 287, 100, 14, 60, 19, 1866, 1, 94, 14, 53, 85, 38, 25, 4, 2179, 1105, 6, 8159, 14, 217], [12, 38, 320, 2, 185, 4, 808, 818, 406, 1361, 73, 533, 2, 2423, 1231, 634, 154, 73, 20, 533, 209, 1022, 2000, 1728, 335], [8160, 105, 174, 212, 1, 77, 9, 2453, 12, 369, 8, 13, 166, 32, 2241], [6, 16, 4, 753, 1011, 132, 9, 433, 20, 134, 194, 34, 6, 167, 51, 132, 107, 81, 891, 132, 793, 38, 23, 288, 17, 18, 3304, 3305, 8161], [93, 82, 35, 1, 27, 893, 76, 8, 4, 293, 58, 110, 248, 2, 94, 189, 15, 108, 8162], [1, 478, 2, 270, 3, 4, 139, 103, 274, 7, 1, 478, 2, 282, 2, 3, 79, 110, 1897, 1856, 2, 29, 34, 45, 2812, 7, 1, 8163, 24, 8, 330, 93, 134, 4, 568, 2, 2358, 12, 19, 1, 123, 439, 9, 57, 34, 3, 168, 7, 1, 66, 226], [16, 3, 25, 616, 147, 263, 26, 190], [150, 1, 61, 25, 72, 2, 1616, 23, 1, 27, 59, 1573, 6, 17, 10, 97, 10, 125, 7, 45, 2, 59, 150], [111, 260, 1065, 31, 5, 1838, 654, 445, 26, 562, 1431, 18, 2716, 99, 70, 245, 26, 1431, 2, 2717, 22, 692, 51, 73, 2170, 84, 2718, 2719, 343, 237], [156, 14, 8164, 3, 132, 3987, 14, 60, 225, 34, 4, 143, 55, 566], [144, 50, 1, 1289, 180, 798, 130, 6, 612, 1, 59, 78, 220], [1, 137, 4, 57, 63, 128, 62, 228, 2, 29, 190, 4, 293, 1034, 34, 11, 1179, 12, 4, 579, 82, 226, 219], [319, 101, 60, 8, 5, 938, 1568], [717, 9, 231, 24, 1, 16, 2, 205, 14, 43, 46, 129, 23, 93, 893, 76, 926, 8, 4, 421, 293], [602, 8165, 432, 1, 16, 8166, 3309, 432], [30, 2663, 8, 86, 2803, 15, 86, 653, 18, 86, 156, 887, 836, 15, 86, 42], [16, 3, 1657, 13, 4090, 312, 2, 957], [98, 112, 6, 1068, 489, 20, 31, 44, 210, 1988, 35, 25, 303, 741, 354, 31, 129, 4, 697, 851, 3290, 26, 8167], [771, 73, 17, 2, 37, 4215, 126, 13, 986, 15, 162, 587, 282, 63, 2, 279, 46, 13, 113, 22, 4216, 2859, 1182, 4217, 272, 84, 4218], [120, 1398, 81, 6, 557, 102, 296], [7, 1, 95, 425, 18, 1083, 5, 117, 24, 1, 2841, 565, 32, 85, 530, 229], [394, 44, 2930, 86, 801, 231, 18, 10], [1, 77, 127, 1345, 24, 30, 217, 1529, 1668, 214, 1, 205, 43, 8, 127, 441, 26, 442], [119, 256, 398, 39, 2600, 137, 234, 87, 128, 1358, 1834, 1274, 3514, 1, 236, 321, 560, 1726, 532, 1650, 8168, 678, 230, 1067, 43], [106, 1377, 24, 64, 4219, 216, 395, 7, 56, 1903, 8169, 356, 16, 2, 8170, 2, 5, 8171, 2603], [39, 299, 8, 5, 206, 42, 41, 278], [289, 542, 967, 55, 40], [36, 1050, 2, 32, 844, 2, 3], [140, 63, 109, 298], [101, 86, 1, 710, 1744, 23, 242, 2734, 1585, 52, 2, 29], [47, 116, 3, 58, 12, 2164], [769, 11, 2347, 330, 87, 81, 6, 1227, 745, 1750, 227, 200, 174, 555, 2676, 2578, 6, 28, 44, 770], [1301, 829, 185, 4, 1595, 1079, 1302, 8172, 35, 3, 8173, 5, 4220, 15, 8174, 70, 8175, 2, 1468, 180], [252, 393, 457, 752], [57, 29, 3, 100, 3, 214, 71, 10, 110, 1433, 1, 172, 66, 2, 82, 13, 594, 7, 2816], [1834, 30, 72, 2, 1769, 11, 1498, 3282, 435, 30, 72, 2, 32, 229, 422], [101, 93, 17, 131, 8, 316], [40, 9, 4, 302, 2528, 8176], [2143, 2815, 89, 4221, 8177], [107, 791, 480, 2, 1672, 5, 8178], [6, 77, 11, 8179, 232, 8180, 6, 230, 4222, 66, 8181, 8182, 8183, 8184, 8185, 8186, 8187, 1985, 8188, 8189, 1985, 8190, 58, 14, 92, 4222, 10], [354, 298, 8191, 11, 511, 6, 298, 344, 148], [30, 18, 5, 430, 66, 3], [176, 1, 917, 19, 1, 510, 129, 8, 5, 3918, 972], [105, 17, 88, 239, 233, 1175, 18, 879, 2917, 2918, 481, 1293, 1894, 74, 3, 16, 187, 4, 276, 384, 155, 26, 617, 149], [593, 1653, 828, 1077, 34, 8192, 21, 444, 2, 342, 4, 910, 986, 35, 3, 16, 4, 940, 105, 17, 1464, 1654, 126, 400, 8193, 1465, 1003, 414], [64, 776, 7, 773, 280, 23, 62, 178, 923], [2607, 137, 415, 40, 452, 175, 3], [58, 2014, 866, 215, 68, 2, 48, 18, 4, 2002, 2121, 3577, 34, 3260, 8, 4, 421, 293], [119, 873, 310, 1253, 33, 8194, 523, 250], [583, 565, 29, 16, 2, 996, 18, 2, 2728], [47, 59, 1, 1217, 136, 109, 291, 1, 821, 11, 511], [90, 90, 432, 137, 13, 314, 1213], [119, 1240, 9, 40, 5, 207, 63, 6, 279, 583, 744, 15, 563], [2863, 8195, 9, 159, 2140, 8, 2863, 390, 69, 9, 4061], [15, 834, 1, 336, 1435, 36, 58, 10, 18, 797, 156, 22], [29, 3, 3018, 8196, 26, 1601, 2736, 46, 10], [514], [3, 21, 309, 8197, 217, 31, 13, 99, 747, 46, 154, 8198, 209, 17, 8199, 654, 519, 1433, 1057, 652, 2228, 2697, 12, 64, 162], [101, 1, 1217, 3877, 11, 8200], [112, 6, 58, 19, 1470, 683], [21, 3, 1176, 2, 59, 768], [39, 548, 2, 194, 3, 509, 13, 91, 2, 88, 372, 15, 4, 361, 113, 649, 723, 102, 427, 278, 332, 527, 312, 966, 739, 91, 26, 17, 707], [363, 1829, 1741, 8201, 38, 1352, 23, 349, 2261, 1706, 288, 33, 2110, 448, 2668, 76, 1609, 38, 2082, 22, 535, 92, 151, 289, 69, 1829, 23, 116, 1741, 481, 2735], [39, 21, 467, 72, 2, 227, 22, 131], [105, 4134, 549, 46, 146, 2743, 4135, 294, 1862, 12, 4136, 920, 55, 4137, 1668, 247, 1528, 1219, 661, 294, 1416, 13, 1294, 34, 1677], [791, 14, 121, 711, 1742, 8202, 1831, 9, 22, 1766, 329, 2799, 5, 8203, 8204, 199, 2, 655, 24, 95, 609], [4, 1633, 471, 986, 9, 251, 12, 3, 88, 880, 121, 2823, 1264, 3, 46, 88, 4223, 99, 4224, 2, 342, 4, 1633, 986, 36, 17, 4225], [125, 81, 146, 316, 451], [176, 141, 24, 14, 33, 1243, 110, 8205, 2, 13, 65], [88, 8206, 8207, 1387, 1934, 504, 174, 117, 36, 1006, 12, 104, 7, 607], [90, 93, 147, 190, 51], [641, 13, 855, 338, 675, 12, 348, 856, 857, 904, 204, 1, 436, 592, 17, 8208, 712, 400, 8209, 676, 1678, 703, 905], [40, 157, 9, 46, 4, 124, 1145, 8, 847, 122, 29, 25, 655, 8210, 8211, 14, 8212, 1628, 4100, 830], [1, 230, 205, 5, 113, 156, 22, 115, 71, 4, 157], [3, 17, 129, 7, 97, 22, 3114, 15, 169, 17, 129, 22], [50, 37, 741], [1538, 207, 7, 8213, 638, 90], [37, 141, 105, 106, 2428], [730, 25, 72, 8214, 148], [50, 635, 181, 6, 597, 146, 474, 131], [25, 795, 2586, 284], [1, 71, 5, 4226, 8215, 86], [161, 1347, 8216, 8217, 11, 8218, 1056, 52, 79, 2581], [45, 1, 60, 2218, 363, 165, 119, 37, 334, 2104, 45, 3, 211, 2218], [1, 440, 31, 38, 602, 130, 8219, 9, 450, 71, 14, 200], [374, 25, 30, 819, 51, 15, 866, 7, 1, 31, 110, 155, 150], [239, 233, 1537, 39, 1395, 548, 2, 134, 4, 588, 2, 3, 24, 211, 1845, 2, 29, 23, 105, 17, 8220, 2, 509, 2150, 2180, 8221], [1, 420, 20, 151, 109, 53, 705, 463, 4, 689, 18, 86, 1362, 543, 47, 252, 53, 68, 20, 1153, 705, 26, 1193, 18, 14], [30, 620, 11, 297, 22], [98, 168, 62, 8222, 47, 81, 6, 1, 60, 3756, 18, 776, 117, 14, 60, 124, 47, 60, 13, 403, 6, 106, 450, 10, 1303, 4001, 209, 70, 84, 2, 84, 191, 70], [252, 311, 56, 17, 10], [8223, 9, 8224, 8225, 8226, 53, 8227, 4065], [14, 9, 4, 57, 212, 30, 22, 259, 5, 1666, 2, 8228], [2773, 86, 1525, 1792, 64, 1, 480, 2, 78], [240, 301, 1682, 32, 108, 53, 117, 1196, 54, 45, 255, 208], [21, 3, 1083, 8, 458], [256, 153, 20, 1790, 9, 727, 15, 4, 3742], [50, 6, 27, 94, 10, 406, 45, 6, 31, 1367, 145], [11, 166, 513, 4, 337, 2, 10, 25, 328, 1, 66, 11, 166, 24, 328, 1, 66, 5, 277, 8, 11, 166, 5, 375, 464, 169, 266, 1, 17, 169, 11, 375, 1104], [508, 603, 491, 14, 2, 3, 82, 3, 8, 55, 42, 41, 278], [24, 115, 92, 353, 8, 1149, 166], [1298, 11, 314], [833, 24, 3, 142, 135, 14, 18, 75, 65], [287, 271, 502, 7, 1, 706, 25, 2, 656, 51], [50, 37, 741], [8229, 303, 135, 14, 2, 3, 475, 258, 2, 1456], [76, 890, 1077, 1, 142, 32, 311, 24, 33, 17, 3, 12, 183, 5, 351, 9, 19, 11, 4220, 294, 1403, 47, 725, 34, 3, 431, 147, 7, 5, 1538], [115, 135, 104, 5, 553, 2629, 3913, 178, 1061, 34, 937, 15, 2185, 3, 27, 94, 43, 2, 127, 441, 2, 135, 14, 7, 56, 110, 1037, 178, 178, 1061], [186, 13, 99, 37, 8230, 60, 346, 4, 852, 462, 589, 826, 149, 18, 1221, 2407, 827, 40, 9, 88, 446, 520, 2, 194, 3, 17, 2408, 3143, 8231, 2409], [4, 521, 132, 934, 740, 24, 9, 128, 3854, 2, 2460, 14], [2762, 4227, 1996, 32, 192, 8, 4, 293, 36, 2325, 110, 283, 51], [141, 267], [1, 1288, 5, 103, 99], [723], [8232, 8233, 360, 3, 1195, 8234, 4006, 8235, 1, 758, 66, 3, 23, 116, 1, 27, 1535, 1171, 14], [858, 24, 107, 152, 58, 110, 4228], [120, 435, 1, 16, 2], [873, 23, 8236, 591, 1816, 1822, 80, 230, 264, 15, 184, 515, 24, 93, 180, 2078, 11, 1405, 131], [460, 11, 607, 2403, 1594, 2158], [112, 3, 152, 1373, 56, 1372, 131, 26, 75, 1372, 7, 8237], [256, 621, 1, 356, 77, 2, 94, 3, 43, 18, 19, 52, 3, 1060, 220], [226, 1, 765, 6, 1267, 2169, 62, 50, 171, 1457, 435, 322, 748, 38, 607, 748, 397, 1775], [605, 23, 965, 1, 580, 6, 405, 302, 841, 340, 6, 20, 133, 306, 64, 1, 44, 133, 422], [310, 301, 412, 1, 33, 1412, 13, 424, 8, 556, 4171, 849], [341, 8238, 158, 8239, 5, 8240, 34, 40, 938, 15, 1826, 8241], [993, 1, 264, 1, 236, 529, 2805, 1, 48, 325, 56, 97, 109], [204, 455, 195, 2, 48, 12, 314], [120, 52, 711, 6, 2645, 217, 38, 1404, 145, 778, 65, 40, 1519, 57, 22, 35, 6, 29, 189, 135, 10, 4, 17, 150], [90, 33, 29, 2611, 170, 1, 21, 159, 110, 2722, 23, 93, 32, 108, 45, 3, 31, 78], [1534, 104, 667, 23, 364, 30, 83, 4229, 256, 688, 6, 48, 78, 340, 398, 871, 690, 10, 80], [420, 2, 97, 109, 705, 27, 109, 55, 143, 5, 8242, 23, 19, 144, 8243], [291, 184, 80, 35, 6, 236, 246, 144, 50], [30, 78, 11, 66, 35, 13, 83, 1370, 699, 413], [261, 8244, 11, 1332, 8245, 4177], [49, 629, 31, 8246, 8247, 44, 49, 46, 5, 1400, 652, 1608, 397, 31, 38, 652, 2152, 91, 624, 56, 998, 8248, 985, 2151, 2190, 12, 1608, 8249], [8250, 32, 4, 4230, 8251, 28, 11, 222, 131, 220, 3, 1203], [2721, 483, 144, 301, 35, 39, 205, 110, 43, 46, 210, 222, 8, 55, 127, 441], [137, 13, 99, 419, 1865, 523, 2, 5, 352, 365, 361, 898, 12, 49, 197, 38, 262, 143, 31, 916, 49, 278, 453, 70, 141, 12, 4, 17], [1, 2304, 795, 16, 1621, 6, 74, 4, 194, 18, 3882, 209, 2, 71, 49, 247, 2, 1035, 46, 8252, 247, 37, 2, 42, 41], [198, 1070, 148], [1, 92, 54, 151, 2, 11, 665, 327, 351, 110, 212, 19, 36, 1, 253], [90, 2170, 8253, 8, 8254], [140, 63, 81, 109, 72, 2, 8255, 1702], [57, 177, 11, 118, 8256, 16, 4, 124, 170, 2484, 65], [201, 1383, 3664, 44, 4, 320, 20, 185, 3665, 1608, 629, 3666, 985, 2151, 12, 652, 1608, 925, 988, 601, 82, 1400, 281, 241, 652, 44, 1036, 2152, 37, 2019], [119, 90, 160, 19, 4085, 67, 347], [25, 12, 2853, 1085, 25, 207, 8257], [713, 64, 12, 551, 218, 12, 242, 1973, 96, 9, 393, 3958, 1593, 14, 604, 56, 1423, 482, 8258, 1338, 977, 1150, 8259, 2780, 1423, 9, 5, 3524, 7, 1423, 1851, 102, 351], [1, 1811, 5, 552, 525, 62, 190, 19, 651, 3, 54, 5, 2101, 65, 6, 8260, 45, 33, 31, 2475, 8, 79, 20, 2, 8261, 24, 115, 115, 92, 3401, 1, 54, 6, 81, 991, 115, 1509, 182, 9, 67, 184, 8, 38, 1313, 2813, 6, 77, 2, 97, 10], [39, 16, 1162, 35, 6, 68], [1, 197, 872, 2020, 350, 7, 2469, 53, 8262, 56, 8263, 144, 396, 4166, 7, 30, 53, 119], [242, 133, 139, 1991, 15, 5, 65, 1, 270, 3, 139, 434], [226, 178, 228, 32, 311, 18, 1736], [1, 61, 8, 994, 86, 1, 33, 1333, 78, 8, 452], [628, 15, 6, 254], [8264, 1, 580, 6, 152, 96, 22, 83, 236, 596], [45, 3, 36, 454, 8, 5, 1193, 724, 11, 143, 7, 5, 1528, 33, 498, 156], [5, 4184, 15, 166, 9, 8, 206, 638, 224, 8265, 3234, 15, 8266, 1, 270, 188, 638, 33, 32, 737, 8, 38, 166, 257, 8267], [394, 6, 750, 161, 301, 394, 4, 304, 1988, 2009, 20, 555, 2486, 217, 94, 189, 136, 6, 219, 377], [35, 255, 83, 43, 383, 235, 5, 774, 689, 23, 1, 27, 31, 866, 45, 1, 31, 85, 55, 69, 253, 10, 2], [13, 537, 301, 512, 488, 21, 311, 2, 823, 40, 764, 103, 488, 2741, 122, 733, 3961, 8268, 832, 20, 8269, 1740, 162, 1259, 8270, 92, 1053, 133, 772, 8, 89], [111, 392, 61, 1, 1050, 502, 3860, 53, 117, 28, 3091, 12, 327], [4231, 281, 241, 31, 679, 15, 155, 40, 403, 154, 4231, 281, 241, 118, 848, 2, 5, 403, 39, 16, 58, 88, 2282, 7, 286, 357, 155, 135, 504, 583], [50, 80, 26, 6, 246, 10, 48, 416, 44, 6], [6, 246, 20, 529, 314, 30, 8, 86, 8271, 22], [95, 134, 166, 128, 8272, 232, 167, 63, 2, 1046, 14, 265, 25, 1243, 517, 2, 13, 166, 24, 1563, 8273, 133, 166, 2, 38, 517, 257, 785, 1305, 611], [120, 1374, 55, 1, 60, 767, 7, 75, 15, 5, 4167, 359, 828, 9, 83, 18, 11, 113, 35, 3, 68, 1, 27, 70, 129, 7, 82, 35, 417, 208], [186, 13, 99, 143, 121, 106, 346, 34, 4, 618, 149, 276, 17, 2551, 46, 657, 312, 126, 1214, 506, 674, 64, 371], [171, 44, 13, 8274, 918, 13, 561, 40, 114, 33, 865, 6, 2832, 88, 290, 44, 507, 155, 284, 5, 103, 199, 8275, 73, 912, 2, 2751], [30, 78, 2219, 1001, 10, 497, 1632, 483, 439, 9, 267], [144, 2865, 64, 8276, 545, 8277, 957, 53, 545, 8278, 28, 863, 224, 9, 2865, 527, 44, 2865, 20, 3786, 2746], [10, 128, 16, 4, 861, 117, 377], [2016, 2, 32, 8279], [98, 2076, 918, 8280, 8281, 2, 199, 239, 906, 17, 7, 661], [35, 3, 70, 18, 13, 138, 2, 1158, 84, 19, 142, 147, 7, 19, 142, 32, 430], [8282, 13, 1916, 498], [13, 1917, 1140, 574, 9, 8283, 12, 4010, 71, 84, 2, 2167, 239, 642, 4011], [30, 25, 183, 35, 62, 83, 632, 461], [8284, 2209, 6, 8285, 43, 8, 466, 375, 64, 212, 224, 2790, 4125, 2200, 8286, 34, 8287, 89, 337, 8288, 557], [1163, 4108, 153, 60, 4, 2604, 2091, 6, 659, 480, 136, 226, 8289], [98, 1, 58, 5, 215, 86], [98, 99, 37, 42, 41, 121, 1621, 3, 8, 831, 194, 1424, 18, 154, 1211, 209, 14, 204, 4, 124, 222, 2, 71, 49, 247, 2, 277, 12, 133, 759, 1211, 209], [50, 56, 6, 97, 10, 140, 63, 6, 258, 131, 80], [6, 4173, 146, 2782, 200, 1430, 146, 1194, 284, 15, 38, 297], [358, 80, 24, 236, 97, 129, 203, 69, 31, 8290], [101, 1188, 420, 33, 2435, 1043, 1204, 40, 114, 35, 13, 83, 108], [6, 81, 5, 479, 606, 388, 1093, 357, 897, 6, 81, 11, 407, 59, 7, 136, 10, 8, 5, 1866, 367], [811, 39, 230, 82, 35, 39, 27, 469, 4232, 7, 8291, 26, 382, 4232, 68, 701, 63], [1667, 253, 19, 69, 9, 72, 2, 469, 210, 882, 3572, 8, 1796], [291, 120, 56, 75, 65, 18, 762, 39, 27, 151, 8292, 7, 4052, 94, 235, 48, 2622], [17, 10, 1, 61, 2849, 46, 4145], [1085, 465, 1, 282, 79, 1648, 53, 43, 8, 11, 1482, 675, 176, 1, 4233, 1295, 19, 35, 1, 137, 2244, 14, 165, 1898, 14, 483, 1648, 22], [3645, 7, 76, 5, 138, 14, 60, 582, 26, 25, 575], [186, 17, 8293, 387, 13, 877, 44, 2049, 280, 26, 1049, 462, 155, 610, 493, 581, 179, 305, 423, 362, 1662, 2487, 2488, 371, 268], [3766, 1751, 3861, 52, 9, 643, 3, 23, 302], [252, 264, 15, 140, 2, 324, 220], [394, 291, 39, 258, 85, 18, 731, 298, 344, 72, 85, 20, 1355, 22, 63, 3707, 546, 2860, 44, 1550, 4, 3681, 87, 123, 603, 529, 242, 133, 1865, 2, 59], [546, 18, 5, 8294, 836, 46, 125, 39, 1777, 3, 217], [291, 1360, 83, 1590, 8295, 173, 30, 8, 146, 1092, 1, 221, 136, 761], [71, 10, 13, 3883], [658, 864, 44, 38, 1810], [26, 6, 151, 107, 53, 35, 206, 410, 27, 4, 25, 35, 53, 15, 169, 27, 134, 14, 56, 30, 50, 80], [101, 19, 60, 11, 882, 1, 391, 197, 8, 682], [510, 359, 7, 8296, 174, 117, 34, 8297, 8298, 14, 60, 124], [186, 40, 9, 88, 446, 520, 2, 194, 6, 13, 1277, 149, 46, 525, 9, 83, 1260, 493, 2, 126, 17, 22, 4146], [2223, 578, 172, 13, 421, 1135, 55, 4, 17, 46, 2223, 471, 626, 17, 8299, 2, 536, 3, 63, 8300, 8301, 174, 1965, 8302, 179, 136, 154, 8303, 209], [36, 59, 78, 1, 95, 68, 6, 2, 32, 4234], [1, 92, 54, 164, 96, 204, 25, 259, 13, 495], [62, 301, 24, 1641, 137, 2, 94, 217, 23, 546, 223, 201, 12, 129, 7, 663, 14, 217, 28, 210, 222, 131, 220, 88, 2124, 573, 9, 4, 8304, 3, 58, 428], [5, 521, 28, 5, 315, 533, 132, 60, 3374, 34, 10, 58, 11, 113, 143, 46, 5, 3035, 7, 393, 7, 2216, 10, 30, 3258, 328, 15, 834, 22, 69, 265, 16, 11, 571, 142, 1, 17, 210, 1460, 7, 97, 129, 2821, 40, 265, 31, 129, 8305], [4055, 9, 4056, 19, 9, 25, 4057], [47, 29, 3, 425, 2, 3741, 19], [1853, 261, 248, 4086, 358, 48, 2, 425, 1129, 9, 8306, 1061, 78, 1921, 76, 8307, 7, 34, 3946, 1942, 217], [101, 12, 5, 3437, 141, 2162], [17, 10, 45, 6, 298, 56, 1, 59, 89, 205, 6], [641, 13, 1184, 338, 675, 12, 8308, 307, 348, 1904, 1905, 589, 592, 2, 126, 17, 8309, 712, 400, 2274, 676, 1270, 1825, 1825], [554, 43, 11, 953, 8310, 402, 11, 113, 28, 78, 7, 36, 510, 38, 495, 123, 3, 21, 57, 16, 4, 124, 403], [95, 516, 461, 1, 862, 47, 487, 14, 9, 19, 1, 32, 454, 8, 11, 222, 34, 4, 8311, 273, 51, 8312, 8, 5, 424, 15, 5, 3317, 212, 19, 121, 357, 711, 2, 10, 8313, 223, 48, 8314, 990], [1263, 27, 3, 115, 167, 51, 47, 116, 107, 1048, 8315, 8, 1167, 7, 47, 242, 494, 27, 14, 32, 740, 62, 178, 487, 2, 16, 4, 91, 202, 968], [146, 4000, 2447, 67, 1, 356, 180, 3064, 815, 93, 17, 6, 45, 30, 1151], [1451, 30, 28, 926, 22, 893, 76, 5, 367, 974], [1, 27, 17, 8, 42, 41, 195, 35, 310, 50], [252, 37, 78, 147, 2, 29, 1118], [184, 9, 2902, 8, 64, 20, 8316, 207, 202, 259, 14, 638, 160, 8317, 14], [10, 128, 1161, 9, 643, 1071, 2, 205, 43, 11, 3700, 7, 5, 497, 9, 258, 85], [431, 38, 1131], [58, 8318, 8319, 75, 358, 962], [325, 51, 724, 13, 168, 8320, 247, 8321, 8322, 8323, 8324], [161, 57, 1, 16, 106, 628, 79, 3], [6, 81, 4, 734, 6, 1177, 106, 1076, 444, 20, 342, 384, 155, 26, 4, 44, 280, 1461, 1182, 378, 2, 4, 299, 779, 20, 126, 8325, 195, 268], [], [25, 273, 757, 14, 655, 8, 4035, 4036, 28, 2437, 9, 19, 660, 18, 866, 963, 217, 4037, 963, 76, 4038, 50], [1, 61, 72, 2, 227, 1, 61, 885, 15, 1761], [256, 36, 52, 1, 60, 1156], [291, 24, 144, 25, 1216, 10, 1596, 22, 23, 860, 93, 354, 235, 14], [176, 37, 36, 292, 2, 134, 13, 65, 4, 421, 133, 2085], [47, 302, 202, 3, 31, 91, 36, 8326, 8327, 530, 206, 950], [5, 331, 8328, 8, 8329, 615, 46, 5, 8330, 8331, 8332, 8333, 224, 513, 5, 1241, 9, 1091, 751, 16, 4, 57, 65], [423, 542, 37, 77, 317, 1213], [8334, 120, 112, 6, 357, 1805, 12, 5, 206, 8335], [103, 987, 46, 1184, 484, 48, 73, 193, 2, 37, 2300, 472, 566, 87, 46, 64, 343, 154, 44, 792, 1314, 1670, 2301, 2302, 2303, 1552], [1, 123, 13, 3947, 2893, 1014], [119, 630, 111, 161, 34, 11, 286, 814, 1019, 132, 1, 234, 51, 34, 44, 4, 114, 22, 211, 3975, 200, 62, 106, 1235, 329, 4, 114], [1551, 221, 203, 2, 816, 584], [8336, 559, 11, 880, 2361, 231], [53, 1606, 490, 415, 15, 10, 87, 50, 1, 16, 37, 351, 1, 36, 196, 75, 157, 36, 12, 415], [240, 75, 15, 5, 1858, 24, 2857, 9, 467, 37, 812, 23, 62, 8337], [641, 13, 855, 338, 675, 12, 348, 856, 857, 904, 204, 1, 436, 592, 17, 8338, 712, 400, 8339, 676, 2659, 419, 2151], [833, 860, 27, 271, 146, 4235, 859, 75, 24, 420, 146, 284, 15, 1355], [621, 19, 223, 32, 219, 26, 131, 220], [1, 77, 474, 79, 19, 541, 317], [3, 16, 187, 74, 4, 927, 1541, 239, 88, 880, 121, 1264, 3, 2, 185, 4, 1222, 149, 2, 472, 9, 438, 36, 17, 4149], [450, 3, 128, 1006, 3058, 1687], [115, 250, 10, 97, 8340, 19, 1, 230, 167, 104, 143, 119], [1, 61, 8, 1913, 1616, 22, 72, 2, 373, 4099, 8, 4, 304, 395], [204, 40, 33, 8341, 5, 320, 15, 2641], [582, 138, 1585, 12, 10, 1, 61, 42, 41, 517, 591, 123, 19, 1084, 1300, 3], [383, 3, 142, 167, 190, 515, 2, 29, 1420], [4211, 5, 3872, 15, 4, 492, 92, 3158, 14, 1, 61, 292, 74, 2670, 128, 651, 82], [1, 1288, 13, 103, 297], [30, 267, 123, 3, 21, 182], [182, 8342, 8343, 7, 8344, 1668, 3, 172, 36, 48, 2, 5, 8345, 1772, 7, 401, 12, 5, 552, 1734, 2, 32, 196], [262, 2, 6], [141, 407, 1, 77, 2, 3508, 678, 13, 1622], [171, 7, 26, 8346, 7, 564, 74, 11, 113, 478, 2, 152], [120, 4, 521, 1, 54, 9, 8347, 231, 11, 3764, 2, 31, 129, 110, 2008, 435, 1166, 32, 486, 2, 31, 4, 332, 1500, 2, 926, 220], [2794, 9, 75, 15, 145, 8348, 8349, 20, 2944, 4, 222, 8, 1149, 8350, 23], [193, 113, 9, 8351], [49, 157, 171, 12, 1088, 5, 664, 1639, 233, 268, 191, 8352, 20, 2369, 127, 664, 73, 51, 20, 650, 73, 84, 8353, 4236], [540, 4153, 244, 89, 564, 22, 4154, 4155, 703, 389, 544, 376, 518, 195, 64, 46, 4156], [101, 86, 87, 1, 379, 59, 2, 353, 1, 16, 551, 8354], [30, 158, 101, 1, 8355, 13, 511, 18, 3587], [119, 350, 1, 273, 19, 60, 13, 568, 8356, 19, 36, 559, 23, 116, 133, 1325, 22, 921, 7, 5, 1272, 1207, 60, 5, 227, 18, 4, 8357, 989, 3, 196, 10, 924, 19, 47, 3, 234, 18, 13, 568, 119, 7, 287, 13, 168, 48, 34, 3, 12, 19, 4237, 34, 13, 8358], [2762, 4227, 8359, 283, 52, 119], [122, 3117, 424, 20, 709, 424, 162, 1478, 424, 44, 3902, 424, 216, 8360, 424, 275, 8361, 424, 307, 1669, 424, 455, 1082, 424, 426, 8362, 424, 42, 41, 8363, 424], [8364, 1404, 1091, 23, 1, 436, 258, 34, 129, 6, 296, 1707, 515, 39, 408, 59, 85], [111, 3, 54, 52, 1, 590, 1449], [98, 466, 9, 1304, 1, 172, 32, 139, 2, 147, 460, 109, 53, 12, 8365], [176, 993, 101, 16, 415], [140, 711, 2, 5, 2661, 212], [1, 54, 349, 3616, 137, 14, 34, 1019, 3976, 31, 34, 1043, 4238, 222, 4238, 63, 860], [8366, 1678, 832, 9, 1476, 3, 2, 32, 104, 269, 91, 141, 4239, 26, 37, 4239, 82, 104, 154, 247, 874, 6, 8367, 84, 71, 84, 746, 2, 1477], [5, 8368, 479, 8369, 876, 294, 16, 5, 262, 8370, 1549, 36, 16, 5, 286, 2094, 15, 831, 8371], [37, 122, 1752, 245, 44, 38, 512, 188, 114, 36, 73, 3986, 2, 2229, 397, 245, 49, 23, 31, 2566, 22, 7, 97, 38, 266, 191, 245, 272, 91, 1874, 2567], [153, 36, 678, 244, 7, 1279, 269, 8372, 56, 134, 5, 1424, 438, 74, 2004], [508, 8373, 58, 4, 4230, 4063, 7, 121, 2, 32, 78, 1878, 329, 69, 273, 23, 32, 108, 976], [45, 125, 29, 1, 205, 3, 43], [74, 1103, 6, 27, 17, 10, 545, 419, 705], [103, 2307, 1927, 1928, 145, 1169, 24, 2981, 5, 330, 23, 92, 2308, 34, 38, 266, 36, 1319, 169, 170, 152, 30, 232, 935], [12, 242, 248, 62, 127, 8374, 7, 14, 27, 32, 740, 12, 3981, 8375, 7, 8376, 4240, 218, 4191, 4240], [1139, 388, 221, 48, 75, 65, 1417], [26, 36, 29, 19, 8377], [593, 1541, 828, 1077, 34, 3189, 21, 444, 2, 4, 342, 4, 910, 468, 35, 13, 143, 1237, 17, 3190, 2, 342, 13, 910, 468], [3, 16, 2, 115, 134, 4, 2202, 15, 53, 96, 204, 8378, 2, 182, 167, 51, 46, 104, 485, 35, 698, 515, 60, 3737, 9, 67, 4, 1405, 26, 2165, 8, 5, 297, 181, 10, 54, 131], [686, 55, 67, 214, 32, 4, 337, 15, 63, 1172, 8, 19, 8379, 8380, 392, 921, 26, 94, 13, 8381, 55, 4, 57, 1405, 72, 2, 2744, 8, 4, 228, 302, 946, 22], [62, 1437, 35, 35, 8382, 332, 138, 56, 2689, 62, 296, 12, 129, 2, 1403, 14], [4234, 107, 95, 97, 6, 19, 5, 836, 3193, 15, 2700, 3449, 21, 4196, 8383, 8384, 2649, 12, 5, 207, 20, 1063, 1, 287, 227, 28, 53, 174, 117], [71, 10, 5, 103, 143], [68, 5, 352, 361, 1491, 649, 723, 102, 427, 278, 332, 527, 312, 966, 91, 26, 17, 707, 12, 588, 150], [20, 7, 332, 517, 1, 496, 13, 691], [119, 12, 8385, 3978, 662, 8, 55, 8386], [256, 19, 60, 5, 207, 330, 1, 60, 223, 151], [8387, 21, 276, 5, 352, 193, 113, 4, 1527, 969, 1348, 782, 26, 4, 627, 149, 73, 331, 472, 2, 37, 1720, 2400, 2401, 191, 1986], [8388, 80, 140, 63, 6, 246, 20, 59, 89, 416, 44, 199], [49, 1752, 445, 70, 1595, 2, 1959, 2, 31, 13, 49, 654, 245, 15, 5, 114, 22, 272, 2493, 8389, 8390, 8391, 1639, 8392], [1, 436, 1151, 8, 334, 20, 2689], [37, 1, 287, 590, 2, 624, 14, 1, 3866, 14, 7, 55, 23, 242, 249, 494, 198, 8393, 283, 2, 3, 1, 181, 14, 1548, 67, 14, 60, 52, 1, 60, 557, 28, 5, 63, 1, 60, 798, 202, 1, 402, 1, 742, 71, 56, 84, 14, 924, 67, 1, 1844, 18, 11, 113, 45, 1, 58, 2, 11, 315, 14, 924, 67, 3, 165, 3, 287, 227, 3, 211, 540, 23, 164, 1860, 19, 32, 5, 63, 2, 1042, 8394, 3684, 820, 28, 863, 134, 5, 386], [2866, 1717, 8395, 136, 8396, 8397, 8, 8398, 40, 2182, 2866, 1717, 31, 122, 49, 2723, 3423, 36, 498, 130, 1342, 4241, 506, 44, 307, 928, 136, 179, 136, 4241, 91, 1079, 44, 8399, 1054, 903], [33, 3, 59, 541, 87, 117], [56, 184, 288], [30, 8, 8400, 29, 3, 68, 184], [33, 29, 16, 4, 57, 65], [39, 2071, 2, 2214, 6, 19, 5, 8401, 121, 490, 4, 1208, 6, 211, 294, 396, 2218, 105, 1501, 20, 2720, 1472, 994, 8402, 8403, 39, 81, 101, 44, 5, 8404], [66, 19, 280, 968, 557, 218, 35, 1, 16, 2, 48, 2, 5, 8405, 8, 127, 441], [1, 61, 18, 5, 138, 2, 2410], [2372, 2605, 44, 4242, 307, 243, 2501, 20, 4242, 3330, 34, 4, 693, 2597, 46, 275, 8406, 46, 4, 875, 76, 8407, 2, 135, 2605, 4, 20, 2372, 8408, 160, 8409, 278], [789, 148, 58, 4, 3597, 4243, 8410, 902, 2, 32, 5, 8411, 317, 2, 918, 5, 4243, 25, 459, 1382, 5, 1643, 830, 435, 30, 902, 2, 32, 67, 2, 918, 3, 7, 22, 198, 577, 3, 8412, 24, 577, 8413], [39, 614, 8414, 12, 4, 622, 8415, 7, 1, 2848, 192, 8416, 8417, 11, 8418, 7, 439, 142, 16, 4123, 28, 78, 82, 3, 150], [36, 1777, 1043, 217, 1356, 85, 22], [40, 9, 5, 446, 63, 39, 16, 548, 20, 194, 6, 6, 16, 187, 5, 649, 1232, 149, 20, 126, 9, 438, 17, 4020, 22, 64, 518, 238, 195, 389, 544, 376], [1157, 8, 781, 251, 12, 644, 2, 31, 51, 15, 11, 2052, 23, 1, 27, 94, 4, 938], [509, 13, 17, 3, 287, 82, 11, 1209, 605], [502, 483, 3, 294, 619, 13, 453, 871, 8419], [62, 23, 1866, 8420, 47, 81, 6, 140, 81, 6, 159, 47, 60, 38, 65, 23, 181, 10, 151, 6, 190, 1034, 112, 6, 295, 87, 35, 25, 29, 14, 22, 257, 2015], [119, 8421, 39, 294, 1261, 422, 256], [39, 27, 48, 44, 146, 1018, 1510, 160, 88, 1694], [50, 181, 6, 597, 45, 1, 235, 11, 297], [119, 141, 164, 9, 14, 55, 8422, 380, 1065], [326, 29, 110, 2722, 145], [36, 8423, 19, 8424, 128, 1768, 43, 2, 381, 7, 121, 710, 217, 2, 210, 8425, 26, 190], [58, 52, 14, 722, 20, 94, 418, 8, 5, 2088, 2089, 8, 1790, 6, 27, 34, 2090, 1055, 70, 2089, 2559, 2, 3417, 1236, 82, 3418, 26, 2090, 281, 241, 2088, 3419, 32, 6], [98, 5, 8426, 708, 21, 251, 12, 3, 2, 70, 169, 70, 22, 12, 4, 124, 117, 2540, 71, 84, 2, 84, 40, 233], [57, 177, 11, 718, 431, 448, 2240, 8427, 1189, 11, 500, 1828, 22, 52, 29, 3, 29, 29, 3, 100, 15, 10, 29, 3, 933, 10, 29, 3, 77, 10], [940, 639, 847, 42, 41, 12, 20], [369, 49, 17, 10, 339], [120, 29, 3, 68, 184, 2, 201], [120, 168, 431, 14, 72, 112, 3, 357, 1023, 51, 125, 13, 72, 12, 103, 517], [90, 90, 8428], [502, 585, 2, 54, 125, 5, 456, 3, 21], [37, 14, 60, 4013, 153, 407, 111, 19, 686, 487, 23, 1, 862, 11, 750, 135, 10, 4, 599, 131, 18, 40, 801, 66, 949, 254], [2309, 1, 68, 2, 58, 2, 8429, 28, 42, 531, 41, 23, 3, 59, 2, 430, 1171, 28, 426], [252, 48, 78, 340, 151, 457, 2, 205, 10, 43, 28, 275], [1247, 3, 27, 134, 4, 2836, 8430, 8, 8431, 164, 29, 107, 31, 53, 5, 57, 283], [30, 1298, 22, 80, 24, 560, 85, 2, 147, 219, 146, 8432, 8433, 498, 605, 1, 373, 813, 340, 178, 228], [325, 470, 1, 16, 8434, 8435, 7, 1287, 1276, 2, 3, 2664, 1875, 94, 189, 2355, 1687], [767, 113, 40, 113, 1, 619, 40, 75, 24, 2024, 5, 249, 9, 277, 1, 95, 111], [435, 1, 95, 100, 1, 27, 8436, 184, 43, 108, 1196, 54, 35, 3, 68, 10, 2, 609, 231, 1419, 7, 2589], [30, 148, 85, 78, 23, 37, 374, 25], [98, 40, 9, 3100, 39, 33, 32, 883, 3, 4, 49, 113, 143, 8, 4, 846, 15, 306, 224, 33, 135, 3, 127, 1109, 2, 53, 5, 1789, 8437], [1, 61, 8, 430, 18, 5, 138, 2, 2711], [98, 62, 10, 3, 21, 374, 313, 128, 116, 415, 2, 31, 40, 157, 24, 1, 273, 574, 73, 6, 173, 161, 540, 7, 2658, 121, 106, 8438, 28, 10, 53, 117], [98, 407, 161, 410, 18, 5, 1914, 430, 28, 5, 1256, 7, 1, 379, 32, 78, 459, 79, 307, 770, 326, 29, 1732, 131, 17, 10, 131, 8439, 85, 2156, 671], [848, 2, 4244, 127, 1400, 233, 34, 1621, 3890, 3, 27, 22, 17, 88, 1076, 8440, 8441, 49, 46, 13, 99, 76, 8442, 8443], [1, 839, 44, 666, 465, 11, 2219, 759, 174, 114, 4245, 4245, 22, 30, 223, 2204, 76, 8444, 11, 424], [6, 258, 85, 44, 344, 630, 457, 151, 10, 23, 1, 509, 871, 460, 6], [159, 11, 2162, 45, 33, 3, 201, 4, 1266, 173, 1, 16, 12, 1252, 7, 431, 1676], [8445, 36, 3708, 43, 137, 4, 399, 943, 79, 6, 637, 23, 1, 92, 55, 6, 156, 22, 1, 440, 54, 184, 79, 2140, 117, 24, 1, 336, 161, 43, 12, 14], [30, 4131, 1, 58, 17, 46, 13, 143], [164, 287, 6, 17, 18, 13, 314], [52, 1, 590, 60, 1, 402, 128, 364, 2, 325, 173, 30, 437, 4, 426, 275], [1, 68, 42, 41, 835, 86, 29, 3, 16, 14], [4, 293, 15, 38, 295, 9, 11, 4120, 4, 663, 15, 38, 1436, 9, 11, 4121, 4, 418, 15, 38, 308, 9, 11, 166, 4, 308, 55, 694, 648, 189, 12, 6, 2850, 74, 11, 4122], [291, 50], [1, 68, 2, 82, 13, 763, 1622], [118, 697, 1542, 16, 13, 206, 1940, 18, 199, 279, 5, 1290, 989, 18, 13, 1238, 20, 322, 4, 20, 44, 122, 8446, 1310], [4, 304, 277, 21, 28, 5, 629, 30, 28, 5, 2291, 34, 2377, 7, 8447], [186, 39, 21, 292, 2, 194, 6, 593, 290, 348, 19, 3, 16, 187, 4, 618, 149, 276, 17, 8448, 46, 657, 312, 126, 1214, 506, 674, 64], [3, 27, 4246, 852, 237, 2, 8449, 8450, 8451, 8452, 918, 8453, 76, 1449, 4246, 2, 8454, 852, 237, 33, 32, 1621, 2, 13, 206, 1009], [1364, 9, 25, 52, 39, 1444, 12, 150, 14, 9, 5, 1972, 15, 52, 39, 29, 87, 29, 5, 286, 8, 1362, 322, 5, 1364], [1, 33, 4247, 1, 68, 2, 48, 2, 8455, 2429, 160, 19, 1, 648, 4247, 40, 52, 1, 58, 46, 104, 118, 52, 2, 29, 96, 440, 152, 102, 63], [39, 21, 902, 2, 163, 2, 1663, 482, 88, 568, 273, 2238, 253, 3, 8, 5, 447, 273, 39, 27, 48, 12, 667, 160, 19], [120, 59, 541, 279, 2941, 39, 21, 53, 67], [30, 267, 123, 3, 21, 57, 29, 94, 189], [993, 1, 60, 8, 5, 938, 45, 6, 393, 120, 4, 4248, 2334, 8456, 28, 2856, 994, 82, 30, 25, 733, 283, 55, 19, 382, 598], [1534, 6, 23, 1139, 212, 56, 6, 236, 246, 20, 324, 6, 1008, 148], [858, 1, 580, 6, 917, 466, 172, 598, 302, 841, 148], [3, 21, 1968, 197, 448, 1433, 8457, 429, 3], [4, 392, 60, 229, 20, 78, 210, 981, 1198, 15, 2178], [8458, 62, 8459, 289, 3669, 6, 73, 10, 29, 6, 381, 10, 46, 8460, 1, 68, 20, 282, 20, 6, 73, 10], [2192, 103, 517, 34, 11, 665, 7, 210, 607, 651, 425, 2, 163, 206, 114, 21, 3, 311, 2, 32, 3776], [23, 52, 6, 159, 87], [1, 165, 62, 467, 101], [1192, 1, 8461, 63, 42, 41, 625, 9, 25, 8462], [2546, 317, 9, 67], [4249, 2659, 436, 9, 1476, 3, 2, 32, 210, 269, 91, 141, 4250, 26, 37, 4250, 82, 129, 154, 247, 874, 6, 4249, 84, 71, 84, 746, 2, 1477], [92, 181, 1086, 2453, 3, 51, 1533], [240, 289, 6, 529, 20, 197, 10, 572], [37, 8463, 30, 25, 437, 30, 8, 485, 23, 35, 39, 2106, 39, 48, 775], [224, 3146], [23, 13, 777, 10, 1, 8464, 106, 13, 333, 1234, 7, 1, 924, 6, 294, 205, 10, 12, 327], [8465, 910, 468, 593, 1653, 828, 1077, 2476, 21, 444, 2, 342, 4, 910, 468, 35, 3, 16, 4, 940, 105, 17, 1464, 1654, 126, 400, 3673, 1465, 1003, 1466], [39, 490, 14, 4152, 28, 2220, 9, 928, 770, 74, 1444, 123, 2415, 83, 8466, 57, 2, 82, 3, 671], [30, 775, 201, 705, 78], [120, 949], [11, 609, 27, 64, 32, 802, 1, 77, 2, 1153], [36, 1841, 14, 43, 7, 2611, 477, 85, 968, 1283, 2, 32, 104], [139, 103, 274, 123, 3, 21, 313, 4, 57, 950], [1961, 80, 125, 515], [27, 3, 282, 34, 10], [8467, 48, 656, 341, 8468], [111, 62, 25, 55, 3, 396, 393, 225, 4, 8469, 19, 4233, 106, 1437], [760, 465, 8470, 8471, 69, 121, 4054, 210, 521], [3, 83, 208, 433, 2, 205, 43, 131], [1758, 1106, 754, 38, 346, 627, 15, 1097, 522, 623, 26, 8472, 522, 276, 8473, 20, 507, 818, 290, 8474, 576, 2, 838, 1490, 154, 1098, 1929], [463, 225, 108, 19, 121, 4, 274, 42, 41, 8475, 8476, 55, 888, 8477, 953, 8478, 9, 42, 41, 90, 62, 1042, 24, 1, 77, 2, 54, 47, 116, 33, 14, 1048, 12, 35, 1, 27, 2074, 5, 3448, 12, 14, 47, 219, 160, 8479, 33, 14, 1048, 1378, 85], [336, 224, 660, 161, 8, 161, 74, 139, 74, 4, 2061, 8, 8480, 26, 696, 5, 608, 9], [303, 180, 231, 219], [119, 90, 1, 33, 59, 150], [48, 2537, 92, 4044, 1149, 50], [11, 99, 143, 115, 247, 38, 470, 574, 1586, 1784, 2, 8481, 8482, 1024, 1473], [76, 5, 138, 8483, 9, 2, 163, 200, 8484, 92], [3, 16, 187, 4, 276, 384, 155, 26, 4, 618, 149, 2, 126, 784, 149, 17, 88, 239, 233, 1175, 18, 8485, 481, 1293, 1376, 366, 518], [6, 2064, 38, 551, 667, 47, 242, 494, 4, 335, 89, 224, 65], [882, 502, 36, 936, 43, 18, 3, 29, 16, 4, 2971, 345], [261, 718, 1689, 30, 450, 3, 87, 1, 55, 2, 71, 3, 4, 2205, 7, 1846, 3, 30, 628, 15, 3, 7, 3, 21, 980, 699, 413], [1, 100, 5, 249, 442, 83, 77, 2, 31, 155, 24, 39, 27, 1939, 32, 311, 76, 426], [120, 1747, 6, 53, 326, 163, 44, 344, 28, 8486], [118, 3689, 1487, 106, 1075, 2, 1783, 40, 9, 88, 633, 520, 2, 194, 6, 73, 244, 2, 687, 191, 2113, 804, 805, 653, 1026, 1116, 2678], [168, 52, 21, 3, 159, 125, 21, 3, 132, 21, 3, 844, 2, 29, 3, 100, 15, 10, 21, 3, 309, 4, 57, 392, 21, 3, 450, 10, 29, 3, 66, 10], [124, 47, 9, 5, 411, 87], [144, 301, 39, 27, 174, 4, 421, 475, 259, 133, 102, 63, 219], [631, 8487, 8488], [141, 62, 1379, 24, 1493, 271, 115, 92, 97, 2, 102, 75, 90], [435, 1378, 28, 10, 974, 255, 208, 328, 1, 77, 127, 1426, 2, 48, 3951, 18, 277, 8, 4251], [125, 3, 52, 598], [1, 60, 223, 151, 3, 176, 24, 1, 100, 62, 28, 307], [38, 155, 889, 9, 842, 534, 666, 2, 1337, 38, 155, 8, 22, 71, 48, 2, 687, 64, 191, 8489, 1505, 1335, 1025, 804, 805, 653, 1026], [641, 13, 855, 338, 675, 12, 348, 856, 857, 904, 204, 1, 436, 592, 17, 8490, 712, 400, 8491, 676, 4252, 419, 905], [48, 3935, 160, 104, 7, 526, 104, 192, 475, 662, 8492, 5, 1095], [868, 55, 2, 97, 3, 11, 8493, 8494, 1597, 17, 10, 8495, 36, 2147, 195, 2, 84, 453, 17, 1254, 2852, 376], [9, 67, 258, 743, 9, 235, 12, 1684, 29, 3, 31, 102, 636, 46, 13, 147, 222], [120, 178, 8496, 12, 13, 681, 4, 25, 605], [50, 1, 1267, 29, 6, 54, 1, 58, 8497, 8498], [60, 158, 57, 2, 82, 3, 5, 249, 65, 8499, 106, 450, 3], [1, 68, 2, 48, 2, 8500], [47, 242, 494, 1, 253, 8, 5, 8501, 53, 279, 2, 1046, 3, 25, 810, 1213], [3, 287, 385, 14, 46, 10], [171, 12, 309, 67, 12, 10, 36, 2, 282, 2, 18, 776, 3, 21, 178, 118, 2, 10, 1, 4253, 313, 3, 74, 4, 665, 7, 1620, 1386], [115, 8502, 85, 35, 127, 678, 1333, 1342, 19, 1, 16, 27, 32, 8503, 12, 10, 2, 48, 85, 2, 1780], [8504, 929, 832, 9, 1476, 3, 2, 32, 104, 269, 91, 141, 4254, 26, 37, 4254, 82, 104, 154, 247, 874, 6, 8505, 84, 71, 84, 746, 2, 1477], [96, 1821, 217, 34, 4, 8506, 300, 39, 33, 134, 763, 3516, 584], [2102, 2, 31, 13, 49, 2867, 70, 308, 2, 3962, 22, 179, 136, 414, 272, 64, 77, 250, 17, 8507], [811, 2692, 176, 142, 353, 426, 2633, 1958, 319], [409, 11, 457, 165, 69, 258, 78, 20, 491, 199, 51, 44, 314, 291, 1, 48, 690, 6, 80, 1, 17, 6, 45, 1, 405, 485, 80], [39, 16, 196, 3442, 12, 239, 233, 849, 3443, 2580, 2, 38, 470, 574, 12, 474, 194, 199], [4066, 6, 72, 2, 1145, 44, 8508, 7, 31, 4, 293, 1719, 31, 38, 511, 4219, 310, 14], [833, 83, 39, 92, 16, 8509], [153, 23, 1686, 102, 63, 206, 114, 3, 27, 31, 504, 46, 13, 881, 170, 31, 43, 202, 162], [1, 33, 1805, 12, 1573, 11, 308, 8510, 10], [34, 11, 681, 80, 39, 499, 8511, 1787, 317], [1631, 1631, 1631, 125, 21, 3, 1, 214, 955, 15, 8512, 3, 54, 2795, 2796, 2172, 1, 77, 3], [1417, 3, 54, 10, 23, 111], [61, 18, 4, 1127, 85, 46, 3923, 23, 30, 1945, 25, 30, 1083, 8513, 217, 87, 1240, 1240, 33, 32, 208, 1271, 461, 29, 3, 787, 5, 2140, 600, 40, 114, 76, 5, 138], [1096, 86, 2186, 1, 158, 175, 6, 118], [120, 206, 731, 4067, 463, 4, 2212, 1331, 834, 28, 1273, 39, 27, 48, 12, 19, 1510, 1694, 206, 410, 97, 10, 52, 63, 3, 81, 49], [3163, 13, 1306, 9, 158, 399, 87, 869], [49, 361, 365, 898, 34, 332, 527, 312, 966, 12, 928, 1865, 7, 534, 1923, 2176, 278, 735, 896, 17, 756, 2160, 26, 964, 4151], [1, 100, 1, 61, 3706, 104, 86], [101, 93, 17, 3, 131, 1, 61, 8, 316, 339], [514, 2663, 28, 948, 8, 11, 8514, 315, 72, 44, 344, 22, 6, 422, 23, 81, 107, 49, 220], [50, 1, 182, 246, 20, 373, 146, 426, 625, 498], [1, 409, 543, 55, 236, 529], [24, 13, 665, 2391, 64, 42, 41, 42, 41, 432], [1, 464, 3, 131, 447, 8515, 8516, 233, 31, 351, 8, 1419, 8517, 1, 27, 385, 3, 24, 3, 2839, 810, 10], [8518, 8519, 8520, 241, 685, 8521, 1036, 1716, 414, 20, 126, 3, 8522, 13, 126, 143, 224, 9, 8523], [282, 2, 502, 7, 254, 79, 19], [1388, 118, 266, 40, 9, 11, 103, 170, 1362, 143, 76, 8524, 3992, 8525], [2507, 44, 2479, 2480, 1122, 8, 77, 997, 18, 38, 512, 97, 38, 2481, 73, 245, 1138, 2, 586, 12, 2482, 26, 654, 1138, 12, 1248, 1561, 2483, 2047, 20, 1138], [74, 8, 1034, 8526], [185, 4, 1107, 406, 1361, 188, 114, 1130, 22, 20, 353, 70, 972, 2, 2030, 2031, 8527, 8528, 1124, 343, 8529], [257, 785, 118, 4255, 111, 94, 189, 1305, 611, 4256], [40, 9, 5, 446, 520, 2, 1579, 6, 3, 16, 187, 40, 764, 594, 149, 15, 582, 384, 155, 26, 1107, 149, 36, 17, 8530], [111, 30, 1050, 3, 287, 167, 14, 1808, 8531, 176], [521, 37, 2323, 10, 22, 35, 3, 48, 17, 10, 17, 10, 47, 2768, 94, 189, 119], [29, 3, 68, 4, 103, 193, 1863, 562, 113, 2828, 34, 1864, 49, 395, 2, 102, 99, 735, 49, 453, 49, 739, 91, 26, 17, 707], [1161, 1585, 150, 69, 934, 51, 28, 216, 210, 147, 9, 76, 13, 297, 23, 69, 27, 163, 6, 8532], [197, 38, 1596, 8, 38, 308], [153, 135, 10, 4, 17, 35, 789, 58, 4, 646], [98, 168, 8533, 8534, 350, 8535, 51, 895, 8536, 8537, 8538, 8539, 1443, 8540, 2842, 8541, 4049], [1857, 35, 3, 8542, 583, 2183, 14, 1712, 5, 262, 1599, 8543, 2157, 367, 8544, 1806, 8545, 5, 1133, 107, 82, 8546, 1734, 3952, 651, 8547, 1387, 8, 1547, 1710, 8548, 8549, 505, 442, 2614, 505, 75, 62, 1857], [2115, 39, 1663, 131, 323, 205, 109, 43, 28, 44, 9, 14], [120, 139, 434], [101, 1, 496, 13, 17, 27, 3, 105, 17, 85], [1247, 35, 62, 25, 75, 212, 62, 334, 11, 2165, 121, 8550, 45, 382, 40, 399, 65, 318], [57, 177, 161, 8551, 46, 2066, 7, 8552, 33, 25, 32, 486, 2, 59, 2, 411, 87], [1, 379, 29, 184, 542], [52, 744, 15, 283, 29, 3, 1749], [963, 8553, 8554, 1960], [11, 762, 347, 688, 80, 560, 44, 11, 2021, 398, 48, 4235, 160, 1902], [8555, 9, 844, 34, 3, 1213], [98, 8556, 1024, 108, 171, 1, 16, 8557, 5, 8558, 8559, 283, 620, 85, 1154, 233, 76, 8560, 7, 3774], [90, 90, 40, 345, 8561, 434, 54], [24, 30, 158, 158, 1799, 119, 37, 1855, 9, 128, 959, 218, 42, 41], [101, 79, 19, 40, 9, 11, 914, 113, 7, 1, 440, 1153, 14, 66, 949], [1679, 742, 5, 989, 2, 31, 4, 3204, 2713, 8562, 629, 5, 103, 37, 122, 46, 8563, 4, 733, 8564, 8565, 26, 4, 8566, 8567, 2867, 53, 44, 49], [347, 111, 19, 3602, 248, 1084, 14, 1, 273, 60, 266, 34, 22, 383, 1, 112, 5, 767, 212, 24, 1, 148, 975, 15, 1075, 637, 69, 265, 25, 59, 173, 15, 215], [370, 17, 10, 369, 255, 672], [760, 310, 267, 1, 356, 16, 4, 2498, 637], [40, 130, 9, 12, 13, 99, 747, 573, 14, 121, 106, 8568, 74, 2862, 520, 2504, 1570, 2, 427, 4228, 8569, 2, 8570, 8571, 241, 209], [8, 249, 636, 160, 8572, 10, 2, 31, 129, 1112, 12, 4, 114, 8573, 121, 37, 215, 8574], [4, 392, 980, 4, 922, 69, 3822, 389, 96, 440, 321, 69, 3823, 3824, 3825, 389, 104, 876, 3826, 2755, 200, 145, 392, 706, 20, 3827, 145, 922, 3828, 63, 4, 3829, 60, 3830, 1311, 145, 922, 2756, 14, 60, 79, 20, 742, 145, 388, 145, 392, 1821, 55, 1309, 89, 2057, 104, 96, 473, 3831, 2683, 6, 526, 23, 729, 984, 145, 392, 1471, 1837, 9, 145, 753, 15, 11, 1055, 89, 2757, 145, 388, 2457, 88, 1055, 89, 3832, 3833, 3834, 3835, 2758, 1837, 3836, 1414, 15, 145, 683, 1, 1962, 49, 677, 145, 257, 785], [4030, 10, 18, 226, 685, 8575, 8576, 46, 8577], [1, 158, 77, 20, 413, 6, 1, 175, 6, 11, 407, 46, 38, 407, 4257], [5, 1193, 15, 4098, 9, 25, 45, 39, 355, 608, 341, 248, 24, 396, 14, 9, 45, 39, 355, 2094, 959, 248, 16, 4, 228, 452, 894], [119, 3, 58, 242, 8578], [3, 16, 122, 103, 157, 105, 17, 8579], [198, 1070, 558, 148], [1685, 64, 137, 13, 99, 1199, 3, 21, 1278, 2, 523, 2, 5, 352, 562, 365, 99, 12, 49, 17, 5, 99, 523, 8580, 49, 18, 1946], [6, 1499, 77, 4, 2955, 46, 146, 8581, 466, 4161, 1360, 6, 246, 20, 94, 249, 3546, 397], [2724, 164, 5, 456, 9, 1146, 8, 458], [31, 162, 3463, 1065, 245, 91, 3464, 44, 2402, 26, 3465, 44, 654, 44, 133, 48, 20, 154, 1057, 281, 241, 5, 1800, 89, 286, 488, 2103, 427, 779, 1003, 414], [171, 2667, 10, 34, 1403, 3655, 7, 8582], [8583, 2355, 1687, 8584, 8585, 8586, 8587, 8588, 8589, 1599, 262, 108], [21, 3, 551, 26, 1251], [176, 12, 333, 96, 253, 11, 457, 1, 16, 1628], [641, 13, 855, 338, 675, 12, 8590], [993, 1, 112, 16, 14, 42, 41], [25, 8591, 8592, 408, 8593, 1786, 28, 275, 31, 4, 430, 2, 2720, 297], [98, 604, 71, 110, 228, 677], [69, 9, 2759, 2, 2308, 34, 7, 69, 232, 8594, 10, 55, 210, 1223, 55, 69, 294, 2191, 10, 224, 69, 112, 7, 1, 33, 1846, 129, 15, 19, 35, 4032], [160, 11, 147, 347, 398, 275, 505, 80, 6, 1227, 532, 630, 398, 48, 948, 80, 37, 249, 222, 2, 48, 340], [2, 5, 737, 8595, 16, 4, 124, 345, 39, 4253, 3, 359, 7, 270, 3, 111, 715, 65, 3263], [1296, 8596, 7, 732, 326, 1010], [489, 79, 18, 1565, 555, 1, 61, 162, 56, 24, 64, 530, 426], [102, 138, 125, 21, 3, 7, 52, 159], [19, 1283, 93, 48, 192, 23, 6, 27, 29, 11, 511, 783, 29, 14, 49, 156], [144, 83, 25, 437, 7, 40, 63, 1, 182, 548, 8597, 8598, 19, 60, 5, 8599, 5, 936, 9, 42, 41], [780, 409, 422, 860, 4, 1558, 44, 8600, 51, 349, 9, 25, 128, 959, 26, 354, 184, 1602, 8601, 705, 349, 1, 27, 197], [8602, 64, 1190, 23, 1251, 39, 639, 87], [101, 60, 28, 5, 8603], [67, 21, 110, 228, 8604, 1119, 108, 26, 67, 9, 8605, 89, 8606, 1119, 5, 2866, 1168], [3, 2114, 187, 13, 44, 1427, 1004, 1428, 280, 26, 617, 610, 493, 17, 1610, 22, 1611, 581, 792, 204, 1612, 1613, 1394, 1614, 237, 625, 1615], [291, 1, 514, 106, 67, 202, 3, 68, 2, 48, 12, 5, 1331, 1, 27, 17, 43, 2, 536], [119, 2361, 14, 1247, 525, 1, 137, 4, 943, 19, 1, 137, 20, 1230, 575, 1606, 1, 60, 23, 1768, 25, 64, 79, 5, 1230, 24, 169, 309, 1606, 1, 218, 253, 1161, 8, 11, 943, 19, 69, 60, 8607, 8608, 640, 30, 25, 259, 8609, 8, 5, 424], [153, 1, 1329, 69, 172, 32, 158, 1737, 8610, 5, 249, 2576, 132, 702, 831, 8611, 55, 8612], [22, 19, 3, 16, 639, 92, 84, 36, 1006, 12, 133, 57, 2647, 7, 184, 1, 82, 19, 27, 250, 3, 359, 1, 391, 1339, 3, 4, 989], [98, 750, 161, 18, 8613, 801, 161, 223, 180, 43, 5, 8614, 20, 555, 105, 59, 43, 1873, 66, 949], [30, 8, 411, 22, 86, 125, 21, 3], [2086, 6, 23, 1139, 212, 1, 135, 6, 11, 918, 90, 3574, 3, 93, 100, 15, 6], [119, 8615, 25, 399, 1743, 124, 1352, 5, 3195, 353, 2125, 33, 135, 1964, 195, 3281], [31, 13, 8616, 311, 12, 1381, 34, 4, 49, 1943, 15, 1381, 8617, 7, 8618, 749, 3997, 237, 64, 34, 5, 8619, 40, 776, 2, 84, 8620, 8621, 281, 241], [90, 56, 59, 8622, 6, 1861, 2, 59, 7, 182, 795, 1432, 2, 59, 76, 259, 49, 63], [115, 17, 10, 86, 52, 598], [139, 103, 274, 2, 6, 7, 38, 607, 265, 40, 103, 274, 491, 908, 8623, 7, 8624, 2, 38, 8625, 8626, 166], [37, 351, 34, 5, 3136, 1, 391, 29, 14, 156, 504, 24, 1, 92, 54, 210, 474], [2133, 30, 1157, 108, 8, 4, 84, 7, 533, 4248, 337, 156, 22, 8627, 11, 1133, 51, 328, 1, 213, 55, 30, 4, 8628, 8, 439, 1146, 585, 10, 7, 22, 1, 213, 55, 30, 8629, 3], [550, 402, 263, 23, 374, 223, 32, 108, 530, 344], [55, 42, 41, 262, 561], [11, 103, 517, 626, 60, 50, 1, 234, 2, 4, 816, 34, 11, 3581, 132, 9, 40, 1969, 56, 120], [339, 1, 77, 8630, 8631, 564, 15, 2700, 7, 720, 788, 8632, 474], [90, 90, 247, 244, 34, 10], [1, 33, 59, 34, 8633, 315, 105, 203, 547, 2642, 33, 1463, 1187, 1145], [37, 24, 5, 8634, 782, 27], [50, 56, 81, 39, 316, 131], [176, 37, 1, 36, 77, 2, 155, 8, 11, 2914, 1357, 59, 18, 202, 1, 3014, 51], [36, 71, 4, 70, 603, 2161, 131], [50, 235, 37, 77, 2, 151], [252, 83, 58, 1094, 252, 8, 558], [289, 96, 236, 596, 422, 1, 580, 1, 253, 104, 144, 519, 148, 1, 264, 96, 945, 136, 199, 2860, 56, 96, 596], [119, 112, 3, 601, 365], [8635, 58, 110, 8636, 3, 27, 3738, 14, 8, 11, 678, 8637, 35, 3, 55], [22, 30, 72, 12, 314], [30, 8, 485, 22, 89, 93, 32, 8, 86, 1998, 159, 110, 283, 135, 10, 4, 17, 45, 109, 81, 260], [119, 90, 1, 33, 59, 150], [370, 70, 10, 220, 7, 603, 82, 554, 43], [6, 20], [1037, 8638, 8, 4126, 8639, 8640], [178, 3880, 7, 21, 380, 5, 446, 75, 22, 24, 30, 8, 386, 368, 611, 175, 6], [247, 664, 4, 1577, 103, 193, 3580, 9, 43, 44, 664, 87, 664, 9, 49, 20, 469, 94, 418, 73, 193, 2, 1603, 22], [98, 123, 6, 81, 575, 50, 69, 165, 69, 172, 70, 7, 69, 1907, 16, 6, 897, 129, 181, 10, 231, 2594, 105], [168, 1, 758, 66, 3, 128, 3, 54, 456, 14, 60, 23, 57, 2, 385, 13, 1032, 1, 23, 77, 19, 1, 933, 14, 1, 221, 31, 428, 1, 2665, 3, 1618, 1947], [90, 183, 61, 8, 11, 3889, 78, 247, 10, 542, 115], [1, 196, 169, 29, 3, 55], [8641, 1, 77, 2, 84, 4229, 1568], [30, 8, 458, 22, 23, 93, 354, 94, 1092, 231, 131], [1, 36, 4043, 4, 1354, 228, 8642, 4, 1274, 3], [1, 8643, 694, 2, 1209], [52, 63, 6, 8644], [8645, 476, 8, 20, 4, 537, 867, 12, 4, 320, 2, 185, 127, 969, 73, 2118, 2, 2680, 2, 31, 476, 925, 73, 376, 179, 634, 414, 2681, 12, 474, 268], [88, 1759, 4172, 6, 383, 1278, 2, 1975, 666, 8, 8646, 12, 5, 2837, 3, 137, 2, 126, 44, 49, 91, 34, 126, 2, 40, 130, 20, 84, 73, 84], [119, 119, 398, 945, 579, 425, 340, 48, 85, 16, 2, 1697, 1698, 200], [144, 2211, 3, 8, 1249, 26, 4251], [50, 94, 38, 63, 89, 322, 38, 344], [909, 60, 608, 349, 35, 6, 316, 86, 1104, 398, 39, 236, 163, 44, 344, 173, 131, 6, 235, 1132, 33, 213, 8647, 398, 6, 163, 129, 44, 314, 80], [1848, 43, 13, 512, 34, 4, 2752, 493, 15, 4, 1341, 700, 157, 505, 4, 49, 1818, 245, 73, 689, 1848, 2, 586, 1561, 3813, 238, 1341, 700], [1, 55, 1125, 24, 1637, 139, 2, 8648, 51, 18, 5, 942, 35, 14, 559, 3, 213, 296], [96, 204, 267, 1, 16, 137, 3411, 34, 104, 113, 14, 1585, 34, 694, 27, 3, 115, 71, 104, 334, 269, 1446], [915, 11, 8649, 1292, 8650, 8651, 14, 18, 1147], [17, 2343, 12, 64, 122, 2306, 238, 646, 17, 46, 4, 1201, 312, 895, 1109, 143, 3030, 3031, 1951, 1951, 37, 3032, 884, 1109, 154, 8652, 281, 241], [3, 2114, 187, 13, 44, 1427, 1004, 1428, 280, 26, 617, 610, 493, 17, 1610, 22, 1611, 581, 792, 204, 1612, 1613, 1394, 1614, 237, 625, 1615], [489, 4162, 1028, 27, 6, 31, 18, 2820], [10, 267, 4197, 267], [47, 59, 96, 27, 31, 14, 142, 180, 358, 2466, 2, 336, 630], [137, 13, 99, 1199, 523, 12, 49, 2, 3790, 352, 562, 365, 987, 799, 403, 464, 17, 99, 3791, 18, 2702, 806, 26, 2801], [1, 33, 405, 38, 78, 8, 42, 41, 395], [168, 30, 2155, 3, 221, 3, 82, 10, 383, 1166, 296, 3985, 1767, 1, 58, 5, 1393, 144, 124], [98, 52, 3, 100, 79, 940], [1, 54, 3, 21, 1156, 1350, 24, 1509, 1122, 230, 2201, 1350, 96, 172, 16, 106, 1437, 7, 62, 4258, 35, 96, 722, 428, 2, 4259, 104, 2222, 104, 2737, 33, 4260, 7, 35, 3, 135, 104, 1350, 1632, 22, 96, 33, 36, 1813, 62, 4, 1353, 4261, 4262, 96, 121, 224, 513, 8, 4, 304, 306, 14, 33, 1188, 84], [2776, 1, 3307, 24, 67, 9, 64, 2532, 2624, 224, 1, 27, 64, 526, 19, 2532, 160, 2974], [14, 9, 64, 525, 519, 519], [90, 90, 47, 9, 13, 2363, 22], [162, 432, 24, 25, 444], [4185, 1318, 832, 9, 1476, 3, 2, 32, 104, 269, 91, 141, 2221, 26, 37, 2221, 82, 104, 154, 247, 874, 6, 4186, 84, 71, 84, 746, 2, 1477], [111, 310, 228, 128, 399, 1, 230, 324, 14], [1, 1937, 2138, 1043, 78, 8, 5, 362], [115, 96, 716, 2, 349, 1061, 26, 96, 33, 1813, 133], [1, 16, 2, 94, 951, 34, 8, 890, 162], [2582, 1497, 25, 560, 20, 2785, 213, 303, 160, 4194, 555, 8653, 8, 148, 1412, 44, 10, 8654], [216, 1484, 39, 713, 1083, 28, 8655, 2224, 340, 128, 962], [35, 1, 955, 1, 68, 6, 2, 16, 53, 11, 8656], [119, 456, 8657, 43, 8, 4, 386, 18, 4, 8658, 5, 8659, 1192, 721, 1318, 274, 591, 8660, 2169, 6, 86, 2332, 1533, 377], [295, 8, 1291, 295, 8, 497, 295, 45, 1173, 2916, 55, 1073, 295, 45, 2261, 1292, 6, 295, 1893, 225, 83, 1174, 2, 82, 6, 709], [1, 509, 961, 1366, 2430, 46, 2803, 485, 7, 14, 1479, 51, 417, 4165], [641, 13, 855, 338, 675, 12, 801, 37, 348, 856, 857, 904, 204, 1, 436, 592, 17, 8661, 712, 400, 8662, 676, 2217, 419, 905], [14, 513, 6, 214, 25, 197, 38, 563], [760, 30, 83, 8, 5, 2434], [1, 4213, 3, 21, 4, 572, 521, 7, 30, 292, 25, 2, 32, 4, 1300, 1, 16, 2, 31, 110, 1810, 2213, 5, 138, 7, 56, 271, 5, 1852, 29, 16, 4, 645, 65], [120, 52, 47, 79, 13, 845, 639, 1213, 86], [50, 301, 82, 226, 56], [61, 18, 5, 8663, 1772, 61, 1, 1078, 5, 8664, 64, 26, 61, 1, 1078, 14, 34, 5, 1353, 8665, 182], [13, 1220, 79, 10, 122, 192, 20, 1982, 162, 1983, 44, 1082, 216, 1121, 275, 1718, 1524, 307, 25, 1984, 455, 1719, 426, 693, 115, 91], [8666, 3, 54, 9, 292, 2, 194, 3, 895, 88, 726, 233, 2, 167, 51, 132, 14, 214, 32, 17, 46, 13, 99, 26, 387, 8667, 3068], [153, 1, 27, 83, 135, 3, 4, 1643], [960, 585, 2, 147, 51, 207, 431, 44, 971], [257, 257, 90, 604, 8668, 189, 227, 111, 257, 978], [62, 4, 418, 15, 936, 1888], [780, 628, 80], [15, 834, 95, 3012, 10, 3, 54, 1, 1459, 484, 82, 921, 29, 197, 10, 1506, 11, 2533, 699, 295, 4089, 413], [171, 12, 5, 8669, 14, 60, 737, 429, 16, 4, 124, 114], [429, 3, 412, 1, 68, 2, 82, 13, 228, 2547, 2788], [550, 2851, 53, 65, 30, 1157, 108, 3810, 28, 40, 2547, 1162, 7, 1, 221, 324, 14, 583, 1632, 21, 4046, 11, 166], [257, 785, 118, 4255, 111, 94, 189, 1305, 611, 4256], [6, 59, 89, 673, 1526, 3895, 25, 8670], [90, 30, 620, 219, 32, 67, 4, 421, 160, 426], [186, 105, 17, 4263, 46, 4, 387, 617, 155, 26, 4, 44, 280, 610, 493, 179, 305, 581, 423, 362, 4264, 4265, 272], [153, 147, 9, 267, 639, 174, 114, 53, 5, 262, 283, 74, 202, 8671, 24, 438, 7, 359, 21, 415], [3, 29, 13, 8672, 701, 449, 8673, 250, 35, 3, 230, 37, 77, 2, 1010], [105, 97, 10, 25, 53, 15, 11, 315, 2335, 21, 8, 13, 3439], [1, 440, 31, 184, 86], [50, 368, 611], [111, 662, 8, 12, 4, 341, 979], [74, 1103, 1392, 267, 139, 170, 159, 111], [122, 8, 1796, 20, 8, 768], [27, 250, 6, 4104, 76, 913, 6, 43, 46, 1573, 38, 249, 1760, 81, 316, 35, 6, 68], [35, 698, 464, 12, 4, 8674, 152, 783, 201, 14, 134, 183, 62, 437, 1, 684, 127, 1773, 18, 8675, 1827, 12, 42, 41], [1, 8676, 66, 1419, 850, 1, 64, 1395, 639, 380, 5, 411], [112, 3, 82, 19, 1054], [115, 378, 34, 10, 1, 379, 151, 184, 249, 56, 3, 691], [257, 785, 1305, 3416, 94, 189], [98, 750, 62, 949, 21, 6, 43, 12, 1060, 1732, 220, 161, 72, 2, 4, 660, 393, 5, 8677, 26, 190, 34, 11, 886, 12, 75, 655, 23, 113, 10, 35, 6, 27], [184, 323, 56, 109, 25, 72, 78, 44, 344], [1853], [35, 3, 95, 13, 149, 33, 48, 2, 334, 239, 179, 136, 28, 154, 179, 136, 1314, 268, 191, 195, 4199, 714, 2052, 4200, 1604, 4201, 4202, 105, 17, 85, 35, 572], [112, 6, 1672, 5, 2199, 35, 25, 29, 14, 976, 50, 94, 189], [23, 6, 246, 20, 59, 12, 88, 344, 220, 4, 25], [261, 47, 6, 159, 52, 6, 106, 43, 20, 45, 33, 6, 180, 4187, 51, 15, 5, 1713, 173, 1, 33, 77, 2, 1475, 2, 205, 43, 5, 8678, 820, 94, 189, 261, 3036], [62, 128, 229, 24, 62, 90, 270, 3, 5, 262], [98, 123, 38, 65, 57, 85, 46, 622, 3695, 1033, 12, 332, 2623, 181, 10, 54, 45, 38, 258, 192], [119, 153, 4210, 144, 11, 1205], [409, 422, 230, 381, 860, 80, 23, 140, 63, 81, 39, 316, 451], [286, 130, 144, 745, 2, 32, 34, 4, 330, 45, 6, 54, 19, 75, 133, 2224, 8679, 33, 134, 6, 1567, 8, 66, 170, 75, 2224, 85, 27, 3896, 38, 691, 57, 117], [186, 13, 99, 143, 121, 106, 346, 34, 4, 618, 149, 276, 17, 8680, 46, 657, 312, 126, 1214, 506, 674, 64, 371], [1432, 59, 208, 42, 63, 41], [7, 47, 3, 33, 29, 19, 412], [1, 16, 710, 360, 31, 772, 389, 92, 54, 52, 2, 29], [153, 374, 108, 12, 4, 475], [186, 3, 16, 187, 4, 122, 114, 49, 1875, 8, 88, 507, 462, 149, 2877, 73, 5, 331, 126, 2, 37, 2878, 179, 136, 154, 2879, 524, 2880, 736, 2881], [30, 83, 763, 1642, 87, 399, 65], [120, 95, 668, 3, 21, 694, 12, 10, 11, 2853, 11, 3953, 1932, 1930, 295], [127, 1154, 273, 76, 4, 8681, 746, 1, 765, 6, 1832, 10, 389, 5, 65, 569, 1576, 765, 5, 1052, 1576, 1832, 1111, 1155], [120, 669, 8682, 574, 404, 20, 24, 1093, 137, 20, 48, 78], [118, 125, 3, 17, 10], [1132, 292, 705, 22, 6, 324, 148, 39, 514], [186, 105, 17, 4263, 46, 387, 617, 155, 26, 4, 3938, 44, 3939, 2561, 280, 610, 493, 179, 305, 581, 423, 362, 4264, 4265, 371, 272], [1, 3873, 62, 8, 13, 8683, 26, 190], [471, 2750, 38, 346, 582, 627, 1097, 522, 623, 49, 476, 20, 81, 507, 537, 290, 73, 576, 2, 838, 4132, 154, 1098, 8684], [1366, 483, 417, 25, 50, 34, 3, 25, 309, 50, 34, 14], [21, 6, 258, 2, 5, 4130, 78], [11, 1634, 755, 47, 21, 3, 159, 2793, 485, 8685, 9, 67, 4, 4059, 203, 2362, 202, 3, 8686, 29, 94, 189], [1, 391, 887, 104, 11, 113, 2, 244, 748, 6], [111, 57, 177, 888, 769, 1604, 8687, 226, 8688], [1, 221, 134, 14, 220], [28, 52, 63, 142, 1, 59, 150], [79, 42, 41, 1312, 5, 2392, 2399, 21, 1201, 296, 2, 17, 5, 788, 7, 167, 51], [1, 27, 24, 14, 33, 97, 358, 302, 173, 1, 550, 298, 11, 1054, 263], [115, 151, 2846, 47, 116, 9, 1623, 12, 1266, 1373, 20, 9, 173, 1, 510, 4, 103, 75, 12, 42, 41, 1708], [98, 496, 13, 17, 7, 11, 8689, 8690, 995, 942, 53, 192, 8691, 52, 9, 13, 8692], [303, 32, 28, 566, 8, 79, 162, 278, 24, 416, 51, 12, 10], [52, 3, 112, 8, 235], [30, 258, 85, 18, 1736, 1551, 9, 14, 223, 32, 50, 2, 31, 5, 215, 1163, 119, 153, 7, 47, 21, 3, 439, 508, 769, 485, 26, 29, 3, 17, 14, 147, 22], [3196, 57, 76, 5, 138, 33, 135, 6, 999, 12, 410, 626, 307, 770, 378, 202, 56, 254], [153, 240, 52, 1, 60, 628], [90, 90, 30, 72, 2, 3497, 40, 114, 2, 82, 11, 882, 1, 148, 1007, 5, 1855, 76, 643, 2809, 23, 64, 1, 68, 215, 1, 33, 135, 14, 18, 1629, 122], [108, 58, 38, 4266, 8693, 89, 58, 11, 4266, 8694, 50, 323, 1, 236, 152, 148, 203, 38, 2492, 355, 8695], [11, 755, 72, 2, 2912, 133, 329, 10, 86], [354, 298, 380, 390, 6], [90, 1451, 30, 85, 8, 11, 3444, 222, 8, 1419, 1249, 23, 1, 356, 77, 2, 29, 5, 1089, 1017, 515], [57, 177, 11, 66, 1, 48, 2, 227, 22, 7, 270, 3, 4, 124, 65, 602, 15, 557, 296, 7, 1746, 3, 21, 11, 174, 273, 168, 1, 66, 3, 413], [4159, 4226, 51, 8696], [24, 39, 514, 58, 86, 3999, 263, 630], [50, 37, 351, 291, 30, 72, 2, 558, 28, 44, 35, 1, 1809, 8697], [171, 93, 197, 19, 8, 321], [2615, 2348, 431, 13, 3496], [118, 339, 3055, 8698, 4267, 7, 1291, 316, 3, 87, 28, 5, 1284, 533, 39, 21, 1455, 2, 71, 3, 88, 194, 143, 28, 1473, 1024, 127, 1730, 115, 998, 88, 143, 4268, 1784], [922, 89, 392, 1413, 8, 145, 850, 922, 27, 1, 797, 38, 887, 392, 289, 29, 6, 100, 1, 172, 526, 504, 922, 37, 1525, 954, 136, 47, 14, 1142, 1413, 8, 8699, 34, 127, 4079, 1155], [52, 559, 3, 479, 139], [1245, 3, 4, 737, 114], [368, 308, 47, 21, 3], [339, 251, 12, 13, 1882], [538, 161, 37, 1235, 4, 8700, 161, 127, 8701, 22], [254, 834, 14, 8702, 36, 23, 104, 495, 18, 2593, 1861, 3, 81, 883, 10], [1, 100, 8703, 1563, 31, 75, 8704], [3929, 8, 8705, 1032, 30, 1086, 53, 267, 34, 10, 25, 183, 5, 212, 33, 32, 8706, 637, 435, 16, 4, 3909, 2266], [3459, 2749, 2709, 8707, 4027, 8708, 8709, 8710], [37, 144, 25, 4267, 30, 819, 42, 41, 517, 591, 7, 1655, 32, 2154, 215, 46, 11, 3724, 255, 25, 902, 2, 16, 2, 1089, 34, 40, 283, 40, 9, 8711, 283, 164, 1, 95, 97, 3], [686, 296, 329, 11, 452, 161, 36, 159, 11, 8712, 161, 25, 183, 52, 63, 1, 298, 150, 24, 1, 33, 73, 3, 28, 5, 318], [11, 434, 9, 18, 1629, 42, 41, 86], [23, 45, 29, 3, 326, 907], [1166, 55, 19, 1860, 3, 8713], [21, 6, 1370, 9, 67, 812, 67], [7, 15, 834, 3, 142, 134, 4, 8714], [6, 81, 2459, 20, 2574, 2136, 818, 867, 397, 335, 204, 49, 561, 8715, 8716, 3910, 870, 191, 130, 20, 650, 73, 84, 20, 2573, 1022, 2099], [37, 48, 37, 8717, 12, 19, 367, 2503, 160, 2438, 449, 127, 8718], [45, 3, 359, 1176, 18, 258, 192], [140, 109, 159, 22], [11, 886, 11, 2733, 11, 266, 89, 11, 1619, 53, 1815, 979, 7, 1, 60, 251, 18, 5, 1272, 984, 1492], [37, 339, 240, 164, 1, 137, 127, 455, 1626, 568, 18, 5, 430, 174, 114, 16, 334, 2847, 206, 1271, 24, 1, 100, 1, 356, 609, 40, 63], [29, 1, 1, 273, 1, 454, 14, 85, 8, 5, 362], [30, 78], [37, 75, 1203, 265, 32, 110, 2363, 425], [291, 144, 28, 3837, 1, 514, 706, 1847, 20, 821, 263, 822], [57, 177, 412, 16, 4, 124, 65], [8719, 252, 1407, 529, 897, 129, 45, 417, 1280, 252, 23, 49, 87, 27, 48, 4189], [1534, 173, 1, 247, 109, 56, 109, 659, 91, 23, 1, 203, 44, 109, 2, 91, 323, 1, 580, 109, 514, 298, 38, 1998, 140], [1751, 9, 178, 693, 699, 9, 182, 693, 2135, 9, 128, 693, 2641, 9, 3599, 693, 24, 309, 3600, 9, 178, 923], [97, 10, 190, 310, 467], [780, 408, 1, 491, 4, 2868, 15, 942, 2, 197, 199, 4269, 36, 1445, 93, 83, 491, 4, 2868, 995, 26, 1765, 82, 3, 150], [40, 9, 38, 424, 552, 122, 20, 162, 44, 216, 275, 307, 455, 426, 42, 41, 4244, 102, 143, 1, 33, 97, 38, 424, 8720, 61, 251, 1164, 91], [120, 2377, 1001, 10, 13, 143, 30, 2211, 8721, 269], [1031, 31, 34, 5, 3537, 255, 8722], [30, 8, 1422, 411, 83, 3367, 4198, 732, 54, 45, 107, 235, 10], [1, 100, 13, 8723, 9, 24, 25, 735, 8724, 183], [17, 8725, 7, 71, 88, 708, 360, 8726, 8727, 36, 2147, 195, 2, 84, 453, 17, 1254, 2852, 376], [365, 3, 21, 346, 4, 2083, 1587, 365, 17, 2829, 2830, 387, 588, 970, 1731, 306], [4, 1633, 471, 986, 9, 251, 12, 3, 88, 880, 121, 2823, 1264, 3, 46, 88, 4223, 99, 4224, 2, 342, 4, 1633, 986, 36, 17, 4225], [36, 292, 2, 1023, 51, 45, 30, 4206, 2, 82, 4, 846, 1034, 277, 40, 114, 39, 165, 2292, 31, 584, 24, 1, 287, 635, 1941], [487, 157, 40, 9, 4, 633, 194, 520, 3, 16, 487, 495, 251, 51, 88, 239, 3168, 8728, 676, 4252, 44, 905, 17, 8729, 22], [98, 881, 39, 356, 32, 85, 131, 329, 42, 41], [726, 1, 16, 137, 442, 15, 583, 64, 639, 160, 1, 196, 4, 70, 2, 282, 1498, 1916, 174, 114, 102, 1666, 29, 3, 100, 26, 8730], [176, 119, 3, 58, 4, 269, 12, 5, 1405], [50, 9, 102, 351, 2, 6, 851, 129, 1555, 1566], [90, 93, 656, 51, 8, 4, 304, 278, 82, 3, 67], [29, 6, 3556, 3557, 9, 3558, 691, 161, 3559, 2129, 127, 3560, 3561, 2626, 2130, 130, 3562, 3563, 15, 2130, 130, 9, 3564, 389, 3565, 2129, 27, 3566, 14, 3567, 3568, 3569, 1096, 170, 16, 4, 228, 227, 368, 611], [1, 95, 68, 3, 2, 235, 24, 30, 1535, 159, 52, 1, 27, 2, 539, 8731, 1979, 34, 3, 2690, 939, 8732], [5, 1695, 8733, 1385, 9, 8734, 2, 8735, 40, 664, 71, 51, 239, 189, 4236], [49, 476, 2, 5, 8736, 818, 867, 44, 4, 320, 2, 185, 5, 352, 193, 8737, 8738, 26, 808, 155, 188, 335, 73, 124, 2, 2423, 2000], [956, 635, 43, 4, 1488, 125, 3, 27, 353, 797, 1043, 1088, 626, 541, 8739], [62, 1495, 8, 2857, 5, 8740, 36, 301], [3, 16, 122, 103, 157, 17, 2384, 8741, 8742], [1, 27, 134, 14, 43, 67, 8743, 42, 41, 1312, 51, 15, 11, 457], [57, 65, 2, 3, 128, 1006, 12, 10, 1035, 5, 2199, 74, 62, 2606, 8744, 249, 283], [47, 21, 3, 1497, 123, 13, 159, 50, 1, 137, 4, 350, 1484, 227, 1, 2848, 1781, 28, 216, 2149, 2585, 7, 2149, 8745, 147, 220, 52, 21, 8746, 2159, 220, 254], [47, 29, 266, 250, 199, 8, 1596, 107, 135, 5, 479, 1015, 8747, 19, 8748, 199, 360, 334, 351, 7, 8749, 199, 8750, 5, 2862, 351], [1, 33, 32, 1737, 407, 219, 3, 33, 32, 643, 53, 42, 41, 1883, 1195, 1422, 13, 4022, 1622], [25, 116, 37, 3698, 14, 60, 4, 57, 555], [713, 1445, 1282, 1, 253], [380, 8751, 1054, 347], [8752, 1, 420, 2, 97, 6, 1, 27, 31, 18, 8753, 18, 11, 113], [53, 260, 53, 2326, 8, 95, 54, 35, 4270, 533, 8, 8754, 8755, 74, 4237, 24, 310, 52, 30, 159], [1, 92, 54, 1550, 214, 3, 151, 2366], [409, 543, 1407, 180, 551, 80, 173, 1, 48, 558, 122, 1626, 1867], [74, 8, 1, 68, 4050, 8756, 1028, 119], [240, 2997, 4268], [98, 123, 3, 137, 4, 57, 65, 16, 4, 296, 117], [7, 417, 2034, 8757, 34, 8758, 1164, 22], [745, 24, 519, 47, 116, 3, 498, 170, 2583, 13, 66, 2, 225, 19, 116, 14, 33, 577, 45, 107, 235, 3, 26, 3, 31, 8759, 8760, 8761, 452], [1497, 1, 100, 1, 58, 38, 8762, 1, 402, 14, 8, 1722, 648, 491, 14, 8, 1724, 44, 6, 404, 8763], [98, 168, 62, 10, 171, 12, 258, 218, 461, 14, 440, 48, 19, 111, 1, 36, 478, 11, 386, 123, 2, 82, 3, 219, 66, 7, 1947, 377], [23, 658, 58, 49, 1069, 1960, 1, 532, 246], [115, 135, 104, 8764, 8765, 8766, 56, 42, 41, 278, 131, 8767], [23, 47, 242, 306, 465, 56], [118, 21, 3, 798, 1, 60, 572, 118], [291, 69, 130, 10, 9, 1526, 1304, 56, 1, 580, 144, 11, 1517, 814, 173, 39, 316, 87, 824, 30, 1515, 35, 109, 620, 815, 26, 140, 824, 173, 860, 109, 529, 2, 622, 243, 725], [21, 3, 8, 5, 660], [67, 9, 4, 207, 63, 12, 439], [1228, 4271, 4271, 9, 433, 44, 6, 6, 246, 10, 20, 97, 129, 1546, 25, 8, 8768, 26, 140], [1, 151, 35, 6, 316, 86, 1104, 451, 555], [645, 23, 47, 29, 3, 2201, 5, 8769, 4272, 3633, 505, 2793, 5, 2655, 1570], [555, 555, 8770, 8771, 404, 6, 133, 329, 89, 146, 212, 4257, 1, 1064, 599, 6, 8772], [4041, 4205], [3, 142, 31, 133, 2521, 8773, 35, 3, 68, 8774, 1105, 463, 110, 1, 95, 54, 79], [11, 1246, 1, 68, 3, 2, 94, 20, 26, 162, 1696, 15, 549, 87, 8, 2116, 803, 18, 13, 1404, 113, 2116, 803], [760, 1, 36, 420, 33, 498, 206, 114], [23, 47, 21, 3, 158, 52, 21, 3, 43, 2, 431, 5, 2162, 7, 23, 18], [30, 28, 3979, 170, 8775, 22, 24, 30, 8, 11, 1881, 315, 23, 1, 221, 850, 302, 683], [1, 92, 54, 119, 1640, 40, 345], [98, 4060, 9, 1530, 316, 2843], [50, 90, 2773, 1, 765, 20, 3079, 8776, 289, 1, 1299], [6, 1791, 922, 6, 917, 349, 1, 60, 72, 51, 460, 129, 1380, 89, 6, 83, 59, 89, 151, 10], [119, 153, 7, 11, 2065, 36, 8777, 51, 5, 4009], [2223, 578, 172, 13, 421, 1135, 55, 4, 17, 46, 2223, 471, 626, 17, 8778, 2, 536, 13, 63], [3, 440, 1403, 13, 3232, 119], [1853, 153, 1, 33, 180, 67, 28, 2520, 2217, 101, 36, 97, 10, 224, 660, 1600, 2, 1548, 8, 7, 59, 569, 6, 27], [35, 3, 27, 134, 14, 102, 63, 220, 26, 974, 3, 27, 144, 301, 36, 70, 10, 974, 255, 208], [35, 1, 60, 1, 924, 1183, 8779], [394, 4, 337, 44, 38, 250], [255, 223, 16, 2, 32, 138, 133, 3760, 329, 19], [1779, 1840, 158, 9, 292, 2, 97, 2607, 69, 27, 167], [30, 460, 129, 22, 1078, 8780, 323], [1265, 1074, 26, 16, 3, 402], [61, 965, 8, 1088, 8781, 8782], [52, 21, 8783, 131, 3412, 377], [120, 198, 1033, 5, 20, 1094, 18, 731, 340], [429, 3, 29, 3, 2413, 564, 5, 2634], [76, 5, 138, 134, 183, 6, 31, 1127, 2, 8784, 8785, 1095, 25, 8786, 2207, 16, 415, 117, 254], [1, 273, 868, 31, 129, 4, 373, 36, 173, 310, 5, 727, 15, 212, 6, 8787, 7, 69, 1174, 23, 116], [3, 16, 187, 4, 276, 8788, 468, 26, 383, 218, 384, 155, 2, 126, 38, 468, 17, 49, 18, 879, 268, 62, 4, 8789, 8790, 143, 140, 29, 6, 100], [57, 177, 28, 5, 2975, 533, 5, 64, 807, 30, 43, 28, 40, 441], [7, 240, 267, 1, 58, 428, 2008, 2, 174, 479, 15, 5, 117, 28, 863], [1, 61, 85, 57, 1967, 181, 10, 54, 35, 3, 77, 102, 15, 5, 8791, 408, 1, 97, 3, 55, 5, 8792], [23, 19, 722, 504, 110, 215, 1102], [370, 39, 27, 205, 110, 43, 3, 678, 202, 220], [352, 636, 982, 1591, 8793, 8794, 8795, 16, 327, 2, 48, 18], [4051, 716, 2, 2687, 18], [36, 1749, 8796, 1, 100, 62, 182, 487, 2, 167, 225, 2285, 19, 54, 5, 222, 111, 2629, 4, 2772, 19, 9, 182, 1944, 2, 250, 3, 8797, 906, 218, 248, 55, 8798, 4, 113, 425, 8799, 8800, 45, 8, 3963, 151, 1085, 708], [52, 261, 1555, 3970, 661, 571], [1602, 3478, 4, 8801, 34, 3788, 8802], [161, 36, 1148, 52, 13, 159, 156, 22], [1245, 3, 4, 606, 65, 715, 1027, 8803, 218, 133, 248, 2, 197, 3, 709, 29, 322, 14], [12, 5, 479, 8804, 406, 8805, 46, 8806, 238, 330, 17, 8807, 8808, 26, 759, 154, 8809, 8810, 241], [35, 3, 385, 4, 2270, 1536, 8, 79, 42, 41, 395, 62, 640, 11, 8811, 33, 32, 3878, 248, 43, 10, 19, 95, 8812], [1685, 64, 137, 13, 99, 1199, 3, 21, 1278, 2, 523, 2, 5, 352, 562, 365, 99, 12, 49, 17, 5, 99, 523, 281, 49, 18, 1946], [50, 1, 264, 1, 58, 14, 56, 6, 246, 10, 20, 59, 22, 26, 140], [73, 17, 2, 37, 4215, 126, 13, 986, 15, 162, 587, 282, 63, 2, 279, 46, 13, 113, 22, 4216, 2859, 1182, 4217, 272, 84, 4218, 154, 8813, 390], [6, 560, 51, 1056], [1, 33, 8814, 188, 1027, 39, 1007, 584], [408, 1, 491, 199, 4, 2868, 15, 942, 2, 197, 199, 4269, 64, 1445, 1996, 491, 75, 435], [4142, 209, 4143, 4144, 574, 8815, 207, 8816, 136, 8817], [186, 174, 4129, 290, 348, 19, 3, 16, 187, 384, 155, 26, 4, 2290, 280, 17, 22, 8818, 2, 126, 179, 136, 3198, 3199, 3200, 371], [1, 273, 3135, 9, 428], [291], [111, 1836, 25, 328, 53, 5, 277, 8, 11, 301, 719, 166, 234, 78], [50, 80, 109, 1151, 56, 157, 10], [1189, 8819, 392, 9, 69, 309, 57, 26, 399, 9, 69, 309, 8820, 26, 8821, 164, 9, 2293, 309, 490, 2, 203, 8822], [3405, 16, 864, 2, 185, 110, 341, 2137, 23, 39, 33, 185], [141, 412, 1, 68, 2, 105, 3, 188, 117, 13, 270, 9, 11, 8823], [52, 87, 773, 773, 9, 280, 23, 37, 147], [37, 374, 42, 41], [158, 29, 123, 5, 147, 1084, 31, 8824, 16, 4, 645, 65], [16, 3, 897, 1429, 85, 28, 8825], [408, 17, 22, 118, 313, 553], [186, 39, 21, 292, 2, 194, 3, 174, 1179, 290, 348, 6, 16, 187, 4, 384, 149, 276, 17, 8826, 126, 400, 2271, 506, 674, 191, 625], [23, 8827, 1388, 10, 540, 22, 86, 8828, 8829, 174, 764, 283, 1478, 63], [7, 913, 169, 43, 46, 2571, 592, 72, 20, 8830, 7, 107, 33, 29, 5, 8831, 845, 44, 162, 587, 7, 56, 6, 94, 169, 78, 928, 20, 216, 770, 8832, 178, 438], [182, 456, 3, 7, 13, 607, 12, 72, 2, 8833, 4272, 26, 1573, 5, 456, 7, 620, 10, 53, 701, 5, 114, 1, 16, 4, 103, 8834, 41], [8835, 1, 182, 2596, 110, 2100], [4273, 238, 195, 2, 17, 2343, 8836, 46, 13, 389, 312, 36, 4273, 238, 195, 325, 8837, 209, 12, 772, 1231, 634, 70, 84, 2, 692, 51], [119, 171, 4, 337, 1, 148, 1811, 20, 2709], [6, 1086, 8, 558, 26, 72, 78, 435, 93, 180, 72, 20, 558, 131], [8838, 99, 353, 5, 1838, 8839, 4274, 300, 629, 2181, 237, 18, 38, 99, 156, 22, 70, 4274, 2, 8840, 12, 5, 629, 39, 391, 71, 6, 4, 49, 8841, 2867], [1, 100, 35, 69, 2701, 8842, 56, 62, 178, 1516, 12, 88, 277], [301, 39, 408, 48, 7, 82, 16, 2, 48, 2, 8843, 435, 21, 3, 28, 78, 58, 190, 2, 663, 8, 131, 23, 651, 48, 2, 458, 220, 383, 730, 27, 94, 199, 8], [57, 447, 11, 66, 47, 477, 13, 65, 47, 112, 3, 227, 1, 123, 13, 111, 11, 718, 1, 100, 15, 3], [141, 1, 1087, 6, 2, 201, 103, 283, 976, 23, 1, 27, 271, 14, 51], [247, 642, 12, 13, 1839, 70, 1100, 115, 1187, 154, 1137, 524, 1369, 2044, 650, 34, 84, 37, 916, 601, 250, 2045, 1137, 2477, 2478, 2046], [164, 112, 1, 503, 43, 18, 11, 953, 41], [22, 31, 2224, 20, 2213, 5, 138, 669, 200], [66, 121, 75, 1547, 134, 139, 5, 330, 3, 66, 8, 5, 262, 138, 691, 121, 75, 1547, 294, 134, 38, 269, 213, 701, 459, 3, 21, 2356, 257, 117], [641, 13, 855, 338, 675, 12, 8844, 348, 856, 857, 904, 204, 1, 436, 592, 17, 8845, 712, 400, 8846, 676, 1270, 703, 905], [3029, 53, 249, 21, 4190, 1415, 64], [3162, 9, 116, 438, 135, 13, 338, 8847, 23, 1, 33, 150, 28, 1786], [203, 1, 33, 130, 160, 42, 41, 195], [52, 1, 253, 202, 1, 97, 1015, 385, 160, 1, 379, 97, 184, 2, 3, 3, 457, 393, 2, 11, 665, 7, 2029, 25, 34, 10], [1435, 66, 121, 37, 8848, 1435, 3057, 121, 37, 2754, 1435, 1198, 121, 37, 8849, 265, 6, 16, 1435, 8850, 2638, 232, 8, 38, 166, 257, 785], [1, 68, 2, 32, 1422, 3, 188, 117], [1890, 3, 48, 2, 907, 150, 1, 648, 59, 229, 1096], [176, 107, 211, 1744, 28, 207, 24, 56, 107, 1029, 43, 7, 1001, 8], [2414, 8851, 8, 40, 733, 375], [36, 528, 344, 3], [141, 105, 235, 28, 42, 41, 23, 19, 28, 42, 41, 39, 27, 235], [119, 688, 80, 39, 48, 18, 410], [3, 21, 4, 124, 1620, 1386, 3, 21, 1216, 23, 116, 7, 1, 158, 270, 715, 65, 12, 4, 1578, 24, 363, 74, 4, 807, 12, 439, 7, 1, 484, 152, 1, 270, 1, 917, 164, 24, 1, 92, 198, 1841, 43, 2, 3, 465, 1, 60, 8852, 7, 1, 83, 29, 16, 4, 124, 65], [226, 30, 8853, 2, 8854, 962, 140, 37, 347, 1950, 44, 6, 2, 702, 956, 2600, 180, 2715, 340, 23, 658, 398, 6, 236, 16, 2, 147, 851, 451, 2704], [2731, 7, 1725, 81, 490, 851, 262, 2183, 24, 29, 6, 54, 145, 4102, 295, 18, 38, 424, 3638, 10, 139, 218, 461, 1, 61, 2731, 504, 46, 6, 197, 709, 57, 978], [76, 5, 138, 198, 454, 4, 2369, 156, 761, 5, 3495, 15, 5, 297, 23, 3, 27, 82, 224, 297, 14, 9, 36, 3919, 43, 202, 14], [27, 3, 115, 71, 10, 19, 720, 284, 8, 8855, 8856], [37, 1, 92, 68, 2, 385, 184], [3, 21, 4, 341, 8857, 1866, 8858], [310, 301, 1, 68, 2, 105, 3], [72, 2, 469, 150], [1, 68, 2, 97, 3, 47, 399, 1, 213, 19, 1686, 5, 64, 494, 1, 70, 3, 3289, 21, 45, 1, 77, 1045], [641, 13, 855, 338, 675, 12, 348, 856, 857, 904, 204, 1, 436, 592, 17, 3147, 712, 400, 8859, 676, 2217, 703, 905], [2124, 8860, 45, 1, 2216, 3, 60, 5, 3396, 350, 58], [62, 36, 5, 3506, 15, 8861, 36, 2194, 14], [52, 79, 40, 75, 56], [1, 100, 19, 8862, 616, 23, 153, 93, 32, 76, 28, 110, 817], [8863, 2, 3, 60, 504, 46, 5, 1485, 47, 13, 836], [711, 108, 475, 3, 211, 8864], [120, 8865, 27, 3, 135, 10, 4, 2814, 45, 3, 31, 40, 77, 2, 282, 2, 3, 79, 40, 4170, 759, 18, 5, 397, 2075], [50, 224, 13, 334, 143], [1, 54, 3, 21, 1156, 1350, 24, 1509, 1122, 230, 2201, 1350, 96, 172, 16, 106, 1437, 7, 62, 4258, 35, 96, 722, 428, 2, 4259, 104, 2222, 104, 2737, 33, 4260, 7, 35, 3, 135, 104, 1350, 1632, 22, 96, 33, 36, 1813, 62, 4, 1353, 4261, 4262, 96, 121, 224, 513, 8, 4, 304, 306, 14, 33, 1188, 84], [1588, 50, 140, 74, 302, 74, 58, 3093, 27, 148, 140], [68, 4207, 911, 8, 770, 4208, 599, 4209, 22, 1817, 1152, 195, 8866, 736, 8867, 8868, 8869], [1, 221, 596, 47, 3228, 1, 61, 2, 872, 3, 188, 65, 1, 54, 3, 33, 29, 5, 286, 3, 27, 2, 31, 2, 10, 168, 1, 33, 48, 2, 1571, 11, 285, 28, 13, 1390], [473, 8870, 35, 1269, 8871, 8872, 8, 49, 278, 847, 2048, 8873, 1843, 141, 8874, 58, 4270, 1009, 162, 92, 2169, 4, 350, 8875, 1570, 8, 306, 1, 811, 808, 162, 68, 1143], [153, 144, 354, 630], [1840, 483, 31, 13, 899, 192, 2, 4193], [6, 83, 514, 58, 1111, 4, 2913, 347], [30, 643, 2060, 170, 3316, 2, 2564, 35, 30, 25, 85, 76, 5, 63, 255, 260, 36, 235, 5, 8876, 18, 11, 8877, 7, 93, 70, 3, 45, 4069, 311], [98, 62, 8, 3407, 21, 3, 83, 18, 40, 143], [2692, 67, 21, 4, 3288, 8878, 1852, 56], [137, 13, 1579, 99, 703, 4214, 352, 843, 193, 820, 53, 49, 567, 278, 70, 18, 443, 1630, 70, 141, 12, 2835, 37, 2, 1035, 46, 1759], [37, 1, 60, 292, 14, 53, 403, 243], [3, 54, 489, 277, 1769, 179, 2798, 8879, 8880, 8881, 9, 53, 39, 54, 39, 81, 28, 8882], [301, 52, 63, 3, 100, 3, 27, 31, 108], [569, 112, 3, 31, 23, 8883, 7, 1195, 240, 124], [16, 4, 944, 568, 2, 1167, 270, 3, 908, 7, 178, 219, 720, 2, 1416, 2511, 34], [111, 197, 8, 321, 198, 64, 58, 428, 866, 12, 75, 133, 1204, 568, 8884, 4, 8885, 8886, 15, 155], [2696, 2771, 60, 228, 637, 14, 112, 8887, 10, 217, 4, 293, 69, 69, 39, 8888, 48, 51, 44, 4, 655, 1958, 219, 2097, 501, 20, 48, 20, 86, 1585, 44, 4, 1046, 219, 66, 1019, 254, 254], [141, 1, 16, 23, 240, 164, 6, 2216, 8889, 450, 3, 23, 116], [37, 1, 796, 5, 4174, 9, 5, 262, 19, 42, 41, 8890, 28, 42, 41, 40, 485, 9, 158, 1574, 16, 3, 639, 3515, 13, 8891, 328, 62, 487, 7, 16, 3, 706, 35, 3, 21, 159, 8892, 15, 8893, 485, 26, 35, 783, 36, 29, 5, 8894, 951], [35, 3, 1680, 108, 8, 5, 206, 42, 41, 587, 1363, 3441, 11, 350], [184, 80, 499, 575, 15, 199, 80], [31, 10, 51, 15, 40, 8895, 8896, 11, 881, 706, 2, 59, 2, 8897, 1774], [50, 80, 1079, 2969, 8898, 1, 151, 1365, 56, 96, 152, 358, 658, 20, 279, 23, 1, 1900], [545, 275, 55, 349, 80], [164, 95, 3, 203, 2503, 28, 863, 1271, 2, 82, 35, 3, 31, 13], [605, 289, 543], [2502, 46, 1400, 2, 31, 20, 237, 666, 49, 17, 774, 7, 474, 15, 124, 903, 115, 91, 20, 40, 70, 34, 13, 506, 284, 297, 37, 7, 2436], [40, 9, 5, 446, 63, 39, 16, 548, 20, 194, 6, 6, 16, 187, 5, 8899, 1232, 149, 20, 126, 9, 438, 17, 8900, 8901, 64, 518, 238, 646, 389, 544, 376], [33, 109, 180, 72, 2, 1961, 837, 78], [8902, 60, 8, 1434, 12, 19, 23, 102, 249, 8903], [5, 521, 112, 110, 8904, 24, 1, 4221, 55, 868, 32, 1203, 8, 1078, 190, 515, 206, 114, 7, 69, 1001, 14, 2, 199, 12, 49], [2569, 62, 519, 2, 62, 284]]\n"
          ]
        }
      ]
    },
    {
      "cell_type": "code",
      "source": [
        "padded_sequences = pad_sequences(sequences, maxlen=25, padding='post')\n",
        "print(padded_sequences)"
      ],
      "metadata": {
        "colab": {
          "base_uri": "https://localhost:8080/"
        },
        "id": "MaIc_BTKRLxw",
        "outputId": "82bec339-155b-4fc1-dd22-e07a474c595f"
      },
      "execution_count": 40,
      "outputs": [
        {
          "output_type": "stream",
          "name": "stdout",
          "text": [
            "[[  48  459 4275 ...    0    0    0]\n",
            " [  50  323 1445 ...    0    0    0]\n",
            " [ 867    2  185 ...  634  414 2870]\n",
            " ...\n",
            " [8902   60    8 ...    0    0    0]\n",
            " [ 521  112  110 ...  199   12   49]\n",
            " [2569   62  519 ...    0    0    0]]\n"
          ]
        }
      ]
    },
    {
      "cell_type": "code",
      "source": [
        "padded_sequences = pad_sequences(sequences[:df.shape[0]], maxlen=25, padding='post')\n",
        "from sklearn.preprocessing import LabelEncoder\n",
        "le = LabelEncoder()\n",
        "y = le.fit_transform(df['label'])"
      ],
      "metadata": {
        "id": "rnww4l6qWUN-"
      },
      "execution_count": 64,
      "outputs": []
    },
    {
      "cell_type": "code",
      "source": [
        "print(padded_sequences.shape)\n",
        "print(y.shape)\n",
        "print(df.shape)"
      ],
      "metadata": {
        "colab": {
          "base_uri": "https://localhost:8080/"
        },
        "id": "6pofeUa2URus",
        "outputId": "a3a1895b-bb6a-4509-f282-31443672d626"
      },
      "execution_count": 65,
      "outputs": [
        {
          "output_type": "stream",
          "name": "stdout",
          "text": [
            "(5313, 25)\n",
            "(5313,)\n",
            "(5313, 3)\n"
          ]
        }
      ]
    },
    {
      "cell_type": "code",
      "source": [
        "X_train, X_test, y_train, y_test = train_test_split(padded_sequences, y, test_size=0.3, random_state=42)"
      ],
      "metadata": {
        "id": "lBnP4wdIRLu1"
      },
      "execution_count": 66,
      "outputs": []
    },
    {
      "cell_type": "code",
      "source": [
        "print(X_train.shape)\n",
        "print(y_train.shape)\n",
        "print(X_test.shape)\n",
        "print(y_test.shape)"
      ],
      "metadata": {
        "colab": {
          "base_uri": "https://localhost:8080/"
        },
        "id": "oibOWqWcRLr7",
        "outputId": "1bd4930b-be89-48a4-913c-d54328aac84a"
      },
      "execution_count": 67,
      "outputs": [
        {
          "output_type": "stream",
          "name": "stdout",
          "text": [
            "(3719, 25)\n",
            "(3719,)\n",
            "(1594, 25)\n",
            "(1594,)\n"
          ]
        }
      ]
    },
    {
      "cell_type": "markdown",
      "metadata": {
        "id": "qd5Ek4NLTgVN"
      },
      "source": [
        "# Building the Classifier"
      ]
    },
    {
      "cell_type": "markdown",
      "metadata": {
        "id": "HpLEoTaITEGx"
      },
      "source": [
        "In this step, you will design and build a NLP Classifier model to classify text data. Below is a breakdown of the key components you'll implement, but it's up to you to decide how to configure them based on your understanding and experimentation:\n",
        "\n",
        "1. **Model Type**:\n",
        "   You will use a Sequential model, which allows you to stack layers in a linear sequence.\n",
        "\n",
        "2. **Input Layer**:\n",
        "   Define the shape of the input data. Consider the dimensions of your padded sequences and set the input shape accordingly.\n",
        "\n",
        "3. **Embedding Layer**:\n",
        "   The embedding layer will convert input tokens (integers) into dense vector representations. You will need to determine the size of the input dimension (based on your vocabulary) and the output dimension (embedding size).\n",
        "\n",
        "4. **Bidirectional Simple RNN/LSTM Layers**:\n",
        "   You can add one or more recurrent layers. Consider using Bidirectional layers to capture contextual information from both directions (forward and backward). You can chose SimpleRNN/GRU/LSTM to perform this step.\n",
        "\n",
        "5. **Dense Layers**:\n",
        "   Add one or more fully connected (Dense) layers to process the output from the RNN/GRU/LSTM layers.\n",
        "\n",
        "6. **Output Layer**:\n",
        "   The output layer should match the type of classification task you're working on. Consider using appropriate activation function with appropriate number of units.\n",
        "\n",
        "7. **Model Summary**:\n",
        "   After defining your model architecture, print a summary to review the number of layers, types of layers, and total parameters.\n",
        "\n",
        "8. **Model Compilation**:\n",
        "   Finally, compile the model by selecting an optimizer, a loss function, and metrics."
      ]
    },
    {
      "cell_type": "code",
      "execution_count": 68,
      "metadata": {
        "id": "D-EYYIUpfK_F",
        "colab": {
          "base_uri": "https://localhost:8080/"
        },
        "outputId": "2d245589-3c8f-42aa-f2a6-a7fdab2b3ec8"
      },
      "outputs": [
        {
          "output_type": "execute_result",
          "data": {
            "text/plain": [
              "(3719,)"
            ]
          },
          "metadata": {},
          "execution_count": 68
        }
      ],
      "source": [
        "y_train.shape"
      ]
    },
    {
      "cell_type": "code",
      "source": [
        "import tensorflow as tf"
      ],
      "metadata": {
        "id": "C1h2MYvHXhEp"
      },
      "execution_count": 69,
      "outputs": []
    },
    {
      "cell_type": "code",
      "source": [
        "vocab_size = 10000\n",
        "max_length = 100\n",
        "model = tf.keras.Sequential([\n",
        "    tf.keras.layers.Input(shape=(max_length,)),\n",
        "    tf.keras.layers.Embedding(vocab_size, 64),\n",
        "    tf.keras.layers.Bidirectional(tf.keras.layers.SimpleRNN(64, return_sequences=True)),\n",
        "    tf.keras.layers.Bidirectional(tf.keras.layers.SimpleRNN(32)),\n",
        "    tf.keras.layers.Dense(64, activation='relu'),\n",
        "    tf.keras.layers.Dense(3, activation='softmax')\n",
        "])\n",
        "\n",
        "model.summary()\n",
        "\n",
        "model.compile(\n",
        "    loss=tf.keras.losses.BinaryCrossentropy(from_logits=False),\n",
        "    optimizer=tf.keras.optimizers.Adam(),\n",
        "    metrics=['accuracy']\n",
        ")"
      ],
      "metadata": {
        "colab": {
          "base_uri": "https://localhost:8080/",
          "height": 289
        },
        "id": "AtJlRCX2XhBZ",
        "outputId": "2fb12e69-4e6c-4fec-f453-aa2bb4aa203c"
      },
      "execution_count": 71,
      "outputs": [
        {
          "output_type": "display_data",
          "data": {
            "text/plain": [
              "\u001b[1mModel: \"sequential\"\u001b[0m\n"
            ],
            "text/html": [
              "<pre style=\"white-space:pre;overflow-x:auto;line-height:normal;font-family:Menlo,'DejaVu Sans Mono',consolas,'Courier New',monospace\"><span style=\"font-weight: bold\">Model: \"sequential\"</span>\n",
              "</pre>\n"
            ]
          },
          "metadata": {}
        },
        {
          "output_type": "display_data",
          "data": {
            "text/plain": [
              "┏━━━━━━━━━━━━━━━━━━━━━━━━━━━━━━━━━━━━━━┳━━━━━━━━━━━━━━━━━━━━━━━━━━━━━┳━━━━━━━━━━━━━━━━━┓\n",
              "┃\u001b[1m \u001b[0m\u001b[1mLayer (type)                        \u001b[0m\u001b[1m \u001b[0m┃\u001b[1m \u001b[0m\u001b[1mOutput Shape               \u001b[0m\u001b[1m \u001b[0m┃\u001b[1m \u001b[0m\u001b[1m        Param #\u001b[0m\u001b[1m \u001b[0m┃\n",
              "┡━━━━━━━━━━━━━━━━━━━━━━━━━━━━━━━━━━━━━━╇━━━━━━━━━━━━━━━━━━━━━━━━━━━━━╇━━━━━━━━━━━━━━━━━┩\n",
              "│ embedding (\u001b[38;5;33mEmbedding\u001b[0m)                │ (\u001b[38;5;45mNone\u001b[0m, \u001b[38;5;34m100\u001b[0m, \u001b[38;5;34m64\u001b[0m)             │         \u001b[38;5;34m640,000\u001b[0m │\n",
              "├──────────────────────────────────────┼─────────────────────────────┼─────────────────┤\n",
              "│ bidirectional (\u001b[38;5;33mBidirectional\u001b[0m)        │ (\u001b[38;5;45mNone\u001b[0m, \u001b[38;5;34m100\u001b[0m, \u001b[38;5;34m128\u001b[0m)            │          \u001b[38;5;34m16,512\u001b[0m │\n",
              "├──────────────────────────────────────┼─────────────────────────────┼─────────────────┤\n",
              "│ bidirectional_1 (\u001b[38;5;33mBidirectional\u001b[0m)      │ (\u001b[38;5;45mNone\u001b[0m, \u001b[38;5;34m64\u001b[0m)                  │          \u001b[38;5;34m10,304\u001b[0m │\n",
              "├──────────────────────────────────────┼─────────────────────────────┼─────────────────┤\n",
              "│ dense (\u001b[38;5;33mDense\u001b[0m)                        │ (\u001b[38;5;45mNone\u001b[0m, \u001b[38;5;34m64\u001b[0m)                  │           \u001b[38;5;34m4,160\u001b[0m │\n",
              "├──────────────────────────────────────┼─────────────────────────────┼─────────────────┤\n",
              "│ dense_1 (\u001b[38;5;33mDense\u001b[0m)                      │ (\u001b[38;5;45mNone\u001b[0m, \u001b[38;5;34m2\u001b[0m)                   │             \u001b[38;5;34m130\u001b[0m │\n",
              "└──────────────────────────────────────┴─────────────────────────────┴─────────────────┘\n"
            ],
            "text/html": [
              "<pre style=\"white-space:pre;overflow-x:auto;line-height:normal;font-family:Menlo,'DejaVu Sans Mono',consolas,'Courier New',monospace\">┏━━━━━━━━━━━━━━━━━━━━━━━━━━━━━━━━━━━━━━┳━━━━━━━━━━━━━━━━━━━━━━━━━━━━━┳━━━━━━━━━━━━━━━━━┓\n",
              "┃<span style=\"font-weight: bold\"> Layer (type)                         </span>┃<span style=\"font-weight: bold\"> Output Shape                </span>┃<span style=\"font-weight: bold\">         Param # </span>┃\n",
              "┡━━━━━━━━━━━━━━━━━━━━━━━━━━━━━━━━━━━━━━╇━━━━━━━━━━━━━━━━━━━━━━━━━━━━━╇━━━━━━━━━━━━━━━━━┩\n",
              "│ embedding (<span style=\"color: #0087ff; text-decoration-color: #0087ff\">Embedding</span>)                │ (<span style=\"color: #00d7ff; text-decoration-color: #00d7ff\">None</span>, <span style=\"color: #00af00; text-decoration-color: #00af00\">100</span>, <span style=\"color: #00af00; text-decoration-color: #00af00\">64</span>)             │         <span style=\"color: #00af00; text-decoration-color: #00af00\">640,000</span> │\n",
              "├──────────────────────────────────────┼─────────────────────────────┼─────────────────┤\n",
              "│ bidirectional (<span style=\"color: #0087ff; text-decoration-color: #0087ff\">Bidirectional</span>)        │ (<span style=\"color: #00d7ff; text-decoration-color: #00d7ff\">None</span>, <span style=\"color: #00af00; text-decoration-color: #00af00\">100</span>, <span style=\"color: #00af00; text-decoration-color: #00af00\">128</span>)            │          <span style=\"color: #00af00; text-decoration-color: #00af00\">16,512</span> │\n",
              "├──────────────────────────────────────┼─────────────────────────────┼─────────────────┤\n",
              "│ bidirectional_1 (<span style=\"color: #0087ff; text-decoration-color: #0087ff\">Bidirectional</span>)      │ (<span style=\"color: #00d7ff; text-decoration-color: #00d7ff\">None</span>, <span style=\"color: #00af00; text-decoration-color: #00af00\">64</span>)                  │          <span style=\"color: #00af00; text-decoration-color: #00af00\">10,304</span> │\n",
              "├──────────────────────────────────────┼─────────────────────────────┼─────────────────┤\n",
              "│ dense (<span style=\"color: #0087ff; text-decoration-color: #0087ff\">Dense</span>)                        │ (<span style=\"color: #00d7ff; text-decoration-color: #00d7ff\">None</span>, <span style=\"color: #00af00; text-decoration-color: #00af00\">64</span>)                  │           <span style=\"color: #00af00; text-decoration-color: #00af00\">4,160</span> │\n",
              "├──────────────────────────────────────┼─────────────────────────────┼─────────────────┤\n",
              "│ dense_1 (<span style=\"color: #0087ff; text-decoration-color: #0087ff\">Dense</span>)                      │ (<span style=\"color: #00d7ff; text-decoration-color: #00d7ff\">None</span>, <span style=\"color: #00af00; text-decoration-color: #00af00\">2</span>)                   │             <span style=\"color: #00af00; text-decoration-color: #00af00\">130</span> │\n",
              "└──────────────────────────────────────┴─────────────────────────────┴─────────────────┘\n",
              "</pre>\n"
            ]
          },
          "metadata": {}
        },
        {
          "output_type": "display_data",
          "data": {
            "text/plain": [
              "\u001b[1m Total params: \u001b[0m\u001b[38;5;34m671,106\u001b[0m (2.56 MB)\n"
            ],
            "text/html": [
              "<pre style=\"white-space:pre;overflow-x:auto;line-height:normal;font-family:Menlo,'DejaVu Sans Mono',consolas,'Courier New',monospace\"><span style=\"font-weight: bold\"> Total params: </span><span style=\"color: #00af00; text-decoration-color: #00af00\">671,106</span> (2.56 MB)\n",
              "</pre>\n"
            ]
          },
          "metadata": {}
        },
        {
          "output_type": "display_data",
          "data": {
            "text/plain": [
              "\u001b[1m Trainable params: \u001b[0m\u001b[38;5;34m671,106\u001b[0m (2.56 MB)\n"
            ],
            "text/html": [
              "<pre style=\"white-space:pre;overflow-x:auto;line-height:normal;font-family:Menlo,'DejaVu Sans Mono',consolas,'Courier New',monospace\"><span style=\"font-weight: bold\"> Trainable params: </span><span style=\"color: #00af00; text-decoration-color: #00af00\">671,106</span> (2.56 MB)\n",
              "</pre>\n"
            ]
          },
          "metadata": {}
        },
        {
          "output_type": "display_data",
          "data": {
            "text/plain": [
              "\u001b[1m Non-trainable params: \u001b[0m\u001b[38;5;34m0\u001b[0m (0.00 B)\n"
            ],
            "text/html": [
              "<pre style=\"white-space:pre;overflow-x:auto;line-height:normal;font-family:Menlo,'DejaVu Sans Mono',consolas,'Courier New',monospace\"><span style=\"font-weight: bold\"> Non-trainable params: </span><span style=\"color: #00af00; text-decoration-color: #00af00\">0</span> (0.00 B)\n",
              "</pre>\n"
            ]
          },
          "metadata": {}
        }
      ]
    },
    {
      "cell_type": "code",
      "source": [],
      "metadata": {
        "id": "FjEeEXibXg-o"
      },
      "execution_count": null,
      "outputs": []
    },
    {
      "cell_type": "code",
      "source": [],
      "metadata": {
        "id": "wW6pgdonXg8A"
      },
      "execution_count": null,
      "outputs": []
    },
    {
      "cell_type": "markdown",
      "metadata": {
        "id": "57DXwqqQTloy"
      },
      "source": [
        "# Defining Batch Size, Creating Datasets, and Training the Model"
      ]
    },
    {
      "cell_type": "markdown",
      "metadata": {
        "id": "LEOvs_dETmQp"
      },
      "source": [
        "In this step, you will define the batch size, create TensorFlow Datasets for both training and testing, and train the model. The key elements to consider are outlined below, and it is up to you to choose the specific configurations based on your preferences and experimentation:\n",
        "\n",
        "1. **Batch Size**:\n",
        "   Select a batch size for training and testing. The batch size determines how many samples will be processed together in one forward and backward pass during training.\n",
        "\n",
        "2. **Creating Datasets**:\n",
        "   Use TensorFlow’s `Dataset.from_tensor_slices()` to create datasets from the training and testing data.\n",
        "\n",
        "3. **Batching the Datasets**:\n",
        "   Batch the datasets by grouping the data into batches of the specified size.\n",
        "\n",
        "4. **Training the Model**:\n",
        "   Train the model by fitting it on the training dataset for a specified number of epochs. You will also need to provide the validation data to monitor the model’s performance on unseen data during training.\n",
        "\n",
        "5. **Tracking Training History**:\n",
        "   During training, the model’s performance metrics (such as loss and accuracy) will be tracked over the epochs, and the results will be stored in the `history` object."
      ]
    },
    {
      "cell_type": "code",
      "execution_count": 72,
      "metadata": {
        "id": "o6unhJgFfQbM"
      },
      "outputs": [],
      "source": [
        "X_train = np.clip(X_train, 0, vocab_size - 1)\n",
        "X_test = np.clip(X_test, 0, vocab_size - 1)"
      ]
    },
    {
      "cell_type": "code",
      "source": [
        "batch_size = 64"
      ],
      "metadata": {
        "id": "ZUz15qThYVAP"
      },
      "execution_count": 73,
      "outputs": []
    },
    {
      "cell_type": "code",
      "source": [
        "import tensorflow as tf\n",
        "train_dataset = tf.data.Dataset.from_tensor_slices((X_train, y_train))\n",
        "test_dataset = tf.data.Dataset.from_tensor_slices((X_test, y_test))"
      ],
      "metadata": {
        "id": "p7JchVPtYwYp"
      },
      "execution_count": 75,
      "outputs": []
    },
    {
      "cell_type": "code",
      "source": [
        "train_dataset = train_dataset.shuffle(buffer_size=1024).batch(batch_size)\n",
        "\n",
        "test_dataset = test_dataset.batch(batch_size)\n"
      ],
      "metadata": {
        "id": "taDmhI7XY6FE"
      },
      "execution_count": 77,
      "outputs": []
    },
    {
      "cell_type": "code",
      "source": [
        "\n",
        "epochs = 10\n",
        "model.compile(optimizer='adam',\n",
        "              loss='sparse_categorical_crossentropy',\n",
        "              metrics=['accuracy'])\n",
        "\n",
        "history = model.fit(train_dataset,\n",
        "                    epochs=epochs,\n",
        "                    validation_data=test_dataset)\n",
        "# I think it is underfitting Because there is a big difference accurcy and val_accuracy"
      ],
      "metadata": {
        "colab": {
          "base_uri": "https://localhost:8080/"
        },
        "id": "4TqlRE1JYcUy",
        "outputId": "341b948a-a5a2-4b98-f877-20f76cecb7a5"
      },
      "execution_count": 78,
      "outputs": [
        {
          "output_type": "stream",
          "name": "stdout",
          "text": [
            "Epoch 1/10\n",
            "\u001b[1m59/59\u001b[0m \u001b[32m━━━━━━━━━━━━━━━━━━━━\u001b[0m\u001b[37m\u001b[0m \u001b[1m11s\u001b[0m 68ms/step - accuracy: 0.8586 - loss: 0.4269 - val_accuracy: 0.8783 - val_loss: 0.3700\n",
            "Epoch 2/10\n",
            "\u001b[1m59/59\u001b[0m \u001b[32m━━━━━━━━━━━━━━━━━━━━\u001b[0m\u001b[37m\u001b[0m \u001b[1m5s\u001b[0m 61ms/step - accuracy: 0.8625 - loss: 0.3791 - val_accuracy: 0.8557 - val_loss: 0.4442\n",
            "Epoch 3/10\n",
            "\u001b[1m59/59\u001b[0m \u001b[32m━━━━━━━━━━━━━━━━━━━━\u001b[0m\u001b[37m\u001b[0m \u001b[1m5s\u001b[0m 80ms/step - accuracy: 0.9057 - loss: 0.2288 - val_accuracy: 0.7541 - val_loss: 0.5908\n",
            "Epoch 4/10\n",
            "\u001b[1m59/59\u001b[0m \u001b[32m━━━━━━━━━━━━━━━━━━━━\u001b[0m\u001b[37m\u001b[0m \u001b[1m4s\u001b[0m 63ms/step - accuracy: 0.9644 - loss: 0.1019 - val_accuracy: 0.7666 - val_loss: 0.7501\n",
            "Epoch 5/10\n",
            "\u001b[1m59/59\u001b[0m \u001b[32m━━━━━━━━━━━━━━━━━━━━\u001b[0m\u001b[37m\u001b[0m \u001b[1m4s\u001b[0m 40ms/step - accuracy: 0.9756 - loss: 0.0728 - val_accuracy: 0.7246 - val_loss: 0.8158\n",
            "Epoch 6/10\n",
            "\u001b[1m59/59\u001b[0m \u001b[32m━━━━━━━━━━━━━━━━━━━━\u001b[0m\u001b[37m\u001b[0m \u001b[1m2s\u001b[0m 41ms/step - accuracy: 0.9810 - loss: 0.0516 - val_accuracy: 0.8043 - val_loss: 0.7761\n",
            "Epoch 7/10\n",
            "\u001b[1m59/59\u001b[0m \u001b[32m━━━━━━━━━━━━━━━━━━━━\u001b[0m\u001b[37m\u001b[0m \u001b[1m3s\u001b[0m 41ms/step - accuracy: 0.9848 - loss: 0.0425 - val_accuracy: 0.7371 - val_loss: 0.8650\n",
            "Epoch 8/10\n",
            "\u001b[1m59/59\u001b[0m \u001b[32m━━━━━━━━━━━━━━━━━━━━\u001b[0m\u001b[37m\u001b[0m \u001b[1m4s\u001b[0m 74ms/step - accuracy: 0.9887 - loss: 0.0313 - val_accuracy: 0.7541 - val_loss: 0.9006\n",
            "Epoch 9/10\n",
            "\u001b[1m59/59\u001b[0m \u001b[32m━━━━━━━━━━━━━━━━━━━━\u001b[0m\u001b[37m\u001b[0m \u001b[1m3s\u001b[0m 43ms/step - accuracy: 0.9864 - loss: 0.0319 - val_accuracy: 0.6989 - val_loss: 0.9934\n",
            "Epoch 10/10\n",
            "\u001b[1m59/59\u001b[0m \u001b[32m━━━━━━━━━━━━━━━━━━━━\u001b[0m\u001b[37m\u001b[0m \u001b[1m3s\u001b[0m 51ms/step - accuracy: 0.9892 - loss: 0.0240 - val_accuracy: 0.7604 - val_loss: 0.8989\n"
          ]
        }
      ]
    },
    {
      "cell_type": "markdown",
      "source": [],
      "metadata": {
        "id": "S91UFIidbAmx"
      }
    },
    {
      "cell_type": "code",
      "source": [],
      "metadata": {
        "id": "UFO6s5KzYcRi"
      },
      "execution_count": null,
      "outputs": []
    },
    {
      "cell_type": "code",
      "execution_count": 79,
      "metadata": {
        "id": "SdECXvQGUQae",
        "colab": {
          "base_uri": "https://localhost:8080/",
          "height": 449
        },
        "outputId": "b1ea3b67-eb78-4096-b834-2f0b4d49469c"
      },
      "outputs": [
        {
          "output_type": "display_data",
          "data": {
            "text/plain": [
              "<Figure size 640x480 with 1 Axes>"
            ],
            "image/png": "[encoded data removed]"
          },
          "metadata": {}
        }
      ],
      "source": [
        "plt.plot(history.history['loss'], label='Training Loss')\n",
        "plt.plot(history.history['val_loss'], label='Validation Loss')\n",
        "plt.xlabel('Epochs')\n",
        "plt.ylabel('Loss')\n",
        "plt.legend()\n",
        "plt.show()"
      ]
    },
    {
      "cell_type": "markdown",
      "metadata": {
        "id": "XmoJfr3nfP-n"
      },
      "source": [
        "# Model Evaluation"
      ]
    },
    {
      "cell_type": "markdown",
      "metadata": {
        "id": "2Gb8G9XiT-ec"
      },
      "source": [
        "Once the model is trained, the next step is to evaluate its performance on the testing dataset.\n",
        "\n",
        "1. **Evaluate the Model**:\n",
        "   You will use the `evaluate()` method to assess the model’s performance on the test dataset.\n",
        "\n",
        "2. **Testing Dataset**:\n",
        "   Ensure that the testing dataset is properly prepared and batched, just like the training dataset.\n",
        "\n",
        "4. **Loss Curve**:\n",
        "   A loss curve plots the loss values for both the training and validation datasets over the epochs."
      ]
    },
    {
      "cell_type": "code",
      "source": [],
      "metadata": {
        "id": "YmITBtbMcId_"
      },
      "execution_count": null,
      "outputs": []
    },
    {
      "cell_type": "markdown",
      "metadata": {
        "id": "ifx5RFxnUQqc"
      },
      "source": [
        "# Model Inference"
      ]
    },
    {
      "cell_type": "markdown",
      "metadata": {
        "id": "sVh0WCBoUSlP"
      },
      "source": [
        "In this step, you will use the trained model to make predictions on new, unseen data (inference). Here’s an outline of the key points:\n",
        "\n",
        "1. **Create Test Sample**:\n",
        "   Create a string to test your modelm the goal here is to give the model Before making predictions, ensure that the new data is preprocessed in the same way as the training data. This includes tokenization, padding, and any other transformations you applied during the data preprocessing step. The data can be single text to see the result of the prediction.\n",
        "\n",
        "2. **Model Prediction**:\n",
        "   Use the `predict()` method to feed new samples into the trained model and obtain predictions. The model will output probabilities or predicted class labels based on the type of classification task (binary or multi-class).\n",
        "\n",
        "3. **Interpreting Predictions**:\n",
        "   The model will return probabilities for each class."
      ]
    },
    {
      "cell_type": "code",
      "execution_count": null,
      "metadata": {
        "id": "2XiahrhffR0J"
      },
      "outputs": [],
      "source": []
    },
    {
      "cell_type": "markdown",
      "metadata": {
        "id": "rtdtk4_d04iw"
      },
      "source": [
        "# Notebook Question:\n",
        "- How did you handle text preprocessing? Why did you choose this approach?\n",
        "\n",
        "- Why did you choose this model design?\n",
        "\n",
        "- Why did you pick this number of layers or units for the model?\n",
        "\n",
        "- Why did you select these evaluation methods?\n",
        "\n",
        "- Does your model show signs of overfitting or underfitting? How do you know?\n",
        "\n",
        "- What changes could you make to improve the model and fix overfitting or underfitting?"
      ]
    },
    {
      "cell_type": "markdown",
      "metadata": {
        "id": "q6-3M7bY04iw"
      },
      "source": [
        "Answer Here:"
      ]
    }
  ],
  "metadata": {
    "accelerator": "GPU",
    "colab": {
      "gpuType": "T4",
      "provenance": []
    },
    "kernelspec": {
      "display_name": "Python 3",
      "name": "python3"
    },
    "language_info": {
      "name": "python"
    }
  },
  "nbformat": 4,
  "nbformat_minor": 0
}